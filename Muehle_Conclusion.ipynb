{
 "cells": [
  {
   "cell_type": "code",
   "execution_count": null,
   "metadata": {},
   "outputs": [],
   "source": [
    "%%HTML\n",
    "<style>\n",
    ".container { width:100% }\n",
    "</style>"
   ]
  },
  {
   "cell_type": "markdown",
   "metadata": {},
   "source": [
    "# Fazit\n",
    "Abschließend soll ein Fazit zum entwickelten Mühle-Spiel gezogen werden. Dazu wird die Performance der implementierten Algorithmen Alpha-Beta und Minimax verglichen und beurteilt. Des Weiteren soll analysiert werden, mit welchen Maßnahmen die Künstliche Intelligenz weiter verbessert werden könnte."
   ]
  },
  {
   "cell_type": "markdown",
   "metadata": {},
   "source": [
    "## Alpha-Beta vs. Minimax\n",
    "Für die folgende Auswertung ist zu beachten, dass die Spiele auf einem Rechner mit folgender Spezifikation durchgeführt wurden:\n",
    "* Prozessor: AMD Ryzen 5 3600x\n",
    "* RAM: 16Gb DDR4\n",
    "\n",
    "Zur Bewertung der zeitlichen Performance wurden Spiele durchgeführt, bei denen die beiden Algorithmen Alpha-Beta-Pruning und Minimax mit der gleichen Suchtiefe gegeneinander gespielt haben. Die Ergebnisse sind der unten aufgeführten Tabelle sowie den Grafiken zu entnehmen.\n",
    "\n",
    "Suchtiefe | Ø Zugzeit Alpha-Beta (s) | Ø Zugzeit Minimax (s) | MM/AB\n",
    ":--:|--|--|--\n",
    "1 | 0,,000867  | 0,003282 | 378,34%\n",
    "2 | 0,037437 | 0,024096 | 64,36%\n",
    "3 | 0,251854  | 0,373193 | 148,17%\n",
    "4 | 0,943550 | 2,064215 | 218,77%\n",
    "\n",
    "\n",
    "<img src=\"images\\linear.png\" alt=\"Durchschnittliche Zugzeit, lineare Achse\" width=\"300\"/>\n",
    "<img src=\"images\\logarithmic.png\" alt=\"Durchschnittliche Zugzeit, logarithmische Achse\" width=\"300\"/>\n",
    "\n",
    "Zu sehen ist, dass sowohl der absolute als auch der relative Abstand mit zunehmender Suchtiefe exponentiell steigen. Das heißt, dass gerade bei einer großen Suchtiefe Alpha-Beta-Pruning wesentlich schneller ist. Doch eine höhere Suchtiefe führt zu einem besseren Spiel der künstlichen Intelligenz und somit zu einer höheren Gewinnwahrscheinlichkeit. Deshalb ist für diesen Anwendungsfall als Such-Algorithmus Alpha-Beta-Pruning die bessere Wahl.\n",
    "\n",
    "\n"
   ]
  },
  {
   "cell_type": "markdown",
   "metadata": {},
   "source": [
    "## Automatisierte Auswertung\n",
    "\n",
    "Die folgende Funktion `restart_auto_play` besitzt die gleiche Funktion wie `restart(b)` aus den Notebook Muehle_GUI, welche dort durch den Neustart-Knopf aufgerufen wird. Hier wird `restart_auto_play` aufgerufen, um das Spiel für mehrere Druchläufe zur Auswertung neu zu starten."
   ]
  },
  {
   "cell_type": "code",
   "execution_count": null,
   "metadata": {},
   "outputs": [],
   "source": [
    "def restart_auto_play(depth): \n",
    "    global game\n",
    "    game = Game()\n",
    "    game.ab_depth = game.mm_depth = depth\n",
    "    game.mode_player_one = gamemode_toggle_one.value = 'alpha-beta'\n",
    "    game.mode_player_two = gamemode_toggle_two.value = 'minimax'\n",
    "    game.pause = False\n",
    "    clear_output(wait = True)\n",
    "    game.update_canvas()"
   ]
  },
  {
   "cell_type": "markdown",
   "metadata": {},
   "source": [
    "Im folgenden Programmcode werden, abhängig von den Variablen `MAX_DEPTH` und `REPTITIONS`, $MAX\\_DEPTH \\cdot REPTITIONS$-viele Spiele gespielt. Dabei werden deren durchnittliche Zugzeiten für die beiden Algorithmen bestimmt. Hierzu wird nach jedem Spiel für Alpha-Beta und Minimax die Gesamtzeit des jeweiligen Algorithmus durch die Anzahl der Züge des Algorithmus geteilt. Somit entsteht die durchschnittliche Zugzeit für den Algorithmus. \n",
    "* `MAX_DEPTH`   ist die Tiefe, bis zu der Minimax mit Alpha-Beta verglichen werden soll\n",
    "* `REPETITIONS` ist die Anzahl der Wiederholungen einer Tiefenberechnung, die für die Bildung des Durchschnitts genutzt werden\n",
    "\n",
    "Bei mehrfachem Ausführen fällt hier auf, dass die Werte für $d \\in (1,2)$ stark schwanken und somit nicht besonders aussagekräftig sind. "
   ]
  },
  {
   "cell_type": "code",
   "execution_count": null,
   "metadata": {},
   "outputs": [],
   "source": [
    "import pandas as pd\n",
    "%run ./Muehle_GUI.ipynb\n",
    "\n",
    "#Variablen zur Konfiguration der Berechnung\n",
    "MAX_DEPTH   = 2 #Tiefe, bis zu der Verglichen werden soll\n",
    "REPETITIONS = 3 #Anzahl der Wiederholungen einer Tiefe zur verbesserung des Ergebnisses\n",
    "\n",
    "ab_avg_all  = []\n",
    "mm_avg_all  = []\n",
    "depth_array = []\n",
    "ratio       = []\n",
    "\n",
    "for depth in range(1, MAX_DEPTH + 1):\n",
    "    #Um nicht nur einen Wert für eine Suchtiefe zu haben wird der Durchschnitt aus mehreren ('repetition') Durchläufen berechnet\n",
    "    ab_avg_repetition = []\n",
    "    mm_avg_repetition = []\n",
    "    for i in range(1, REPETITIONS + 1):\n",
    "        restart_auto_play(depth)\n",
    "        game.algo_step()\n",
    "\n",
    "        ab_avg_repetition += [game.ab_time/game.ab_moves]\n",
    "        mm_avg_repetition += [game.mm_time/game.mm_moves]\n",
    "        \n",
    "    ab_avg_all  += [sum(ab_avg_repetition)/len(ab_avg_repetition)]\n",
    "    mm_avg_all  += [sum(mm_avg_repetition)/len(mm_avg_repetition)]\n",
    "    depth_array += [depth]\n",
    "    ratio       += [mm_avg_all[-1]/ab_avg_all[-1]*100]\n",
    "clear_output(wait = True)\n",
    "\n",
    "#Plotting\n",
    "df = pd.DataFrame(data={'Suchtiefe':depth_array,'Ø Zugzeit Alpha-Beta (s)':ab_avg_all, 'Ø Zugzeit Minimax (s)':mm_avg_all, 'MM/AB (%)':ratio})\n",
    "df.index = df.index+1\n",
    "df.plot(kind='line',x='Suchtiefe',y=[\"Ø Zugzeit Alpha-Beta (s)\", \"Ø Zugzeit Minimax (s)\"])"
   ]
  },
  {
   "cell_type": "markdown",
   "metadata": {},
   "source": [
    "Logarithmische Darstellung der Auswerung:"
   ]
  },
  {
   "cell_type": "code",
   "execution_count": null,
   "metadata": {},
   "outputs": [],
   "source": [
    "df.plot(kind='line',x='Suchtiefe',y=[\"Ø Zugzeit Alpha-Beta (s)\", \"Ø Zugzeit Minimax (s)\"],logy=True)"
   ]
  },
  {
   "cell_type": "markdown",
   "metadata": {},
   "source": [
    "Tabellarische Darstellung der Auswerung:"
   ]
  },
  {
   "cell_type": "code",
   "execution_count": null,
   "metadata": {},
   "outputs": [],
   "source": [
    "df"
   ]
  },
  {
   "cell_type": "markdown",
   "metadata": {},
   "source": [
    "## Ausblick\n",
    "\n",
    "Das entwickelte Mühle-Spiel ist in der Lage, verschiedene Spielmodi anzubieten. Das Spielen gegen eine KI, sowie das Spiel KI gegen KI ist möglich, sodass das grundlegende Ziel dieser Arbeit erfüllt wurde. Auch die Verwendung von Transpositionstabellen als Speicher für die bereits bewerteten Zustände wurde umgesetzt. Eine Bewertung der Ergebnisse wurde im vorangehenden Kapitel vorgenommen. Nun soll auf Möglichkeiten eingegangen werden, die die Performance optimieren oder die Stärke der KI steigern.\n",
    "\n",
    "Die erste Möglichkeit hier ist die Verbesserung der Heuristik. Da die Heuristik die Bewertung der Zustände vornimmt und somit über den nächsten Zustand entscheidet, ist sie der Ansatzpunkt für Leistungssteigerungen. Aktuell umfasst die Heuristik die Aspekte Anzahl der Spielsteine sowie die Anzahl der geschlossenen Mühlen.  Überlegungen für weitere Aspekte sind die Betrachtung der Anzahl der Zugmöglichkeiten und Anzahl der offenen Mühlen sowie die Bewertung von bestimmten Stellungen. Kriterien für die Entscheidung sind die Veränderung der Rechenzeit und des Gewinnanteils. Ist Erhöhung der Rechenzeit möglichst niedrig, während der Anteil der Gewinne gesteigert werden kann, sollte der Aspekt in die Heuristik mit aufgenommen werden. Auch die Gewichtung der unterschiedlichen Aspekte ist ein Punkt, an dem noch eingegriffen und optimiert werden kann.\n",
    "\n",
    "Eine weitere Verbesserungsmöglichkeit ist die Einführung einer Spieldatenbank zur Ermittlung besserer Züge. Prinzipiell ist so eine Datenbank für das gesamte Spiel nutzbar, aufgrund des hohen Speicherbedarfs wird häufig jedoch nur eine Endspieldatenbank umgesetzt. Gerade in der dritten Spielphase, wenn die Spieler viele Zugmöglichkeiten haben und der Spielbaum so stark verzweigt ist, kann dies hilfreich sein. Ein Grundstein für die Erstellung und Verwendung einer solchen Spieldatenbank wurde mit dem Abspeichern der Spiele schon gelegt. Eine richtige Verwendung der Datenbank lag jedoch nicht im Anforderungsrahmen dieser Studienarbeit. \n",
    "\n",
    "Eine weitere Optimierungsmöglichkeit, um schneller mehr Zustände abzudecken und den Speicherbedarf zu senken ist die Beachtung von Symmetrien und Drehungen. Die Grafik unten veranschaulicht die Symmetrien eines Spielfeldes. Die roten Achsen sind einfache Spiegelungen. Aber auch das Tauschen des inneren und äußeren Rings ist möglich. Dies wird durch die grünen Linien veranschaulicht.\n",
    "\n",
    "<img src=\"images\\symmetries.png\" alt=\"Symmetrien eines Spielbrettes\" width=\"300\"/>\n",
    "\n",
    "Auch eine Drehung des Spielfelds um 90, 180 oder 270 Grad verändert den eigentlichen Zustand nicht, weshalb auch hier eine Vereinfachung stattfinden kann.\n",
    "\n",
    "Bei der Überlegung, ob Symmetrien und Drehungen betrachtet werden sollen, ist zu beachten, dass zwar der Speicheraufwand und die Anzahl der möglichen Zustände reduziert werden, die Rechenzeit jedoch stark zunimmt.\n",
    "\n",
    "Abschließend ist zu sagen, dass noch weitere Verbesserungen möglich sind, dies aber immer unter Abwägung der Vor- und Nachteile und vor allem hinsichtlich der benötigten Rechenzeit geschehen sollte."
   ]
  }
 ],
 "metadata": {
  "kernelspec": {
   "display_name": "Python 3",
   "language": "python",
   "name": "python3"
  },
  "language_info": {
   "codemirror_mode": {
    "name": "ipython",
    "version": 3
   },
   "file_extension": ".py",
   "mimetype": "text/x-python",
   "name": "python",
   "nbconvert_exporter": "python",
   "pygments_lexer": "ipython3",
   "version": "3.7.9"
  }
 },
 "nbformat": 4,
 "nbformat_minor": 2
}
