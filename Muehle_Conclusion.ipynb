{
 "cells": [
  {
   "cell_type": "code",
   "execution_count": null,
   "source": [
    "%%HTML\r\n",
    "<style>\r\n",
    ".container { width:100% }\r\n",
    "</style>"
   ],
   "outputs": [],
   "metadata": {}
  },
  {
   "cell_type": "markdown",
   "source": [
    "# Fazit\r\n",
    "Abschließend soll ein Fazit zum entwickelten Mühle-Spiel gezogen werden. Dazu wird die Performance der implementierten Algorithmen Alpha-Beta und Minimax verglichen und beurteilt. Des Weiteren soll analysiert werden, mit welchen Maßnahmen die Künstliche Intelligenz weiter verbessert werden könnte."
   ],
   "metadata": {}
  },
  {
   "cell_type": "markdown",
   "source": [
    "## Alpha-Beta vs. Minimax\r\n",
    "Für die folgende Auswertung ist zu beachten, dass die Spiele auf einem Rechner mit folgender Spezifikation durchgeführt wurden:\r\n",
    "* Prozessor: AMD Ryzen 5 3600x\r\n",
    "* RAM: 16Gb DDR4\r\n",
    "\r\n",
    "Zur Bewertung der zeitlichen Performance wurden Spiele durchgeführt, bei denen die beiden Algorithmen Alpha-Beta-Pruning und Minimax mit der gleichen Suchtiefe gegeneinander gespielt haben. Die Ergebnisse sind der unten aufgeführten Tabelle sowie den Grafiken zu entnehmen.\r\n",
    "\r\n",
    "Suchtiefe | Ø Zugzeit Alpha-Beta (s) | Ø Zugzeit Minimax (s) | MM/AB\r\n",
    ":--:|--|--|--\r\n",
    "2 | 0,551338714  | 0,692698593 | 126%\r\n",
    "3 | 0,37587081 | 0,494166458 | 131%\r\n",
    "4 | 0,504812208  | 0,801580364 | 159%\r\n",
    "5 | 2,36854893 | 6,745960603 | 285%\r\n",
    "6 | 18,09719203  | 79,44205967 | 439%\r\n",
    "\r\n",
    "<img src=\"images\\linear.png\" alt=\"Durchschnittliche Zugzeit, lineare Achse\" width=\"300\"/>\r\n",
    "<img src=\"images\\logarithmic.png\" alt=\"Durchschnittliche Zugzeit, logarithmische Achse\" width=\"300\"/>\r\n",
    "\r\n",
    "Zu sehen ist, dass sowohl der absolute als auch der relative Abstand mit zunehmender Suchtiefe exponentiell steigen. Das heißt, dass gerade bei einer großen Suchtiefe Alpha-Beta-Pruning wesentlich schneller ist. Doch eine höhere Suchtiefe führt zu einem besseren Spiel der künstlichen Intelligenz und somit zu einer höheren Gewinnwahrscheinlichkeit. Deshalb ist für diesen Anwendungsfall als Such-Algorithmus Alpha-Beta-Pruning die bessere Wahl.\r\n",
    "\r\n",
    "\r\n"
   ],
   "metadata": {}
  },
  {
   "cell_type": "code",
   "execution_count": 3,
   "source": [
    "def restart_start(): \r\n",
    "    gamemode_toggle.disabled = False\r\n",
    "    gamemode_toggle.value = 'Spieler vs Spieler'\r\n",
    "    global game\r\n",
    "    game = Game()\r\n",
    "    clear_output(wait = True)\r\n",
    "    game.update_canvas()"
   ],
   "outputs": [],
   "metadata": {}
  },
  {
   "cell_type": "code",
   "execution_count": 4,
   "source": [
    "import random \r\n",
    "import pandas as pd\r\n",
    "%run ./Muehle_GUI.ipynb\r\n",
    "\r\n",
    "ab_avg = []\r\n",
    "mm_avg = []\r\n",
    "\r\n",
    "#lot from depth=1 to depth=4\r\n",
    "for x in range(1,4+1):\r\n",
    "    global game\r\n",
    "    game = Game()\r\n",
    "    clear_output(wait = True)\r\n",
    "    ab_depth    = x\r\n",
    "    mm_depth    = x\r\n",
    "    gamemode_toggle.value = 'alpha-beta vs Minimax'\r\n",
    "    game.pause = False\r\n",
    "    game.update_canvas()\r\n",
    "    game.algo_step()\r\n",
    "\r\n",
    "    ab_avg += [ab_time/ab_moves]\r\n",
    "    mm_avg += [mm_time/mm_moves]\r\n",
    "\r\n",
    "    ab_time = 0\r\n",
    "    ab_moves = 0\r\n",
    "    mm_time = 0\r\n",
    "    mm_moves = 0\r\n",
    "\r\n",
    "    restart_start()\r\n",
    "    #Cache_AB = {}\r\n",
    "    #Cache_Memoize = {}\r\n",
    "    \r\n",
    "    #gamemode_toggle.disabled = False\r\n",
    "    #gamemode_toggle.value = 'alpha-beta vs Minimax'\r\n",
    "    #restart\r\n",
    "    #gamemode_toggle.disabled = False\r\n",
    "    #gamemode_toggle.value = 'Spieler vs Spieler'\r\n",
    "    #global game\r\n",
    "    #game = Game()\r\n",
    "    #clear_output(wait = True)\r\n",
    "    #game.update_canvas()\r\n",
    "\r\n",
    "clear_output(wait = True)\r\n",
    "#Plotting\r\n",
    "df = pd.DataFrame(data={'Ø Zugzeit Alpha-Beta (s)':ab_avg, 'Ø Zugzeit Minimax (s)':mm_avg})\r\n",
    "df.index = df.index+1\r\n",
    "\r\n",
    "df.plot(y=[\"Ø Zugzeit Alpha-Beta (s)\", \"Ø Zugzeit Minimax (s)\"], kind=\"line\")\r\n",
    "\r\n"
   ],
   "outputs": [
    {
     "output_type": "display_data",
     "data": {
      "text/plain": [
       "HBox(children=(MultiCanvas(height=400, width=400), VBox(children=(HBox(children=(Label(value='Spielmodus: '), …"
      ],
      "application/vnd.jupyter.widget-view+json": {
       "version_major": 2,
       "version_minor": 0,
       "model_id": "4e1a437ea7eb45d49600d5bee797ce1e"
      }
     },
     "metadata": {}
    },
    {
     "output_type": "display_data",
     "data": {
      "text/plain": [
       "HBox(children=(MultiCanvas(height=400, width=400), VBox(children=(HBox(children=(Label(value='Spielmodus: '), …"
      ],
      "application/vnd.jupyter.widget-view+json": {
       "version_major": 2,
       "version_minor": 0,
       "model_id": "366cee7161734129a3cb9825a343f071"
      }
     },
     "metadata": {}
    },
    {
     "output_type": "display_data",
     "data": {
      "text/plain": [
       "HBox(children=(MultiCanvas(height=400, width=400), VBox(children=(HBox(children=(Label(value='Spielmodus: '), …"
      ],
      "application/vnd.jupyter.widget-view+json": {
       "version_major": 2,
       "version_minor": 0,
       "model_id": "b1316a598e4447309e2db1140f7a678b"
      }
     },
     "metadata": {}
    },
    {
     "output_type": "display_data",
     "data": {
      "text/plain": [
       "HBox(children=(MultiCanvas(height=400, width=400), VBox(children=(HBox(children=(Label(value='Spielmodus: '), …"
      ],
      "application/vnd.jupyter.widget-view+json": {
       "version_major": 2,
       "version_minor": 0,
       "model_id": "b0a24d56b4614ff78066bbe2b5df8165"
      }
     },
     "metadata": {}
    },
    {
     "output_type": "display_data",
     "data": {
      "text/plain": [
       "HBox(children=(MultiCanvas(height=400, width=400), VBox(children=(HBox(children=(Label(value='Spielmodus: '), …"
      ],
      "application/vnd.jupyter.widget-view+json": {
       "version_major": 2,
       "version_minor": 0,
       "model_id": "e83e1e924b494f4494e881b0814878eb"
      }
     },
     "metadata": {}
    },
    {
     "output_type": "display_data",
     "data": {
      "text/plain": [
       "HBox(children=(MultiCanvas(height=400, width=400), VBox(children=(HBox(children=(Label(value='Spielmodus: '), …"
      ],
      "application/vnd.jupyter.widget-view+json": {
       "version_major": 2,
       "version_minor": 0,
       "model_id": "2dc961b7f78d461fb8f2fa13d21cc769"
      }
     },
     "metadata": {}
    },
    {
     "output_type": "display_data",
     "data": {
      "text/plain": [
       "HBox(children=(MultiCanvas(height=400, width=400), VBox(children=(HBox(children=(Label(value='Spielmodus: '), …"
      ],
      "application/vnd.jupyter.widget-view+json": {
       "version_major": 2,
       "version_minor": 0,
       "model_id": "94f978fe35744cbcaf460f6b3471272b"
      }
     },
     "metadata": {}
    },
    {
     "output_type": "display_data",
     "data": {
      "text/plain": [
       "HBox(children=(MultiCanvas(height=400, width=400), VBox(children=(HBox(children=(Label(value='Spielmodus: '), …"
      ],
      "application/vnd.jupyter.widget-view+json": {
       "version_major": 2,
       "version_minor": 0,
       "model_id": "5a165672804b4c27974b17721c8e5e0c"
      }
     },
     "metadata": {}
    },
    {
     "output_type": "display_data",
     "data": {
      "text/plain": [
       "HBox(children=(MultiCanvas(height=400, width=400), VBox(children=(HBox(children=(Label(value='Spielmodus: '), …"
      ],
      "application/vnd.jupyter.widget-view+json": {
       "version_major": 2,
       "version_minor": 0,
       "model_id": "36b3c9047b2c450ebd4eb63fb7721e78"
      }
     },
     "metadata": {}
    },
    {
     "output_type": "display_data",
     "data": {
      "text/plain": [
       "HBox(children=(MultiCanvas(height=400, width=400), VBox(children=(HBox(children=(Label(value='Spielmodus: '), …"
      ],
      "application/vnd.jupyter.widget-view+json": {
       "version_major": 2,
       "version_minor": 0,
       "model_id": "1c12356e507f4e088eb1b7f8a841a624"
      }
     },
     "metadata": {}
    },
    {
     "output_type": "display_data",
     "data": {
      "text/plain": [
       "HBox(children=(MultiCanvas(height=400, width=400), VBox(children=(HBox(children=(Label(value='Spielmodus: '), …"
      ],
      "application/vnd.jupyter.widget-view+json": {
       "version_major": 2,
       "version_minor": 0,
       "model_id": "7205b6cf30724990ad8adc482ba31e2c"
      }
     },
     "metadata": {}
    },
    {
     "output_type": "display_data",
     "data": {
      "text/plain": [
       "HBox(children=(MultiCanvas(height=400, width=400), VBox(children=(HBox(children=(Label(value='Spielmodus: '), …"
      ],
      "application/vnd.jupyter.widget-view+json": {
       "version_major": 2,
       "version_minor": 0,
       "model_id": "07822f200f904c44bf5b182b09f53dde"
      }
     },
     "metadata": {}
    },
    {
     "output_type": "display_data",
     "data": {
      "text/plain": [
       "HBox(children=(MultiCanvas(height=400, width=400), VBox(children=(HBox(children=(Label(value='Spielmodus: '), …"
      ],
      "application/vnd.jupyter.widget-view+json": {
       "version_major": 2,
       "version_minor": 0,
       "model_id": "029b0826371044519209b3c124e45d10"
      }
     },
     "metadata": {}
    },
    {
     "output_type": "display_data",
     "data": {
      "text/plain": [
       "HBox(children=(MultiCanvas(height=400, width=400), VBox(children=(HBox(children=(Label(value='Spielmodus: '), …"
      ],
      "application/vnd.jupyter.widget-view+json": {
       "version_major": 2,
       "version_minor": 0,
       "model_id": "ad850500bcd34f648e00b36aba431b3d"
      }
     },
     "metadata": {}
    },
    {
     "output_type": "display_data",
     "data": {
      "text/plain": [
       "HBox(children=(MultiCanvas(height=400, width=400), VBox(children=(HBox(children=(Label(value='Spielmodus: '), …"
      ],
      "application/vnd.jupyter.widget-view+json": {
       "version_major": 2,
       "version_minor": 0,
       "model_id": "e7c0c48165d348168c3cd774de19ec7b"
      }
     },
     "metadata": {}
    },
    {
     "output_type": "display_data",
     "data": {
      "text/plain": [
       "HBox(children=(MultiCanvas(height=400, width=400), VBox(children=(HBox(children=(Label(value='Spielmodus: '), …"
      ],
      "application/vnd.jupyter.widget-view+json": {
       "version_major": 2,
       "version_minor": 0,
       "model_id": "0560e5ed61f54db9abd81871e2b32aa2"
      }
     },
     "metadata": {}
    },
    {
     "output_type": "display_data",
     "data": {
      "text/plain": [
       "HBox(children=(MultiCanvas(height=400, width=400), VBox(children=(HBox(children=(Label(value='Spielmodus: '), …"
      ],
      "application/vnd.jupyter.widget-view+json": {
       "version_major": 2,
       "version_minor": 0,
       "model_id": "a9e52e703b0a4433b90cd742b5c2bacc"
      }
     },
     "metadata": {}
    },
    {
     "output_type": "display_data",
     "data": {
      "text/plain": [
       "HBox(children=(MultiCanvas(height=400, width=400), VBox(children=(HBox(children=(Label(value='Spielmodus: '), …"
      ],
      "application/vnd.jupyter.widget-view+json": {
       "version_major": 2,
       "version_minor": 0,
       "model_id": "76b40bd4d0ea4f40bf69427dcde0c34e"
      }
     },
     "metadata": {}
    },
    {
     "output_type": "display_data",
     "data": {
      "text/plain": [
       "HBox(children=(MultiCanvas(height=400, width=400), VBox(children=(HBox(children=(Label(value='Spielmodus: '), …"
      ],
      "application/vnd.jupyter.widget-view+json": {
       "version_major": 2,
       "version_minor": 0,
       "model_id": "e6ca034315ab4f3c854c356a8e8a4592"
      }
     },
     "metadata": {}
    },
    {
     "output_type": "display_data",
     "data": {
      "text/plain": [
       "HBox(children=(MultiCanvas(height=400, width=400), VBox(children=(HBox(children=(Label(value='Spielmodus: '), …"
      ],
      "application/vnd.jupyter.widget-view+json": {
       "version_major": 2,
       "version_minor": 0,
       "model_id": "74ddac04c02548cdbcd41c47250da8ea"
      }
     },
     "metadata": {}
    },
    {
     "output_type": "display_data",
     "data": {
      "text/plain": [
       "HBox(children=(MultiCanvas(height=400, width=400), VBox(children=(HBox(children=(Label(value='Spielmodus: '), …"
      ],
      "application/vnd.jupyter.widget-view+json": {
       "version_major": 2,
       "version_minor": 0,
       "model_id": "db1ce6680a6f407ea6e4dae44a79d242"
      }
     },
     "metadata": {}
    },
    {
     "output_type": "display_data",
     "data": {
      "text/plain": [
       "HBox(children=(MultiCanvas(height=400, width=400), VBox(children=(HBox(children=(Label(value='Spielmodus: '), …"
      ],
      "application/vnd.jupyter.widget-view+json": {
       "version_major": 2,
       "version_minor": 0,
       "model_id": "e8572de47a14401fa1c048c0dbc896b9"
      }
     },
     "metadata": {}
    },
    {
     "output_type": "display_data",
     "data": {
      "text/plain": [
       "HBox(children=(MultiCanvas(height=400, width=400), VBox(children=(HBox(children=(Label(value='Spielmodus: '), …"
      ],
      "application/vnd.jupyter.widget-view+json": {
       "version_major": 2,
       "version_minor": 0,
       "model_id": "972ab55d768f40e1852e062ed04bdcf0"
      }
     },
     "metadata": {}
    },
    {
     "output_type": "display_data",
     "data": {
      "text/plain": [
       "HBox(children=(MultiCanvas(height=400, width=400), VBox(children=(HBox(children=(Label(value='Spielmodus: '), …"
      ],
      "application/vnd.jupyter.widget-view+json": {
       "version_major": 2,
       "version_minor": 0,
       "model_id": "f12e556ff7604216a190f84d0a1e5769"
      }
     },
     "metadata": {}
    },
    {
     "output_type": "display_data",
     "data": {
      "text/plain": [
       "HBox(children=(MultiCanvas(height=400, width=400), VBox(children=(HBox(children=(Label(value='Spielmodus: '), …"
      ],
      "application/vnd.jupyter.widget-view+json": {
       "version_major": 2,
       "version_minor": 0,
       "model_id": "40bbe192b5364f039e706783315472ae"
      }
     },
     "metadata": {}
    },
    {
     "output_type": "display_data",
     "data": {
      "text/plain": [
       "HBox(children=(MultiCanvas(height=400, width=400), VBox(children=(HBox(children=(Label(value='Spielmodus: '), …"
      ],
      "application/vnd.jupyter.widget-view+json": {
       "version_major": 2,
       "version_minor": 0,
       "model_id": "1d8f61a10c294bed88e6db7b0f4bc557"
      }
     },
     "metadata": {}
    },
    {
     "output_type": "display_data",
     "data": {
      "text/plain": [
       "HBox(children=(MultiCanvas(height=400, width=400), VBox(children=(HBox(children=(Label(value='Spielmodus: '), …"
      ],
      "application/vnd.jupyter.widget-view+json": {
       "version_major": 2,
       "version_minor": 0,
       "model_id": "4fa9be42c99f4c0fbeaeb73eabbcdaa2"
      }
     },
     "metadata": {}
    },
    {
     "output_type": "display_data",
     "data": {
      "text/plain": [
       "HBox(children=(MultiCanvas(height=400, width=400), VBox(children=(HBox(children=(Label(value='Spielmodus: '), …"
      ],
      "application/vnd.jupyter.widget-view+json": {
       "version_major": 2,
       "version_minor": 0,
       "model_id": "5acb5bbe8c2149709d2cc3eb7cd6f654"
      }
     },
     "metadata": {}
    },
    {
     "output_type": "display_data",
     "data": {
      "text/plain": [
       "HBox(children=(MultiCanvas(height=400, width=400), VBox(children=(HBox(children=(Label(value='Spielmodus: '), …"
      ],
      "application/vnd.jupyter.widget-view+json": {
       "version_major": 2,
       "version_minor": 0,
       "model_id": "c394ba4358c44501b3a9bca04a67b37a"
      }
     },
     "metadata": {}
    },
    {
     "output_type": "display_data",
     "data": {
      "text/plain": [
       "HBox(children=(MultiCanvas(height=400, width=400), VBox(children=(HBox(children=(Label(value='Spielmodus: '), …"
      ],
      "application/vnd.jupyter.widget-view+json": {
       "version_major": 2,
       "version_minor": 0,
       "model_id": "a1b894410e4948bb8552f4c88d11d926"
      }
     },
     "metadata": {}
    },
    {
     "output_type": "display_data",
     "data": {
      "text/plain": [
       "HBox(children=(MultiCanvas(height=400, width=400), VBox(children=(HBox(children=(Label(value='Spielmodus: '), …"
      ],
      "application/vnd.jupyter.widget-view+json": {
       "version_major": 2,
       "version_minor": 0,
       "model_id": "d885fcf88f5f4b81b9dbbc1ad474f057"
      }
     },
     "metadata": {}
    },
    {
     "output_type": "display_data",
     "data": {
      "text/plain": [
       "HBox(children=(MultiCanvas(height=400, width=400), VBox(children=(HBox(children=(Label(value='Spielmodus: '), …"
      ],
      "application/vnd.jupyter.widget-view+json": {
       "version_major": 2,
       "version_minor": 0,
       "model_id": "68bb62af18b94f1e9a6cef02ce26f9db"
      }
     },
     "metadata": {}
    },
    {
     "output_type": "display_data",
     "data": {
      "text/plain": [
       "HBox(children=(MultiCanvas(height=400, width=400), VBox(children=(HBox(children=(Label(value='Spielmodus: '), …"
      ],
      "application/vnd.jupyter.widget-view+json": {
       "version_major": 2,
       "version_minor": 0,
       "model_id": "52c825805256481d9c6c30356399d008"
      }
     },
     "metadata": {}
    },
    {
     "output_type": "display_data",
     "data": {
      "text/plain": [
       "HBox(children=(MultiCanvas(height=400, width=400), VBox(children=(HBox(children=(Label(value='Spielmodus: '), …"
      ],
      "application/vnd.jupyter.widget-view+json": {
       "version_major": 2,
       "version_minor": 0,
       "model_id": "0e0e46ca88c942548a09ec0e47af9eab"
      }
     },
     "metadata": {}
    },
    {
     "output_type": "display_data",
     "data": {
      "text/plain": [
       "HBox(children=(MultiCanvas(height=400, width=400), VBox(children=(HBox(children=(Label(value='Spielmodus: '), …"
      ],
      "application/vnd.jupyter.widget-view+json": {
       "version_major": 2,
       "version_minor": 0,
       "model_id": "5099d9fe7a96416d81ec607e99560b4a"
      }
     },
     "metadata": {}
    },
    {
     "output_type": "display_data",
     "data": {
      "text/plain": [
       "HBox(children=(MultiCanvas(height=400, width=400), VBox(children=(HBox(children=(Label(value='Spielmodus: '), …"
      ],
      "application/vnd.jupyter.widget-view+json": {
       "version_major": 2,
       "version_minor": 0,
       "model_id": "1e2aa2345d21413992dc9bf258b37f54"
      }
     },
     "metadata": {}
    },
    {
     "output_type": "display_data",
     "data": {
      "text/plain": [
       "HBox(children=(MultiCanvas(height=400, width=400), VBox(children=(HBox(children=(Label(value='Spielmodus: '), …"
      ],
      "application/vnd.jupyter.widget-view+json": {
       "version_major": 2,
       "version_minor": 0,
       "model_id": "849b8e72ace1458ab2d0851e44febeac"
      }
     },
     "metadata": {}
    },
    {
     "output_type": "display_data",
     "data": {
      "text/plain": [
       "HBox(children=(MultiCanvas(height=400, width=400), VBox(children=(HBox(children=(Label(value='Spielmodus: '), …"
      ],
      "application/vnd.jupyter.widget-view+json": {
       "version_major": 2,
       "version_minor": 0,
       "model_id": "5bf07a7f59b34bb5bbd29d3b984d932a"
      }
     },
     "metadata": {}
    },
    {
     "output_type": "display_data",
     "data": {
      "text/plain": [
       "HBox(children=(MultiCanvas(height=400, width=400), VBox(children=(HBox(children=(Label(value='Spielmodus: '), …"
      ],
      "application/vnd.jupyter.widget-view+json": {
       "version_major": 2,
       "version_minor": 0,
       "model_id": "9821f39f2ba5462ab91220dde4a8d457"
      }
     },
     "metadata": {}
    },
    {
     "output_type": "display_data",
     "data": {
      "text/plain": [
       "HBox(children=(MultiCanvas(height=400, width=400), VBox(children=(HBox(children=(Label(value='Spielmodus: '), …"
      ],
      "application/vnd.jupyter.widget-view+json": {
       "version_major": 2,
       "version_minor": 0,
       "model_id": "0bbb4fd3dd754c768c114b299b5181e7"
      }
     },
     "metadata": {}
    },
    {
     "output_type": "display_data",
     "data": {
      "text/plain": [
       "HBox(children=(MultiCanvas(height=400, width=400), VBox(children=(HBox(children=(Label(value='Spielmodus: '), …"
      ],
      "application/vnd.jupyter.widget-view+json": {
       "version_major": 2,
       "version_minor": 0,
       "model_id": "cd2eb1606a9c4ee4a17aea7b739ab81f"
      }
     },
     "metadata": {}
    },
    {
     "output_type": "display_data",
     "data": {
      "text/plain": [
       "HBox(children=(MultiCanvas(height=400, width=400), VBox(children=(HBox(children=(Label(value='Spielmodus: '), …"
      ],
      "application/vnd.jupyter.widget-view+json": {
       "version_major": 2,
       "version_minor": 0,
       "model_id": "6df27502ce434c24bb271b6b8997059e"
      }
     },
     "metadata": {}
    },
    {
     "output_type": "display_data",
     "data": {
      "text/plain": [
       "HBox(children=(MultiCanvas(height=400, width=400), VBox(children=(HBox(children=(Label(value='Spielmodus: '), …"
      ],
      "application/vnd.jupyter.widget-view+json": {
       "version_major": 2,
       "version_minor": 0,
       "model_id": "0c63e5f2764c46239fd07ac943e40da9"
      }
     },
     "metadata": {}
    },
    {
     "output_type": "display_data",
     "data": {
      "text/plain": [
       "HBox(children=(MultiCanvas(height=400, width=400), VBox(children=(HBox(children=(Label(value='Spielmodus: '), …"
      ],
      "application/vnd.jupyter.widget-view+json": {
       "version_major": 2,
       "version_minor": 0,
       "model_id": "e53dfe24f33f48cbb03502840cc4b94f"
      }
     },
     "metadata": {}
    },
    {
     "output_type": "display_data",
     "data": {
      "text/plain": [
       "HBox(children=(MultiCanvas(height=400, width=400), VBox(children=(HBox(children=(Label(value='Spielmodus: '), …"
      ],
      "application/vnd.jupyter.widget-view+json": {
       "version_major": 2,
       "version_minor": 0,
       "model_id": "df2424215b244708b21fa08e8cf57ec0"
      }
     },
     "metadata": {}
    },
    {
     "output_type": "display_data",
     "data": {
      "text/plain": [
       "HBox(children=(MultiCanvas(height=400, width=400), VBox(children=(HBox(children=(Label(value='Spielmodus: '), …"
      ],
      "application/vnd.jupyter.widget-view+json": {
       "version_major": 2,
       "version_minor": 0,
       "model_id": "6203b95137dc4f858197e44511ba492e"
      }
     },
     "metadata": {}
    },
    {
     "output_type": "display_data",
     "data": {
      "text/plain": [
       "HBox(children=(MultiCanvas(height=400, width=400), VBox(children=(HBox(children=(Label(value='Spielmodus: '), …"
      ],
      "application/vnd.jupyter.widget-view+json": {
       "version_major": 2,
       "version_minor": 0,
       "model_id": "08d54d397e02469f95a65c7f03f2904a"
      }
     },
     "metadata": {}
    },
    {
     "output_type": "display_data",
     "data": {
      "text/plain": [
       "HBox(children=(MultiCanvas(height=400, width=400), VBox(children=(HBox(children=(Label(value='Spielmodus: '), …"
      ],
      "application/vnd.jupyter.widget-view+json": {
       "version_major": 2,
       "version_minor": 0,
       "model_id": "642ebeb17107463ebdc89ebfe77b3955"
      }
     },
     "metadata": {}
    },
    {
     "output_type": "display_data",
     "data": {
      "text/plain": [
       "HBox(children=(MultiCanvas(height=400, width=400), VBox(children=(HBox(children=(Label(value='Spielmodus: '), …"
      ],
      "application/vnd.jupyter.widget-view+json": {
       "version_major": 2,
       "version_minor": 0,
       "model_id": "54383c373a81441a945d5cb859089b5b"
      }
     },
     "metadata": {}
    }
   ],
   "metadata": {}
  },
  {
   "cell_type": "code",
   "execution_count": null,
   "source": [],
   "outputs": [],
   "metadata": {}
  },
  {
   "cell_type": "code",
   "execution_count": 28,
   "source": [
    "\r\n",
    "\r\n",
    "\r\n"
   ],
   "outputs": [
    {
     "output_type": "execute_result",
     "data": {
      "text/plain": [
       "<AxesSubplot:>"
      ]
     },
     "metadata": {},
     "execution_count": 28
    },
    {
     "output_type": "display_data",
     "data": {
      "text/plain": [
       "<Figure size 432x288 with 1 Axes>"
      ],
      "image/png": "[encoded data removed]"
     },
     "metadata": {
      "needs_background": "light"
     }
    }
   ],
   "metadata": {}
  },
  {
   "cell_type": "code",
   "execution_count": 12,
   "source": [],
   "outputs": [
    {
     "output_type": "execute_result",
     "data": {
      "text/plain": [
       "   Ø Zugzeit Alpha-Beta (s)  Ø Zugzeit Minimax (s)\n",
       "1                         1                      1\n",
       "2                         2                      2"
      ],
      "text/html": [
       "<div>\n",
       "<style scoped>\n",
       "    .dataframe tbody tr th:only-of-type {\n",
       "        vertical-align: middle;\n",
       "    }\n",
       "\n",
       "    .dataframe tbody tr th {\n",
       "        vertical-align: top;\n",
       "    }\n",
       "\n",
       "    .dataframe thead th {\n",
       "        text-align: right;\n",
       "    }\n",
       "</style>\n",
       "<table border=\"1\" class=\"dataframe\">\n",
       "  <thead>\n",
       "    <tr style=\"text-align: right;\">\n",
       "      <th></th>\n",
       "      <th>Ø Zugzeit Alpha-Beta (s)</th>\n",
       "      <th>Ø Zugzeit Minimax (s)</th>\n",
       "    </tr>\n",
       "  </thead>\n",
       "  <tbody>\n",
       "    <tr>\n",
       "      <th>1</th>\n",
       "      <td>1</td>\n",
       "      <td>1</td>\n",
       "    </tr>\n",
       "    <tr>\n",
       "      <th>2</th>\n",
       "      <td>2</td>\n",
       "      <td>2</td>\n",
       "    </tr>\n",
       "  </tbody>\n",
       "</table>\n",
       "</div>"
      ]
     },
     "metadata": {},
     "execution_count": 12
    }
   ],
   "metadata": {}
  },
  {
   "cell_type": "markdown",
   "source": [
    "## Ausblick\n",
    "\n",
    "Das entwickelte Mühle-Spiel ist in der Lage, verschiedene Spielmodi anzubieten. Das Spielen gegen eine KI, sowie das Spiel KI gegen KI ist möglich, sodass das grundlegende Ziel dieser Arbeit erfüllt wurde. Auch die Verwendung von Transpositionstabellen als Speicher für die bereits bewerteten Zustände wurde umgesetzt. Eine Bewertung der Ergebnisse wurde im vorangehenden Kapitel vorgenommen. Nun soll auf Möglichkeiten eingegangen werden, die die Performance optimieren oder die Stärke der KI steigern.\n",
    "\n",
    "Die erste Möglichkeit hier ist die Verbesserung der Heuristik. Da die Heuristik die Bewertung der Zustände vornimmt und somit über den nächsten Zustand entscheidet, ist sie der Ansatzpunkt für Leistungssteigerungen. Aktuell umfasst die Heuristik die Aspekte Anzahl der Spielsteine sowie die Anzahl der geschlossenen Mühlen.  Überlegungen für weitere Aspekte sind die Betrachtung der Anzahl der Zugmöglichkeiten und Anzahl der offenen Mühlen sowie die Bewertung von bestimmten Stellungen. Kriterien für die Entscheidung sind die Veränderung der Rechenzeit und des Gewinnanteils. Ist Erhöhung der Rechenzeit möglichst niedrig, während der Anteil der Gewinne gesteigert werden kann, sollte der Aspekt in die Heuristik mit aufgenommen werden. Auch die Gewichtung der unterschiedlichen Aspekte ist ein Punkt, an dem noch eingegriffen und optimiert werden kann.\n",
    "\n",
    "Eine weitere Verbesserungsmöglichkeit ist die Einführung einer Spieldatenbank zur Ermittlung besserer Züge. Prinzipiell ist so eine Datenbank für das gesamte Spiel nutzbar, aufgrund des hohen Speicherbedarfs wird häufig jedoch nur eine Endspieldatenbank umgesetzt. Gerade in der dritten Spielphase, wenn die Spieler viele Zugmöglichkeiten haben und der Spielbaum so stark verzweigt ist, kann dies hilfreich sein. Ein Grundstein für die Erstellung und Verwendung einer solchen Spieldatenbank wurde mit dem Abspeichern der Spiele schon gelegt. Eine richtige Verwendung der Datenbank lag jedoch nicht im Anforderungsrahmen dieser Studienarbeit. \n",
    "\n",
    "Eine weitere Optimierungsmöglichkeit, um schneller mehr Zustände abzudecken und den Speicherbedarf zu senken ist die Beachtung von Symmetrien und Drehungen. Die Grafik unten veranschaulicht die Symmetrien eines Spielfeldes. Die roten Achsen sind einfache Spiegelungen. Aber auch das Tauschen des inneren und äußeren Rings ist möglich. Dies wird durch die grünen Linien veranschaulicht.\n",
    "\n",
    "<img src=\"images\\symmetries.png\" alt=\"Symmetrien eines Spielbrettes\" width=\"300\"/>\n",
    "\n",
    "Auch eine Drehung des Spielfelds um 90, 180 oder 270 Grad verändert den eigentlichen Zustand nicht, weshalb auch hier eine Vereinfachung stattfinden kann.\n",
    "\n",
    "Bei der Überlegung, ob Symmetrien und Drehungen betrachtet werden sollen, ist zu beachten, dass zwar der Speicheraufwand und die Anzahl der möglichen Zustände reduziert werden, die Rechenzeit jedoch stark zunimmt.\n",
    "\n",
    "Abschließend ist zu sagen, dass noch weitere Verbesserungen möglich sind, dies aber immer unter Abwägung der Vor- und Nachteile und vor allem hinsichtlich der benötigten Rechenzeit geschehen sollte."
   ],
   "metadata": {}
  },
  {
   "cell_type": "code",
   "execution_count": null,
   "source": [],
   "outputs": [],
   "metadata": {}
  }
 ],
 "metadata": {
  "kernelspec": {
   "display_name": "Python 3",
   "language": "python",
   "name": "python3"
  },
  "language_info": {
   "codemirror_mode": {
    "name": "ipython",
    "version": 3
   },
   "file_extension": ".py",
   "mimetype": "text/x-python",
   "name": "python",
   "nbconvert_exporter": "python",
   "pygments_lexer": "ipython3",
   "version": "3.7.9"
  }
 },
 "nbformat": 4,
 "nbformat_minor": 2
}