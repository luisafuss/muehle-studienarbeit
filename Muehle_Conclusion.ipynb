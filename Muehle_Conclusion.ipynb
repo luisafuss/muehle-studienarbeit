{
 "cells": [
  {
   "cell_type": "code",
   "execution_count": null,
   "source": [
    "%%HTML\r\n",
    "<style>\r\n",
    ".container { width:100% }\r\n",
    "</style>"
   ],
   "outputs": [],
   "metadata": {}
  },
  {
   "cell_type": "markdown",
   "source": [
    "# Fazit\r\n",
    "Abschließend soll ein Fazit zum entwickelten Mühle-Spiel gezogen werden. Dazu wird die Performance der implementierten Algorithmen Alpha-Beta und Minimax verglichen und beurteilt. Des Weiteren soll analysiert werden, mit welchen Maßnahmen die Künstliche Intelligenz weiter verbessert werden könnte."
   ],
   "metadata": {}
  },
  {
   "cell_type": "markdown",
   "source": [
    "## Alpha-Beta vs. Minimax\r\n",
    "Für die folgende Auswertung ist zu beachten, dass die Spiele auf einem Rechner mit folgender Spezifikation durchgeführt wurden:\r\n",
    "* Prozessor: AMD Ryzen 5 3600x\r\n",
    "* RAM: 16Gb DDR4\r\n",
    "\r\n",
    "Zur Bewertung der zeitlichen Performance wurden Spiele durchgeführt, bei denen die beiden Algorithmen Alpha-Beta-Pruning und Minimax mit der gleichen Suchtiefe gegeneinander gespielt haben. Die Ergebnisse sind der unten aufgeführten Tabelle sowie den Grafiken zu entnehmen.\r\n",
    "\r\n",
    "Suchtiefe | Ø Zugzeit Alpha-Beta (s) | Ø Zugzeit Minimax (s) | MM/AB\r\n",
    ":--:|--|--|--\r\n",
    "1 | 0,,000867  | 0,003282 | 378,34%\r\n",
    "2 | 0,037437 | 0,024096 | 64,36%\r\n",
    "3 | 0,251854  | 0,373193 | 148,17%\r\n",
    "4 | 0,943550 | 2,064215 | 218,77%\r\n",
    "\r\n",
    "\r\n",
    "<img src=\"images\\linear.png\" alt=\"Durchschnittliche Zugzeit, lineare Achse\" width=\"300\"/>\r\n",
    "<img src=\"images\\logarithmic.png\" alt=\"Durchschnittliche Zugzeit, logarithmische Achse\" width=\"300\"/>\r\n",
    "\r\n",
    "Zu sehen ist, dass sowohl der absolute als auch der relative Abstand mit zunehmender Suchtiefe exponentiell steigen. Das heißt, dass gerade bei einer großen Suchtiefe Alpha-Beta-Pruning wesentlich schneller ist. Doch eine höhere Suchtiefe führt zu einem besseren Spiel der künstlichen Intelligenz und somit zu einer höheren Gewinnwahrscheinlichkeit. Deshalb ist für diesen Anwendungsfall als Such-Algorithmus Alpha-Beta-Pruning die bessere Wahl.\r\n",
    "\r\n",
    "\r\n"
   ],
   "metadata": {}
  },
  {
   "cell_type": "markdown",
   "source": [
    "## Automatisierte Auswertung\r\n",
    "\r\n",
    "Die folgende Funktion `restart_auto_play` besitzt die gleiche Funktion wie `restart(b)` aus den Notebook Muehle_GUI, welche dort durch den Neustart-Knopf aufgerufen wird. Hier wird `restart_auto_play` aufgerufen, um das Spiel für mehrere Druchläufe zur Auswertung neu zu starten."
   ],
   "metadata": {}
  },
  {
   "cell_type": "code",
   "execution_count": null,
   "source": [
    "def restart_auto_play(): \r\n",
    "    gamemode_toggle.disabled = False\r\n",
    "    gamemode_toggle.value = 'Spieler vs Spieler'\r\n",
    "    global game\r\n",
    "    game = Game()\r\n",
    "    clear_output(wait = True)\r\n",
    "    game.update_canvas()"
   ],
   "outputs": [],
   "metadata": {}
  },
  {
   "cell_type": "markdown",
   "source": [
    "Im folgenden Programmcode werden, abhängig von den Variablen d und wdh, d*wdh-viele Spiele durchgerechnet und die die durchnittlichen Zugzeiten für die Algorithmen bestimmt. Hierzu wird nach jedem Spiel für Alha-Beta und Minimax die Gesamtzeit des jeweiligen Algorithmus durch die  Anzahl der Züge des Algorithmus geteilt. Somit entsteht die durschnittliche Zugzeit für den Algorithmus. \r\n",
    "* `max_depth`   ist die Tiefe, bis zu der Minimax mit Alpha-Beta verglichen werden soll\r\n",
    "* `repetition` ist die Anzahl der Wiederholungen einer Tiefenberechnung die für die Bildunge des Durchschnitts genutzt werden\r\n",
    "\r\n",
    "Bei mehrfachem Ausführen fällt hier auf, dass die Werte für d∈{1,2} stark schwanken und somit nicht besonders aussagekräftig sind. "
   ],
   "metadata": {}
  },
  {
   "cell_type": "code",
   "execution_count": null,
   "source": [
    "import random \r\n",
    "import pandas as pd\r\n",
    "%run ./Muehle_GUI.ipynb\r\n",
    "\r\n",
    "#Variablen zur Konfiguration der Berechnung\r\n",
    "max_depth  = 5 #Tiefe, bis zu der Verglichen werden soll\r\n",
    "repetition = 3 #Anzahl der Wiederholungen einer Tiefe zur verbesserung des Ergebnisses\r\n",
    "\r\n",
    "ab_avg      = []\r\n",
    "mm_avg      = []\r\n",
    "depth_array = []\r\n",
    "ratio       = []\r\n",
    "\r\n",
    "#Berechnung von depth=1 zu depth=d\r\n",
    "for x in range(1,max_depth+1):\r\n",
    "    #Um nicht nur einen Wert für eine Suchtiefe zu haben wird der Durchschnitt aus wdh-vielen Durchläufen berechnet\r\n",
    "    ab_avg_      = []\r\n",
    "    mm_avg_      = []\r\n",
    "    for i in range(1,repetition+1):\r\n",
    "        global game\r\n",
    "        game = Game()\r\n",
    "        clear_output(wait = True)\r\n",
    "        game.ab_depth    = x\r\n",
    "        game.mm_depth    = x\r\n",
    "        gamemode_toggle.value = 'alpha-beta vs Minimax'\r\n",
    "        game.pause = False\r\n",
    "        game.update_canvas()\r\n",
    "        game.algo_step()\r\n",
    "\r\n",
    "        ab_avg_ += [game.ab_time/game.ab_moves]\r\n",
    "        mm_avg_ += [game.mm_time/game.mm_moves]\r\n",
    "\r\n",
    "        restart_auto_play()\r\n",
    "\r\n",
    "    ab_avg += [sum(ab_avg_)/len(ab_avg_)]\r\n",
    "    mm_avg += [sum(mm_avg_)/len(mm_avg_)]\r\n",
    "    depth_array += [x]\r\n",
    "    ratio += [mm_avg[-1]/ab_avg[-1]*100]\r\n",
    "\r\n",
    "clear_output(wait = True)\r\n",
    "\r\n",
    "#Plotting\r\n",
    "df = pd.DataFrame(data={'Suchtiefe':depth_array,'Ø Zugzeit Alpha-Beta (s)':ab_avg, 'Ø Zugzeit Minimax (s)':mm_avg, 'MM/AB (%)':ratio})\r\n",
    "df.index = df.index+1\r\n",
    "df.plot(kind='line',x='Suchtiefe',y=[\"Ø Zugzeit Alpha-Beta (s)\", \"Ø Zugzeit Minimax (s)\"])"
   ],
   "outputs": [],
   "metadata": {}
  },
  {
   "cell_type": "markdown",
   "source": [
    "Logarithmische Darstellung der Auswerung:"
   ],
   "metadata": {}
  },
  {
   "cell_type": "code",
   "execution_count": null,
   "source": [
    "df.plot(kind='line',x='Suchtiefe',y=[\"Ø Zugzeit Alpha-Beta (s)\", \"Ø Zugzeit Minimax (s)\"],logy=True)"
   ],
   "outputs": [],
   "metadata": {}
  },
  {
   "cell_type": "markdown",
   "source": [
    "Tabellarische Darstellung der Auswerung:"
   ],
   "metadata": {}
  },
  {
   "cell_type": "code",
   "execution_count": null,
   "source": [
    "df"
   ],
   "outputs": [],
   "metadata": {}
  },
  {
   "cell_type": "markdown",
   "source": [
    "## Ausblick\r\n",
    "\r\n",
    "Das entwickelte Mühle-Spiel ist in der Lage, verschiedene Spielmodi anzubieten. Das Spielen gegen eine KI, sowie das Spiel KI gegen KI ist möglich, sodass das grundlegende Ziel dieser Arbeit erfüllt wurde. Auch die Verwendung von Transpositionstabellen als Speicher für die bereits bewerteten Zustände wurde umgesetzt. Eine Bewertung der Ergebnisse wurde im vorangehenden Kapitel vorgenommen. Nun soll auf Möglichkeiten eingegangen werden, die die Performance optimieren oder die Stärke der KI steigern.\r\n",
    "\r\n",
    "Die erste Möglichkeit hier ist die Verbesserung der Heuristik. Da die Heuristik die Bewertung der Zustände vornimmt und somit über den nächsten Zustand entscheidet, ist sie der Ansatzpunkt für Leistungssteigerungen. Aktuell umfasst die Heuristik die Aspekte Anzahl der Spielsteine sowie die Anzahl der geschlossenen Mühlen.  Überlegungen für weitere Aspekte sind die Betrachtung der Anzahl der Zugmöglichkeiten und Anzahl der offenen Mühlen sowie die Bewertung von bestimmten Stellungen. Kriterien für die Entscheidung sind die Veränderung der Rechenzeit und des Gewinnanteils. Ist Erhöhung der Rechenzeit möglichst niedrig, während der Anteil der Gewinne gesteigert werden kann, sollte der Aspekt in die Heuristik mit aufgenommen werden. Auch die Gewichtung der unterschiedlichen Aspekte ist ein Punkt, an dem noch eingegriffen und optimiert werden kann.\r\n",
    "\r\n",
    "Eine weitere Verbesserungsmöglichkeit ist die Einführung einer Spieldatenbank zur Ermittlung besserer Züge. Prinzipiell ist so eine Datenbank für das gesamte Spiel nutzbar, aufgrund des hohen Speicherbedarfs wird häufig jedoch nur eine Endspieldatenbank umgesetzt. Gerade in der dritten Spielphase, wenn die Spieler viele Zugmöglichkeiten haben und der Spielbaum so stark verzweigt ist, kann dies hilfreich sein. Ein Grundstein für die Erstellung und Verwendung einer solchen Spieldatenbank wurde mit dem Abspeichern der Spiele schon gelegt. Eine richtige Verwendung der Datenbank lag jedoch nicht im Anforderungsrahmen dieser Studienarbeit. \r\n",
    "\r\n",
    "Eine weitere Optimierungsmöglichkeit, um schneller mehr Zustände abzudecken und den Speicherbedarf zu senken ist die Beachtung von Symmetrien und Drehungen. Die Grafik unten veranschaulicht die Symmetrien eines Spielfeldes. Die roten Achsen sind einfache Spiegelungen. Aber auch das Tauschen des inneren und äußeren Rings ist möglich. Dies wird durch die grünen Linien veranschaulicht.\r\n",
    "\r\n",
    "<img src=\"images\\symmetries.png\" alt=\"Symmetrien eines Spielbrettes\" width=\"300\"/>\r\n",
    "\r\n",
    "Auch eine Drehung des Spielfelds um 90, 180 oder 270 Grad verändert den eigentlichen Zustand nicht, weshalb auch hier eine Vereinfachung stattfinden kann.\r\n",
    "\r\n",
    "Bei der Überlegung, ob Symmetrien und Drehungen betrachtet werden sollen, ist zu beachten, dass zwar der Speicheraufwand und die Anzahl der möglichen Zustände reduziert werden, die Rechenzeit jedoch stark zunimmt.\r\n",
    "\r\n",
    "Abschließend ist zu sagen, dass noch weitere Verbesserungen möglich sind, dies aber immer unter Abwägung der Vor- und Nachteile und vor allem hinsichtlich der benötigten Rechenzeit geschehen sollte."
   ],
   "metadata": {}
  },
  {
   "cell_type": "code",
   "execution_count": null,
   "source": [],
   "outputs": [],
   "metadata": {}
  }
 ],
 "metadata": {
  "kernelspec": {
   "display_name": "Python 3",
   "language": "python",
   "name": "python3"
  },
  "language_info": {
   "codemirror_mode": {
    "name": "ipython",
    "version": 3
   },
   "file_extension": ".py",
   "mimetype": "text/x-python",
   "name": "python",
   "nbconvert_exporter": "python",
   "pygments_lexer": "ipython3",
   "version": "3.7.9"
  }
 },
 "nbformat": 4,
 "nbformat_minor": 2
}