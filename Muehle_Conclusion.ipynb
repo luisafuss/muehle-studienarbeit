{
 "cells": [
  {
   "cell_type": "code",
   "execution_count": null,
   "source": [
    "%%HTML\r\n",
    "<style>\r\n",
    ".container { width:100% }\r\n",
    "</style>"
   ],
   "outputs": [],
   "metadata": {}
  },
  {
   "cell_type": "markdown",
   "source": [
    "# Fazit\r\n",
    "Abschließend soll ein Fazit zum entwickelten Mühle-Spiel gezogen werden. Dazu wird die Performance der implementierten Algorithmen Alpha-Beta und Minimax verglichen und beurteilt. Des Weiteren soll analysiert werden, mit welchen Maßnahmen die Künstliche Intelligenz weiter verbessert werden könnte."
   ],
   "metadata": {}
  },
  {
   "cell_type": "markdown",
   "source": [
    "## Alpha-Beta vs. Minimax\r\n",
    "Für die folgende Auswertung ist zu beachten, dass die Spiele auf einem Rechner mit folgender Spezifikation durchgeführt wurden:\r\n",
    "* Prozessor: AMD Ryzen 5 3600x\r\n",
    "* RAM: 16Gb DDR4\r\n",
    "\r\n",
    "Zur Bewertung der zeitlichen Performance wurden Spiele durchgeführt, bei denen die beiden Algorithmen Alpha-Beta-Pruning und Minimax mit der gleichen Suchtiefe gegeneinander gespielt haben. Die Ergebnisse sind der unten aufgeführten Tabelle sowie den Grafiken zu entnehmen.\r\n",
    "\r\n",
    "Suchtiefe | Ø Zugzeit Alpha-Beta (s) | Ø Zugzeit Minimax (s) | MM/AB\r\n",
    ":--:|--|--|--\r\n",
    "2 | 0,551338714  | 0,692698593 | 126%\r\n",
    "3 | 0,37587081 | 0,494166458 | 131%\r\n",
    "4 | 0,504812208  | 0,801580364 | 159%\r\n",
    "5 | 2,36854893 | 6,745960603 | 285%\r\n",
    "6 | 18,09719203  | 79,44205967 | 439%\r\n",
    "\r\n",
    "<img src=\"images\\linear.png\" alt=\"Durchschnittliche Zugzeit, lineare Achse\" width=\"300\"/>\r\n",
    "<img src=\"images\\logarithmic.png\" alt=\"Durchschnittliche Zugzeit, logarithmische Achse\" width=\"300\"/>\r\n",
    "\r\n",
    "Zu sehen ist, dass sowohl der absolute als auch der relative Abstand mit zunehmender Suchtiefe exponentiell steigen. Das heißt, dass gerade bei einer großen Suchtiefe Alpha-Beta-Pruning wesentlich schneller ist. Doch eine höhere Suchtiefe führt zu einem besseren Spiel der künstlichen Intelligenz und somit zu einer höheren Gewinnwahrscheinlichkeit. Deshalb ist für diesen Anwendungsfall als Such-Algorithmus Alpha-Beta-Pruning die bessere Wahl.\r\n",
    "\r\n",
    "\r\n"
   ],
   "metadata": {}
  },
  {
   "cell_type": "code",
   "execution_count": null,
   "source": [
    "def restart_auto_play(): \r\n",
    "    gamemode_toggle.disabled = False\r\n",
    "    gamemode_toggle.value = 'Spieler vs Spieler'\r\n",
    "    global game\r\n",
    "    game = Game()\r\n",
    "    clear_output(wait = True)\r\n",
    "    game.update_canvas()"
   ],
   "outputs": [],
   "metadata": {}
  },
  {
   "cell_type": "code",
   "execution_count": null,
   "source": [
    "import random \r\n",
    "import pandas as pd\r\n",
    "%run ./Muehle_GUI.ipynb\r\n",
    "\r\n",
    "ab_avg      = []\r\n",
    "mm_avg      = []\r\n",
    "depth_array = []\r\n",
    "ratio       = []\r\n",
    "\r\n",
    "#calculate from depth=1 to depth=5\r\n",
    "for x in range(1,5+1):\r\n",
    "    global game\r\n",
    "    game = Game()\r\n",
    "    clear_output(wait = True)\r\n",
    "    ab_depth    = x\r\n",
    "    mm_depth    = x\r\n",
    "    gamemode_toggle.value = 'alpha-beta vs Minimax'\r\n",
    "    game.pause = False\r\n",
    "    game.update_canvas()\r\n",
    "    game.algo_step()\r\n",
    "\r\n",
    "    ab_avg += [ab_time/ab_moves]\r\n",
    "    mm_avg += [mm_time/mm_moves]\r\n",
    "    depth_array += [x]\r\n",
    "    ratio += [(mm_time/mm_moves)/(ab_time/ab_moves)*100]\r\n",
    "\r\n",
    "    ab_time = 0\r\n",
    "    ab_moves = 0\r\n",
    "    mm_time = 0\r\n",
    "    mm_moves = 0\r\n",
    "\r\n",
    "    restart_auto_play()\r\n",
    "\r\n",
    "clear_output(wait = True)\r\n",
    "\r\n",
    "#Plotting\r\n",
    "df = pd.DataFrame(data={'Suchtiefe':depth_array,'Ø Zugzeit Alpha-Beta (s)':ab_avg, 'Ø Zugzeit Minimax (s)':mm_avg, 'MM/AB':ratio})\r\n",
    "df.index = df.index+1\r\n",
    "df.plot(kind='line',x='Suchtiefe',y=[\"Ø Zugzeit Alpha-Beta (s)\", \"Ø Zugzeit Minimax (s)\"])\r\n",
    "\r\n"
   ],
   "outputs": [],
   "metadata": {}
  },
  {
   "cell_type": "code",
   "execution_count": null,
   "source": [
    "df"
   ],
   "outputs": [],
   "metadata": {}
  },
  {
   "cell_type": "code",
   "execution_count": null,
   "source": [
    "%run ./Muehle_Evaluation.ipynb"
   ],
   "outputs": [],
   "metadata": {}
  },
  {
   "cell_type": "code",
   "execution_count": null,
   "source": [
    "Okay ein oaar Punkte zu der Auswertung:\r\n",
    "1. pandas und matplotlib müssen in requirements.txt aufgenommen werden\r\n",
    "2. Globale Variablen sollte man vermeiden. Pack die Variablen ab_time, ab_moves, mm_time und mm_moves doch in die Game Klasse\r\n",
    "3. Es sollte nicht nur ein Spiel mit der Tiefe laufen, sondern mehrere. Also bspw. 5 mit Tiefe 1, 5 mit Tiefe 2, 5 mit Tiefe 3 ...\r\n",
    "4. Wir bräuchte eine Auswertung über den Gewinner"
   ],
   "outputs": [],
   "metadata": {}
  },
  {
   "cell_type": "markdown",
   "source": [
    "## Ausblick\n",
    "\n",
    "Das entwickelte Mühle-Spiel ist in der Lage, verschiedene Spielmodi anzubieten. Das Spielen gegen eine KI, sowie das Spiel KI gegen KI ist möglich, sodass das grundlegende Ziel dieser Arbeit erfüllt wurde. Auch die Verwendung von Transpositionstabellen als Speicher für die bereits bewerteten Zustände wurde umgesetzt. Eine Bewertung der Ergebnisse wurde im vorangehenden Kapitel vorgenommen. Nun soll auf Möglichkeiten eingegangen werden, die die Performance optimieren oder die Stärke der KI steigern.\n",
    "\n",
    "Die erste Möglichkeit hier ist die Verbesserung der Heuristik. Da die Heuristik die Bewertung der Zustände vornimmt und somit über den nächsten Zustand entscheidet, ist sie der Ansatzpunkt für Leistungssteigerungen. Aktuell umfasst die Heuristik die Aspekte Anzahl der Spielsteine sowie die Anzahl der geschlossenen Mühlen.  Überlegungen für weitere Aspekte sind die Betrachtung der Anzahl der Zugmöglichkeiten und Anzahl der offenen Mühlen sowie die Bewertung von bestimmten Stellungen. Kriterien für die Entscheidung sind die Veränderung der Rechenzeit und des Gewinnanteils. Ist Erhöhung der Rechenzeit möglichst niedrig, während der Anteil der Gewinne gesteigert werden kann, sollte der Aspekt in die Heuristik mit aufgenommen werden. Auch die Gewichtung der unterschiedlichen Aspekte ist ein Punkt, an dem noch eingegriffen und optimiert werden kann.\n",
    "\n",
    "Eine weitere Verbesserungsmöglichkeit ist die Einführung einer Spieldatenbank zur Ermittlung besserer Züge. Prinzipiell ist so eine Datenbank für das gesamte Spiel nutzbar, aufgrund des hohen Speicherbedarfs wird häufig jedoch nur eine Endspieldatenbank umgesetzt. Gerade in der dritten Spielphase, wenn die Spieler viele Zugmöglichkeiten haben und der Spielbaum so stark verzweigt ist, kann dies hilfreich sein. Ein Grundstein für die Erstellung und Verwendung einer solchen Spieldatenbank wurde mit dem Abspeichern der Spiele schon gelegt. Eine richtige Verwendung der Datenbank lag jedoch nicht im Anforderungsrahmen dieser Studienarbeit. \n",
    "\n",
    "Eine weitere Optimierungsmöglichkeit, um schneller mehr Zustände abzudecken und den Speicherbedarf zu senken ist die Beachtung von Symmetrien und Drehungen. Die Grafik unten veranschaulicht die Symmetrien eines Spielfeldes. Die roten Achsen sind einfache Spiegelungen. Aber auch das Tauschen des inneren und äußeren Rings ist möglich. Dies wird durch die grünen Linien veranschaulicht.\n",
    "\n",
    "<img src=\"images\\symmetries.png\" alt=\"Symmetrien eines Spielbrettes\" width=\"300\"/>\n",
    "\n",
    "Auch eine Drehung des Spielfelds um 90, 180 oder 270 Grad verändert den eigentlichen Zustand nicht, weshalb auch hier eine Vereinfachung stattfinden kann.\n",
    "\n",
    "Bei der Überlegung, ob Symmetrien und Drehungen betrachtet werden sollen, ist zu beachten, dass zwar der Speicheraufwand und die Anzahl der möglichen Zustände reduziert werden, die Rechenzeit jedoch stark zunimmt.\n",
    "\n",
    "Abschließend ist zu sagen, dass noch weitere Verbesserungen möglich sind, dies aber immer unter Abwägung der Vor- und Nachteile und vor allem hinsichtlich der benötigten Rechenzeit geschehen sollte."
   ],
   "metadata": {}
  },
  {
   "cell_type": "code",
   "execution_count": null,
   "source": [],
   "outputs": [],
   "metadata": {}
  }
 ],
 "metadata": {
  "kernelspec": {
   "display_name": "Python 3",
   "language": "python",
   "name": "python3"
  },
  "language_info": {
   "codemirror_mode": {
    "name": "ipython",
    "version": 3
   },
   "file_extension": ".py",
   "mimetype": "text/x-python",
   "name": "python",
   "nbconvert_exporter": "python",
   "pygments_lexer": "ipython3",
   "version": "3.7.9"
  }
 },
 "nbformat": 4,
 "nbformat_minor": 2
}