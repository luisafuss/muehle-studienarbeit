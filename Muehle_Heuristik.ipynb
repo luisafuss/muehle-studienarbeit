{
 "cells": [
  {
   "cell_type": "code",
   "execution_count": null,
   "id": "complicated-enlargement",
   "metadata": {},
   "outputs": [],
   "source": [
    "%%HTML\n",
    "<style>\n",
    ".container { width:100% }\n",
    "</style>"
   ]
  },
  {
   "cell_type": "code",
   "execution_count": null,
   "id": "parental-kingston",
   "metadata": {},
   "outputs": [],
   "source": [
    "%run ./Muehle_Utilities.ipynb"
   ]
  },
  {
   "cell_type": "markdown",
   "id": "headed-motion",
   "metadata": {},
   "source": [
    "# Heuristik"
   ]
  },
  {
   "cell_type": "markdown",
   "id": "specified-clarity",
   "metadata": {},
   "source": [
    "Die Funktion `heuristic()` dient dazu die Siegwahrscheinlichkeit für einen Spieler bei einem gegebenen Zustand zu berechnen.\n",
    "Je höher das Ergebnis, desto wahrscheinlicher gewinnt der Spieler. \n",
    "\n",
    "Der Wert setzt sich aus verschiedenen Einzelwerten zusammen:\n",
    "- Steine auf dem Spielfeld und noch setzbare Steine zählen je **1 Punkt**\n",
    "- Jede eigene Mühle gibt **3 Punkte**\n",
    "\n",
    "Die Punkte werden für jeden Spieler aufsummiert, der Wert des Gegners vom eigenen Wert abgezogen und schließlich normiert (in den Wertebereich \\[-1, +1\\] verschoben)."
   ]
  },
  {
   "cell_type": "code",
   "execution_count": null,
   "id": "double-interview",
   "metadata": {},
   "outputs": [],
   "source": [
    "#TODO: Das ist erstmal eine erste Idee für eine Heuristik, die sicher noch optimiert werden kann\n",
    "def heuristic(state, player):\n",
    "    remaining, board = state\n",
    "    opponent_player  = opponent(player)\n",
    "    maximum_score    = 0\n",
    "    \n",
    "    # Steine auf Spielfeld und in Remaining\n",
    "    maximum_score   += 9\n",
    "    score_player     = count_player_pieces(board, player)          + remaining[player-1]\n",
    "    score_opponent   = count_player_pieces(board, opponent_player) + remaining[opponent_player-1]\n",
    "    \n",
    "    # Mühlen\n",
    "    maximum_score   += 4 * 3 # Ein Spieler kann maximal 4 Mühlen gleichzeitig haben\n",
    "    score_player    += len(find_mills(board, player)) * 3\n",
    "    score_opponent  += len(find_mills(board, opponent_player)) * 3\n",
    "    \n",
    "    return (score_player - score_opponent) / maximum_score"
   ]
  },
  {
   "cell_type": "code",
   "execution_count": null,
   "id": "broadband-poetry",
   "metadata": {},
   "outputs": [],
   "source": []
  }
 ],
 "metadata": {
  "kernelspec": {
   "display_name": "Python 3",
   "language": "python",
   "name": "python3"
  },
  "language_info": {
   "codemirror_mode": {
    "name": "ipython",
    "version": 3
   },
   "file_extension": ".py",
   "mimetype": "text/x-python",
   "name": "python",
   "nbconvert_exporter": "python",
   "pygments_lexer": "ipython3",
   "version": "3.7.9"
  }
 },
 "nbformat": 4,
 "nbformat_minor": 5
}
