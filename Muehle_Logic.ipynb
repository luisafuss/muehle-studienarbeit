{
 "cells": [
  {
   "cell_type": "code",
   "execution_count": 2,
   "metadata": {},
   "outputs": [],
   "source": [
    "#Prüft in welcher Phase sich der Spieler befindet\n",
    "def get_player_phase():\n",
    "    #ToDo: Implementieren\n",
    "    return"
   ]
  },
  {
   "cell_type": "code",
   "execution_count": 4,
   "metadata": {},
   "outputs": [],
   "source": [
    "#Berechnet die nächsten Möglichen klickbaren Positionen, falls der Spieler in Phase 1 (Setzphase) ist\n",
    "def states_phase_one():\n",
    "    #ToDo: Implementieren\n",
    "    return"
   ]
  },
  {
   "cell_type": "code",
   "execution_count": 6,
   "metadata": {},
   "outputs": [],
   "source": [
    "#Berechnet die nächsten Möglichen klickbaren Positionen, falls der Spieler in Phase 2 (Zugphase) ist\n",
    "def states_phase_two():\n",
    "    #ToDo: Implementieren\n",
    "    return"
   ]
  },
  {
   "cell_type": "code",
   "execution_count": 7,
   "metadata": {},
   "outputs": [],
   "source": [
    "#Berechnet die nächsten Möglichen klickbaren Positionen, falls der Spieler in Phase 3 (Springphase) ist\n",
    "def states_phase_three():\n",
    "    #ToDo: Implementieren\n",
    "    return"
   ]
  },
  {
   "cell_type": "code",
   "execution_count": 8,
   "metadata": {},
   "outputs": [],
   "source": [
    "#Berechnet in welcher Phase sich der Spieler befindet und dementsprechen, wo er als nächstes klicken kann\n",
    "# Kombiniert also die Funktionen oben\n",
    "def next_states():\n",
    "    #ToDo: Implementieren\n",
    "    return"
   ]
  },
  {
   "cell_type": "code",
   "execution_count": 10,
   "metadata": {},
   "outputs": [],
   "source": [
    "def find_muehlen():\n",
    "    #ToDo: Implementieren\n",
    "    return"
   ]
  },
  {
   "cell_type": "code",
   "execution_count": null,
   "metadata": {},
   "outputs": [],
   "source": []
  }
 ],
 "metadata": {
  "kernelspec": {
   "display_name": "Python 3",
   "language": "python",
   "name": "python3"
  },
  "language_info": {
   "codemirror_mode": {
    "name": "ipython",
    "version": 3
   },
   "file_extension": ".py",
   "mimetype": "text/x-python",
   "name": "python",
   "nbconvert_exporter": "python",
   "pygments_lexer": "ipython3",
   "version": "3.8.3"
  }
 },
 "nbformat": 4,
 "nbformat_minor": 4
}
