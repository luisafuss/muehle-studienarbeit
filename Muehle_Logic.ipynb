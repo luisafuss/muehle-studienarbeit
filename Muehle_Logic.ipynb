{
 "cells": [
  {
   "cell_type": "code",
   "execution_count": null,
   "metadata": {},
   "outputs": [],
   "source": [
    "%%HTML\n",
    "<style>\n",
    ".container { width:100% }\n",
    "</style>"
   ]
  },
  {
   "cell_type": "code",
   "execution_count": null,
   "metadata": {},
   "outputs": [],
   "source": [
    "%run ./Muehle_Utilities.ipynb\n",
    "import copy"
   ]
  },
  {
   "cell_type": "markdown",
   "metadata": {},
   "source": [
    "## Spielphasen"
   ]
  },
  {
   "cell_type": "markdown",
   "metadata": {},
   "source": [
    "Die Funktion `get_player_phase()` prüft in welcher Phase sich der übergebenen Spieler befindet. Hat er noch setzbare Steine, ist also sein Wert in `remaining` größer null, befindert er sich in Phase eins. Ist dies nicht der Fall und auch auf dem Feld befinden sich nur noch drei Steine, so befindet der Spieler sich in der Springphase. Ist dem nicht so, so ist der Spieler in Phase zwei, der Zugphase.\n",
    "Die Eingabeparameter der Funktion sind ein Spielstatus, sowie ein Spieler in der Form 1 für Spieler eins und 2 für Spieler zwei. Zurückgegeben wird die Spielphase des übergebenen Spielers in dem übergebenen Spiel."
   ]
  },
  {
   "cell_type": "code",
   "execution_count": null,
   "metadata": {},
   "outputs": [],
   "source": [
    "def get_player_phase(state, player):\n",
    "    [remaining, board] = state\n",
    "    if remaining[player - 1] >= 1: \n",
    "        return 1\n",
    "    elif count_player_pieces(state, player) == 3:\n",
    "        return 3\n",
    "    else:\n",
    "        return 2"
   ]
  },
  {
   "cell_type": "markdown",
   "metadata": {},
   "source": [
    "`possible_positions_phase_two()` berechnet die nächsten möglichen klickbaren Positionen, falls der Spieler in Phase 2 (Zugphase) ist. Dies sind ausgehend vom gewählten Stein alle benachbarten leeren Felder.\n",
    "Hierfür wird ein Spielstatus, sowie die Position des ausgewählten Steines mit ring und cell übergeben. Zurückgegeben wird eine Liste der möglichen Position, auf die gezogen werden kann."
   ]
  },
  {
   "cell_type": "code",
   "execution_count": null,
   "metadata": {},
   "outputs": [],
   "source": [
    "def possible_positions_phase_two(state, ring, cell):\n",
    "    neighboring = set(neighboring_positions((ring, cell)))\n",
    "    empty = set(empty_positions(state))\n",
    "    possible_positions = neighboring.intersection(empty)\n",
    "    return list(possible_positions)"
   ]
  },
  {
   "cell_type": "markdown",
   "metadata": {},
   "source": [
    "`next_positions()` berechnet in welcher Phase sich der Spieler befindet und dementsprechend, wo er als nächstes klicken kann. Falls der Spieler in Phase 1 (Setzphase) oder Phase 3 (Springphase) ist, dies sind unabhängig vom aktuellen Spieler oder in Phase 3 auch unabhängig vom ausgewählten Stein alle leeren Felder. Für Phase 2 wird die zuvor definierte Funktion `possible_positions_phase_two()` aufgerufen.\n",
    "Übergeben wird der Funktion `next_positions()` hierfür ein Spielstatus, ein Spieler, und die Position des ausgewählten Steines (ring und cell)."
   ]
  },
  {
   "cell_type": "code",
   "execution_count": null,
   "metadata": {},
   "outputs": [],
   "source": [
    "def next_positions(state, player, ring, cell):\n",
    "    phase = get_player_phase(state, player)\n",
    "    if phase == 1:\n",
    "        return empty_positions(state)\n",
    "    elif phase == 2:\n",
    "        return possible_positions_phase_two(state, ring, cell)\n",
    "    else:\n",
    "        return empty_positions(state)"
   ]
  },
  {
   "cell_type": "markdown",
   "metadata": {},
   "source": [
    "## next states\n",
    "\n",
    "TODO: Dokumentation"
   ]
  },
  {
   "cell_type": "code",
   "execution_count": null,
   "metadata": {},
   "outputs": [],
   "source": [
    "def next_states_phase_one(state, player):\n",
    "    [remaining, board] = state\n",
    "    boards = []\n",
    "    # Alle aktuellen Mühlen finden\n",
    "    mills = find_mills(board, player)\n",
    "    \n",
    "    # Ein Stein auf ein leeres Feld setzen\n",
    "    empty = empty_positions(state)\n",
    "    boards_after_placing = []\n",
    "    for ring, cell in empty:\n",
    "        new_board = copy.deepcopy(board)\n",
    "        new_board[ring][cell] = player        \n",
    "        boards_after_placing.append(new_board)\n",
    "    \n",
    "    # Für jedes Board überprüfen, ob neue Mühlen dazu gekommen sind und ggf. Steine entfernen\n",
    "    for new_board in boards_after_placing:\n",
    "        number_new_mills = count_new_mills(mills, find_mills(new_board, player))\n",
    "        if number_new_mills > 0:\n",
    "            boards.extend(beat_pieces(new_board, number_new_mills, player))\n",
    "        else:\n",
    "            boards.append(new_board)\n",
    "    \n",
    "    # Ein Stein aus den verbleibenden Steinen des Spielers entfernen\n",
    "    remaining = [remaining[0] - 1, remaining[1]] if player == 1 else [remaining[0], remaining[1] - 1]\n",
    "    \n",
    "    # next_states zusammenbauen und zurückgeben\n",
    "    return [[remaining, new_board] for new_board in boards]"
   ]
  },
  {
   "cell_type": "code",
   "execution_count": null,
   "metadata": {},
   "outputs": [],
   "source": [
    "def next_states_phase_two(state, player):\n",
    "    [remaining, board] = state\n",
    "    boards = []\n",
    "    # Alle aktuellen Mühlen finden\n",
    "    mills = find_mills(board, player)\n",
    "    \n",
    "    # Alle Steine des Spielers als Startposition durchgehen und auf mögliche Nachbarpositionen verschieben\n",
    "    pieces = player_pieces(state, player)\n",
    "    boards_after_placing = []\n",
    "    for ring_start, cell_start in pieces:\n",
    "        positions = possible_positions_phase_two(state, ring_start, cell_start)\n",
    "        for ring_goal, cell_goal in positions:\n",
    "            new_board = copy.deepcopy(board)\n",
    "            new_board[ring_start][cell_start] = 0    \n",
    "            new_board[ring_goal][cell_goal] = player        \n",
    "            boards_after_placing.append(new_board)\n",
    "    \n",
    "    # Für jedes Board überprüfen, ob neue Mühlen dazu gekommen sind und ggf. Steine entfernen\n",
    "    for new_board in boards_after_placing:\n",
    "        number_new_mills = count_new_mills(mills, find_mills(new_board, player))\n",
    "        if number_new_mills > 0:\n",
    "            boards.extend(beat_pieces(new_board, number_new_mills, player))\n",
    "        else:\n",
    "            boards.append(new_board)\n",
    "    \n",
    "    # next_states zusammenbauen und zurückgeben\n",
    "    return [[remaining, new_board] for new_board in boards]"
   ]
  },
  {
   "cell_type": "code",
   "execution_count": null,
   "metadata": {},
   "outputs": [],
   "source": [
    "def next_states_phase_three(state, player):\n",
    "    [remaining, board] = state\n",
    "    boards = []\n",
    "    # Alle aktuellen Mühlen finden\n",
    "    mills = find_mills(board, player)\n",
    "    \n",
    "    # Alle Steine des Spielers als Startposition durchgehen und auf leere Positionen verschieben\n",
    "    pieces = player_pieces(state, player)\n",
    "    empty = empty_positions(state)\n",
    "    boards_after_placing = []\n",
    "    for ring_start, cell_start in pieces:\n",
    "        for ring_goal, cell_goal in empty:\n",
    "            new_board = copy.deepcopy(board)\n",
    "            new_board[ring_start][cell_start] = 0    \n",
    "            new_board[ring_goal][cell_goal] = player        \n",
    "            boards_after_placing.append(new_board)\n",
    "    \n",
    "    # Für jedes Board überprüfen, ob neue Mühlen dazu gekommen sind und ggf. Steine entfernen\n",
    "    for new_board in boards_after_placing:\n",
    "        number_new_mills = count_new_mills(mills, find_mills(new_board, player))\n",
    "        if number_new_mills > 0:\n",
    "            boards.extend(beat_pieces(new_board, number_new_mills, player))\n",
    "        else:\n",
    "            boards.append(new_board)\n",
    "    \n",
    "    # next_states zusammenbauen und zurückgeben\n",
    "    return [[remaining, new_board] for new_board in boards]"
   ]
  },
  {
   "cell_type": "code",
   "execution_count": null,
   "metadata": {},
   "outputs": [],
   "source": [
    "def next_states(state, player):\n",
    "    phase =  get_player_phase(state, player)\n",
    "    if phase == 1:\n",
    "        return next_states_phase_one(state, player)\n",
    "    elif phase == 2:\n",
    "        return next_states_phase_two(state, player)\n",
    "    else:\n",
    "        return next_states_phase_three(state, player)"
   ]
  },
  {
   "cell_type": "markdown",
   "metadata": {},
   "source": [
    "## Spielende"
   ]
  },
  {
   "cell_type": "markdown",
   "metadata": {},
   "source": [
    "Die Funktion `finished()` prüft, ob das Spiel für den übergebenen Zustand zu Ende ist. \n",
    "\n",
    "Solange ein Spieler noch Steine setzen kann, ist das Spiel noch nicht entschieden. Ansonsten gibt es zwei Möglichkeiten, bei denen das Spiel noch nicht zu Ende ist. Die erste Situation tritt ein, wenn ein Spieler weniger als drei Steine hat. Er hat dann verloren. Bei der zweiten Option verliert ein Spieler, wenn er sich in Phase 2 befindet, aber nicht mehr ziehen kann. Dies kommt vor, wenn alle benachbarten Felder seiner Steine vom Gegenspieler besetzt sind."
   ]
  },
  {
   "cell_type": "code",
   "execution_count": null,
   "metadata": {},
   "outputs": [],
   "source": [
    "def finished(state):\n",
    "    [remaining, board] = state\n",
    "    # Wenn man noch Steine setzen kann, hat man nicht verloren\n",
    "    if any(p > 0 for p in remaining): return False\n",
    "    \n",
    "    for player in [1, 2]:\n",
    "        # Wenn man weniger als 3 Steine hat, hat man verloren\n",
    "        if count_player_pieces(state, player) < 3: return True\n",
    "        \n",
    "        # Wenn man in Phase 2 ist und nicht mehr ziehen kann, aber in Phase 3 ist, hat man verloren\n",
    "        # ToDo: später ersetzen durch:\n",
    "        # if len(nextStates(state, player)) == 0 or len(nextStates(state, oponnent(player))) == 0: return True\n",
    "        pieces = player_pieces(state, player)\n",
    "        phase = get_player_phase(state, player)\n",
    "        if not any(is_movable(state, position) for position in pieces) and phase == 2:\n",
    "            return True\n",
    "\n",
    "    # Falls die beiden Endsituationen für keinen Spieler eingetreten sind, ist das Spiel nicht zu Ende\n",
    "    return False"
   ]
  },
  {
   "cell_type": "markdown",
   "metadata": {},
   "source": [
    "Die Funktion `utility()` nimmt einen Zustand für den das Spiel beendet ist, also `finished(state)==True` und einen Spieler und gibt einen numerischen Wert zurück, der folgendermaßen zu interpretieren ist:\n",
    "* -1 = Der Spieler hat verloren\n",
    "* 0 =  Unentschieden\n",
    "* 1 =  Der Spieler hat gewonnen"
   ]
  },
  {
   "cell_type": "code",
   "execution_count": null,
   "metadata": {},
   "outputs": [],
   "source": [
    "def utility(terminal_state, player):\n",
    "    state = terminal_state\n",
    "    [remaining, board] = state\n",
    "    utility = 0\n",
    "    # Überprüfen, ob die Spieler weniger als drei Steine haben\n",
    "    if count_player_pieces(state, player) < 3: utility = -1\n",
    "    if count_player_pieces(state, opponent(player)) < 3: utility +=  1\n",
    "        \n",
    "    # utility = -1, wenn Spieler weniger als 3 Steine hat -> Ergebnis zurückgeben\n",
    "    # utility = 0 wenn beide weniger als 3 Steine haben -> Prüfen, ob Spieler noch ziehen können\n",
    "    # utility = 1, wenn Gegner weniger als 3 Steine hat -> Ergebnis zurückgeben\n",
    "    if utility != 0: return utility\n",
    "    \n",
    "    # Wenn der Spieler in Phase 2 ist und nicht mehr ziehen kann, hat er verloren\n",
    "    # ToDo: später ersetzen durch:\n",
    "    # if len(nextStates(state, player)) == 0: utility = -1\n",
    "    pieces = player_pieces(state, player)\n",
    "    phase = get_player_phase(state, player)\n",
    "    if not any(is_movable(state, position) for position in pieces) and phase == 2:\n",
    "        utility = -1\n",
    "\n",
    "    # Wenn der Gegner in Phase 2 ist und nicht mehr ziehen kann, hat der Spieler gewonnen\n",
    "    # Es sei denn, das trifft auch auf den Spieler zu, dann handelt es sich um ein unentschieden\n",
    "    # ToDo: später ersetzen durch:\n",
    "    # if len(nextStates(state, opponent(player))) == 0: utility += 1\n",
    "    pieces = player_pieces(state, opponent(player))\n",
    "    phase = get_player_phase(state, opponent(player))\n",
    "    if not any(is_movable(state, position) for position in pieces) and phase == 2:\n",
    "        utility += 1\n",
    "    \n",
    "    return utility"
   ]
  },
  {
   "cell_type": "code",
   "execution_count": null,
   "metadata": {},
   "outputs": [],
   "source": []
  }
 ],
 "metadata": {
  "kernelspec": {
   "display_name": "Python 3",
   "language": "python",
   "name": "python3"
  },
  "language_info": {
   "codemirror_mode": {
    "name": "ipython",
    "version": 3
   },
   "file_extension": ".py",
   "mimetype": "text/x-python",
   "name": "python",
   "nbconvert_exporter": "python",
   "pygments_lexer": "ipython3",
   "version": "3.7.9"
  }
 },
 "nbformat": 4,
 "nbformat_minor": 4
}
