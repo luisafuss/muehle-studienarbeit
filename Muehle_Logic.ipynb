{
 "cells": [
  {
   "cell_type": "code",
   "execution_count": null,
   "metadata": {},
   "outputs": [],
   "source": [
    "#Prüft in welcher Phase sich der Spieler befindet\n",
    "def get_player_phase(pieces, player):\n",
    "    [remaining, board] = pieces\n",
    "    if remaining[player-1] >= 1: # Es wurden noch nicht alle 9 Steine gesetzt\n",
    "            return 1\n",
    "    elif [position for ring in board for position in ring].count(player) == 3: # nur noch drei Steine auf dem Spielfeld\n",
    "        return 3\n",
    "    else: # sonst\n",
    "        return 2"
   ]
  },
  {
   "cell_type": "code",
   "execution_count": null,
   "metadata": {},
   "outputs": [],
   "source": [
    "#Berechnet die nächsten Möglichen klickbaren Positionen, falls der Spieler in Phase 1 (Setzphase) ist\n",
    "def states_phase_one(pieces, player):\n",
    "    #ToDo: Implementieren\n",
    "    return"
   ]
  },
  {
   "cell_type": "code",
   "execution_count": null,
   "metadata": {},
   "outputs": [],
   "source": [
    "#Berechnet die nächsten Möglichen klickbaren Positionen, falls der Spieler in Phase 2 (Zugphase) ist\n",
    "def states_phase_two(pieces, player):\n",
    "    #ToDo: Implementieren\n",
    "    return"
   ]
  },
  {
   "cell_type": "code",
   "execution_count": null,
   "metadata": {},
   "outputs": [],
   "source": [
    "#Berechnet die nächsten Möglichen klickbaren Positionen, falls der Spieler in Phase 3 (Springphase) ist\n",
    "def states_phase_three(pieces, player):\n",
    "    #ToDo: Implementieren\n",
    "    return"
   ]
  },
  {
   "cell_type": "code",
   "execution_count": null,
   "metadata": {},
   "outputs": [],
   "source": [
    "#Berechnet in welcher Phase sich der Spieler befindet und dementsprechen, wo er als nächstes klicken kann\n",
    "#Kombiniert also die Funktionen oben\n",
    "def next_states(pieces, player):\n",
    "    phase = get_player_phase(pieces, player)\n",
    "    if phase == 1:\n",
    "        return states_phase_one(pieces, player)\n",
    "    elif phase == 2:\n",
    "        return states_phase_two(pieces, player)\n",
    "    else:\n",
    "        return states_phase_three(pieces, player)"
   ]
  },
  {
   "cell_type": "markdown",
   "metadata": {},
   "source": [
    "## Mühlen"
   ]
  },
  {
   "cell_type": "code",
   "execution_count": null,
   "metadata": {},
   "outputs": [],
   "source": [
    "#Vor dem Zug werden die Mühlen gezählt, nach dem Zug werden die Mühlen gezählt. Falls Nachher > Vorher, wurde eine Mühle gebildet\n",
    "def count_muehlen(pieces, player):\n",
    "    #ToDo: Implementieren\n",
    "    return"
   ]
  }
 ],
 "metadata": {
  "kernelspec": {
   "display_name": "Python 3",
   "language": "python",
   "name": "python3"
  },
  "language_info": {
   "codemirror_mode": {
    "name": "ipython",
    "version": 3
   },
   "file_extension": ".py",
   "mimetype": "text/x-python",
   "name": "python",
   "nbconvert_exporter": "python",
   "pygments_lexer": "ipython3",
   "version": "3.8.3"
  }
 },
 "nbformat": 4,
 "nbformat_minor": 4
}