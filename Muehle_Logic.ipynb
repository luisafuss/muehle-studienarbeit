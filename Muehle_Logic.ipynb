{
 "cells": [
  {
   "cell_type": "code",
   "execution_count": null,
   "metadata": {},
   "outputs": [],
   "source": [
    "%run ./Muehle_Utilities.ipynb"
   ]
  },
  {
   "cell_type": "markdown",
   "metadata": {},
   "source": [
    "## Testboards"
   ]
  },
  {
   "cell_type": "code",
   "execution_count": null,
   "metadata": {},
   "outputs": [],
   "source": [
    "#Startboard\n",
    "board1 = [[9, 9],\n",
    "         [[0, 0, 0, 0, 0, 0, 0, 0],\n",
    "          [0, 0, 0, 0, 0, 0, 0, 0],\n",
    "          [0, 0, 0, 0, 0, 0, 0, 0]]]\n",
    "#Phase 1\n",
    "board2 = [[7, 6],\n",
    "         [[0, 0, 0, 0, 2, 0, 0, 0],\n",
    "          [0, 1, 2, 0, 0, 0, 0, 0],\n",
    "          [0, 0, 0, 0, 1, 2, 0, 0]]]\n",
    "#Phase 2, keine Mühle\n",
    "board3 = [[0, 0],\n",
    "         [[1, 0, 1, 2, 0, 1, 0, 0],\n",
    "          [2, 0, 1, 0, 0, 0, 1, 0],\n",
    "          [0, 2, 0, 0, 1, 2, 0, 0]]]\n",
    "#Phase 2, Mühle\n",
    "board4 = [[0, 0],\n",
    "         [[1, 1, 1, 2, 0, 1, 0, 0],\n",
    "          [2, 0, 1, 0, 0, 0, 1, 0],\n",
    "          [0, 2, 0, 0, 1, 2, 0, 0]]]\n",
    "#Phase 2, Spieler 2 kann nicht mehr ziehen\n",
    "board5 = [[0, 0],\n",
    "         [[2, 1, 2, 1, 0, 0, 0, 1],\n",
    "          [2, 2, 1, 0, 0, 1, 2, 1],\n",
    "          [0, 1, 0, 0, 0, 0, 0, 0]]]\n",
    "#Phase 3 für Spieler 1\n",
    "board6 = [[0, 0],\n",
    "         [[0, 0, 1, 2, 0, 1, 0, 0],\n",
    "          [2, 0, 0, 0, 0, 0, 0, 0],\n",
    "          [0, 2, 0, 0, 1, 2, 0, 0]]]\n",
    "#Spieler 1 hat weniger als 3 Steine\n",
    "board7 = [[0, 0],\n",
    "         [[0, 0, 1, 2, 0, 1, 0, 0],\n",
    "          [2, 0, 0, 0, 0, 0, 0, 0],\n",
    "          [0, 2, 0, 0, 0, 2, 0, 0]]]"
   ]
  },
  {
   "cell_type": "markdown",
   "metadata": {},
   "source": [
    "## Spielphasen"
   ]
  },
  {
   "cell_type": "markdown",
   "metadata": {},
   "source": [
    "Prüft in welcher Phase sich der Spieler befindet"
   ]
  },
  {
   "cell_type": "code",
   "execution_count": null,
   "metadata": {},
   "outputs": [],
   "source": [
    "def get_player_phase(pieces, player):\n",
    "    [remaining, board] = pieces\n",
    "    if remaining[player-1] >= 1: # Es wurden noch nicht alle 9 Steine gesetzt\n",
    "            return 1\n",
    "    elif count_player_pieces(pieces, player) == 3: # nur noch drei Steine auf dem Spielfeld\n",
    "        return 3\n",
    "    else: # sonst\n",
    "        return 2"
   ]
  },
  {
   "cell_type": "markdown",
   "metadata": {},
   "source": [
    "Berechnet die nächsten möglichen klickbaren Positionen, falls der Spieler in Phase 1 (Setzphase) ist"
   ]
  },
  {
   "cell_type": "code",
   "execution_count": null,
   "metadata": {},
   "outputs": [],
   "source": [
    "def possible_positions_phase_one(pieces, player):\n",
    "    return empty_positions(pieces)"
   ]
  },
  {
   "cell_type": "markdown",
   "metadata": {},
   "source": [
    "Berechnet die nächsten möglichen klickbaren Positionen, falls der Spieler in Phase 2 (Zugphase) ist"
   ]
  },
  {
   "cell_type": "code",
   "execution_count": null,
   "metadata": {},
   "outputs": [],
   "source": [
    "def possible_positions_phase_two(pieces, player, ring, cell):\n",
    "    collected_piece = (ring, cell)\n",
    "    neighboring = set(neighboring_positions(collected_piece))\n",
    "    empty = set(empty_positions(pieces))\n",
    "    possible_positions = neighboring.intersection(empty)\n",
    "    #ToDo: Was, wenn kein Stein bewegt werden kann?\n",
    "    return list(possible_positions)"
   ]
  },
  {
   "cell_type": "markdown",
   "metadata": {},
   "source": [
    "Berechnet die nächsten möglichen klickbaren Positionen, falls der Spieler in Phase 3 (Springphase) ist"
   ]
  },
  {
   "cell_type": "code",
   "execution_count": null,
   "metadata": {},
   "outputs": [],
   "source": [
    "def possible_positions_phase_three(pieces, player):\n",
    "    return empty_positions(pieces)"
   ]
  },
  {
   "cell_type": "markdown",
   "metadata": {},
   "source": [
    "Berechnet in welcher Phase sich der Spieler befindet und dementsprechen, wo er als nächstes klicken kann\n",
    "Kombiniert also die Funktionen oben"
   ]
  },
  {
   "cell_type": "code",
   "execution_count": null,
   "metadata": {},
   "outputs": [],
   "source": [
    "def next_positions(pieces, player, ring, cell):\n",
    "    phase = get_player_phase(pieces, player)\n",
    "    if phase == 1:\n",
    "        return possible_positions_phase_one(pieces, player)\n",
    "    elif phase == 2:\n",
    "        return possible_positions_phase_two(pieces, player, ring, cell)\n",
    "    else:\n",
    "        return possible_positions_phase_three(pieces, player)"
   ]
  },
  {
   "cell_type": "markdown",
   "metadata": {},
   "source": [
    "Prüft, ob das Spiel zu Ende ist und gibt ggf. den Gewinner zurück:\n",
    "* 0: das Spiel ist noch nicht zu Ende\n",
    "* 1: Spieler 1 hat gewonnen\n",
    "* 2: Spieler 2 hat gewonnen"
   ]
  },
  {
   "cell_type": "code",
   "execution_count": null,
   "metadata": {},
   "outputs": [],
   "source": [
    "def finish(pieces):\n",
    "    [remaining, board] = pieces\n",
    "    if any(p > 0 for p in remaining): # Wenn man noch Steine setzen kann, hat man nicht verloren\n",
    "        return 0\n",
    "    number_pieces = [count_player_pieces(pieces, 1), count_player_pieces(pieces, 2)]\n",
    "    for player in [1, 2]:\n",
    "        if number_pieces[player-1] < 3: # Wenn man weniger als 3 Steine hat, hat man verloren\n",
    "            return opponent(player)\n",
    "        else:\n",
    "            # Wenn man in Phase 2 ist und nicht mehr ziehen kann, hat man verloren\n",
    "            if not any(is_movable(pieces, position) for position in player_pieces(pieces, player)):\n",
    "                return opponent(player)\n",
    "    # Falls die beiden Endsituationen für keinen Spieler eingetreten sind, ist das Spiel nicht zu Ende\n",
    "    return 0"
   ]
  },
  {
   "cell_type": "markdown",
   "metadata": {},
   "source": [
    "## Mühlen"
   ]
  },
  {
   "cell_type": "markdown",
   "metadata": {},
   "source": [
    "\"handle_mills\" gibt die im letzten Zug erzeugten Mühlen für den aktuellen Spieler zurück. Hierzu darf der Spieler erst nach dem Ausführen dieser Funktion wechseln."
   ]
  },
  {
   "cell_type": "code",
   "execution_count": null,
   "metadata": {},
   "outputs": [],
   "source": [
    "def handle_mills(status):\n",
    "    pieces = status.pieces\n",
    "    player = status.current_player\n",
    "    old_mills = status.mills\n",
    "    new_mills = set()\n",
    "    match = set()\n",
    "    currentPlayerMills = set()\n",
    "\n",
    "    #find all current mills on the board\n",
    "    for x in range (0,3):\n",
    "        for i in [0,2,4,6]:\n",
    "                if(pieces[1][x][i] == pieces[1][x][i+1] == pieces[1][x][(i+2) % 8] != 0):\n",
    "                    new_mills.add((pieces[1][x][i], x ,i))\n",
    "\n",
    "    for i in [1,3,5,7]:\n",
    "        if(pieces[1][0][i] == pieces[1][1][i] == pieces[1][2][i] != 0):\n",
    "            new_mills.add((pieces[1][x][i], 0 ,i))\n",
    "\n",
    "    #set new mills\n",
    "    status.mills = new_mills   \n",
    "            \n",
    "\n",
    "    #if the current mills are the same mills as the old ones or there are now less mills on the board => no new mills\n",
    "    if(old_mills == new_mills or len(old_mills) > len(new_mills)):\n",
    "        return(0)\n",
    "\n",
    "\n",
    "    #find new mills for current player\n",
    "    if(old_mills != new_mills):\n",
    "        for mill in new_mills:\n",
    "            for old_mill in oldMills:\n",
    "                if mill == old_mill:\n",
    "                    match.add(mill) \n",
    "    new_mills = new_mills.difference(match) #new_mills are now really the new Mills\n",
    "\n",
    "    #pics mills that belong to the current player \n",
    "    for (x,y,z) in new_mills:\n",
    "        if x == player:\n",
    "            currentPlayerMills.add((x,y,z))\n",
    "\n",
    "    return len(currentPlayerMills) #returns count of new mills for the current player"
   ]
  },
  {
   "cell_type": "code",
   "execution_count": null,
   "metadata": {},
   "outputs": [],
   "source": [
    "def get_opponent_beatable_stones(current_player):\n",
    "    opponent_stones_list = []\n",
    "\n",
    "    opponent_player = opponent(current_player)\n",
    "    \n",
    "    opponent_mill_stones = set()\n",
    "\n",
    "    #find all opponent_mill_stones | wenn ein Stein in einer Mühle ist, darf er nicht entfernt werden\n",
    "    _,board = status.pieces\n",
    "\n",
    "    for ring in range (0,3):\n",
    "        for cell in [0,2,4,6]:\n",
    "                if(board[ring][cell] == board[ring][cell+1] == board[ring][(cell+2) % 8] == opponent_player):\n",
    "                    opponent_mill_stones.add((ring,cell))\n",
    "                    opponent_mill_stones.add((ring,cell+1))\n",
    "                    opponent_mill_stones.add((ring,(cell+2) % 8))\n",
    "    for cell in [1,3,5,7]:\n",
    "        if(board[0][cell] == board[1][cell] == board[2][cell] == opponent_player):\n",
    "            opponent_mill_stones.add((0,cell))\n",
    "            opponent_mill_stones.add((1,cell))\n",
    "            opponent_mill_stones.add((2,cell))\n",
    "\n",
    "    for ring in range(0,3):\n",
    "        for cell in range(0,8):\n",
    "            if board[ring][cell] == opponent_player:\n",
    "                if (ring,cell) not in opponent_mill_stones:\n",
    "                    opponent_stones_list.append((ring,cell)) \n",
    "    \n",
    "    return opponent_stones_list"
   ]
  },
  {
   "cell_type": "markdown",
   "metadata": {},
   "source": [
    "## Fehler"
   ]
  },
  {
   "cell_type": "markdown",
   "metadata": {},
   "source": [
    "Die Exception `InvalidMoveException`, wird später in der Funktion `make_move` geworfen, wenn ein ungültiger Spielzug gefordert wird. Dies dient der Fehlerbehandlung."
   ]
  },
  {
   "cell_type": "code",
   "execution_count": null,
   "metadata": {},
   "outputs": [],
   "source": [
    "class InvalidMoveException(Exception):\n",
    "    pass"
   ]
  },
  {
   "cell_type": "code",
   "execution_count": null,
   "metadata": {},
   "outputs": [],
   "source": []
  }
 ],
 "metadata": {
  "kernelspec": {
   "display_name": "Python 3",
   "language": "python",
   "name": "python3"
  },
  "language_info": {
   "codemirror_mode": {
    "name": "ipython",
    "version": 3
   },
   "file_extension": ".py",
   "mimetype": "text/x-python",
   "name": "python",
   "nbconvert_exporter": "python",
   "pygments_lexer": "ipython3",
   "version": "3.7.0-final"
  }
 },
 "nbformat": 4,
 "nbformat_minor": 4
}