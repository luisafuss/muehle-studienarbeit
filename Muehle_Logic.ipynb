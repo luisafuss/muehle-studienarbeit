{
 "cells": [
  {
   "cell_type": "code",
   "execution_count": null,
   "metadata": {},
   "outputs": [],
   "source": [
    "%run ./Muehle_Utilities.ipynb"
   ]
  },
  {
   "cell_type": "markdown",
   "metadata": {},
   "source": [
    "## Später noch entfernen: Testboards"
   ]
  },
  {
   "cell_type": "code",
   "execution_count": null,
   "metadata": {},
   "outputs": [],
   "source": [
    "#Startboard\n",
    "board1 = [[9, 9],\n",
    "         [[0, 0, 0, 0, 0, 0, 0, 0],\n",
    "          [0, 0, 0, 0, 0, 0, 0, 0],\n",
    "          [0, 0, 0, 0, 0, 0, 0, 0]]]\n",
    "#Phase 1\n",
    "board2 = [[7, 6],\n",
    "         [[0, 0, 0, 0, 2, 0, 0, 0],\n",
    "          [0, 1, 2, 0, 0, 0, 0, 0],\n",
    "          [0, 0, 0, 0, 1, 2, 0, 0]]]\n",
    "#Phase 2, keine Mühle\n",
    "board3 = [[0, 0],\n",
    "         [[1, 0, 1, 2, 0, 1, 0, 0],\n",
    "          [2, 0, 1, 0, 0, 0, 1, 0],\n",
    "          [0, 2, 0, 0, 1, 2, 0, 0]]]\n",
    "#Phase 2, Mühle\n",
    "board4 = [[0, 0],\n",
    "         [[1, 1, 1, 2, 0, 1, 0, 0],\n",
    "          [2, 0, 1, 0, 0, 0, 1, 0],\n",
    "          [0, 2, 0, 0, 1, 2, 0, 0]]]\n",
    "#Phase 2, Spieler 2 kann nicht mehr ziehen\n",
    "board5 = [[0, 0],\n",
    "         [[2, 1, 2, 1, 0, 0, 0, 1],\n",
    "          [2, 2, 1, 0, 0, 1, 2, 1],\n",
    "          [0, 1, 0, 0, 0, 0, 0, 0]]]\n",
    "#Phase 3 für Spieler 1\n",
    "board6 = [[0, 0],\n",
    "         [[0, 0, 1, 2, 0, 1, 0, 0],\n",
    "          [2, 0, 0, 0, 0, 0, 0, 0],\n",
    "          [0, 2, 0, 0, 1, 2, 0, 0]]]\n",
    "#Spieler 1 hat weniger als 3 Steine\n",
    "board7 = [[0, 0],\n",
    "         [[0, 0, 1, 2, 0, 1, 0, 0],\n",
    "          [2, 0, 0, 0, 0, 0, 0, 0],\n",
    "          [0, 2, 0, 0, 0, 2, 0, 0]]]"
   ]
  },
  {
   "cell_type": "markdown",
   "metadata": {},
   "source": [
    "## Spielphasen"
   ]
  },
  {
   "cell_type": "markdown",
   "metadata": {},
   "source": [
    "Die Funktion `get_player_phase()` prüft in welcher Phase sich der übergebenen Spieler befindet. Hat er noch setzbare Steine, ist also sein Wert in \"remaining\" größer null, befindert er sich in Phase eins. Ist dies nicht der Fall und auch auf dem Feld befinden sich nur noch drei Steine, so befindet der Spieler sich in der Springphase. Ist dem nicht so, so ist der Spieler in Phase zwei, der Zugphase."
   ]
  },
  {
   "cell_type": "code",
   "execution_count": null,
   "metadata": {},
   "outputs": [],
   "source": [
    "def get_player_phase(state, player):\n",
    "    [remaining, board] = state\n",
    "    if remaining[player-1] >= 1: # Es wurden noch nicht alle 9 Steine gesetzt\n",
    "            return 1\n",
    "    elif count_player_pieces(state, player) == 3: # nur noch drei Steine auf dem Spielfeld\n",
    "        return 3\n",
    "    else: # sonst\n",
    "        return 2"
   ]
  },
  {
   "cell_type": "markdown",
   "metadata": {},
   "source": [
    "`possible_positions_phase_two()` berechnet die nächsten möglichen klickbaren Positionen, falls der Spieler in Phase 2 (Zugphase) ist. Dies sind ausgehend vom gewählten Stein alle benachbarten leeren Felder."
   ]
  },
  {
   "cell_type": "code",
   "execution_count": null,
   "metadata": {},
   "outputs": [],
   "source": [
    "def possible_positions_phase_two(state, ring, cell):\n",
    "    collected_piece = (ring, cell)\n",
    "    neighboring = set(neighboring_positions(collected_piece))\n",
    "    empty = set(empty_positions(state))\n",
    "    possible_positions = neighboring.intersection(empty)\n",
    "    return list(possible_positions)"
   ]
  },
  {
   "cell_type": "markdown",
   "metadata": {},
   "source": [
    "`next_positions()` berechnet in welcher Phase sich der Spieler befindet und dementsprechend, wo er als nächstes klicken kann. Falls der Spieler in Phase 1 (Setzphase) oder Phase 3 (Springphase) ist, dies sind unabhängig vom aktuellen Spieler oder in Phase 3 auch unabhängig vom ausgewählten Stein alle leeren Felder. Für Phase 2 wird die zuvor definierte Funktion `possible_positions_phase_two()` aufgerufen."
   ]
  },
  {
   "cell_type": "code",
   "execution_count": null,
   "metadata": {},
   "outputs": [],
   "source": [
    "def next_positions(state, player, ring, cell):\n",
    "    phase = get_player_phase(state, player)\n",
    "    if phase == 1:\n",
    "        return empty_positions(state)\n",
    "    elif phase == 2:\n",
    "        return possible_positions_phase_two(state, ring, cell)\n",
    "    else:\n",
    "        return empty_positions(state)"
   ]
  },
  {
   "cell_type": "markdown",
   "metadata": {},
   "source": [
    "Die Funktion `finish()` prüft, ob das Spiel zu Ende ist und gibt ggf. den Gewinner zurück. Die Rückgabewerte sind \n",
    "* 0: das Spiel ist noch nicht zu Ende\n",
    "* 1: Spieler 1 hat gewonnen\n",
    "* 2: Spieler 2 hat gewonnen\n",
    "\n",
    "Solange ein Spieler noch Steine setzen kann, ist das Spiel noch nicht entschieden. Ansonsten gibt es zwei Möglichkeiten, bei denen das Spiel noch nicht zu Ende ist. Die erste Situation tritt ein, wenn ein Spieler weniger als drei Steine hat. Er hat dann verloren. Bei der zweiten Option verliert ein Spieler, wenn er sich in Phase 2 befindet, aber nicht mehr ziehen kann. Dies kommt vor, wenn alle benachbarten Felder seiner Steine vom Gegenspieler besetzt sind."
   ]
  },
  {
   "cell_type": "code",
   "execution_count": null,
   "metadata": {},
   "outputs": [],
   "source": [
    "def finish(state):\n",
    "    [remaining, board] = state\n",
    "    if any(p > 0 for p in remaining): # Wenn man noch Steine setzen kann, hat man nicht verloren\n",
    "        return 0\n",
    "    number_pieces = [count_player_pieces(state, 1), count_player_pieces(state, 2)]\n",
    "    for player in [1, 2]:\n",
    "        # Wenn man weniger als 3 Steine hat, hat man verloren\n",
    "        if number_pieces[player-1] < 3 :\n",
    "            return opponent(player)\n",
    "        else:\n",
    "            # Wenn man in Phase 2 ist und nicht mehr ziehen kann, aber in Phase 3 ist, hat man verloren\n",
    "            player_pieces = player_pieces(state, player)\n",
    "            phase = get_player_phase(state, player)\n",
    "            if not any(is_movable(state, position) for position in player_pieces) and phase == 2:\n",
    "                return opponent(player)\n",
    "    # Falls die beiden Endsituationen für keinen Spieler eingetreten sind, ist das Spiel nicht zu Ende\n",
    "    return 0"
   ]
  },
  {
   "cell_type": "markdown",
   "metadata": {},
   "source": [
    "## Spielablauf"
   ]
  },
  {
   "cell_type": "markdown",
   "metadata": {},
   "source": [
    "Die Funktion `make_move()` ist eine komplexere Funktion und steuert den Spielablauf, bzw. das Setzen, Ziehen, Springen je nach Spielphase sowie das Entfernen von Steinen, falls Mühlen gebildet wurden.\n",
    "Zunächst wird die Phase und demensprechend alle möglichen nächsten Positionen für einen Stein des aktuellen Spielers ermittelt. Müssen auf Grund von zuvor eventuell gebildeter Mühlen noch Steine des Gegners entfernt werden, passiert dies zuerst. Dazu wird überprüft, ob der angeklickte Stein ein schlagbarer Stein des Gegner ist. Ist dies der Fall, wird der Stein enfernt. Andernfalls wird eine Fehlermeldung geworfen und der Spieler kann einen anderen Stein zum Entfernen auswählen. Falls noch mehr Steine entfernt werden müssen, werden die möglichen Positionen markiert.\n",
    "\n",
    "Dürfen keine Steine entfernt werden, kommt die nächste Aktion auf die Phase des Spielers an. In Phase 1 wird überprüft, ob das angeklickte Feld noch frei ist. Wenn ja, wird dort ein Stein des Spielers positioniert. Wenn nicht, wird eine Fehlermeldung geworfen und der Spieler erhält einen neuen Versuch. In Phase 2 oder 3 wird zunächst überprüft, ob der ausgewählte Stein ein eigener Stein ist. Wenn ja, werden alle möglichen Zielfelder markiert und die Variable `move_or_jump` auf True gesetzt. Beim nächsten Aufruf der Funktion wird geprüft, ob das jetzt angeklickte Feld tatsächlich ein Zielfeld des zuvor ausgewählten Steins ist. Ist dem so, wird der Stein dorthin verschoben, in dem das Zielfeld als eigenes und das Alte als leeres Feld markiert wird.\n",
    "\n",
    "Schließlich wird überprüft, ob neue Mühlen entstanden sind und somit Steine entfernt werden müssen. Ist dies der Fall, tritt die anfangs beschriebene Handlung ein. Ist das nicht der Fall und muss auch keine Zieh- oder Sprunghandlung abgeschlossen werden, wechselt der Spieler.\n",
    "\n",
    "Am Ende wird noch überprüft, ob das Spiel eventuell schon beendet ist. Wenn ja, wird eine Hinweismeldung ausgegeben und die Variable `game_over` auf True gesetzt."
   ]
  },
  {
   "cell_type": "code",
   "execution_count": null,
   "metadata": {},
   "outputs": [],
   "source": [
    "def make_move(ring, cell):\n",
    "    global game\n",
    "    phase = get_player_phase(game.state, game.current_player)\n",
    "    possible_positions = next_positions(game.state, game.current_player, ring, cell)\n",
    "    \n",
    "    if game.number_stones_to_remove == 0:\n",
    "        if phase == 1:\n",
    "            if (ring, cell) in possible_positions: # Das geklickte Feld muss frei sein\n",
    "                game.state[1][ring][cell] = game.current_player # Das geklickte Feld wird zum eigenen Feld\n",
    "                game.state[0][game.current_player-1] = game.state[0][game.current_player-1]-1 # Die eigenen Steine in remaining um 1 reduzieren\n",
    "                update_board(game)\n",
    "            else:\n",
    "                raise InvalidMoveException()\n",
    "                print('Du kannst Deinen Stein nur auf ein leeres Feld setzen. Bitte probiere es erneut!')\n",
    "        elif phase == 2 or phase == 3:\n",
    "            if game.move_or_jump == False: # -> Stein zum ziehen auswählen\n",
    "                if game.selected_dot_new in player_pieces(game.state, game.current_player): # prüfen,ob der ausgewählte Stein dem Spieler gehört\n",
    "                    highlight_positions(possible_positions) # erlaubte Zielfelder anzeigen\n",
    "                    game.move_or_jump = True\n",
    "                else:\n",
    "                    raise InvalidMoveException()\n",
    "                    print('Das ist nicht Dein Stein. Bitte probiere es erneut!')\n",
    "\n",
    "            elif game.move_or_jump == True: # -> Zielfeld für Stein wählen\n",
    "                old_ring, old_cell = game.selected_dot_old\n",
    "                new_ring, new_cell = game.selected_dot_new\n",
    "                possible_positions = next_positions(game.state, game.current_player, old_ring, old_cell) # ausgehend vom ausgewählten Stein, erlaubte Zielfelder berechnen\n",
    "                if (new_ring, new_cell) in possible_positions: # prüfen ob das ausgewählte Feld ein erlaubtes Zielfeld ist\n",
    "                    game.state[1][new_ring][new_cell] = game.current_player # das Zielfeld als das eigene markieren\n",
    "                    game.state[1][old_ring][old_cell] = 0 # das ursprüngliche Feld ist jetzt leer\n",
    "                    game.move_or_jump = False\n",
    "                    update_board(game)\n",
    "                else:\n",
    "                    raise InvalidMoveException()\n",
    "                    print('Du kannst Deinen Stein nicht auf dieses Feld setzen. Bitte probiere es erneut!')\n",
    "        else:\n",
    "            raise InvalidMoveException()\n",
    "            print('Du befindest Dich anscheinend in keiner gültigen Spielphase. Irgendwas ist schief gegangen... Sorry!')\n",
    "        \n",
    "        game.number_stones_to_remove = handle_mills(game)\n",
    "        if game.number_stones_to_remove > 0:\n",
    "            highlight_positions(get_opponent_beatable_stones(game.current_player), colour = COLOUR_OPPONENT)\n",
    "    else:\n",
    "        selected_ring, selected_cell = game.selected_dot_new\n",
    "        beatable_stones = get_opponent_beatable_stones(game.current_player)\n",
    "        if (selected_ring, selected_cell) in beatable_stones:\n",
    "            game.state[1][selected_ring][selected_cell] = 0\n",
    "            game.number_stones_to_remove = game.number_stones_to_remove - 1\n",
    "            update_board(game)\n",
    "        else:\n",
    "            raise InvalidMoveException()\n",
    "            print('Du kannst diesen Stein nicht entfernen. Bitte probiere es erneut!')\n",
    "        if game.number_stones_to_remove > 0:\n",
    "            highlight_positions(get_opponent_beatable_stones(game.current_player), colour = COLOUR_OPPONENT)\n",
    "    \n",
    "    if game.move_or_jump == False and game.number_stones_to_remove == 0:\n",
    "        game.current_player = opponent(game.current_player) # Spielerwechsel, wenn nicht noch eine Aktion ausgeführt werden muss\n",
    "        \n",
    "    if finish(game.state) != 0: # Prüfen, ob das Spiel zu Ende ist\n",
    "        game.game_over = True"
   ]
  },
  {
   "cell_type": "markdown",
   "metadata": {},
   "source": [
    "## Mühlen"
   ]
  },
  {
   "cell_type": "markdown",
   "metadata": {},
   "source": [
    "Die Funktion `handle_mills()` gibt die Anzahl der im letzten Zug erzeugten Mühlen für den aktuellen Spieler zurück. Hierzu darf der Spieler erst nach dem Ausführen dieser Funktion wechseln.\n",
    "\n",
    "Im ersten Abschnitt \"find all current mills on the board\" werden zunächst alle Mühlen identifiziert, die auf dem Spielfeld zu finden sind. Hierzu werden in der ersten Schleife alle Mühlen ermittelt, die sich auf den Ringen befinden. Die zweite Schleife erkennt alle Mühlen, die sich vertikal über alle Ringe erstrecken. Mühlen werden dabei als Tupel der Form ***(Spieler, Ring, Zelle)*** gespeichert. Die Zelle ist in diesem Fall die Zelle einer Mühle mit dem niedrigsten Index. Ein Unterschied besteht bei diesem Format bei den Mühlen, die vertikal verlaufen. Für diese wird der äußerste Ring mit dem Index 0 eingetragen.\n",
    "\n",
    "Da die Mühlen als Menge gespeichert werden ist es einfach möglich zu bestimmen, ob neue Mühlen entstanden sind. Wurden neue Mühlen erkannt werden durch die Differenz der bestehenden Mühlen zu den existierenden Mühlen die Anzahl der neuen Mühlen bestimmt. Diese Anzahl wird zurückgegeben und die Menge der Mühlen in der Game-Klassen-Instanz aktualisiert.\n"
   ]
  },
  {
   "cell_type": "code",
   "execution_count": null,
   "metadata": {},
   "outputs": [],
   "source": [
    "def handle_mills(game):\n",
    "    state = game.state\n",
    "    player = game.current_player\n",
    "    old_mills = game.mills\n",
    "    new_mills = set()\n",
    "    match = set()\n",
    "    currentPlayerMills = set()\n",
    "\n",
    "    #find all current mills on the board\n",
    "    for ring in range (0,3):\n",
    "        for cell in [0,2,4,6]:\n",
    "                if(state[1][ring][cell] == state[1][ring][cell+1] == state[1][ring][(cell+2) % 8] != 0):\n",
    "                    new_mills.add((state[1][ring][cell], ring ,cell))\n",
    "\n",
    "    for cell in [1,3,5,7]:\n",
    "        if(state[1][0][cell] == state[1][1][cell] == state[1][2][cell] != 0):\n",
    "            new_mills.add((state[1][0][cell], 0 ,cell))\n",
    "\n",
    "    #set new mills\n",
    "    game.mills = new_mills   \n",
    "            \n",
    "\n",
    "    #if the current mills are the same mills as the old ones or there are now less mills on the board => no new mills\n",
    "    if(old_mills == new_mills or len(old_mills) > len(new_mills)):\n",
    "        return(0)\n",
    "\n",
    "\n",
    "    #find new mills for current player\n",
    "    # if(old_mills != new_mills):\n",
    "    #     for mill in new_mills:\n",
    "    #         for old_mill in old_mills:\n",
    "    #             if mill == old_mill:\n",
    "    #                 match.add(mill) \n",
    "    # new_mills = new_mills.difference(match) #new_mills are now really the new Mills\n",
    "\n",
    "    new_mills = new_mills.difference(old_mills) #new_mills are now really the new Mills\n",
    "\n",
    "    #pics mills that belong to the current player \n",
    "    for (mill_owner, ring, cell) in new_mills:\n",
    "        if mill_owner == player:\n",
    "            currentPlayerMills.add((mill_owner, ring, cell))\n",
    "\n",
    "    return len(currentPlayerMills) #returns count of new mills for the current player"
   ]
  },
  {
   "cell_type": "markdown",
   "metadata": {},
   "source": [
    "`get_opponent_beatable_stones()` gibt eine Liste mit entfernbaren Steinen des Gegners zurück. Dies ist notwendig, wenn auf Grund des Bildens einer Mühle Steine des Gegners entfernt werden dürfen. Laut den Regeln dürfen keine Steine aus Mühlen entfernt werden, es sei denn, alle Steine des Gegners sind in Mühlen. \n",
    "Dazu werden alle Mühlsteine des Gegners in einer Menge gespeichert. Anschließend wird geprüft, welche Steine nicht in einer Mühle sind und diese in einer Liste zurückgegeben. Ist die Liste jedoch leer, werden alle Steine des Gegners zurückgegeben."
   ]
  },
  {
   "cell_type": "code",
   "execution_count": null,
   "metadata": {},
   "outputs": [],
   "source": [
    "def get_opponent_beatable_stones(current_player):\n",
    "    opponent_player = opponent(current_player)\n",
    "    opponent_mill_stones = set()\n",
    "\n",
    "    #find all opponent_mill_stones | wenn ein Stein in einer Mühle ist, darf er nicht entfernt werden\n",
    "    _,board = game.state\n",
    "\n",
    "    for ring in range (0,3):\n",
    "        for cell in [0,2,4,6]:\n",
    "                if(board[ring][cell] == board[ring][cell+1] == board[ring][(cell+2) % 8] == opponent_player):\n",
    "                    opponent_mill_stones.add((ring,cell))\n",
    "                    opponent_mill_stones.add((ring,cell+1))\n",
    "                    opponent_mill_stones.add((ring,(cell+2) % 8))\n",
    "    for cell in [1,3,5,7]:\n",
    "        if(board[0][cell] == board[1][cell] == board[2][cell] == opponent_player):\n",
    "            opponent_mill_stones.add((0,cell))\n",
    "            opponent_mill_stones.add((1,cell))\n",
    "            opponent_mill_stones.add((2,cell))\n",
    "    \n",
    "    opponent_stones = player_pieces(game.state, opponent_player)\n",
    "    beatable_stones = [piece for piece in opponent_stones if piece not in opponent_mill_stones ]\n",
    "    \n",
    "    if len(beatable_stones) == 0: #falls kein anderer Stein geschlagen werden kann, dürfen auch Steine in Mühlen geschlagen werden\n",
    "        return list(opponent_stones)\n",
    "    return beatable_stones"
   ]
  },
  {
   "cell_type": "markdown",
   "metadata": {},
   "source": [
    "## Fehler"
   ]
  },
  {
   "cell_type": "markdown",
   "metadata": {},
   "source": [
    "Die Exception `InvalidMoveException`, wird später in der Funktion `make_move` geworfen, wenn ein ungültiger Spielzug gefordert wird. Dies dient der Fehlerbehandlung."
   ]
  },
  {
   "cell_type": "code",
   "execution_count": null,
   "metadata": {},
   "outputs": [],
   "source": [
    "class InvalidMoveException(Exception):\n",
    "    pass"
   ]
  },
  {
   "cell_type": "code",
   "execution_count": null,
   "metadata": {},
   "outputs": [],
   "source": []
  }
 ],
 "metadata": {
  "kernelspec": {
   "display_name": "Python 3",
   "language": "python",
   "name": "python3"
  },
  "language_info": {
   "codemirror_mode": {
    "name": "ipython",
    "version": 3
   },
   "file_extension": ".py",
   "mimetype": "text/x-python",
   "name": "python",
   "nbconvert_exporter": "python",
   "pygments_lexer": "ipython3",
   "version": "3.7.9"
  }
 },
 "nbformat": 4,
 "nbformat_minor": 4
}
