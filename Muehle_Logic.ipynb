{
 "cells": [
  {
   "cell_type": "code",
   "execution_count": null,
   "metadata": {},
   "outputs": [],
   "source": [
    "%%HTML\n",
    "<style>\n",
    ".container { width:100% }\n",
    "</style>"
   ]
  },
  {
   "cell_type": "code",
   "execution_count": null,
   "metadata": {},
   "outputs": [],
   "source": [
    "%run ./Muehle_Utilities.ipynb\n",
    "import copy"
   ]
  },
  {
   "cell_type": "markdown",
   "metadata": {},
   "source": [
    "## Spielphasen"
   ]
  },
  {
   "cell_type": "markdown",
   "metadata": {},
   "source": [
    "Die Funktion `get_player_phase()` prüft in welcher Phase sich der übergebenen Spieler befindet. Hat er noch setzbare Steine, ist also sein Wert in `remaining` größer null, befindert er sich in Phase eins. Ist dies nicht der Fall und auch auf dem Feld befinden sich nur noch drei Steine, so befindet der Spieler sich in der Springphase. Ist dem nicht so, so ist der Spieler in Phase zwei, der Zugphase.\n",
    "Die Eingabeparameter der Funktion sind ein Spielstatus, sowie ein Spieler in der Form 1 für Spieler eins und 2 für Spieler zwei. Zurückgegeben wird die Spielphase des übergebenen Spielers in dem übergebenen Spiel."
   ]
  },
  {
   "cell_type": "code",
   "execution_count": null,
   "metadata": {},
   "outputs": [],
   "source": [
    "def get_player_phase(state, player):\n",
    "    [remaining, board] = state\n",
    "    if remaining[player - 1] >= 1: \n",
    "        return 1\n",
    "    elif count_player_pieces(board, player) == 3:\n",
    "        return 3\n",
    "    else:\n",
    "        return 2"
   ]
  },
  {
   "cell_type": "markdown",
   "metadata": {},
   "source": [
    "`next_positions()` berechnet in welcher Phase sich der Spieler befindet und dementsprechend, wo er als nächstes klicken kann. Falls der Spieler in Phase 1 (Setzphase) oder Phase 3 (Springphase) ist, sind dies unabhängig vom aktuellen Spieler oder in Phase 3 auch unabhängig vom ausgewählten Stein alle leeren Felder. Für Phase 2 wird die zuvor definierte Funktion `empty_neighbors()` aufgerufen.\n",
    "Übergeben wird der Funktion `next_positions()` hierfür ein Spielstatus, ein Spieler, und die Position des ausgewählten Steines (ring und cell)."
   ]
  },
  {
   "cell_type": "code",
   "execution_count": null,
   "metadata": {},
   "outputs": [],
   "source": [
    "def next_positions(state, player, ring, cell):\n",
    "    _, board = state\n",
    "    phase = get_player_phase(state, player)\n",
    "    return empty_positions(board) if (phase == 1 or phase == 3) else empty_neighbors(board, ring, cell)"
   ]
  },
  {
   "cell_type": "markdown",
   "metadata": {},
   "source": [
    "## next states\n",
    "\n",
    "Im folgenden werden Funktionen implementiert, die je nach Spielphase alle möglichen nächsten Zustände für einen Spieler bei  gegebenem Zustand ausrechnet. Es existieren dementsprechend die Methoden\n",
    "- next_states_phase_one()\n",
    "- next_states_phase_two()\n",
    "- next_states_phase_three()\n",
    "\n",
    "Alle drei nehmen einen Zustand und einen Spieler und geben eine List möglicher nächster Zustände zurück. Der Ablauf aller drei Methoden ist im allgemeinen folgendermaßen:\n",
    "1. Aktuelle Mühlen suchen\n",
    "2. Steine positionieren/verschieben und enstehende Bretter in einer Liste speichern\n",
    "3. Für jedes Board überprüfen, ob neue Mühlen dazu gekommen sind und ggf. Steine des Gegners entfernen\n",
    "4. next_states zusammenbauen und zurückgeben\n",
    "\n",
    "Für **Schritt 1** wird die Funktion `find_mills()` genutzt. Die Phasen unterscheiden sich im wesentlichen in **Schritt 2**, weshalb dieser für die einzelnen Phasen gleich genauer betrachtet werden soll. In **Schritt 3** wird über die zuvor entwickelten Zustände iteriert und für jedes Brett zunächst erneut `find_mills()` und damit zusammen mit den zu Beginn ermittelten Mühlen `count_new_mills()` aufgerufen. Letztere Funktion liefert eine natürliche Zahl, die angibt, wie viele neue Mühlen durch den Wechsel in den Zustand entstehen. Falls das Ergebnis 0 ist, geschieht nichts. Falls die Zahl größer 0 ist, wird pro entstandener Mühle einmal die Funktion `beat_pieces()` aufgerufen, die jeweils einen schlagbaren Stein des Gegners entfernt. In diesem Fall wird das berechnete Board also nochmal manipuliert. In **Schritt 4** wird der Zustand, der neben dem Board auch aus der Variable `remaining` besteht, zusammengesetzt."
   ]
  },
  {
   "cell_type": "markdown",
   "metadata": {},
   "source": [
    "### Phase 1\n",
    "In Phase 1 wird ein Stein auf ein leeres Feld gesetzt. Die nächsten Zustände entstehen also, in dem über alle leeren Felder iteriert und dort jeweils ein Stein positioniert wird. Dies geschieht als Schritt 2 in `next_states_phase_one()`. Die Besonderheit in der ersten Phase ist, dass in Schritt 4 auch die Variable `remaining` angepasst werden muss, in dem dem Spieler ein Stein abgezogen wird."
   ]
  },
  {
   "cell_type": "code",
   "execution_count": null,
   "metadata": {},
   "outputs": [],
   "source": [
    "def next_states_phase_one(state, player):\n",
    "    [remaining, board] = state\n",
    "    boards = []\n",
    "    # Schritt 1\n",
    "    mills = find_mills(board, player)\n",
    "    \n",
    "    # Schritt 2\n",
    "    empty = empty_positions(board)\n",
    "    boards_after_placing = []\n",
    "    for ring, cell in empty:\n",
    "        new_board = copy.deepcopy(board)\n",
    "        new_board[ring][cell] = player        \n",
    "        boards_after_placing.append(new_board)\n",
    "    \n",
    "    # Schritt 3\n",
    "    for new_board in boards_after_placing:\n",
    "        number_new_mills = count_new_mills(mills, find_mills(new_board, player))\n",
    "        if number_new_mills > 0:\n",
    "            boards.extend(beat_pieces(new_board, number_new_mills, player))\n",
    "        else:\n",
    "            boards.append(new_board)\n",
    "    \n",
    "    # Schritt 4\n",
    "    remaining = [remaining[0] - 1, remaining[1]] if player == 1 else [remaining[0], remaining[1] - 1]\n",
    "    \n",
    "    return [[remaining, new_board] for new_board in boards]"
   ]
  },
  {
   "cell_type": "markdown",
   "metadata": {},
   "source": [
    "### Phase 2\n",
    "Die nächsten Zustände entstehen in der Zugphase durch das Verschieben eines eigenen Steins auf ein benachbartes freies Feld. Im Schritt 2 von `next_states_phase_two()` werden also zunächst alle Spielsteine eines Spielers ermittelt, um anschließend über die iterieren zu können. Für jeden dieser Steine werden dann mit Hilfe von `empty_neighbors()` alle leeren benachbarten Felder ausgerechnet. Pro Stein und freie Nachbar-Position entsteht ein möglicher neuer Zustand indem der Wert der Startposition auf 0 und der Wert der freien Nachbar-Position, also der Zielposition, auf den Wert des Spielers gesetzt wird."
   ]
  },
  {
   "cell_type": "code",
   "execution_count": null,
   "metadata": {},
   "outputs": [],
   "source": [
    "def next_states_phase_two(state, player):\n",
    "    [remaining, board] = state\n",
    "    boards = []\n",
    "    # Schritt 1\n",
    "    mills = find_mills(board, player)\n",
    "    \n",
    "    # Schritt 2\n",
    "    pieces = player_pieces(board, player)\n",
    "    boards_after_placing = []\n",
    "    for ring_start, cell_start in pieces:\n",
    "        positions = empty_neighbors(board, ring_start, cell_start)\n",
    "        for ring_goal, cell_goal in positions:\n",
    "            new_board = copy.deepcopy(board)\n",
    "            new_board[ring_start][cell_start] = 0    \n",
    "            new_board[ring_goal][cell_goal] = player        \n",
    "            boards_after_placing.append(new_board)\n",
    "    \n",
    "    # Schritt 3\n",
    "    for new_board in boards_after_placing:\n",
    "        number_new_mills = count_new_mills(mills, find_mills(new_board, player))\n",
    "        if number_new_mills > 0:\n",
    "            boards.extend(beat_pieces(new_board, number_new_mills, player))\n",
    "        else:\n",
    "            boards.append(new_board)\n",
    "    \n",
    "    # Schritt 4\n",
    "    return [[remaining, new_board] for new_board in boards]"
   ]
  },
  {
   "cell_type": "markdown",
   "metadata": {},
   "source": [
    "### Phase 3\n",
    "In Phase 3 kann ein beliebiger eigener Stein auf ein beliebiges freies Feld versetzt werden. Dazu wird in Schritt 2 von `next_states_phase_three()` zunächst nach eigenen Steinen (Startfelder) und leeren Positionen (Zielfelder) gesucht. Anschließende entstehen mögliche Spielbretter aus allen möglichen Kombinationen von Start- und Zielfeldern. Das Startfeld erhält den Wert 0, das Zielfeld den Wert des Spielers."
   ]
  },
  {
   "cell_type": "code",
   "execution_count": null,
   "metadata": {},
   "outputs": [],
   "source": [
    "def next_states_phase_three(state, player):\n",
    "    [remaining, board] = state\n",
    "    boards = []\n",
    "    # Schritt 1\n",
    "    mills = find_mills(board, player)\n",
    "    \n",
    "    # Schritt 2\n",
    "    pieces = player_pieces(board, player)\n",
    "    empty = empty_positions(board)\n",
    "    boards_after_placing = []\n",
    "    for ring_start, cell_start in pieces:\n",
    "        for ring_goal, cell_goal in empty:\n",
    "            new_board = copy.deepcopy(board)\n",
    "            new_board[ring_start][cell_start] = 0    \n",
    "            new_board[ring_goal][cell_goal] = player        \n",
    "            boards_after_placing.append(new_board)\n",
    "    \n",
    "    # Schritt 3\n",
    "    for new_board in boards_after_placing:\n",
    "        number_new_mills = count_new_mills(mills, find_mills(new_board, player))\n",
    "        if number_new_mills > 0:\n",
    "            boards.extend(beat_pieces(new_board, number_new_mills, player))\n",
    "        else:\n",
    "            boards.append(new_board)\n",
    "    \n",
    "    # Schritt 4\n",
    "    return [[remaining, new_board] for new_board in boards]"
   ]
  },
  {
   "cell_type": "markdown",
   "metadata": {},
   "source": [
    "`next_states()` nimmt einen Zustand und einen Spieler, berechnet die aktuelle Spielphase und ruft die entsprechende Funktion zur Berechnung der nächsten Zustände, wie sie zuvor definiert wurden, auf."
   ]
  },
  {
   "cell_type": "code",
   "execution_count": null,
   "metadata": {},
   "outputs": [],
   "source": [
    "def next_states(state, player):\n",
    "    phase =  get_player_phase(state, player)\n",
    "    if phase == 1:\n",
    "        return next_states_phase_one(state, player)\n",
    "    elif phase == 2:\n",
    "        return next_states_phase_two(state, player)\n",
    "    else:\n",
    "        return next_states_phase_three(state, player)"
   ]
  },
  {
   "cell_type": "markdown",
   "metadata": {},
   "source": [
    "## Spielende"
   ]
  },
  {
   "cell_type": "markdown",
   "metadata": {},
   "source": [
    "Die Funktion `finished()` prüft, ob das Spiel für den übergebenen Zustand zu Ende ist. \n",
    "\n",
    "Solange ein Spieler noch Steine setzen kann, ist das Spiel noch nicht entschieden. Ansonsten gibt es zwei Möglichkeiten, bei denen das Spiel noch nicht zu Ende ist. Die erste Situation tritt ein, wenn ein Spieler weniger als drei Steine hat. Er hat dann verloren. Bei der zweiten Option verliert ein Spieler, wenn er sich in Phase 2 befindet, aber nicht mehr ziehen kann. Dies kommt vor, wenn alle benachbarten Felder seiner Steine vom Gegenspieler besetzt sind. Prüfen lässt sich dies auch, in dem man berechnet, ob keine validen Folgezustände existieren. Tritt keine der beiden Situationen ein, ist das Spiel noch nicht beendet."
   ]
  },
  {
   "cell_type": "code",
   "execution_count": null,
   "metadata": {},
   "outputs": [],
   "source": [
    "def finished(state):\n",
    "    [remaining, board] = state\n",
    "    if any(p > 0 for p in remaining): return False\n",
    "    \n",
    "    for player in [1, 2]:\n",
    "        if count_player_pieces(board, player) < 3: return True\n",
    "        if len(next_states(state, player)) == 0:   return True\n",
    "    return False"
   ]
  },
  {
   "cell_type": "markdown",
   "metadata": {},
   "source": [
    "Die Funktion `utility()` nimmt einen Zustand für den das Spiel beendet ist, also `finished(state)==True` und einen Spieler und gibt einen numerischen Wert zurück, der folgendermaßen zu interpretieren ist:\n",
    "- -1 = Der Spieler hat verloren\n",
    "- 0 =  Unentschieden\n",
    "- 1 =  Der Spieler hat gewonnen\n",
    "\n",
    "`utility` hat zunächst den Wert 0. Falls der Spieler weniger als drei Steine hat, wird `utility` um 1 reduziert, falls der Gegner (auch) weniger als drei Steine hat wird 1 zu `utility` hinzu addiert. Danach befindet man sich in einer der folgenden Situationen:\n",
    "\n",
    "- utility = -1, der Spieler hat weniger als 3 Steine $\\rightarrow$ Ergebnis zurückgeben\n",
    "- utility = 0, beide Spieler haben weniger als 3 Steine $\\rightarrow$ Prüfen, ob Spieler noch ziehen können\n",
    "- utility = 1, der Gegner hat weniger als 3 Steine $\\rightarrow$ Ergebnis zurückgeben\n",
    "\n",
    "Als nächstes wird für beide Spieler überprüft, ob für sie eine möglicher Folgezustand existiert. Wenn nicht, wird `utility` um 1 reduziert, bzw. falls es sich um den Gegner handelt um 1 erhöht. Jetzt sind folgende Situationen möglich:\n",
    "\n",
    "- utility = -1, der Spieler kann nicht mehr ziehen $\\rightarrow$ Spieler hat verloren\n",
    "- utility = 0, beide Spieler können nicht mehr ziehen $\\rightarrow$ Unentschieden\n",
    "- utility = 1, der Gegner kann nicht mehr ziehen $\\rightarrow$ Gegner hat verloren"
   ]
  },
  {
   "cell_type": "code",
   "execution_count": null,
   "metadata": {},
   "outputs": [],
   "source": [
    "def utility(terminal_state, player):\n",
    "    utility = 0\n",
    "    if count_player_pieces(terminal_state[1], player)           < 3: utility -= 1\n",
    "    if count_player_pieces(terminal_state[1], opponent(player)) < 3: utility +=  1\n",
    "        \n",
    "    if utility != 0: return utility\n",
    "    \n",
    "    if len(next_states(terminal_state, player))             == 0: utility -= 1\n",
    "    if len(next_states(terminal_state, opponent(player)))   == 0: utility += 1\n",
    "    return utility"
   ]
  },
  {
   "cell_type": "code",
   "execution_count": null,
   "metadata": {},
   "outputs": [],
   "source": []
  }
 ],
 "metadata": {
  "kernelspec": {
   "display_name": "Python 3",
   "language": "python",
   "name": "python3"
  },
  "language_info": {
   "codemirror_mode": {
    "name": "ipython",
    "version": 3
   },
   "file_extension": ".py",
   "mimetype": "text/x-python",
   "name": "python",
   "nbconvert_exporter": "python",
   "pygments_lexer": "ipython3",
   "version": "3.7.9"
  }
 },
 "nbformat": 4,
 "nbformat_minor": 4
}
