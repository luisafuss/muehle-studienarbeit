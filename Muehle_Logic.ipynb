{
 "cells": [
  {
   "cell_type": "markdown",
   "metadata": {},
   "source": [
    "## Testboards"
   ]
  },
  {
   "cell_type": "code",
   "execution_count": 1,
   "metadata": {},
   "outputs": [],
   "source": [
    "#Startboard\n",
    "board1 = [[9, 9],\n",
    "         [[0, 0, 0, 0, 0, 0, 0, 0],\n",
    "          [0, 0, 0, 0, 0, 0, 0, 0],\n",
    "          [0, 0, 0, 0, 0, 0, 0, 0]]]\n",
    "#Phase 1\n",
    "board2 = [[7, 6],\n",
    "         [[0, 0, 0, 0, 2, 0, 0, 0],\n",
    "          [0, 1, 2, 0, 0, 0, 0, 0],\n",
    "          [0, 0, 0, 0, 1, 2, 0, 0]]]\n",
    "#Phase 2, keine Mühle\n",
    "board3 = [[0, 0],\n",
    "         [[1, 0, 1, 2, 0, 1, 0, 0],\n",
    "          [2, 0, 1, 0, 0, 0, 1, 0],\n",
    "          [0, 2, 0, 0, 1, 2, 0, 0]]]\n",
    "#Phase 2, Mühle\n",
    "board4 = [[0, 0],\n",
    "         [[1, 1, 1, 2, 0, 1, 0, 0],\n",
    "          [2, 0, 1, 0, 0, 0, 1, 0],\n",
    "          [0, 2, 0, 0, 1, 2, 0, 0]]]\n",
    "#Phase 3 für Spieler 1\n",
    "board5 = [[0, 0],\n",
    "         [[0, 0, 1, 2, 0, 1, 0, 0],\n",
    "          [2, 0, 0, 0, 0, 0, 0, 0],\n",
    "          [0, 2, 0, 0, 1, 2, 0, 0]]]"
   ]
  },
  {
   "cell_type": "markdown",
   "metadata": {},
   "source": [
    "## Spielphasen"
   ]
  },
  {
   "cell_type": "markdown",
   "metadata": {},
   "source": [
    "Prüft in welcher Phase sich der Spieler befindet"
   ]
  },
  {
   "cell_type": "code",
   "execution_count": 2,
   "metadata": {},
   "outputs": [],
   "source": [
    "def get_player_phase(pieces, player):\n",
    "    [remaining, board] = pieces\n",
    "    if remaining[player-1] >= 1: # Es wurden noch nicht alle 9 Steine gesetzt\n",
    "            return 1\n",
    "    elif count_player_pieces(pieces, player) == 3: # nur noch drei Steine auf dem Spielfeld\n",
    "        return 3\n",
    "    else: # sonst\n",
    "        return 2"
   ]
  },
  {
   "cell_type": "markdown",
   "metadata": {},
   "source": [
    "Berechnet die nächsten möglichen klickbaren Positionen, falls der Spieler in Phase 1 (Setzphase) ist"
   ]
  },
  {
   "cell_type": "code",
   "execution_count": 3,
   "metadata": {},
   "outputs": [],
   "source": [
    "def possible_positions_phase_one(pieces, player):\n",
    "    return empty_positions(pieces)"
   ]
  },
  {
   "cell_type": "markdown",
   "metadata": {},
   "source": [
    "Berechnet die nächsten möglichen klickbaren Positionen, falls der Spieler in Phase 2 (Zugphase) ist"
   ]
  },
  {
   "cell_type": "code",
   "execution_count": 4,
   "metadata": {},
   "outputs": [],
   "source": [
    "def possible_positions_phase_two(pieces, player):\n",
    "    collected_piece = (1,2) #ToDo: Implementieren\n",
    "    neighboring = set(neighboring_positions(collected_piece))\n",
    "    empty = set(empty_positions(pieces))\n",
    "    possible_positions = neighboring.intersection(empty)\n",
    "    #ToDo: Was, wenn kein Stein bewegt werden kann?\n",
    "    return [possible_positions]"
   ]
  },
  {
   "cell_type": "markdown",
   "metadata": {},
   "source": [
    "Berechnet die nächsten möglichen klickbaren Positionen, falls der Spieler in Phase 3 (Springphase) ist"
   ]
  },
  {
   "cell_type": "code",
   "execution_count": 5,
   "metadata": {},
   "outputs": [],
   "source": [
    "def possible_positions_phase_three(pieces, player):\n",
    "    return empty_positions(pieces)"
   ]
  },
  {
   "cell_type": "markdown",
   "metadata": {},
   "source": [
    "Berechnet in welcher Phase sich der Spieler befindet und dementsprechen, wo er als nächstes klicken kann\n",
    "Kombiniert also die Funktionen oben"
   ]
  },
  {
   "cell_type": "code",
   "execution_count": 1,
   "metadata": {},
   "outputs": [],
   "source": [
    "def next_positions(pieces, player):\n",
    "    phase = get_player_phase(pieces, player)\n",
    "    if phase == 1:\n",
    "        return possible_positions_phase_one(pieces, player)\n",
    "    elif phase == 2:\n",
    "        return possible_positions_phase_two(pieces, player)\n",
    "    else:\n",
    "        return possible_positions_phase_three(pieces, player)"
   ]
  },
  {
   "cell_type": "markdown",
   "metadata": {},
   "source": [
    "## Mühlen"
   ]
  },
  {
   "cell_type": "markdown",
   "metadata": {},
   "source": [
    "Vor dem Zug werden die Mühlen gezählt, nach dem Zug werden die Mühlen gezählt. Falls Nachher > Vorher, wurde eine Mühle gebildet. ToDo: Funktioniert so nicht -> Zwickmühle"
   ]
  },
  {
   "cell_type": "code",
   "execution_count": 7,
   "metadata": {},
   "outputs": [],
   "source": [
    "def count_muehlen(pieces, player):\n",
    "    if count_player_pieces(pieces, player) < 3:\n",
    "        return 0\n",
    "    #ToDo: Implementieren\n",
    "    return"
   ]
  },
  {
   "cell_type": "markdown",
   "metadata": {},
   "source": [
    "## Hilfsfunktionen"
   ]
  },
  {
   "cell_type": "code",
   "execution_count": 8,
   "metadata": {},
   "outputs": [],
   "source": [
    "def count_player_pieces(pieces, player):\n",
    "    [_, board] = pieces\n",
    "    return [position for ring in board for position in ring].count(player)"
   ]
  },
  {
   "cell_type": "code",
   "execution_count": 9,
   "metadata": {},
   "outputs": [],
   "source": [
    "def empty_positions(pieces):\n",
    "    [_, board] = pieces\n",
    "    return [(ring, cell) for ring in range(3)\n",
    "                        for cell in range(8)\n",
    "                        if  board[ring][cell] == 0 \n",
    "           ]"
   ]
  },
  {
   "cell_type": "code",
   "execution_count": 11,
   "metadata": {},
   "outputs": [],
   "source": [
    "# position = (ring, cell)\n",
    "def neighboring_positions(position):\n",
    "    ring, cell = position\n",
    "    if cell == 0:\n",
    "        left_neighbor = (ring, 7)\n",
    "    else:\n",
    "        left_neighbor = (ring, cell - 1)\n",
    "    if cell == 7:\n",
    "        right_neighbor = (ring, 0)\n",
    "    else:\n",
    "        right_neighbor = (ring, cell + 1)\n",
    "        \n",
    "    positions = [left_neighbor, right_neighbor]\n",
    "        \n",
    "    if cell in (1, 3, 5, 7):\n",
    "        if ring in (0, 2) :\n",
    "            positions.append((1, cell))\n",
    "        else:\n",
    "            positions.append((ring - 1, cell))\n",
    "            positions.append((ring + 1, cell))\n",
    "    return positions"
   ]
  }
 ],
 "metadata": {
  "kernelspec": {
   "display_name": "Python 3",
   "language": "python",
   "name": "python3"
  },
  "language_info": {
   "codemirror_mode": {
    "name": "ipython",
    "version": 3
   },
   "file_extension": ".py",
   "mimetype": "text/x-python",
   "name": "python",
   "nbconvert_exporter": "python",
   "pygments_lexer": "ipython3",
   "version": "3.8.3"
  }
 },
 "nbformat": 4,
 "nbformat_minor": 4
}
