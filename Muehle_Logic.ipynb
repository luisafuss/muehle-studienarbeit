{
 "cells": [
  {
   "cell_type": "code",
   "execution_count": null,
   "metadata": {},
   "outputs": [],
   "source": [
    "%run ./Muehle_Utilities.ipynb"
   ]
  },
  {
   "cell_type": "markdown",
   "metadata": {},
   "source": [
    "## Testboards"
   ]
  },
  {
   "cell_type": "code",
   "execution_count": null,
   "metadata": {},
   "outputs": [],
   "source": [
    "#Startboard\n",
    "board1 = [[9, 9],\n",
    "         [[0, 0, 0, 0, 0, 0, 0, 0],\n",
    "          [0, 0, 0, 0, 0, 0, 0, 0],\n",
    "          [0, 0, 0, 0, 0, 0, 0, 0]]]\n",
    "#Phase 1\n",
    "board2 = [[7, 6],\n",
    "         [[0, 0, 0, 0, 2, 0, 0, 0],\n",
    "          [0, 1, 2, 0, 0, 0, 0, 0],\n",
    "          [0, 0, 0, 0, 1, 2, 0, 0]]]\n",
    "#Phase 2, keine Mühle\n",
    "board3 = [[0, 0],\n",
    "         [[1, 0, 1, 2, 0, 1, 0, 0],\n",
    "          [2, 0, 1, 0, 0, 0, 1, 0],\n",
    "          [0, 2, 0, 0, 1, 2, 0, 0]]]\n",
    "#Phase 2, Mühle\n",
    "board4 = [[0, 0],\n",
    "         [[1, 1, 1, 2, 0, 1, 0, 0],\n",
    "          [2, 0, 1, 0, 0, 0, 1, 0],\n",
    "          [0, 2, 0, 0, 1, 2, 0, 0]]]\n",
    "#Phase 2, Spieler 2 kann nicht mehr ziehen\n",
    "board5 = [[0, 0],\n",
    "         [[2, 1, 2, 1, 0, 0, 0, 1],\n",
    "          [2, 2, 1, 0, 0, 1, 2, 1],\n",
    "          [0, 1, 0, 0, 0, 0, 0, 0]]]\n",
    "#Phase 3 für Spieler 1\n",
    "board6 = [[0, 0],\n",
    "         [[0, 0, 1, 2, 0, 1, 0, 0],\n",
    "          [2, 0, 0, 0, 0, 0, 0, 0],\n",
    "          [0, 2, 0, 0, 1, 2, 0, 0]]]\n",
    "#Spieler 1 hat weniger als 3 Steine\n",
    "board7 = [[0, 0],\n",
    "         [[0, 0, 1, 2, 0, 1, 0, 0],\n",
    "          [2, 0, 0, 0, 0, 0, 0, 0],\n",
    "          [0, 2, 0, 0, 0, 2, 0, 0]]]"
   ]
  },
  {
   "cell_type": "markdown",
   "metadata": {},
   "source": [
    "## Spielphasen"
   ]
  },
  {
   "cell_type": "markdown",
   "metadata": {},
   "source": [
    "Prüft in welcher Phase sich der Spieler befindet"
   ]
  },
  {
   "cell_type": "code",
   "execution_count": null,
   "metadata": {},
   "outputs": [],
   "source": [
    "def get_player_phase(pieces, player):\n",
    "    [remaining, board] = pieces\n",
    "    if remaining[player-1] >= 1: # Es wurden noch nicht alle 9 Steine gesetzt\n",
    "            return 1\n",
    "    elif count_player_pieces(pieces, player) == 3: # nur noch drei Steine auf dem Spielfeld\n",
    "        return 3\n",
    "    else: # sonst\n",
    "        return 2"
   ]
  },
  {
   "cell_type": "markdown",
   "metadata": {},
   "source": [
    "Berechnet die nächsten möglichen klickbaren Positionen, falls der Spieler in Phase 1 (Setzphase) ist"
   ]
  },
  {
   "cell_type": "code",
   "execution_count": null,
   "metadata": {},
   "outputs": [],
   "source": [
    "def possible_positions_phase_one(pieces, player):\n",
    "    return empty_positions(pieces)"
   ]
  },
  {
   "cell_type": "markdown",
   "metadata": {},
   "source": [
    "Berechnet die nächsten möglichen klickbaren Positionen, falls der Spieler in Phase 2 (Zugphase) ist"
   ]
  },
  {
   "cell_type": "code",
   "execution_count": null,
   "metadata": {},
   "outputs": [],
   "source": [
    "def possible_positions_phase_two(pieces, player, ring, cell):\n",
    "    collected_piece = (ring, cell)\n",
    "    neighboring = set(neighboring_positions(collected_piece))\n",
    "    empty = set(empty_positions(pieces))\n",
    "    possible_positions = neighboring.intersection(empty)\n",
    "    #ToDo: Was, wenn kein Stein bewegt werden kann?\n",
    "    return list(possible_positions)"
   ]
  },
  {
   "cell_type": "markdown",
   "metadata": {},
   "source": [
    "Berechnet die nächsten möglichen klickbaren Positionen, falls der Spieler in Phase 3 (Springphase) ist"
   ]
  },
  {
   "cell_type": "code",
   "execution_count": null,
   "metadata": {},
   "outputs": [],
   "source": [
    "def possible_positions_phase_three(pieces, player):\n",
    "    return empty_positions(pieces)"
   ]
  },
  {
   "cell_type": "markdown",
   "metadata": {},
   "source": [
    "Berechnet in welcher Phase sich der Spieler befindet und dementsprechen, wo er als nächstes klicken kann\n",
    "Kombiniert also die Funktionen oben"
   ]
  },
  {
   "cell_type": "code",
   "execution_count": null,
   "metadata": {},
   "outputs": [],
   "source": [
    "def next_positions(pieces, player, ring, cell):\n",
    "    phase = get_player_phase(pieces, player)\n",
    "    if phase == 1:\n",
    "        return possible_positions_phase_one(pieces, player)\n",
    "    elif phase == 2:\n",
    "        return possible_positions_phase_two(pieces, player, ring, cell)\n",
    "    else:\n",
    "        return possible_positions_phase_three(pieces, player)"
   ]
  },
  {
   "cell_type": "markdown",
   "metadata": {},
   "source": [
    "Prüft, ob das Spiel zu Ende ist und gibt ggf. den Gewinner zurück:\n",
    "* 0: das Spiel ist noch nicht zu Ende\n",
    "* 1: Spieler 1 hat gewonnen\n",
    "* 2: Spieler 2 hat gewonnen"
   ]
  },
  {
   "cell_type": "code",
   "execution_count": null,
   "metadata": {},
   "outputs": [],
   "source": [
    "def finish(pieces):\n",
    "    [remaining, board] = pieces\n",
    "    if any(p > 0 for p in remaining): # Wenn man noch Steine setzen kann, hat man nicht verloren\n",
    "        return 0\n",
    "    number_pieces = [count_player_pieces(pieces, 1), count_player_pieces(pieces, 2)]\n",
    "    for player in [1, 2]:\n",
    "        if number_pieces[player-1] < 3: # Wenn man weniger als 3 Steine hat, hat man verloren\n",
    "            return opponent(player)\n",
    "        else:\n",
    "            # Wenn man in Phase 2 ist und nicht mehr ziehen kann, hat man verloren\n",
    "            if not any(is_movable(pieces, position) for position in player_pieces(pieces, player)):\n",
    "                return opponent(player)\n",
    "    # Falls die beiden Endsituationen für keinen Spieler eingetreten sind, ist das Spiel nicht zu Ende\n",
    "    return 0"
   ]
  },
  {
   "cell_type": "markdown",
   "metadata": {},
   "source": [
    "## Spielablauf"
   ]
  },
  {
   "cell_type": "code",
   "execution_count": null,
   "metadata": {},
   "outputs": [],
   "source": [
    "def make_move(ring, cell):\n",
    "    global status\n",
    "    phase = get_player_phase(status.pieces, status.current_player)\n",
    "    possible_positions = next_positions(status.pieces, status.current_player, ring, cell)\n",
    "    \n",
    "    if status.number_stones_to_remove == 0:\n",
    "        if phase == 1:\n",
    "            if (ring, cell) in possible_positions: # Das geklickte Feld muss frei sein\n",
    "                status.pieces[1][ring][cell] = status.current_player # Das geklickte Feld wird zum eigenen Feld\n",
    "                status.pieces[0][status.current_player-1] = status.pieces[0][status.current_player-1]-1 # Die eigenen Steine in remaining um 1 reduzieren\n",
    "                update_board(status)\n",
    "                # ToDo: Mühle handeln\n",
    "            else:\n",
    "                raise InvalidMoveException()\n",
    "                print('Du kannst Deinen Stein nur auf ein leeres Feld setzen. Bitte probiere es erneut!')\n",
    "        elif phase == 2 or phase == 3:\n",
    "            if status.move_or_jump == False: # -> Stein zum ziehen auswählen\n",
    "                if status.selected_dot_new in player_pieces(status.pieces, status.current_player): # prüfen,ob der ausgewählte Stein dem Spieler gehört\n",
    "                    highlight_positions(possible_positions) # erlaubte Zielfelder anzeigen\n",
    "                    status.move_or_jump = True\n",
    "                else:\n",
    "                    raise InvalidMoveException()\n",
    "                    print('Das ist nicht Dein Stein. Bitte probiere es erneut!')\n",
    "\n",
    "            elif status.move_or_jump == True: # -> Zielfeld für Stein wählen\n",
    "                old_ring, old_cell = status.selected_dot_old\n",
    "                new_ring, new_cell = status.selected_dot_new\n",
    "                possible_positions = next_positions(status.pieces, status.current_player, old_ring, old_cell) # ausgehend vom ausgewählten Stein, erlaubte Zielfelder berechnen\n",
    "                if (new_ring, new_cell) in possible_positions: # prüfen ob das ausgewählte Feld ein erlaubtes Zielfeld ist\n",
    "                    status.pieces[1][new_ring][new_cell] = status.current_player # das Zielfeld als das eigene markieren\n",
    "                    status.pieces[1][old_ring][old_cell] = 0 # das ursprüngliche Feld ist jetzt leer\n",
    "                    status.move_or_jump = False\n",
    "                    update_board(status)\n",
    "                else:\n",
    "                    raise InvalidMoveException()\n",
    "                    print('Du kannst Deinen Stein nicht auf dieses Feld setzen. Bitte probiere es erneut!')\n",
    "        else:\n",
    "            raise InvalidMoveException()\n",
    "            print('Du befindest Dich anscheinend in keiner gültigen Spielphase. Irgendwas ist schief gegangen... Sorry!')\n",
    "        \n",
    "        status.number_stones_to_remove = handle_mills(status)\n",
    "        if status.number_stones_to_remove > 0:\n",
    "            highlight_positions(get_opponent_beatable_stones(status.current_player), colour = COLOUR_OPPONENT)\n",
    "    else:\n",
    "        selected_ring, selected_cell = status.selected_dot_new\n",
    "        beatable_stones = get_opponent_beatable_stones(status.current_player)\n",
    "        if (selected_ring, selected_cell) in beatable_stones:\n",
    "            status.pieces[1][selected_ring][selected_cell] = 0\n",
    "            status.number_stones_to_remove = status.number_stones_to_remove - 1\n",
    "            update_board(status)\n",
    "        else:\n",
    "            raise InvalidMoveException()\n",
    "            print('Du kannst diesen Stein nicht entfernen. Bitte probiere es erneut!')\n",
    "        if status.number_stones_to_remove > 0:\n",
    "            highlight_positions(get_opponent_beatable_stones(status.current_player), colour = COLOUR_OPPONENT)\n",
    "    \n",
    "    if status.move_or_jump == False and status.number_stones_to_remove == 0:\n",
    "        status.current_player = opponent(status.current_player) # Spielerwechsel, wenn nicht noch eine Aktion ausgeführt werden muss\n",
    "        \n",
    "    if finish(status.pieces) != 0: # Prüfen, ob das Spiel zu Ende ist\n",
    "        status.game_over = True\n",
    "        winner_popup(finish(status.pieces))"
   ]
  },
  {
   "cell_type": "markdown",
   "metadata": {},
   "source": [
    "## Mühlen"
   ]
  },
  {
   "cell_type": "markdown",
   "metadata": {},
   "source": [
    "\"handle_mills\" gibt die im letzten Zug erzeugten Mühlen für den aktuellen Spieler zurück. Hierzu darf der Spieler erst nach dem Ausführen dieser Funktion wechseln."
   ]
  },
  {
   "cell_type": "code",
   "execution_count": null,
   "metadata": {},
   "outputs": [],
   "source": [
    "def handle_mills(status):\n",
    "    pieces = status.pieces\n",
    "    player = status.current_player\n",
    "    old_mills = status.mills\n",
    "    new_mills = set()\n",
    "    match = set()\n",
    "    currentPlayerMills = set()\n",
    "\n",
    "    #find all current mills on the board\n",
    "    for x in range (0,3):\n",
    "        for i in [0,2,4,6]:\n",
    "                if(pieces[1][x][i] == pieces[1][x][i+1] == pieces[1][x][(i+2) % 8] != 0):\n",
    "                    new_mills.add((pieces[1][x][i], x ,i))\n",
    "\n",
    "    for i in [1,3,5,7]:\n",
    "        if(pieces[1][0][i] == pieces[1][1][i] == pieces[1][2][i] != 0):\n",
    "            new_mills.add((pieces[1][x][i], 0 ,i))\n",
    "\n",
    "    #set new mills\n",
    "    status.mills = new_mills   \n",
    "            \n",
    "\n",
    "    #if the current mills are the same mills as the old ones or there are now less mills on the board => no new mills\n",
    "    if(old_mills == new_mills or len(old_mills) > len(new_mills)):\n",
    "        return(0)\n",
    "\n",
    "\n",
    "    #find new mills for current player\n",
    "    if(old_mills != new_mills):\n",
    "        for mill in new_mills:\n",
    "            for old_mill in old_mills:\n",
    "                if mill == old_mill:\n",
    "                    match.add(mill) \n",
    "    new_mills = new_mills.difference(match) #new_mills are now really the new Mills\n",
    "\n",
    "    #pics mills that belong to the current player \n",
    "    for (x,y,z) in new_mills:\n",
    "        if x == player:\n",
    "            currentPlayerMills.add((x,y,z))\n",
    "\n",
    "    return len(currentPlayerMills) #returns count of new mills for the current player"
   ]
  },
  {
   "cell_type": "code",
   "execution_count": null,
   "metadata": {},
   "outputs": [],
   "source": [
    "def get_opponent_beatable_stones(current_player):\n",
    "    opponent_stones_list = []\n",
    "\n",
    "    opponent_player = opponent(current_player)\n",
    "    \n",
    "    opponent_mill_stones = set()\n",
    "\n",
    "    #find all opponent_mill_stones | wenn ein Stein in einer Mühle ist, darf er nicht entfernt werden\n",
    "    _,board = status.pieces\n",
    "\n",
    "    for ring in range (0,3):\n",
    "        for cell in [0,2,4,6]:\n",
    "                if(board[ring][cell] == board[ring][cell+1] == board[ring][(cell+2) % 8] == opponent_player):\n",
    "                    opponent_mill_stones.add((ring,cell))\n",
    "                    opponent_mill_stones.add((ring,cell+1))\n",
    "                    opponent_mill_stones.add((ring,(cell+2) % 8))\n",
    "    for cell in [1,3,5,7]:\n",
    "        if(board[0][cell] == board[1][cell] == board[2][cell] == opponent_player):\n",
    "            opponent_mill_stones.add((0,cell))\n",
    "            opponent_mill_stones.add((1,cell))\n",
    "            opponent_mill_stones.add((2,cell))\n",
    "\n",
    "    for ring in range(0,3):\n",
    "        for cell in range(0,8):\n",
    "            if board[ring][cell] == opponent_player:\n",
    "                if (ring,cell) not in opponent_mill_stones:\n",
    "                    opponent_stones_list.append((ring,cell)) \n",
    "    \n",
    "    if len(opponent_stones_list) == 0: #falls kein anderer Stein geschlagen werden kann, dürfen auch Steine in Mühlen geschlagen werden\n",
    "        return list(opponent_mill_stones)\n",
    "    return opponent_stones_list"
   ]
  },
  {
   "cell_type": "markdown",
   "metadata": {},
   "source": [
    "## Fehler"
   ]
  },
  {
   "cell_type": "markdown",
   "metadata": {},
   "source": [
    "Die Exception `InvalidMoveException`, wird später in der Funktion `make_move` geworfen, wenn ein ungültiger Spielzug gefordert wird. Dies dient der Fehlerbehandlung."
   ]
  },
  {
   "cell_type": "code",
   "execution_count": null,
   "metadata": {},
   "outputs": [],
   "source": [
    "class InvalidMoveException(Exception):\n",
    "    pass"
   ]
  },
  {
   "cell_type": "code",
   "execution_count": null,
   "metadata": {},
   "outputs": [],
   "source": []
  }
 ],
 "metadata": {
  "kernelspec": {
   "display_name": "Python 3",
   "language": "python",
   "name": "python3"
  },
  "language_info": {
   "codemirror_mode": {
    "name": "ipython",
    "version": 3
   },
   "file_extension": ".py",
   "mimetype": "text/x-python",
   "name": "python",
   "nbconvert_exporter": "python",
   "pygments_lexer": "ipython3",
   "version": "3.8.3"
  }
 },
 "nbformat": 4,
 "nbformat_minor": 4
}
