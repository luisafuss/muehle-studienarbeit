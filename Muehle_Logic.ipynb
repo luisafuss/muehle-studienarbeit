{
 "cells": [
  {
   "cell_type": "code",
   "execution_count": null,
   "source": [
    "%%HTML\n",
    "<style>\n",
    ".container { width:100% }\n",
    "</style>"
   ],
   "outputs": [],
   "metadata": {}
  },
  {
   "cell_type": "markdown",
   "source": [
    "# Logik"
   ],
   "metadata": {}
  },
  {
   "cell_type": "code",
   "execution_count": null,
   "source": [
    "%run ./Muehle_Utilities.ipynb\r\n",
    "import copy"
   ],
   "outputs": [],
   "metadata": {}
  },
  {
   "cell_type": "markdown",
   "source": [
    "## Spielphasen"
   ],
   "metadata": {}
  },
  {
   "cell_type": "markdown",
   "source": [
    "Die Funktion `get_player_phase()` prüft in welcher Phase sich der übergebenen Spieler befindet. Hat er noch setzbare Steine, ist also sein Wert in `remaining` größer null, befindet er sich in Phase eins. Ist dies nicht der Fall und auch auf dem Feld befinden sich nur noch drei Steine, so befindet der Spieler sich in der Springphase. Ist dem nicht so, so ist der Spieler in Phase zwei, der Zugphase.\r\n",
    "Die Eingabeparameter der Funktion sind ein Spielstatus, sowie ein Spieler in der Form 1 für Spieler eins und 2 für Spieler zwei. Zurückgegeben wird die Spielphase des übergebenen Spielers in dem übergebenen Spiel."
   ],
   "metadata": {}
  },
  {
   "cell_type": "code",
   "execution_count": null,
   "source": [
    "def get_player_phase(state, player):\r\n",
    "    remaining, board = state\r\n",
    "    if remaining[player - 1] >= 1: \r\n",
    "        return 1\r\n",
    "    elif count_player_pieces(board, player) <= 3:\r\n",
    "        return 3\r\n",
    "    else:\r\n",
    "        return 2"
   ],
   "outputs": [],
   "metadata": {}
  },
  {
   "cell_type": "markdown",
   "source": [
    "`next_positions()` berechnet in welcher Phase sich der Spieler befindet und dementsprechend, wo er als nächstes klicken kann. Falls der Spieler in Phase 1 (Setzphase) oder Phase 3 (Springphase) ist, sind dies unabhängig vom aktuellen Spieler oder in Phase 3 auch unabhängig vom ausgewählten Stein alle leeren Felder. Für Phase 2 wird die zuvor definierte Funktion `empty_neighbors()` aufgerufen.\n",
    "Übergeben wird der Funktion `next_positions()` hierfür ein Spielstatus, ein Spieler, und die Position des ausgewählten Steines (ring und cell)."
   ],
   "metadata": {}
  },
  {
   "cell_type": "code",
   "execution_count": null,
   "source": [
    "def next_positions(state, player, ring, cell):\r\n",
    "    _, board = state\r\n",
    "    phase    = get_player_phase(state, player)\r\n",
    "    return empty_positions(board) if phase != 2 else empty_neighbors(board, ring, cell)"
   ],
   "outputs": [],
   "metadata": {}
  },
  {
   "cell_type": "markdown",
   "source": [
    "## next states\r\n",
    "\r\n",
    "Im Folgenden werden Funktionen implementiert, die je nach Spielphase alle möglichen nächsten Zustände für einen Spieler bei  gegebenem Zustand ausrechnet. Es existieren dementsprechend die Methoden\r\n",
    "* next_states_phase_one()\r\n",
    "* next_states_phase_two()\r\n",
    "* next_states_phase_three()\r\n",
    "\r\n",
    "Alle drei nehmen einen Zustand und einen Spieler und geben eine List möglicher nächster Zustände zurück. Der Ablauf aller drei Methoden ist im Allgemeinen folgendermaßen:\r\n",
    "1. Aktuelle Mühlen suchen\r\n",
    "2. Steine positionieren/verschieben und entstehende Bretter in einer Liste speichern\r\n",
    "3. Für jedes Board überprüfen, ob neue Mühlen dazu gekommen sind und ggf. Steine des Gegners entfernen\r\n",
    "4. next_states zusammenbauen und zurückgeben\r\n",
    "\r\n",
    "Für **Schritt 1** wird die Funktion `find_mills()` genutzt. Die Phasen unterscheiden sich im Wesentlichen in **Schritt 2**, weshalb dieser für die einzelnen Phasen gleich genauer betrachtet werden soll. In **Schritt 3** wird die Funktion `generate_final_boards()` aufgerufen. In dieser wird über die zuvor entwickelten Zustände iteriert und für jedes Brett zunächst erneut `find_mills()` und damit zusammen mit den zu Beginn ermittelten Mühlen `count_new_mills()` aufgerufen. Letztere Funktion liefert eine natürliche Zahl, die angibt, wie viele neue Mühlen durch den Wechsel in den Zustand entstehen. Falls das Ergebnis 0 ist, geschieht nichts. Falls die Zahl größer 0 ist, wird pro entstandener Mühle einmal die Funktion `beat_pieces()` aufgerufen, die jeweils einen schlagbaren Stein des Gegners entfernt. In diesem Fall wird das berechnete Board also nochmal manipuliert. In **Schritt 4** wird der Zustand, der neben dem Board auch aus der Variable `remaining` besteht, zusammengesetzt."
   ],
   "metadata": {}
  },
  {
   "cell_type": "code",
   "execution_count": null,
   "source": [
    "def generate_final_boards(boards_after_placing, player):\r\n",
    "    boards = []\r\n",
    "    for new_board in boards_after_placing:\r\n",
    "        number_new_mills = len(find_new_mills())\r\n",
    "        if number_new_mills > 0:\r\n",
    "            boards.extend(beat_pieces(new_board, number_new_mills, player))\r\n",
    "        else:\r\n",
    "            boards.append(new_board)\r\n",
    "    return boards"
   ],
   "outputs": [],
   "metadata": {}
  },
  {
   "cell_type": "markdown",
   "source": [
    "### Phase 1\n",
    "In Phase 1 wird ein Stein auf ein leeres Feld gesetzt. Die nächsten Zustände entstehen also, in dem über alle leeren Felder iteriert und dort jeweils ein Stein positioniert wird. Dies geschieht als Schritt 2 in `next_states_phase_one()`. Die Besonderheit in der ersten Phase ist, dass in Schritt 4 auch die Variable `remaining` angepasst werden muss, in dem Spieler ein Stein abgezogen wird."
   ],
   "metadata": {}
  },
  {
   "cell_type": "code",
   "execution_count": null,
   "source": [
    "def next_states_phase_one(state, player):\r\n",
    "    remaining, board = state\r\n",
    "    \r\n",
    "    #mills = find_mills(board, player) # Schritt 1\r\n",
    "    \r\n",
    "    # Schritt 2\r\n",
    "    empty = empty_positions(board)\r\n",
    "    boards_after_placing = []\r\n",
    "    for ring, cell in empty:\r\n",
    "        new_board = copy.deepcopy(board)\r\n",
    "        new_board[ring][cell] = player        \r\n",
    "        boards_after_placing.append(new_board)\r\n",
    "    \r\n",
    "    boards = generate_final_boards(boards_after_placing, player) # Schritt 3\r\n",
    "    \r\n",
    "    remaining = [remaining[0] - 1, remaining[1]] if player == 1 else [remaining[0], remaining[1] - 1] # Schritt 4\r\n",
    "    \r\n",
    "    return [[remaining, new_board] for new_board in boards]"
   ],
   "outputs": [],
   "metadata": {}
  },
  {
   "cell_type": "markdown",
   "source": [
    "### Phase 2\n",
    "Die nächsten Zustände entstehen in der Zugphase durch das Verschieben eines eigenen Steins auf ein benachbartes freies Feld. Im Schritt 2 von `next_states_phase_two()` werden also zunächst alle Spielsteine eines Spielers ermittelt, um anschließend über die iterieren zu können. Für jeden dieser Steine werden dann mit Hilfe von `empty_neighbors()` alle leeren benachbarten Felder ausgerechnet. Pro Stein und freie Nachbar-Position entsteht ein möglicher neuer Zustand indem der Wert der Startposition auf 0 und der Wert der freien Nachbar-Position, also der Zielposition, auf den Wert des Spielers gesetzt wird."
   ],
   "metadata": {}
  },
  {
   "cell_type": "code",
   "execution_count": null,
   "source": [
    "def next_states_phase_two(state, player):\r\n",
    "    remaining, board = state\r\n",
    "    \r\n",
    "    #mills = find_mills(board, player) # Schritt 1\r\n",
    "    \r\n",
    "    # Schritt 2\r\n",
    "    pieces = player_pieces(board, player)\r\n",
    "    boards_after_placing = []\r\n",
    "    for ring_start, cell_start in pieces:\r\n",
    "        positions = empty_neighbors(board, ring_start, cell_start)\r\n",
    "        for ring_goal, cell_goal in positions:\r\n",
    "            new_board = copy.deepcopy(board)\r\n",
    "            new_board[ring_start][cell_start] = 0    \r\n",
    "            new_board[ring_goal][cell_goal] = player        \r\n",
    "            boards_after_placing.append(new_board)\r\n",
    "    \r\n",
    "    boards = generate_final_boards(boards_after_placing, player)  # Schritt 3\r\n",
    "    \r\n",
    "    return [[remaining, new_board] for new_board in boards] # Schritt 4"
   ],
   "outputs": [],
   "metadata": {}
  },
  {
   "cell_type": "markdown",
   "source": [
    "### Phase 3\n",
    "In Phase 3 kann ein beliebiger eigener Stein auf ein beliebiges freies Feld versetzt werden. Dazu wird in Schritt 2 von `next_states_phase_three()` zunächst nach eigenen Steinen (Startfelder) und leeren Positionen (Zielfelder) gesucht. Anschließende entstehen mögliche Spielbretter aus allen möglichen Kombinationen von Start- und Zielfeldern. Das Startfeld erhält den Wert 0, das Zielfeld den Wert des Spielers."
   ],
   "metadata": {}
  },
  {
   "cell_type": "code",
   "execution_count": null,
   "source": [
    "def next_states_phase_three(state, player):\r\n",
    "    remaining, board = state\r\n",
    "    \r\n",
    "    #mills = find_mills(board, player) # Schritt 1\r\n",
    "    \r\n",
    "    # Schritt 2\r\n",
    "    pieces = player_pieces(board, player)\r\n",
    "    empty = empty_positions(board)\r\n",
    "    boards_after_placing = []\r\n",
    "    for ring_start, cell_start in pieces:\r\n",
    "        for ring_goal, cell_goal in empty:\r\n",
    "            new_board = copy.deepcopy(board)\r\n",
    "            new_board[ring_start][cell_start] = 0    \r\n",
    "            new_board[ring_goal][cell_goal] = player        \r\n",
    "            boards_after_placing.append(new_board)\r\n",
    "    \r\n",
    "    boards = generate_final_boards(boards_after_placing, player) # Schritt 3\r\n",
    "    \r\n",
    "    return [[remaining, new_board] for new_board in boards] # Schritt 4"
   ],
   "outputs": [],
   "metadata": {}
  },
  {
   "cell_type": "markdown",
   "source": [
    "`next_states()` nimmt einen Zustand und einen Spieler, berechnet die aktuelle Spielphase und ruft die entsprechende Funktion zur Berechnung der nächsten Zustände, wie sie zuvor definiert wurden, auf."
   ],
   "metadata": {}
  },
  {
   "cell_type": "code",
   "execution_count": null,
   "source": [
    "def next_states(state, player):\r\n",
    "    phase =  get_player_phase(state, player)\r\n",
    "    if phase == 1:\r\n",
    "        return next_states_phase_one(state, player)\r\n",
    "    elif phase == 2:\r\n",
    "        return next_states_phase_two(state, player)\r\n",
    "    else:\r\n",
    "        return next_states_phase_three(state, player)"
   ],
   "outputs": [],
   "metadata": {}
  },
  {
   "cell_type": "markdown",
   "source": [
    "## Spielende"
   ],
   "metadata": {}
  },
  {
   "cell_type": "markdown",
   "source": [
    "Die Funktion `finished()` prüft, ob das Spiel für den übergebenen Zustand zu Ende ist, wenn der der übergebene Spieler an der Reihe ist. \n",
    "\n",
    "Solange ein Spieler noch Steine setzen kann, ist das Spiel noch nicht entschieden. Ansonsten gibt es hier zwei Möglichkeiten, bei denen das Spiel zu Ende ist. Die erste Situation tritt ein, wenn ein Spieler weniger als drei Steine hat. Er hat dann verloren. Bei der zweiten Option verliert ein Spieler, wenn er sich in Phase 2 befindet, aber nicht mehr ziehen kann. Dies kommt vor, wenn alle benachbarten Felder seiner Steine vom Gegenspieler besetzt sind. Prüfen lässt sich dies auch, in dem man berechnet, ob keine validen Folgezustände existieren. Tritt keine der beiden Situationen ein, ist das Spiel laut dieser Funktion noch nicht beendet. Praktisch existieren noch weitere Situationen, in denen ein Spiel beendet ist. Dies ist zum Beispiel der Fall, wenn über zu viele Züge hinweg keine Mühle geschlossen wurde. Dies wird jedoch separat im Notebook `Muehle_GUI.ipynb` ausgewertet.\n"
   ],
   "metadata": {}
  },
  {
   "cell_type": "code",
   "execution_count": null,
   "source": [
    "def finished(state, current_player):\r\n",
    "    [remaining, board] = state\r\n",
    "    if any(number_player_pieces > 0 for number_player_pieces in remaining): return False\r\n",
    "    if any(count_player_pieces(board, player) < 3 for player in [1, 2]): return True\r\n",
    "    if len(next_states(state, current_player)) == 0: return True\r\n",
    "    return False"
   ],
   "outputs": [],
   "metadata": {}
  },
  {
   "cell_type": "markdown",
   "source": [
    "Die Funktion `utility()` nimmt einen Zustand für den das Spiel beendet ist, also `finished(state, current_player)==True` und einen Spieler und gibt einen numerischen Wert zurück, der folgendermaßen zu interpretieren ist:\n",
    "* -1 = Der Spieler hat verloren\n",
    "* 0 =  Unentschieden\n",
    "* 1 =  Der Spieler hat gewonnen\n",
    "\n",
    "Da die Funktion nur mit einem Endzustand aufgerufen wird, muss die Spielerphase nicht beachtet werden. Denn es ist nur möglich in der Zug- und in der Springphase zu gewinnen. Für diese gelten alle unten genannten Regeln.\n",
    "\n",
    "Falls der Spieler sich nicht in Phase 3 befindet, aber weniger als drei Steine auf dem Brett hat, wird -1 zurückgegeben, falls der Gegner weniger als drei Steine hat wird 1 zurückgegeben. Danach befindet man sich in einer der folgenden Situationen:\n",
    "\n",
    "* utility = -1, der Spieler hat weniger als 3 Steine $\\rightarrow$ Ergebnis zurückgegeben\n",
    "* utility = 0, beide Spieler haben mehr als 3 Steine $\\rightarrow$ Prüfen, ob Spieler noch ziehen kann\n",
    "* utility = 1, der Gegner hat weniger als 3 Steine $\\rightarrow$ Ergebnis zurückgeben\n",
    "\n",
    "Als nächstes wird überprüft, ob der aktuelle Spieler noch ziehen kann, also ein möglicher Folgezustand existiert. Wenn nicht, wird -1 zurückgegeben, da der Spieler verloren hat.\n",
    "\n",
    "* utility = -1, der Spieler kann nicht mehr ziehen $\\rightarrow$ Spieler hat verloren\n",
    "\n",
    "Ansonsten wird theoretisch 0 zurückgegeben, was bedeutet, dass das Spiel unentschieden ist. Allerdings wird dies praktisch nicht passieren, da `utility()` nur mit einem Zustand aufgerufen wird, der ein sicherer Endzustand ist, also entweder der Spieler oder der Gegner gewonnen hat. Ein Unentschieden existiert zwar, tritt aber auf, wenn beispielsweise die maximale Anzahl an Zügen ohne eine neue Mühle erreicht wurde. Dies wird jedoch nicht durch `utility()` überprüft."
   ],
   "metadata": {}
  },
  {
   "cell_type": "code",
   "execution_count": null,
   "source": [
    "def utility(terminal_state, player):\r\n",
    "    if count_player_pieces(terminal_state[1], player)           < 3: return -1\r\n",
    "    if count_player_pieces(terminal_state[1], opponent(player)) < 3: return  1\r\n",
    "    \r\n",
    "    if len(next_states(terminal_state, player)) == 0: return -1\r\n",
    "    return 0"
   ],
   "outputs": [],
   "metadata": {}
  },
  {
   "cell_type": "code",
   "execution_count": null,
   "source": [],
   "outputs": [],
   "metadata": {}
  }
 ],
 "metadata": {
  "kernelspec": {
   "display_name": "Python 3",
   "language": "python",
   "name": "python3"
  },
  "language_info": {
   "codemirror_mode": {
    "name": "ipython",
    "version": 3
   },
   "file_extension": ".py",
   "mimetype": "text/x-python",
   "name": "python",
   "nbconvert_exporter": "python",
   "pygments_lexer": "ipython3",
   "version": "3.7.9"
  }
 },
 "nbformat": 4,
 "nbformat_minor": 4
}