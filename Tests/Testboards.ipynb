{
 "metadata": {
  "language_info": {
   "codemirror_mode": {
    "name": "ipython",
    "version": 3
   },
   "file_extension": ".py",
   "mimetype": "text/x-python",
   "name": "python",
   "nbconvert_exporter": "python",
   "pygments_lexer": "ipython3",
   "version": 3
  },
  "orig_nbformat": 2
 },
 "nbformat": 4,
 "nbformat_minor": 2,
 "cells": [
  {
   "source": [
    "### Testboards:\n",
    "- board1 = Startzustand\n",
    "- board2 = Spiel in Phase 1, keine Mühlen\n",
    "- board3 = Spiel in Phase 2, keine Mühlen\n",
    "- board4 = Spiel in Phase 2, Spieler eins mit einer Mühle\n",
    "- board5 = Spiel in Phase 2, Spieler zwei ohne Zugmölichkeit\n",
    "- board6 = Spieler eins in Phase 3, Spieler zwei in Phase 2\n",
    "- board7 = Spieler eins mit zwei Steinen, Spieler zwei hat gewonnen\n"
   ],
   "cell_type": "markdown",
   "metadata": {}
  },
  {
   "cell_type": "code",
   "execution_count": null,
   "metadata": {},
   "outputs": [],
   "source": [
    "#Startboard\n",
    "board1 = [[9, 9],\n",
    "         [[0, 0, 0, 0, 0, 0, 0, 0],\n",
    "          [0, 0, 0, 0, 0, 0, 0, 0],\n",
    "          [0, 0, 0, 0, 0, 0, 0, 0]]]\n",
    "#Phase 1\n",
    "board2 = [[7, 6],\n",
    "         [[0, 0, 0, 0, 2, 0, 0, 0],\n",
    "          [0, 1, 2, 0, 0, 0, 0, 0],\n",
    "          [0, 0, 0, 0, 1, 2, 0, 0]]]\n",
    "#Phase 2, keine Mühle\n",
    "board3 = [[0, 0],\n",
    "         [[1, 0, 1, 2, 0, 1, 0, 0],\n",
    "          [2, 0, 1, 0, 0, 0, 1, 0],\n",
    "          [0, 2, 0, 0, 1, 2, 0, 0]]]\n",
    "#Phase 2, Mühle\n",
    "board4 = [[0, 0],\n",
    "         [[1, 1, 1, 2, 0, 1, 0, 0],\n",
    "          [2, 0, 1, 0, 0, 0, 1, 0],\n",
    "          [0, 2, 0, 0, 1, 2, 0, 0]]]\n",
    "#Phase 2, Spieler 2 kann nicht mehr ziehen\n",
    "board5 = [[0, 0],\n",
    "         [[2, 1, 2, 1, 0, 0, 0, 1],\n",
    "          [2, 2, 1, 0, 0, 1, 2, 1],\n",
    "          [0, 1, 0, 0, 0, 0, 0, 0]]]\n",
    "#Phase 3 für Spieler 1\n",
    "board6 = [[0, 0],\n",
    "         [[0, 0, 1, 2, 0, 1, 0, 0],\n",
    "          [2, 0, 0, 0, 0, 0, 0, 0],\n",
    "          [0, 2, 0, 0, 1, 2, 0, 0]]]\n",
    "#Spieler 1 hat weniger als 3 Steine\n",
    "board7 = [[0, 0],\n",
    "         [[0, 0, 1, 2, 0, 1, 0, 0],\n",
    "          [2, 0, 0, 0, 0, 0, 0, 0],\n",
    "          [0, 2, 0, 0, 0, 2, 0, 0]]]\n",
    "\n",
    "testboards=[board1, board2, board3, board4, board5, board6, board7 ]"
   ]
  }
 ]
}