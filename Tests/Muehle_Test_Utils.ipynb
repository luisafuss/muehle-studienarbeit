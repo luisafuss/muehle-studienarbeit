{
 "cells": [
  {
   "cell_type": "markdown",
   "metadata": {},
   "source": [
    "# Hilfsfunktionen zum Testen des Mühlespiels"
   ]
  },
  {
   "cell_type": "code",
   "execution_count": null,
   "metadata": {},
   "outputs": [],
   "source": [
    "import random"
   ]
  },
  {
   "cell_type": "code",
   "execution_count": null,
   "metadata": {},
   "outputs": [],
   "source": [
    "def create_pieces(number_white, number_brown):\n",
    "    white_pieces = 0\n",
    "    brown_pieces = 0\n",
    "    pieces = [[9-number_white, 9-number_brown],\n",
    "             [[0, 0, 0, 0, 0, 0, 0, 0],\n",
    "              [0, 0, 0, 0, 0, 0, 0, 0],\n",
    "              [0, 0, 0, 0, 0, 0, 0, 0]]]\n",
    "    \n",
    "    while number_white > white_pieces:\n",
    "        ring = random.randint(0, 2)\n",
    "        cell = random.randint(0, 7)\n",
    "        if pieces[1][ring][cell] == 0:\n",
    "            pieces[1][ring][cell] = 1\n",
    "            white_pieces += 1\n",
    "    \n",
    "    while number_brown > brown_pieces:\n",
    "        ring = random.randint(0, 2)\n",
    "        cell = random.randint(0, 7)\n",
    "        if pieces[1][ring][cell] == 0:\n",
    "            pieces[1][ring][cell] = 2\n",
    "            brown_pieces += 1\n",
    "        \n",
    "    return pieces"
   ]
  }
 ],
 "metadata": {
  "kernelspec": {
   "display_name": "Python 3",
   "language": "python",
   "name": "python3"
  },
  "language_info": {
   "codemirror_mode": {
    "name": "ipython",
    "version": 3
   },
   "file_extension": ".py",
   "mimetype": "text/x-python",
   "name": "python",
   "nbconvert_exporter": "python",
   "pygments_lexer": "ipython3",
   "version": "3.8.3"
  }
 },
 "nbformat": 4,
 "nbformat_minor": 4
}