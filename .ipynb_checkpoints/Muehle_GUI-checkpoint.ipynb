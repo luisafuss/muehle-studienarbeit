{
 "cells": [
  {
   "cell_type": "markdown",
   "metadata": {},
   "source": [
    "# GUI - Nine Men Morris"
   ]
  },
  {
   "cell_type": "code",
   "execution_count": 1,
   "metadata": {},
   "outputs": [
    {
     "data": {
      "text/html": [
       "<style>\n",
       ".container { width:100% }\n",
       "</style>\n"
      ],
      "text/plain": [
       "<IPython.core.display.HTML object>"
      ]
     },
     "metadata": {},
     "output_type": "display_data"
    }
   ],
   "source": [
    "%%HTML\n",
    "<style>\n",
    ".container { width:100% }\n",
    "</style>"
   ]
  },
  {
   "cell_type": "code",
   "execution_count": 2,
   "metadata": {},
   "outputs": [],
   "source": [
    "import ipycanvas\n",
    "from ipycanvas import Canvas, MultiCanvas"
   ]
  },
  {
   "cell_type": "markdown",
   "metadata": {},
   "source": [
    "## Mögliche Positionen\n",
    "\n",
    "<img src=\"board_positions.png\" alt=\"Mögliche Positionen\" width=\"800\"/>"
   ]
  },
  {
   "cell_type": "code",
   "execution_count": 3,
   "metadata": {},
   "outputs": [],
   "source": [
    "positions = [[0.05, 0.05], [0.50, 0.05], [0.95, 0.05], [0.95, 0.50], [0.95, 0.95], [0.50, 0.95], [0.05, 0.95], [0.05, 0.50],\n",
    "             [0.20, 0.20], [0.50, 0.20], [0.80, 0.20], [0.80, 0.50], [0.80, 0.80], [0.50, 0.80], [0.20, 0.80], [0.20, 0.50],\n",
    "             [0.35, 0.35], [0.50, 0.35], [0.65, 0.35], [0.65, 0.50], [0.65, 0.65], [0.50, 0.65], [0.35, 0.65], [0.35, 0.50]]\n",
    "\n",
    "dic_positions = {\n",
    "    \"a1\":positions[6],\n",
    "    \"a4\":positions[7],\n",
    "    \"a7\":positions[0],\n",
    "    \"b2\":positions[14],\n",
    "    \"b4\":positions[15],\n",
    "    \"b6\":positions[8],\n",
    "    \"c3\":positions[22],\n",
    "    \"c4\":positions[23],\n",
    "    \"c5\":positions[16],\n",
    "    \"d1\":positions[5],\n",
    "    \"d2\":positions[13],\n",
    "    \"d3\":positions[21],\n",
    "    \"d5\":positions[17],\n",
    "    \"d6\":positions[9],\n",
    "    \"d7\":positions[1],\n",
    "    \"e3\":positions[20],\n",
    "    \"e4\":positions[19],\n",
    "    \"e5\":positions[18],\n",
    "    \"f2\":positions[12],\n",
    "    \"f4\":positions[11],\n",
    "    \"f6\":positions[10],\n",
    "    \"g1\":positions[4],\n",
    "    \"g4\":positions[3],\n",
    "    \"g7\":positions[2]\n",
    "}"
   ]
  },
  {
   "cell_type": "markdown",
   "metadata": {},
   "source": [
    "## Initialisierung Canvas\n",
    "\n",
    "**Aufbau Leinwand:**\n",
    "\n",
    "board\\[Hintergrund, Linien, Steine]\n",
    "\n",
    "* BOARD_SIZE = Größe des Spielfeldes in Pixeln\n",
    "* DOT_RADIUS = Radius der schwarzen kleinen Punkte, die mögliche Positionen markieren (in Abhängigkeit von der Spielfeldgröße)"
   ]
  },
  {
   "cell_type": "code",
   "execution_count": 4,
   "metadata": {},
   "outputs": [],
   "source": [
    "BOARD_SIZE = 300\n",
    "DOT_RADIUS = BOARD_SIZE*0.025\n",
    "\n",
    "#board[Hintergrund, Linien, Steine]\n",
    "board = MultiCanvas(3, width = BOARD_SIZE, height = BOARD_SIZE)\n",
    "\n",
    "# Hintergrund\n",
    "board[0].fill_style = '#ffffcc'\n",
    "board[0].fill_rect(0, 0, BOARD_SIZE)\n",
    "\n",
    "# Strichstärke\n",
    "board[1].line_width = 5\n",
    "\n",
    "# Quadrate\n",
    "board[1].stroke_rect(BOARD_SIZE*0.05, BOARD_SIZE*0.05, BOARD_SIZE*0.90) # Außenring\n",
    "board[1].stroke_rect(BOARD_SIZE*0.20, BOARD_SIZE*0.20, BOARD_SIZE*0.60) # Mittelring\n",
    "board[1].stroke_rect(BOARD_SIZE*0.35, BOARD_SIZE*0.35, BOARD_SIZE*0.30) # Innenring\n",
    "\n",
    "# Linien\n",
    "board[1].begin_path()\n",
    "board[1].move_to(BOARD_SIZE*0.50, BOARD_SIZE*0.05) #oben\n",
    "board[1].line_to(BOARD_SIZE*0.50, BOARD_SIZE*0.35)\n",
    "board[1].move_to(BOARD_SIZE*0.95, BOARD_SIZE*0.50) #rechts\n",
    "board[1].line_to(BOARD_SIZE*0.65, BOARD_SIZE*0.50)\n",
    "board[1].move_to(BOARD_SIZE*0.50, BOARD_SIZE*0.95) #unten\n",
    "board[1].line_to(BOARD_SIZE*0.50, BOARD_SIZE*0.65)\n",
    "board[1].move_to(BOARD_SIZE*0.05, BOARD_SIZE*0.50) #links\n",
    "board[1].line_to(BOARD_SIZE*0.35, BOARD_SIZE*0.50)\n",
    "board[1].stroke()\n",
    "\n",
    "# Punkte (außen, mitte, innen)\n",
    "for x,y in positions:\n",
    "     board[1].fill_arc(BOARD_SIZE*x, BOARD_SIZE*y, DOT_RADIUS, 0, 360)"
   ]
  },
  {
   "cell_type": "markdown",
   "metadata": {},
   "source": [
    "## Status des Spielfelds\n",
    "* 0 = kein Stein\n",
    "* 1 = weißer Stein\n",
    "* 2 = brauner Stein"
   ]
  },
  {
   "cell_type": "code",
   "execution_count": 5,
   "metadata": {},
   "outputs": [],
   "source": [
    "class status():\n",
    "    pieces =[[0], [0], [0],\n",
    "             [0], [0],\n",
    "             [0], [0], [0],\n",
    "             [0], [0], [0],\n",
    "             [0], [0],\n",
    "             [0], [0], [0], \n",
    "             [0], [0], [0], \n",
    "             [0], [0],\n",
    "             [0], [0], [0]]"
   ]
  },
  {
   "cell_type": "markdown",
   "metadata": {},
   "source": [
    "## Spielsteine anzeigen"
   ]
  },
  {
   "cell_type": "code",
   "execution_count": 6,
   "metadata": {},
   "outputs": [],
   "source": [
    "PIECE_RADIUS = BOARD_SIZE*0.04\n",
    "\n",
    "def update_board(status):\n",
    "    with ipycanvas.hold_canvas(board):\n",
    "        board[2].clear()\n",
    "        for piece in range(24):\n",
    "            value = status.pieces[piece][0]\n",
    "            if value == 1:\n",
    "                board[2].fill_style = 'white'\n",
    "                board[2].fill_arc(BOARD_SIZE*positions[piece][0], BOARD_SIZE*positions[piece][1], PIECE_RADIUS, 0, 360)\n",
    "            if value == 2:\n",
    "                board[2].fill_style = 'brown'\n",
    "                board[2].fill_arc(BOARD_SIZE*positions[piece][0], BOARD_SIZE*positions[piece][1], PIECE_RADIUS, 0, 360)\n",
    "    return board"
   ]
  },
  {
   "cell_type": "code",
   "execution_count": 7,
   "metadata": {},
   "outputs": [
    {
     "data": {
      "application/vnd.jupyter.widget-view+json": {
       "model_id": "d5d58581dad24b94b6e78e9e25962158",
       "version_major": 2,
       "version_minor": 0
      },
      "text/plain": [
       "MultiCanvas(height=300, width=300)"
      ]
     },
     "metadata": {},
     "output_type": "display_data"
    }
   ],
   "source": [
    "status = status()\n",
    "update_board(status)"
   ]
  },
  {
   "cell_type": "code",
   "execution_count": 8,
   "metadata": {},
   "outputs": [],
   "source": [
    "def handle_mouse_down(x, y):\n",
    "    global status\n",
    "    for pos in positions:\n",
    "        if pos[0]*BOARD_SIZE-PIECE_RADIUS/2 < x < pos[0]*BOARD_SIZE+PIECE_RADIUS/2 and\\\n",
    "           pos[1]*BOARD_SIZE-PIECE_RADIUS/2 < y < pos[1]*BOARD_SIZE+PIECE_RADIUS/2:\n",
    "            save_position(status, pos)            \n",
    "    print(\"Ungültiger Zug. Bitte klicke auf eine mögliche Position.\")\n",
    "board[2].on_mouse_down(handle_mouse_down)"
   ]
  },
  {
   "cell_type": "code",
   "execution_count": 9,
   "metadata": {},
   "outputs": [],
   "source": [
    "def save_position(status, pos):\n",
    "    status.pieces[positions.index(pos)] = [1]\n",
    "    update_board(status)"
   ]
  }
 ],
 "metadata": {
  "kernelspec": {
   "display_name": "Python 3",
   "language": "python",
   "name": "python3"
  },
  "language_info": {
   "codemirror_mode": {
    "name": "ipython",
    "version": 3
   },
   "file_extension": ".py",
   "mimetype": "text/x-python",
   "name": "python",
   "nbconvert_exporter": "python",
   "pygments_lexer": "ipython3",
   "version": "3.8.3"
  }
 },
 "nbformat": 4,
 "nbformat_minor": 4
}
