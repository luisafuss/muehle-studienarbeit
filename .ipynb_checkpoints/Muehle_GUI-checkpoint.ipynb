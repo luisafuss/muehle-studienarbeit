{
 "cells": [
  {
   "cell_type": "markdown",
   "metadata": {},
   "source": [
    "# GUI - Nine Men Morris"
   ]
  },
  {
   "cell_type": "code",
   "execution_count": 1,
   "metadata": {},
   "outputs": [],
   "source": [
    "import ipycanvas\n",
    "from ipycanvas import Canvas, MultiCanvas"
   ]
  },
  {
   "cell_type": "markdown",
   "metadata": {},
   "source": [
    "## Mögliche Positionen\n",
    "\n",
    "<img src=\"board_positions.png\" alt=\"Mögliche Positionen\" width=\"400\"/>"
   ]
  },
  {
   "cell_type": "code",
   "execution_count": 2,
   "metadata": {},
   "outputs": [],
   "source": [
    "positions = [[0.05, 0.05], [0.50, 0.05], [0.95, 0.05], [0.95, 0.50], [0.95, 0.95], [0.50, 0.95], [0.05, 0.95], [0.05, 0.50],\n",
    "             [0.20, 0.20], [0.50, 0.20], [0.80, 0.20], [0.80, 0.50], [0.80, 0.80], [0.50, 0.80], [0.20, 0.80], [0.20, 0.50],\n",
    "             [0.35, 0.35], [0.50, 0.35], [0.65, 0.35], [0.65, 0.50], [0.65, 0.65], [0.50, 0.65], [0.35, 0.65], [0.35, 0.50]]"
   ]
  },
  {
   "cell_type": "markdown",
   "metadata": {},
   "source": [
    "## Initialisierung Canvas\n",
    "\n",
    "**Aufbau Leinwand:**\n",
    "\n",
    "board\\[Hintergrund, Linien, Steine]\n",
    "\n",
    "* BOARD_SIZE = Größe des Spielfeldes in Pixeln\n",
    "* DOT_RADIUS = Radius der schwarzen kleinen Punkte, die mögliche Positionen markieren (in Abhängigkeit von der Spielfeldgröße)"
   ]
  },
  {
   "cell_type": "code",
   "execution_count": 3,
   "metadata": {},
   "outputs": [],
   "source": [
    "BOARD_SIZE = 300\n",
    "DOT_RADIUS = BOARD_SIZE*0.025\n",
    "\n",
    "#board[Hintergrund, Linien, Steine]\n",
    "board = MultiCanvas(3, width=BOARD_SIZE)\n",
    "\n",
    "# Hintergrund\n",
    "board[0].fill_style = '#ffffcc'\n",
    "board[0].fill_rect(0, 0, BOARD_SIZE)\n",
    "\n",
    "# Strichstärke\n",
    "board[1].line_width = 5\n",
    "\n",
    "# Quadrate\n",
    "board[1].stroke_rect(BOARD_SIZE*0.05, BOARD_SIZE*0.05, BOARD_SIZE*0.90) # Außenring\n",
    "board[1].stroke_rect(BOARD_SIZE*0.20, BOARD_SIZE*0.20, BOARD_SIZE*0.60) # Mittelring\n",
    "board[1].stroke_rect(BOARD_SIZE*0.35, BOARD_SIZE*0.35, BOARD_SIZE*0.30) # Innenring\n",
    "\n",
    "# Linien\n",
    "board[1].begin_path()\n",
    "board[1].move_to(BOARD_SIZE*0.50, BOARD_SIZE*0.05) #oben\n",
    "board[1].line_to(BOARD_SIZE*0.50, BOARD_SIZE*0.35)\n",
    "board[1].move_to(BOARD_SIZE*0.95, BOARD_SIZE*0.50) #rechts\n",
    "board[1].line_to(BOARD_SIZE*0.65, BOARD_SIZE*0.50)\n",
    "board[1].move_to(BOARD_SIZE*0.50, BOARD_SIZE*0.95) #unten\n",
    "board[1].line_to(BOARD_SIZE*0.50, BOARD_SIZE*0.65)\n",
    "board[1].move_to(BOARD_SIZE*0.05, BOARD_SIZE*0.50) #links\n",
    "board[1].line_to(BOARD_SIZE*0.35, BOARD_SIZE*0.50)\n",
    "board[1].stroke()\n",
    "\n",
    "# Punkte (außen, mitte, innen)\n",
    "for x,y in positions:\n",
    "     board[1].fill_arc(BOARD_SIZE*x, BOARD_SIZE*y, DOT_RADIUS, 0, 360)"
   ]
  },
  {
   "cell_type": "markdown",
   "metadata": {},
   "source": [
    "## Status des Spielfelds\n",
    "* 0 = kein Stein\n",
    "* 1 = weißer Stein\n",
    "* 2 = brauner Stein"
   ]
  },
  {
   "cell_type": "code",
   "execution_count": 4,
   "metadata": {},
   "outputs": [],
   "source": [
    "class status():\n",
    "    pieces =[[0], [0], [0],\n",
    "             [0], [0],\n",
    "             [0], [0], [0],\n",
    "             [0], [0], [0],\n",
    "             [0], [0],\n",
    "             [0], [0], [0], \n",
    "             [0], [0], [0], \n",
    "             [0], [0],\n",
    "             [0], [0], [0]]"
   ]
  },
  {
   "cell_type": "markdown",
   "metadata": {},
   "source": [
    "## Spielsteine anzeigen"
   ]
  },
  {
   "cell_type": "code",
   "execution_count": 5,
   "metadata": {},
   "outputs": [],
   "source": [
    "PIECE_RADIUS = BOARD_SIZE*0.04\n",
    "\n",
    "def update_board(status):\n",
    "    with ipycanvas.hold_canvas(board):\n",
    "        board[2].clear()\n",
    "        for piece in range(24):\n",
    "            value = status.pieces[piece][0]\n",
    "            if value == 1:\n",
    "                board[2].fill_style = 'white'\n",
    "                board[2].fill_arc(BOARD_SIZE*positions[piece][0], BOARD_SIZE*positions[piece][1], PIECE_RADIUS, 0, 360)\n",
    "            if value == 2:\n",
    "                board[2].fill_style = 'brown'\n",
    "                board[2].fill_arc(BOARD_SIZE*positions[piece][0], BOARD_SIZE*positions[piece][1], PIECE_RADIUS, 0, 360)\n",
    "    return board"
   ]
  },
  {
   "cell_type": "code",
   "execution_count": 6,
   "metadata": {},
   "outputs": [
    {
     "data": {
      "application/vnd.jupyter.widget-view+json": {
       "model_id": "cc27dbb2f155497caae438e10ca6e1ef",
       "version_major": 2,
       "version_minor": 0
      },
      "text/plain": [
       "MultiCanvas(width=300)"
      ]
     },
     "metadata": {},
     "output_type": "display_data"
    }
   ],
   "source": [
    "my_status = status()\n",
    "\n",
    "my_status.pieces =[[0], [0], [0],\n",
    "             [0], [0],\n",
    "             [0], [0], [0],\n",
    "             [0], [0], [0],\n",
    "             [2], [0],\n",
    "             [0], [0], [1], \n",
    "             [0], [2], [0], \n",
    "             [0], [0],\n",
    "             [0], [1], [0]]\n",
    "update_board(my_status)"
   ]
  },
  {
   "cell_type": "code",
   "execution_count": 7,
   "metadata": {},
   "outputs": [],
   "source": [
    "def handle_mouse_down(x, y):\n",
    "    print(x, y)\n",
    "    board[2].fill_style = '#000000'\n",
    "    board[2].fill_arc(x, y, PIECE_RADIUS, 0, 365)\n",
    "    board[2].begin_path()\n",
    "    \n",
    "board[2].on_mouse_down(handle_mouse_down)"
   ]
  },
  {
   "cell_type": "code",
   "execution_count": null,
   "metadata": {},
   "outputs": [],
   "source": []
  }
 ],
 "metadata": {
  "kernelspec": {
   "display_name": "Python 3",
   "language": "python",
   "name": "python3"
  },
  "language_info": {
   "codemirror_mode": {
    "name": "ipython",
    "version": 3
   },
   "file_extension": ".py",
   "mimetype": "text/x-python",
   "name": "python",
   "nbconvert_exporter": "python",
   "pygments_lexer": "ipython3",
   "version": "3.8.3"
  }
 },
 "nbformat": 4,
 "nbformat_minor": 4
}
