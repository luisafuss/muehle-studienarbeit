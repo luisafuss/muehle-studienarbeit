{
 "cells": [
  {
   "cell_type": "code",
   "execution_count": null,
   "source": [
    "%%HTML\n",
    "<style>\n",
    ".container { width:100% }\n",
    "</style>"
   ],
   "outputs": [],
   "metadata": {}
  },
  {
   "cell_type": "markdown",
   "source": [
    "# Anmerkungen Prof. Dr. Stroetmann - 04.06.2021"
   ],
   "metadata": {}
  },
  {
   "cell_type": "markdown",
   "source": [
    "Anmerkungen, die eingearbeitet wurden sind <span style=\"background-color:lightgreen\">grün</span> markiert und gegebenenfalls mit einem **Kommentar** versehen."
   ],
   "metadata": {}
  },
  {
   "cell_type": "markdown",
   "source": [
    "## Allgemeines"
   ],
   "metadata": {}
  },
  {
   "cell_type": "markdown",
   "source": [
    "<span style=\"background-color:lightgreen\">1. Der Befehl `conda create -f environment.yml` ist unvollständig.  Richtig wäre:</span>\n",
    "   ```\n",
    "   conda create -f environment.yml -n muehle\n",
    "   ```\n",
    "   **Dies ist nicht notwendig, da der Name in der environment.yml notiert ist.**\n",
    "   \n",
    "   <span style=\"background-color:lightgreen\">Leider funktioniert es dann auf meinem Rechner immer noch nicht.  Ich bekomme\n",
    "   den Fehler</span>\n",
    "   ```\n",
    "   Collecting package metadata (repodata.json): done\n",
    "   Solving environment: failed\n",
    "\n",
    "   ResolvePackageNotFound:\n",
    "\t- ipycanvas==0.8.2\n",
    "   ```\n",
    "   <span style=\"background-color:lightgreen\">Das Problem ist, dass `ipycanvas` nur über `conda-forge` installiert werden kann.\n",
    "   Um alles zu installieren, habe ich folgende Befehle ausgeführt:</span>\n",
    "   ```\n",
    "   conda create -n muehle\n",
    "   conda activate muehle\n",
    "   conda install ipykernel\n",
    "   conda install ipywidgets\n",
    "   conda install -c conda-forge ipycanvas\n",
    "   ```\n",
    "   <span style=\"background-color:lightgreen\">Schreiben Sie das am Besten auch so ins `README.md` rein.</span>\n",
    "\n",
    "   <span style=\"background-color:lightgreen\">In der Datei `Muehle_Introduction.ipynb` findet sich das selbe Problem.</span>\n",
    "       \n",
    "   **Dies wurde behoben, in dem in der `environment.yml` der channel angepasst wurde.**"
   ],
   "metadata": {}
  },
  {
   "cell_type": "markdown",
   "source": [
    "<span style=\"background-color:lightgreen\">2.In der Datei `requirements.txt` steht noch das Modul `voila` drin.\n",
    "   Wird das tatsächlich gebraucht?</span>\n",
    "   \n",
    "   **Wurde entfernt**"
   ],
   "metadata": {}
  },
  {
   "cell_type": "markdown",
   "source": [
    "## Muehle_Introduction"
   ],
   "metadata": {}
  },
  {
   "cell_type": "markdown",
   "source": [
    "<span style=\"background-color:lightgreen\">3. In der Datei `Muehle_Introduction.ipynb` steht bei</span>\n",
    "   ```\n",
    "   Walter Schlee, Einführung in die Spieltheorie: mit Beispielen und Aufgaben, ISBN 3-528-03214-6, S. 95\n",
    "   ```\n",
    "   <span style=\"background-color:lightgreen\">Warum wird hier nicht das Jahr und der Verlag mit aufgeführt, wie bei dem anderen Literatur-Zitat?</span>\n",
    "\n",
    "\n",
    "   <span style=\"background-color:lightgreen\">Weiter steht dort:</span>\n",
    "   ```\n",
    "   * 0 bis 9 schwarze Steine zwei auf dem Feld\n",
    "   ```\n",
    "  <span style=\"background-color:lightgreen\"> Da muss die `zwei` weg.</span>"
   ],
   "metadata": {}
  },
  {
   "cell_type": "markdown",
   "source": [
    "<span style=\"background-color:lightgreen\">4. Sie verwenden in der Datei `Muehle_Introduction.ipynb` das Modul `scipy`.  Das findet sich aber nicht in der Datei `environment.yml` oder in `requirements.txt`.</span>"
   ],
   "metadata": {}
  },
  {
   "cell_type": "markdown",
   "source": [
    "<span style=\"background-color:lightgreen\"> 5. Wenn Sie in der Datei `Muehle_Introduction.ipynb` den Befehl zur Anzeige der Zustände in</span>\n",
    "   ```\n",
    "   print(\"Die Anzahl der Zustände beträgt \" + \"{:,}\".format(int(anzahl_zustaende))+\".\")\n",
    "   ```\n",
    "  <span style=\"background-color:lightgreen\"> ändern, dann wird die Zahl mit Kommas nach den Tausendern ausgegeben und ist besser lesbar.</span>"
   ],
   "metadata": {}
  },
  {
   "cell_type": "markdown",
   "source": [
    "<span style=\"background-color:lightgreen\"> 6. In der Datei `Muehle_Introduction.ipynb` schreiben Sie:</span>\n",
    "   ```\n",
    "   * Sprungphase: Die Spieler ziehen einen ihrer Spielsteine von einer Position auf eine beliebige leere Position\n",
    "   ```\n",
    "   <span style=\"background-color:lightgreen\"> Besser wäre:</span>\n",
    "   ```\n",
    "   ** Sprungphase: Die Spieler springen mit einen ihrer Spielsteine auf eine beliebige leere Position\n",
    "   ```"
   ],
   "metadata": {}
  },
  {
   "cell_type": "markdown",
   "source": [
    "## Muehle_GUI $\\rightarrow$ @Luisa"
   ],
   "metadata": {}
  },
  {
   "cell_type": "markdown",
   "source": [
    "<span style=\"background-color:lightgreen\"> 7. In der Datei `Muehle_GUI.ipynb` steht:</span> \n",
    "   ```\n",
    "   * `PLAYER` = Spielsteinfarben der Spieler\n",
    "   ```\n",
    "<span style=\"background-color:lightgreen\">Gemeint ist</span> \n",
    "   ```\n",
    "   * `PLAYER_COLOUR` = Spielsteinfarben der Spieler\n",
    "   ```\n",
    "<span style=\"background-color:lightgreen\">Außerdem steht in der Zeile darüber:</span> \n",
    "   ```\n",
    "   * `PLAYER` = Spieler   \n",
    "   ```\n",
    "<span style=\"background-color:lightgreen\">Das ist falsch, denn gemeint ist die Liste der Spieler.</span> "
   ],
   "metadata": {}
  },
  {
   "cell_type": "markdown",
   "source": [
    "<span style=\"background-color:lightgreen\"> 8. In der Datei `Muehle_GUI.ipynb` steht:</span> \n",
    "   ```\n",
    "   canvas = Liste aus 3 Listen, die angeben, ob, und wenn ja welcher Stein dort sitzt.\n",
    "   ```\n",
    "<span style=\"background-color:lightgreen\">   Sie meinen hier nicht `canvas`, sondern `board`.</span> "
   ],
   "metadata": {}
  },
  {
   "cell_type": "markdown",
   "source": [
    "<span style=\"background-color:lightgreen\"> 9. In der Datei `Muehle_GUI.ipynb` steht:</span> \n",
    "   ```\n",
    "   state = [remaining, board]\n",
    "   ```\n",
    "<span style=\"background-color:lightgreen\">An dieser Stelle ist `board` aber noch nicht definiert worden.</span> "
   ],
   "metadata": {}
  },
  {
   "cell_type": "markdown",
   "source": [
    "<span style=\"background-color:lightgreen\">10. In der Datei `Muehle_GUI.ipynb` steht:</span> \n",
    "```\n",
    "`init_canvas()` erstellt den Aufbau des Spielfeldes.\n",
    "```\n",
    "    \n",
    "<span style=\"background-color:lightgreen\">Das ist sehr umständlich und ungenau formuliert.  Besser:</span> \n",
    "```\n",
    "`init_canvas()` zeichnet das Spielfeldes.\n",
    "```"
   ],
   "metadata": {}
  },
  {
   "cell_type": "markdown",
   "source": [
    "<span style=\"background-color:lightgreen\">11. In der Datei `Muehle_GUI.ipynb` steht:</span> \n",
    "```\n",
    "canvas[1].stroke_rect(BOARD_SIZE * col(0), BOARD_SIZE * row(0), BOARD_SIZE * (1 - row(0) - col(0))) #ring 0\n",
    "```\n",
    "<span style=\"background-color:lightgreen\">Logischer wäre es, wenn die Breite als `BOARD_SIZE * (1 - 2 * row(0))` berechnete würde.</span> "
   ],
   "metadata": {}
  },
  {
   "cell_type": "markdown",
   "source": [
    "<span style=\"background-color:lightgreen\">12. In der Datei `Muehle_GUI.ipynb` steht:</span> \n",
    "```\n",
    "def highlight_positions(canvas, highlight_positions, colour = COLOUR_HINT, just_inner = False):\n",
    "    with ipycanvas.hold_canvas(canvas):\n",
    "        for (ring, cell) in highlight_positions:\n",
    "            if(ring, cell) != (None, None):\n",
    "                canvas[2].fill_style = colour\n",
    "                canvas[2].global_alpha = TRANSPARENCY_HINT\n",
    "                radius = PIECE_RADIUS if not just_inner else PIECE_RADIUS * 0.3\n",
    "                canvas[2].fill_arc(BOARD_SIZE * POSITIONS[ring][cell][0], BOARD_SIZE * POSITIONS[ring][cell][1], radius, 0, 360)\n",
    "```\n",
    "<span style=\"background-color:lightgreen\">Wie kann es denn passieren, dass die Bedingung `(ring, cell) != (None, None)` erfüllt ist?</span> \n",
    "    \n",
    "   **Die Funktion markiert auch den zuletzt bewegten Stein. Ist der Stein ein Stein, der geschlagen wurde, ist seine neue Position `(None, None)`, da er sich nicht mehr auf dem Spielfeld befindet**"
   ],
   "metadata": {}
  },
  {
   "cell_type": "markdown",
   "source": [
    "<span style=\"background-color:lightgreen\">13. Die Implementierung der Funktion `update_canvas` ist an der Stelle, in der sie auftritt,\n",
    "    unverständlich, weil die Klasse `Game` noch gar nicht definiert ist.  Außerdem werden dort\n",
    "    globale Variablen verwendet, die erst später definiert werden. Warum ist diese Funktion\n",
    "    keine Methode der Klasse `update_canvas`?</span> \n",
    "    \n",
    "   **Ist jetzt eine Funktion der Klasse und wird später eingeführt.**"
   ],
   "metadata": {}
  },
  {
   "cell_type": "markdown",
   "source": [
    "<span style=\"background-color:lightgreen\">14. Am Anfang des Kommentars zur Klasse `Game` schreiben Sie:\n",
    "    \"Der Status speichert die aktuelle Situation des Spielfeldes.\"\n",
    "    Es ist  unklar, was mit \"der Status\" gemeint ist.\n",
    "    Außerdem wird die Variablen `moves_without_mill` nicht erklärt.</span> "
   ],
   "metadata": {}
  },
  {
   "cell_type": "markdown",
   "source": [
    "<span style=\"background-color:lightgreen\">15. Sie schreiben `color` mal als `color` und dann als `colour`.</span>\n",
    "\n",
    "**Wir verwenden durchgehend die Schreibweise `colour`. `color` tritt an drei Stellen auf, da es sich hier um Variablen von `ipywidgets` bzw. `ipcanvas` handelt.**"
   ],
   "metadata": {}
  },
  {
   "cell_type": "markdown",
   "source": [
    "<span style=\"background-color:lightgreen\">16. Die Parameter `x` und `y` in der Funktion `play_game` sollten erklärt werden.</span>\n",
    "   <span style=\"background-color:red\"> **Noch zu erledigen:** Außerdem ist diese Funktion viel zu lang und sollte restrukturiert werden.</span>"
   ],
   "metadata": {}
  },
  {
   "cell_type": "markdown",
   "source": [
    " <span style=\"background-color:lightgreen\">17. Sie schreiben in der Funktion algo_step:\n",
    "    ```\n",
    "    if number_opponent_stones_before > number_opponent_stones_after:\n",
    "        self.moves_without_mill = -1\n",
    "    ```\n",
    "    Warum wird hier `self.moves_without_mill` nicht auf `0` zurück gesetzt?</span>\n",
    "    \n",
    "   **Im Endeffekt wird sie das, denn im nächsten Schritt wird, wie in jedem anderen Fall auch, die Variable um 1 erhöht, sodass sich dann der Wert `0` ergibt.**"
   ],
   "metadata": {}
  },
  {
   "cell_type": "markdown",
   "source": [
    " <span style=\"background-color:lightgreen\">18. Sie verwechseln Züge und Halbzüge.  Ein Zug besteht aus zwei Halbzügen, bei denen erst\r\n",
    "    Weiß einen Stein bewegt und dann Schwarz.  Das ist insofern wichtig, weil die Remi-Regel\r\n",
    "    sagt, dass ein Spiel Remi ist, wenn 30 Züge lang keine Mühle gebildet wurde.  Bei Ihnen\r\n",
    "    ist das Spiel aber schon nach 15 Zügen remi.</span>"
   ],
   "metadata": {}
  },
  {
   "cell_type": "markdown",
   "source": [
    "## Muehle_Logic"
   ],
   "metadata": {}
  },
  {
   "cell_type": "markdown",
   "source": [
    "19. In der Datei `Muehle_Logic.ipynb` schreiben Sie:\r\n",
    "    ```\r\n",
    "    def get_player_phase(state, player):\r\n",
    "    \t[remaining, board] = state\r\n",
    "\tif remaining[player - 1] >= 1: \r\n",
    "            return 1\r\n",
    "\telif count_player_pieces(board, player) == 3:\r\n",
    "\t    return 3\r\n",
    "        else:\r\n",
    "            return 2\r\n",
    "    ```\r\n",
    "    Der zweite Test müsste eigentlich die folgende Form haben:\r\n",
    "    ```\r\n",
    "    elif count_player_pieces(board, player) <= 3:\r\n",
    "    ```"
   ],
   "metadata": {}
  },
  {
   "cell_type": "markdown",
   "source": [
    "20. In der Datei `Muehle_Logic.ipynb` schreiben Sie in der Funktion `next_positions`:\n",
    "    ```\n",
    "    if (phase == 1 or phase == 3)\n",
    "    ```\n",
    "    Kürzer wäre folgendes:\n",
    "    ```\n",
    "    if phase != 2 \n",
    "    ```\n",
    "    Außerdem brauchen Sie bei `if` keine Klammern."
   ],
   "metadata": {}
  },
  {
   "cell_type": "markdown",
   "source": [
    "23. In der Datei `Muehle_Logic.ipynb` wäre es möglich, die gemeinsamen Teile aus den Funktionen\n",
    "    `next_states_phase_one`, `next_states_phase_two` und `next_states_phase_three`\n",
    "    herauszufaktorisieren und dadurch das Programm zu vereinfachen.  Beispielsweise ist der\n",
    "    dritte Schritt für alle Funktionen gleich."
   ],
   "metadata": {}
  },
  {
   "cell_type": "markdown",
   "source": [
    "## Muehle_Utilities"
   ],
   "metadata": {}
  },
  {
   "cell_type": "markdown",
   "source": [
    "21. Die Funktion `beat_pieces` in `Muehle_Utilities.ipynb` hat die Form:\n",
    "    ```\n",
    "    def beat_pieces(board, count, player):\n",
    "        if count <= 0: return [board]\n",
    "        \n",
    "        boards = []\n",
    "        beatable_pieces = get_opponent_beatable_pieces(board, player)\n",
    "        for ring, cell in beatable_pieces:\n",
    "            new_board = copy.deepcopy(board)\n",
    "            new_board[ring][cell] = 0\n",
    "            boards.extend(beat_pieces(new_board, count - 1, player))\n",
    "        \n",
    "        # Duplikate entfernen\n",
    "        result = []\n",
    "        for board in boards:\n",
    "            if board not in result:\n",
    "                result.append(board)\n",
    "        return result\n",
    "    ```\n",
    "    Der Fall, dass tatsächlich zwei Steine des Gegeners zu entfernen sind, ist sehr selten.\n",
    "    Nur in diesem Fall ist es notwendig, Duplikate zu entfernen.  Daher wäre es besser,\n",
    "    am Anfang der Funktion zu testen, ob `count == 1` und in diesem Fall dann keine Duplikate\n",
    "    zu entfernen."
   ],
   "metadata": {}
  },
  {
   "cell_type": "markdown",
   "source": [
    "22. Die Berechnung neuer Mühlen ist nicht besonders effizient.  Es wäre effizienter zu überprüfen,\n",
    "    ob durch das Setzen des letzten Steins eine Mühle entstanden ist, anstatt alle Mühlen auf dem\n",
    "    Brett neu zu berechnen."
   ],
   "metadata": {}
  },
  {
   "cell_type": "markdown",
   "source": [
    "## Muehle_Heuristic"
   ],
   "metadata": {}
  },
  {
   "cell_type": "markdown",
   "source": [
    "24. In der Datei `Muehle_Heuristic.ipynb` wäre die Berechnung der Heuristik wesentlich effizienter,\n",
    "    wenn diese inkrementell durchgeführt würden.  Dazu müsste die Darstellung der Zustände so\n",
    "    geändert werden, dass dort schon die Anzahl der Steine und Mühlen abgelegt ist."
   ],
   "metadata": {}
  },
  {
   "cell_type": "markdown",
   "source": [
    "## Muehle_Algo $\\rightarrow$ @Julian"
   ],
   "metadata": {}
  },
  {
   "cell_type": "markdown",
   "source": [
    "25. In der Datei `Muehle_Algo.ipynb` schreiben Sie:\r\n",
    "    ``` \r\n",
    "    def memoize(f):\r\n",
    "        global Cache_Memoize\r\n",
    "        \r\n",
    "        def f_memoized(*args):\r\n",
    "            key = (args[0], args[1], args[2])\r\n",
    "            if key in Cache_Memoize:\r\n",
    "                return Cache_Memoize[key]\r\n",
    "            result = f(*args)\r\n",
    "            Cache_Memoize[key] = result\r\n",
    "            return result\r\n",
    "        \r\n",
    "        return f_memoized\r\n",
    "    ```\r\n",
    "     <span style=\"background-color:lightgreen\">Die Zeile `key = (args[0], args[1], args[2])` ist überflüssig und schränkt die Anwendbarkeit\r\n",
    "    der Funktion `memoize` unnötig ein.  Es wäre einfacher, überall mit `args` zu arbeiten und\r\n",
    "    die Variable `key` gar nicht zu verwenden.</span>"
   ],
   "metadata": {}
  },
  {
   "cell_type": "markdown",
   "source": [
    "26. In der Datei `Muehle_Algo.ipynb` schreiben Sie:\r\n",
    "    ```\r\n",
    "    Quelle: [https://stackabuse.com/minimax-and-alpha-beta-pruning-in-python/]\r\n",
    "    ```\r\n",
    "     <span style=\"background-color:lightgreen\">Wegen der eckigen Klammern funktioniert das nicht.  Richtig wäre:\r\n",
    "    ```\r\n",
    "    Quelle: (https://stackabuse.com/minimax-and-alpha-beta-pruning-in-python/)\r\n",
    "    ```\r\n",
    "    </span>\r\n",
    "    Außerdem sollten Sie bei jeder Quelle wenn möglich auch den Autor und die Jahreszahl\r\n",
    "    angeben."
   ],
   "metadata": {}
  },
  {
   "cell_type": "markdown",
   "source": [
    "27. In der Datei `Muehle_Algo.ipynb` schreiben Sie:\r\n",
    " <span style=\"background-color:lightgreen\">\r\n",
    "    ```\r\n",
    "    $\\alpha \\leq \\texttt{value_ab}(state, player) \\leq \\beta \\;\\rightarrow\\;\\texttt{alpha_beta}(state, player, \\alpha, \\beta) = \\texttt{value}(state,player)$\r\n",
    "    ```\r\n",
    "    Hier muss auch in der Bedingung die Funktion `value` verwendet werden.\r\n",
    "</span>"
   ],
   "metadata": {}
  },
  {
   "cell_type": "markdown",
   "source": [
    "28. In der Datei `Muehle_Algo.ipynb` schreiben Sie:\r\n",
    "    ```\r\n",
    "    def best_move_ab(state, player, depth):\r\n",
    "        ns     = next_states(state, player)\r\n",
    "        moves  = []\r\n",
    "        values = []\r\n",
    "        ### iterative deepening\r\n",
    "        for s in ns:\r\n",
    "            distance = 1\r\n",
    "            while distance <= (depth - 1):\r\n",
    "                value = -value_ab(s, opponent(player), depth = distance)\r\n",
    "                distance += 1\r\n",
    "            values = values + [value]\r\n",
    "            moves = moves + [s]\r\n",
    "        ###\r\n",
    "        best_value = max(values)\r\n",
    "        best_moves = []\r\n",
    "        for i in range(0,len(values)):\r\n",
    "            if values[i] == best_value:\r\n",
    "                best_moves = best_moves + [moves[i]]\r\n",
    "        best_state = random.choice(best_moves)\r\n",
    "        return best_value, best_state\r\n",
    "    ```\r\n",
    "    So, wie Sie hier mit \"iterative deepening\" arbeiten, bringt das nichts.  Der Sinn der Iterativen Tiefensuche\r\n",
    "    besteht darin, die Züge beim Alpha-Beta-Pruning vorzusortieren, so dass immer der erfolgsversprechenste Zug\r\n",
    "     <span style=\"background-color:lightgreen\">\r\n",
    "    zuerst untersucht wird.  In der Funktion `alpha_beta` iterieren Sie aber direkt über `next_states(state, player)`,\r\n",
    "    ohne dass Sie diese Zustände sortieren.\r\n",
    "    </span>"
   ],
   "metadata": {}
  },
  {
   "cell_type": "markdown",
   "source": [
    "29.  <span style=\"background-color:lightgreen\">Wenn ich alpha-beta-Pruning gegen Minimax spielen lasse, dann enthält am Ende der Cache `Cache_AB` mehr\r\n",
    "    Zustände als der Cache `Cache_Memoize`.  Das würde darauf hindeuten, dass das Alpha-Beta-Pruning nicht\r\n",
    "    richtig funktioniert.  Außerdem verbraucht alpha-beta-Pruning tatsächlich mehr Zeit als Minimax.\r\n",
    "     </span>\r\n",
    "      <span style=\"background-color:red\">\r\n",
    "    Das kann daran liegen, dass alpha-beta-Pruning immer Weiß hat, während Minimax mit Schwarz spielt.\r\n",
    "    Leider kann ich das mit dem Interface, dass Sie implementiert haben, so nicht untersuchen.\r\n",
    "    </span>"
   ],
   "metadata": {}
  },
  {
   "cell_type": "markdown",
   "source": [
    "## Muehle_Conclusion"
   ],
   "metadata": {}
  },
  {
   "cell_type": "markdown",
   "source": [
    "30. Es ist unklar, wie Sie die Tabelle, die Sie in `Muehle_Conclusion.ipynb` zeigen erstellt haben.\n",
    "    Die Erstellung einer solchen Tabelle sollte automatisiert werden, sonst ist es nicht nachvollziehbar.  "
   ],
   "metadata": {}
  }
 ],
 "metadata": {
  "kernelspec": {
   "display_name": "Python 3",
   "language": "python",
   "name": "python3"
  },
  "language_info": {
   "codemirror_mode": {
    "name": "ipython",
    "version": 3
   },
   "file_extension": ".py",
   "mimetype": "text/x-python",
   "name": "python",
   "nbconvert_exporter": "python",
   "pygments_lexer": "ipython3",
   "version": "3.8.3"
  }
 },
 "nbformat": 4,
 "nbformat_minor": 4
}