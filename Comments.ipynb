{
 "cells": [
  {
   "cell_type": "code",
   "execution_count": null,
   "metadata": {},
   "outputs": [],
   "source": [
    "%%HTML\n",
    "<style>\n",
    ".container { width:100% }\n",
    "</style>"
   ]
  },
  {
   "cell_type": "markdown",
   "metadata": {},
   "source": [
    " # Anmerkungen Prof. Dr. Stroetmann - 04.06.2021"
   ]
  },
  {
   "cell_type": "markdown",
   "metadata": {},
   "source": [
    "Im ersten Abschnitt finden sich alle eingeareiteten Anmerkungen; im unteren jene, welche nicht umgesetzt wurden. Kommentare sind **fett** geschrieben."
   ]
  },
  {
   "cell_type": "markdown",
   "metadata": {},
   "source": [
    "[Abgearbeitet](#Abgearbeitet)\n",
    "\n",
    "[ToDo](#ToDo)"
   ]
  },
  {
   "cell_type": "markdown",
   "metadata": {},
   "source": [
    "##  Abgearbeitet\n",
    "\n",
    " ### Allgemeines"
   ]
  },
  {
   "cell_type": "markdown",
   "metadata": {},
   "source": [
    "1. Der Befehl `conda create -f environment.yml` ist unvollständig.  Richtig wäre:\n",
    "    ```\n",
    "    conda create -f environment.yml -n muehle\n",
    "    ```\n",
    "    **Dies ist nicht notwendig, da der Name in der environment.yml notiert ist.**\n",
    "\n",
    "    Leider funktioniert es dann auf meinem Rechner immer noch nicht.  Ich bekomme\n",
    "    den Fehler\n",
    "    ```\n",
    "    Collecting package metadata (repodata.json): done\n",
    "    Solving environment: failed\n",
    "\n",
    "    ResolvePackageNotFound:\n",
    " \t- ipycanvas==0.8.2\n",
    "    ```\n",
    "    Das Problem ist, dass `ipycanvas` nur über `conda-forge` installiert werden kann.\n",
    "    Um alles zu installieren, habe ich folgende Befehle ausgeführt:\n",
    "    ```\n",
    "    conda create -n muehle\n",
    "    conda activate muehle\n",
    "    conda install ipykernel\n",
    "    conda install ipywidgets\n",
    "    conda install -c conda-forge ipycanvas\n",
    "    ```\n",
    "    Schreiben Sie das am Besten auch so ins `README.md` rein.\n",
    "\n",
    "    In der Datei `Muehle_Introduction.ipynb` findet sich das selbe Problem.\n",
    "\n",
    "    **Dies wurde behoben, in dem in der `environment.yml` der channel angepasst wurde.**"
   ]
  },
  {
   "cell_type": "markdown",
   "metadata": {},
   "source": [
    "2. In der Datei `requirements.txt` steht noch das Modul `voila` drin. Wird das tatsächlich gebraucht?</span>\n",
    "\n",
    "    **Wurde entfernt**"
   ]
  },
  {
   "cell_type": "markdown",
   "metadata": {},
   "source": [
    " ### Muehle_Introduction"
   ]
  },
  {
   "cell_type": "markdown",
   "metadata": {},
   "source": [
    "3. In der Datei `Muehle_Introduction.ipynb` steht bei\n",
    "    ```\n",
    "    Walter Schlee, Einführung in die Spieltheorie: mit Beispielen und Aufgaben, ISBN 3-528-03214-6, S. 95\n",
    "    ```\n",
    "    Warum wird hier nicht das Jahr und der Verlag mit aufgeführt, wie bei dem anderen Literatur-Zitat?\n",
    "\n",
    "\n",
    "    Weiter steht dort:\n",
    "    ```\n",
    "    * 0 bis 9 schwarze Steine zwei auf dem Feld\n",
    "    ```\n",
    "    Da muss die `zwei` weg."
   ]
  },
  {
   "cell_type": "markdown",
   "metadata": {},
   "source": [
    "4. Sie verwenden in der Datei `Muehle_Introduction.ipynb` das Modul `scipy`.  Das findet sich aber nicht in der Datei `environment.yml` oder in `requirements.txt`."
   ]
  },
  {
   "cell_type": "markdown",
   "metadata": {},
   "source": [
    "5. Wenn Sie in der Datei `Muehle_Introduction.ipynb` den Befehl zur Anzeige der Zustände in\n",
    "    ```\n",
    "    print(\"Die Anzahl der Zustände beträgt \" + \"{:,}\".format(int(anzahl_zustaende))+\".\")\n",
    "    ```\n",
    "   ändern, dann wird die Zahl mit Kommas nach den Tausendern ausgegeben und ist besser lesbar."
   ]
  },
  {
   "cell_type": "markdown",
   "metadata": {},
   "source": [
    "6. In der Datei `Muehle_Introduction.ipynb` schreiben Sie:\n",
    "    ```\n",
    "    * Sprungphase: Die Spieler ziehen einen ihrer Spielsteine von einer Position auf eine beliebige leere Position\n",
    "    ```\n",
    "    Besser wäre:\n",
    "    ```\n",
    "    * Sprungphase: Die Spieler springen mit einen ihrer Spielsteine auf eine beliebige leere Position\n",
    "    ```"
   ]
  },
  {
   "cell_type": "markdown",
   "metadata": {},
   "source": [
    " ### Muehle_GUI"
   ]
  },
  {
   "cell_type": "markdown",
   "metadata": {},
   "source": [
    "7. In der Datei `Muehle_GUI.ipynb` steht:\n",
    "    ```\n",
    "    * `PLAYER` = Spielsteinfarben der Spieler\n",
    "    ```\n",
    "    Gemeint ist\n",
    "    ```\n",
    "    * `PLAYER_COLOUR` = Spielsteinfarben der Spieler\n",
    "    ```\n",
    "    Außerdem steht in der Zeile darüber:\n",
    "    ```\n",
    "    * `PLAYER` = Spieler\n",
    "    ```\n",
    "    Das ist falsch, denn gemeint ist die Liste der Spieler."
   ]
  },
  {
   "cell_type": "markdown",
   "metadata": {},
   "source": [
    "8. In der Datei `Muehle_GUI.ipynb` steht:\n",
    "    ```\n",
    "    canvas = Liste aus 3 Listen, die angeben, ob, und wenn ja welcher Stein dort sitzt.\n",
    "    ```\n",
    "    Sie meinen hier nicht `canvas`, sondern `board`."
   ]
  },
  {
   "cell_type": "markdown",
   "metadata": {},
   "source": [
    "9. In der Datei `Muehle_GUI.ipynb` steht:</span>\n",
    "    ```\n",
    "    state = [remaining, board]\n",
    "    ```\n",
    "    An dieser Stelle ist `board` aber noch nicht definiert worden."
   ]
  },
  {
   "cell_type": "markdown",
   "metadata": {},
   "source": [
    "10. In der Datei `Muehle_GUI.ipynb` steht:\n",
    "     ```\n",
    "     `init_canvas()` erstellt den Aufbau des Spielfeldes.\n",
    "     ```\n",
    "    Das ist sehr umständlich und ungenau formuliert. Besser:\n",
    "     ```\n",
    "     `init_canvas()` zeichnet das Spielfeldes.\n",
    "     ```"
   ]
  },
  {
   "cell_type": "markdown",
   "metadata": {},
   "source": [
    "11. In der Datei `Muehle_GUI.ipynb` steht:\n",
    "     ```\n",
    "     canvas[1].stroke_rect(BOARD_SIZE * col(0), BOARD_SIZE * row(0), BOARD_SIZE * (1 - row(0) - col(0))) #ring 0\n",
    "     ```\n",
    "    Logischer wäre es, wenn die Breite als `BOARD_SIZE * (1 - 2 * row(0))` berechnete würde."
   ]
  },
  {
   "cell_type": "markdown",
   "metadata": {},
   "source": [
    "12. In der Datei `Muehle_GUI.ipynb` steht:\n",
    "     ```\n",
    "     def highlight_positions(canvas, highlight_positions, colour = COLOUR_HINT, just_inner = False):\n",
    "         with ipycanvas.hold_canvas(canvas):\n",
    "             for (ring, cell) in highlight_positions:\n",
    "                 if(ring, cell) != (None, None):\n",
    "                     canvas[2].fill_style = colour\n",
    "                     canvas[2].global_alpha = TRANSPARENCY_HINT\n",
    "                     radius = PIECE_RADIUS if not just_inner else PIECE_RADIUS * 0.3\n",
    "                     canvas[2].fill_arc(BOARD_SIZE * POSITIONS[ring][cell][0], BOARD_SIZE * POSITIONS[ring][cell][1], radius, 0, 360)\n",
    "     ```\n",
    "    Wie kann es denn passieren, dass die Bedingung `(ring, cell) != (None, None)` erfüllt ist?\n",
    "\n",
    "    **Die Funktion markiert auch den zuletzt bewegten Stein. Ist der Stein ein Stein, der geschlagen wurde, ist seine neue Position `(None, None)`, da er sich nicht mehr auf dem Spielfeld befindet**"
   ]
  },
  {
   "cell_type": "markdown",
   "metadata": {},
   "source": [
    "13. Die Implementierung der Funktion `update_canvas` ist an der Stelle, in der sie auftritt, unverständlich, weil die Klasse `Game` noch gar nicht definiert ist.  Außerdem werden dort globale Variablen verwendet, die erst später definiert werden. Warum ist diese Funktion keine Methode der Klasse `update_canvas`?\n",
    "\n",
    "    **Ist jetzt eine Funktion der Klasse und wird später eingeführt.**"
   ]
  },
  {
   "cell_type": "markdown",
   "metadata": {},
   "source": [
    "14. Am Anfang des Kommentars zur Klasse `Game` schreiben Sie: \"Der Status speichert die aktuelle Situation des Spielfeldes.\"\n",
    "     Es ist  unklar, was mit \"der Status\" gemeint ist. Außerdem wird die Variablen `moves_without_mill` nicht erklärt."
   ]
  },
  {
   "cell_type": "markdown",
   "metadata": {},
   "source": [
    "15. Sie schreiben `color` mal als `color` und dann als `colour`.\n",
    "\n",
    "    **Wir verwenden durchgehend die Schreibweise `colour`. `color` tritt an drei Stellen auf, da es sich hier um Variablen von `ipywidgets` bzw. `ipcanvas` handelt.**"
   ]
  },
  {
   "cell_type": "markdown",
   "metadata": {},
   "source": [
    "16. Die Parameter `x` und `y` in der Funktion `play_game` sollten erklärt werden. Außerdem ist diese Funktion viel zu lang und sollte restrukturiert werden."
   ]
  },
  {
   "cell_type": "markdown",
   "metadata": {},
   "source": [
    "17. Sie schreiben in der Funktion algo_step:\n",
    "     ```\n",
    "     if number_opponent_stones_before > number_opponent_stones_after:\n",
    "         self.moves_without_mill = -1\n",
    "     ```\n",
    "    Warum wird hier `self.moves_without_mill` nicht auf `0` zurück gesetzt?\n",
    "\n",
    "    **Im Endeffekt wird sie das, denn im nächsten Schritt wird, wie in jedem anderen Fall auch, die Variable um 1 erhöht, sodass sich dann der Wert `0` ergibt.**"
   ]
  },
  {
   "cell_type": "markdown",
   "metadata": {},
   "source": [
    "18. Sie verwechseln Züge und Halbzüge.  Ein Zug besteht aus zwei Halbzügen, bei denen erst Weiß einen Stein bewegt und dann Schwarz.  Das ist insofern wichtig, weil die Remi-Regel sagt, dass ein Spiel Remi ist, wenn 30 Züge lang keine Mühle gebildet wurde.  Bei Ihnen ist das Spiel aber schon nach 15 Zügen remi."
   ]
  },
  {
   "cell_type": "markdown",
   "metadata": {},
   "source": [
    " ## Muehle_Logic"
   ]
  },
  {
   "cell_type": "markdown",
   "metadata": {},
   "source": [
    "19. In der Datei `Muehle_Logic.ipynb` schreiben Sie:\n",
    "    ```\n",
    "    def get_player_phase(state, player):\n",
    "     [remaining, board] = state\n",
    "    if remaining[player - 1] >= 1:\n",
    "         return 1\n",
    "    elif count_player_pieces(board, player) == 3:\n",
    "     return 3\n",
    "     else:\n",
    "         return 2\n",
    "    ```\n",
    "    Der zweite Test müsste eigentlich die folgende Form haben:\n",
    "    ```\n",
    "    elif count_player_pieces(board, player) <= 3:\n",
    "    ```"
   ]
  },
  {
   "cell_type": "markdown",
   "metadata": {},
   "source": [
    "20. In der Datei `Muehle_Logic.ipynb` schreiben Sie in der Funktion `next_positions`:\n",
    "\n",
    "     ```\n",
    "     if (phase == 1 or phase == 3)\n",
    "     ```\n",
    "    Kürzer wäre folgendes:\n",
    "\n",
    "     ```\n",
    "     if phase != 2\n",
    "     ```\n",
    "    Außerdem brauchen Sie bei `if` keine Klammern.</span>"
   ]
  },
  {
   "cell_type": "markdown",
   "metadata": {},
   "source": [
    "23. In der Datei `Muehle_Logic.ipynb` wäre es möglich, die gemeinsamen Teile aus den Funktionen `next_states_phase_one`, `next_states_phase_two` und `next_states_phase_three` herauszufaktorisieren und dadurch das Programm zu vereinfachen.  Beispielsweise ist der dritte Schritt für alle Funktionen gleich."
   ]
  },
  {
   "cell_type": "markdown",
   "metadata": {},
   "source": [
    " ### Muehle_Utilities"
   ]
  },
  {
   "cell_type": "markdown",
   "metadata": {},
   "source": [
    "21. Die Funktion `beat_pieces` in `Muehle_Utilities.ipynb` hat die Form:\n",
    "\n",
    "    ```\n",
    "    def beat_pieces(board, count, player):\n",
    "     if count <= 0: return [board]\n",
    "\n",
    "     boards = []\n",
    "     beatable_pieces = get_opponent_beatable_pieces(board, player)\n",
    "     for ring, cell in beatable_pieces:\n",
    "         new_board = copy.deepcopy(board)\n",
    "         new_board[ring][cell] = 0\n",
    "         boards.extend(beat_pieces(new_board, count - 1, player))\n",
    "\n",
    "     # Duplikate entfernen\n",
    "     result = []\n",
    "     for board in boards:\n",
    "         if board not in result:\n",
    "             result.append(board)\n",
    "     return result\n",
    "    ```\n",
    "    Der Fall, dass tatsächlich zwei Steine des Gegeners zu entfernen sind, ist sehr selten. Nur in diesem Fall ist es notwendig, Duplikate zu entfernen.  Daher wäre es besser, am Anfang der Funktion zu testen, ob `count == 1` und in diesem Fall dann keine Duplikate zu entfernen."
   ]
  },
  {
   "cell_type": "markdown",
   "metadata": {},
   "source": [
    "### Muehle_Utilities\n",
    "22. Die Berechnung neuer Mühlen ist nicht besonders effizient.  Es wäre effizienter zu überprüfen, ob durch das Setzen des letzten Steins eine Mühle entstanden ist, anstatt alle Mühlen auf dem Brett neu zu berechnen."
   ]
  },
  {
   "cell_type": "markdown",
   "metadata": {},
   "source": [
    " ### Muehle_Algo"
   ]
  },
  {
   "cell_type": "markdown",
   "metadata": {},
   "source": [
    " 25. In der Datei `Muehle_Algo.ipynb` schreiben Sie:\n",
    "     ```\n",
    "     def memoize(f):\n",
    "         global Cache_Memoize\n",
    "\n",
    "         def f_memoized(*args):\n",
    "             key = (args[0], args[1], args[2])\n",
    "             if key in Cache_Memoize:\n",
    "                 return Cache_Memoize[key]\n",
    "             result = f(*args)\n",
    "             Cache_Memoize[key] = result\n",
    "             return result\n",
    "\n",
    "         return f_memoized\n",
    "     ```\n",
    "     Die Zeile `key = (args[0], args[1], args[2])` ist überflüssig und schränkt die Anwendbarkeit der Funktion `memoize` unnötig ein.  Es wäre einfacher, überall mit `args` zu arbeiten und die Variable `key` gar nicht zu verwenden."
   ]
  },
  {
   "cell_type": "markdown",
   "metadata": {},
   "source": [
    " 26. In der Datei `Muehle_Algo.ipynb` schreiben Sie:\n",
    "     ```\n",
    "     Quelle: [https://stackabuse.com/minimax-and-alpha-beta-pruning-in-python/]\n",
    "     ```\n",
    "     Wegen der eckigen Klammern funktioniert das nicht.  Richtig wäre:\n",
    "     ```\n",
    "     Quelle: (https://stackabuse.com/minimax-and-alpha-beta-pruning-in-python/)\n",
    "     ```\n",
    "     Außerdem sollten Sie bei jeder Quelle wenn möglich auch den Autor und die Jahreszahl\n",
    "     angeben."
   ]
  },
  {
   "cell_type": "markdown",
   "metadata": {},
   "source": [
    " 27. In der Datei `Muehle_Algo.ipynb` schreiben Sie:\n",
    "     ```\n",
    "     $\\alpha \\leq \\texttt{value_ab}(state, player) \\leq \\beta \\;\\rightarrow\\;\\texttt{alpha_beta}(state, player, \\alpha, \\beta) = \\texttt{value}(state,player)$\n",
    "     ```\n",
    "     Hier muss auch in der Bedingung die Funktion `value` verwendet werden."
   ]
  },
  {
   "cell_type": "markdown",
   "metadata": {},
   "source": [
    " 28. In der Datei `Muehle_Algo.ipynb` schreiben Sie:\n",
    "     ```\n",
    "     def best_move_ab(state, player, depth):\n",
    "         ns     = next_states(state, player)\n",
    "         moves  = []\n",
    "         values = []\n",
    "         ### iterative deepening\n",
    "         for s in ns:\n",
    "             distance = 1\n",
    "             while distance <= (depth - 1):\n",
    "                 value = -value_ab(s, opponent(player), depth = distance)\n",
    "                 distance += 1\n",
    "             values = values + [value]\n",
    "             moves = moves + [s]\n",
    "         ###\n",
    "         best_value = max(values)\n",
    "         best_moves = []\n",
    "         for i in range(0,len(values)):\n",
    "             if values[i] == best_value:\n",
    "                 best_moves = best_moves + [moves[i]]\n",
    "         best_state = random.choice(best_moves)\n",
    "         return best_value, best_state\n",
    "     ```\n",
    "     So, wie Sie hier mit \"iterative deepening\" arbeiten, bringt das nichts.  Der Sinn der Iterativen Tiefensuche\n",
    "     besteht darin, die Züge beim Alpha-Beta-Pruning vorzusortieren, so dass immer der erfolgsversprechenste Zug\n",
    "     zuerst untersucht wird.  In der Funktion `alpha_beta` iterieren Sie aber direkt über `next_states(state, player)`,\n",
    "     ohne dass Sie diese Zustände sortieren."
   ]
  },
  {
   "cell_type": "markdown",
   "metadata": {},
   "source": [
    " 29. Wenn ich alpha-beta-Pruning gegen Minimax spielen lasse, dann enthält am Ende der Cache `Cache_AB` mehr Zustände als der Cache `Cache_Memoize`.  Das würde darauf hindeuten, dass das Alpha-Beta-Pruning nicht richtig funktioniert.  Außerdem verbraucht alpha-beta-Pruning tatsächlich mehr Zeit als Minimax. Das kann daran liegen, dass alpha-beta-Pruning immer Weiß hat, während Minimax mit Schwarz spielt. Leider kann ich das mit dem Interface, dass Sie implementiert haben, so nicht untersuchen."
   ]
  },
  {
   "cell_type": "markdown",
   "metadata": {},
   "source": [
    " ### Muehle_Conclusion"
   ]
  },
  {
   "cell_type": "markdown",
   "metadata": {},
   "source": [
    "30. Es ist unklar, wie Sie die Tabelle, die Sie in `Muehle_Conclusion.ipynb` zeigen erstellt haben. Die Erstellung einer solchen Tabelle sollte automatisiert werden, sonst ist es nicht nachvollziehbar."
   ]
  },
  {
   "cell_type": "markdown",
   "metadata": {},
   "source": [
    "## ToDo"
   ]
  },
  {
   "cell_type": "markdown",
   "metadata": {},
   "source": [
    "### Muehle_GUI\n",
    "\n",
    "* Während der Computer rechnet, darf bei einem Mausklick nichts passieren.\n",
    "  **-> Wir haben keine sinnvolle Möglichkeit gefunden, dies umzusetzen (zumindest nich ohne weitreichende Veränderungen), und deswegen erstmal weggelassen**"
   ]
  },
  {
   "cell_type": "markdown",
   "metadata": {},
   "source": [
    " ### Muehle_Heuristic\n",
    "\n",
    " 24. In der Datei `Muehle_Heuristic.ipynb` wäre die Berechnung der Heuristik wesentlich effizienter,\n",
    "     wenn diese inkrementell durchgeführt würden.  Dazu müsste die Darstellung der Zustände so\n",
    "     geändert werden, dass dort schon die Anzahl der Steine und Mühlen abgelegt ist. "
   ]
  }
 ],
 "metadata": {
  "kernelspec": {
   "display_name": "Python 3",
   "language": "python",
   "name": "python3"
  },
  "language_info": {
   "codemirror_mode": {
    "name": "ipython",
    "version": 3
   },
   "file_extension": ".py",
   "mimetype": "text/x-python",
   "name": "python",
   "nbconvert_exporter": "python",
   "pygments_lexer": "ipython3",
   "version": "3.7.9"
  }
 },
 "nbformat": 4,
 "nbformat_minor": 2
}
