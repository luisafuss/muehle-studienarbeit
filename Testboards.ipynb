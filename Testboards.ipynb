{
 "metadata": {
  "language_info": {
   "codemirror_mode": {
    "name": "ipython",
    "version": 3
   },
   "file_extension": ".py",
   "mimetype": "text/x-python",
   "name": "python",
   "nbconvert_exporter": "python",
   "pygments_lexer": "ipython3",
   "version": "3.8.5-final"
  },
  "orig_nbformat": 2,
  "kernelspec": {
   "name": "python3",
   "display_name": "Python 3.8.5 64-bit (conda)",
   "metadata": {
    "interpreter": {
     "hash": "14c364e1e605f1a9fa0e790ead416e4b2722ac012cf95107999f945d26a83f28"
    }
   }
  }
 },
 "nbformat": 4,
 "nbformat_minor": 2,
 "cells": [
  {
   "source": [
    "### Testboards:\n",
    "- board1 = Startzustand\n",
    "- board2 = Spiel in Phase 1, keine Mühlen\n",
    "- board3 = Spiel in Phase 2, keine Mühlen\n",
    "- board4 = Spiel in Phase 2, Spieler eins mit einer Mühle\n",
    "- board5 = Spiel in Phase 2, Spieler zwei ohne Zugmölichkeit\n",
    "- board6 = Spieler eins in Phase 3, Spieler zwei in Phase 2\n",
    "- board7 = Spieler eins mit zwei Steinen, Spieler zwei hat gewonnen"
   ],
   "cell_type": "markdown",
   "metadata": {}
  },
  {
   "cell_type": "code",
   "execution_count": null,
   "metadata": {},
   "outputs": [],
   "source": [
    "#Startboard\r\n",
    "board1 = [[9, 9],\r\n",
    "         [[0, 0, 0, 0, 0, 0, 0, 0],\r\n",
    "          [0, 0, 0, 0, 0, 0, 0, 0],\r\n",
    "          [0, 0, 0, 0, 0, 0, 0, 0]]]\r\n",
    "#Phase 1\r\n",
    "board2 = [[7, 6],\r\n",
    "         [[0, 0, 0, 0, 2, 0, 0, 0],\r\n",
    "          [0, 1, 2, 0, 0, 0, 0, 0],\r\n",
    "          [0, 0, 0, 0, 1, 2, 0, 0]]]\r\n",
    "#Phase 2, keine Mühle\r\n",
    "board3 = [[0, 0],\r\n",
    "         [[1, 0, 1, 2, 0, 1, 0, 0],\r\n",
    "          [2, 0, 1, 0, 0, 0, 1, 0],\r\n",
    "          [0, 2, 0, 0, 1, 2, 0, 0]]]\r\n",
    "#Phase 2, Mühle\r\n",
    "board4 = [[0, 0],\r\n",
    "         [[1, 1, 1, 2, 0, 1, 0, 0],\r\n",
    "          [2, 0, 1, 0, 0, 0, 1, 0],\r\n",
    "          [0, 2, 0, 0, 1, 2, 0, 0]]]\r\n",
    "#Phase 2, Spieler 2 kann nicht mehr ziehen\r\n",
    "board5 = [[0, 0],\r\n",
    "         [[2, 1, 2, 1, 0, 0, 0, 1],\r\n",
    "          [2, 2, 1, 0, 0, 1, 2, 1],\r\n",
    "          [0, 1, 0, 0, 0, 0, 0, 0]]]\r\n",
    "#Phase 3 für Spieler 1\r\n",
    "board6 = [[0, 0],\r\n",
    "         [[0, 0, 1, 2, 0, 1, 0, 0],\r\n",
    "          [2, 0, 0, 0, 0, 0, 0, 0],\r\n",
    "          [0, 2, 0, 0, 1, 2, 0, 0]]]\r\n",
    "#Spieler 1 hat weniger als 3 Steine\r\n",
    "board7 = [[0, 0],\r\n",
    "         [[0, 0, 1, 2, 0, 1, 0, 0],\r\n",
    "          [2, 0, 0, 0, 0, 0, 0, 0],\r\n",
    "          [0, 2, 0, 0, 0, 2, 0, 0]]]\r\n",
    "\r\n",
    "testboards=[board1, board2, board3, board4, board5, board6, board7 ]"
   ]
  }
 ]
}