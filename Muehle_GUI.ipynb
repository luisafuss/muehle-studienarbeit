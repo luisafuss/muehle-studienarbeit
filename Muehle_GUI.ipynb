{
 "cells": [
  {
   "cell_type": "markdown",
   "metadata": {},
   "source": [
    "# GUI - Nine Men Morris\n",
    "In diesem Abschnitt soll die graphische Oberfläche des Spiels entwickelt werden. Dies beinhaltet die Interaktion des Spielers mit dem Spielaufbau."
   ]
  },
  {
   "cell_type": "code",
   "execution_count": null,
   "metadata": {},
   "outputs": [],
   "source": [
    "%%HTML\n",
    "<style>\n",
    ".container { width:100% }\n",
    "</style>"
   ]
  },
  {
   "cell_type": "markdown",
   "metadata": {},
   "source": [
    "## Mögliche Positionen\n",
    "Die Grafiken unten zeigen zwei unterschiedliche Notationen für die Position der Spielsteine. Rechts ist die offizielle Notation des Welt-Mühle-Dachverbands (WMD) abgebildet, während links die interne Notation zu sehen ist.\n",
    "\n",
    "### WMD-Notation\n",
    "\"Die Spalten werden von links beginnend von a bis g benannt. Die Zeilen werden von unten beginnend von 1 bis 7 durchnummeriert. Gültige Feldnamen sind beispielsweise a1, d2, e3 oder g7.\n",
    "\n",
    "Bei dieser Notation gehört nicht zu jeder Buchstaben- und Zahlenkombination aus a..g und 1..7 auch ein Feld. Ungültige Feldbezeichnungen sind beispielsweise b3, d4, f5 oder g6. Diese Notation ähnelt der beim Schach, wo die 64 Felder von a..h und 1..8 benannt werden. Allerdings gehört beim Schach zu jeder Zahlen/Buchstabenkombination auch ein Feld.\n",
    "\n",
    "Beim Setzen schreibt man das Zielfeld auf, zum Beispiel a1 oder e4. Beim Ziehen werden die Namen des durch Minus getrennten Quell- und Zielfeldes verwendet, zum Beispiel f2-f4 oder d3-d2. Wird ein Mühle gebildet und ein Stein geschlagen, dann wird der geschlagene Stein durch x getrennt und an den Zug angefügt, beispielweise f2-f4xd5 (Zug von f2 nach f4, Mühle und geschlagen wird d5).\" - Dr. Rainer Rosenberger, http://muehlespieler.de/download/muehle_lehrbuch.pdf\n",
    "\n",
    "### Interne Notation\n",
    "Intern werden die Positionen als Tupel bestehend aus Ringnummer und Zellnummer beschrieben. Die Ringe, in der Abbildung farbig markiert, sind dabei von außen beginnend mit 0, 1 und 2 nummeriert. Für die Bezeichnung der Zellen wird in jedem Ring oben links mit 0 begonnen und im Uhrzeigersinn bis 7 weitergezählt. So ergibt sich eine eindeutige Notation.\n",
    "\n",
    "<img src=\"board_positions.png\" alt=\"Mögliche Positionen\" width=\"800\"/>"
   ]
  },
  {
   "cell_type": "markdown",
   "metadata": {},
   "source": [
    "## Definitionen\n",
    "Zunächst werden einige Definitionen für die gesamte Implementation festgesetzt: \n",
    "- ring = eines der 3 Quadrate (Wertebereich: 0-2)\n",
    "- cell = ein Punkt auf einem Ring (Wertebereich: 0-7)\n",
    "- position = Tupel: (ring, cell)\n",
    "- board = Liste aus 3 Listen, die angeben, ob, und wenn ja welcher Stein dort sitzt. Dabei symbolisiert jede Liste einen Ring. In jeder Liste sind neun Werte. Je einer für eine Zelle im Ring. Eine 0 sagt dabei aus, dass an der entsprechenden Position kein Stein ist. Eine 1 oder 2 stehen für einen Stein des zugehörigen Spielers.\n",
    "- remaining = \\[Anzahl noch nicht gesetzter Steine Spieler 1, Anzahl noch nicht gesetzte Steine Spieler 2\\]\n",
    "- state = \\[remaining, board\\]"
   ]
  },
  {
   "cell_type": "markdown",
   "metadata": {},
   "source": [
    "## Importe\n",
    "Zur Visualisierung des Spielbrettes wird [ipycanvas](https://ipycanvas.readthedocs.io/en/latest/index.html) verwendet."
   ]
  },
  {
   "cell_type": "code",
   "execution_count": null,
   "metadata": {},
   "outputs": [],
   "source": [
    "%run ./Muehle_Logic.ipynb\n",
    "import ipycanvas\n",
    "from ipycanvas import MultiCanvas\n",
    "\n",
    "from ipywidgets import interact, interactive, fixed, interact_manual\n",
    "import ipywidgets as widgets"
   ]
  },
  {
   "cell_type": "markdown",
   "metadata": {},
   "source": [
    "## Konstanten\n",
    "\n",
    "Für das Aussehen des Spielfelds:\n",
    "* BOARD_SIZE = Größe des Spielfeldes in Pixeln\n",
    "* DOT_RADIUS = Radius der schwarzen kleinen Punkte, die mögliche Positionen markieren (in Abhängigkeit von der Spielfeldgröße)\n",
    "* PIECE_RADIUS = Radius der Spielsteine\n",
    "* COLOUR = Farben der [dots, pieces_player_1, pieces_player_2]\n",
    "* COLOUR_HINT = Farbe, in der mögliche Zielfelder markiert werden\n",
    "* COLOUR_OPPONENT = Farbe, in der entfernbare Steine markiert werden\n",
    "* PADDING = relativer Abstand des äußersten Quadrats zum Spielfeldrand\n",
    "* DISTANCE = relativer Abstand zwischen den Quadraten des Spielfelds\n",
    "* TRANSPARENCY_DEFAULT = Standardwert für die Transparenz\n",
    "* TRANSPARENCY_HINT = Transparenz der Kreise möglicher Zielfelder und entfernbarer Steine\n",
    "\n",
    "Für die Funktion des Spielfelds:\n",
    "* START_STATE = Startzustand des Spielfelds, beide Spieler haben noch keinen Stein gesetzt und das Spielfeld ist leer"
   ]
  },
  {
   "cell_type": "code",
   "execution_count": null,
   "metadata": {},
   "outputs": [],
   "source": [
    "# Aussehen\n",
    "BOARD_SIZE      = 400\n",
    "DOT_RADIUS      = BOARD_SIZE*0.025\n",
    "PIECE_RADIUS    = BOARD_SIZE*0.04\n",
    "COLOUR          = ['black', 'white', 'sienna']\n",
    "COLOUR_HINT     = 'green'\n",
    "COLOUR_OPPONENT = 'red'\n",
    "PADDING         = 0.05\n",
    "DISTANCE        = 0.15\n",
    "TRANSPARENCY_DEFAULT = 1.0\n",
    "TRANSPARENCY_HINT    = 0.5\n",
    "\n",
    "# Spiel\n",
    "START_STATE = [[9,9],[          # Anzahl zu setzender Steine (Spieler_1 (Weiß), Spieler_2 (Braun))\n",
    "            [0,0,0,0,0,0,0,0], # ring 0\n",
    "            [0,0,0,0,0,0,0,0], # ring 1\n",
    "            [0,0,0,0,0,0,0,0]  # ring 2\n",
    "      ]]"
   ]
  },
  {
   "cell_type": "markdown",
   "metadata": {},
   "source": [
    " `row()` liefert einen relativen Wert für die Position der eingegebenen Reihe. `col()` macht dies für die Spalten."
   ]
  },
  {
   "cell_type": "code",
   "execution_count": null,
   "metadata": {},
   "outputs": [],
   "source": [
    "#Reihe von oben nach unten (0-6)\n",
    "def row(number):\n",
    "    return PADDING + DISTANCE * number\n",
    "#Spalte von links nach rechts (0-6)\n",
    "def col(number):\n",
    "    return row(number)"
   ]
  },
  {
   "cell_type": "markdown",
   "metadata": {},
   "source": [
    "`POSITIONS` beschreibt die möglichen Punkte, an denen Steine sitzen können.  `wmd_dic` überführt die Positionen in die Schreibweise des WMD."
   ]
  },
  {
   "cell_type": "code",
   "execution_count": null,
   "metadata": {},
   "outputs": [],
   "source": [
    "POSITIONS = [([col(0), row(0)], [col(3), row(0)], [col(6), row(0)], [col(6), row(3)], [col(6), row(6)], [col(3), row(6)], [col(0), row(6)], [col(0), row(3)]), #ring 0\n",
    "             ([col(1), row(1)], [col(3), row(1)], [col(5), row(1)], [col(5), row(3)], [col(5), row(5)], [col(3), row(5)], [col(1), row(5)], [col(1), row(3)]), #ring 1\n",
    "             ([col(2), row(2)], [col(3), row(2)], [col(4), row(2)], [col(4), row(3)], [col(4), row(4)], [col(3), row(4)], [col(2), row(4)], [col(2), row(3)])] #ring 2\n",
    "\n",
    "wmd_dic = {\n",
    "    \"a1\":POSITIONS[0][6],\n",
    "    \"a4\":POSITIONS[0][7],\n",
    "    \"a7\":POSITIONS[0][0],\n",
    "    \"b2\":POSITIONS[1][6],\n",
    "    \"b4\":POSITIONS[1][7],\n",
    "    \"b6\":POSITIONS[1][0],\n",
    "    \"c3\":POSITIONS[2][6],\n",
    "    \"c4\":POSITIONS[2][7],\n",
    "    \"c5\":POSITIONS[2][0],\n",
    "    \"d1\":POSITIONS[0][5],\n",
    "    \"d2\":POSITIONS[1][5],\n",
    "    \"d3\":POSITIONS[2][5],\n",
    "    \"d5\":POSITIONS[2][1],\n",
    "    \"d6\":POSITIONS[1][1],\n",
    "    \"d7\":POSITIONS[0][1],\n",
    "    \"e3\":POSITIONS[2][4],\n",
    "    \"e4\":POSITIONS[2][3],\n",
    "    \"e5\":POSITIONS[2][2],\n",
    "    \"f2\":POSITIONS[1][4],\n",
    "    \"f4\":POSITIONS[1][3],\n",
    "    \"f6\":POSITIONS[1][2],\n",
    "    \"g1\":POSITIONS[0][4],\n",
    "    \"g4\":POSITIONS[0][3],\n",
    "    \"g7\":POSITIONS[0][2]\n",
    "}"
   ]
  },
  {
   "cell_type": "markdown",
   "metadata": {},
   "source": [
    "## Zeichenfunktionen\n",
    "`init_canvas()` erstellt den Aufbau des Spielfeldes. Dies erfolgt mit Hilfe von ipycanvas. Das Spielbrett (`board`) besteht aus drei übereinanderliegenden Ebenen. Ebene 0 ist der Hintergrund, ein beiges Quadrat. Ebene 1 beinhaltet schwarzen die Striche und Punkte auf dem Spielfeld. Diese setzen sich aus drei schwarzen Quadraten, viel horizontalen bzw. waagrechten Linien und 24 Punkten, die die möglichen Positionen der Steine markieren, zusammen. Dabei wird bei der Erstellung mit relativen Positionsangaben gearbeitet, um das Spielfeld einfach skalieren zu können. In der Ebene 2 liegen schließlich die Spielsteine. "
   ]
  },
  {
   "cell_type": "code",
   "execution_count": null,
   "metadata": {},
   "outputs": [],
   "source": [
    "def init_canvas():\n",
    "    #board[Hintergrund, Linien, Steine]\n",
    "    board = MultiCanvas(3, width = BOARD_SIZE, height = BOARD_SIZE)\n",
    "\n",
    "    # Hintergrund\n",
    "    board[0].fill_style = '#ffffcc'\n",
    "    board[0].fill_rect(0, 0, BOARD_SIZE)\n",
    "\n",
    "    # Strichstärke\n",
    "    board[1].line_width = 5\n",
    "\n",
    "    # Quadrate\n",
    "    board[1].stroke_rect(BOARD_SIZE*col(0), BOARD_SIZE*row(0), BOARD_SIZE*(1-row(0)-col(0))) #ring 0\n",
    "    board[1].stroke_rect(BOARD_SIZE*col(1), BOARD_SIZE*row(1), BOARD_SIZE*(1-row(1)-col(1))) #ring 1\n",
    "    board[1].stroke_rect(BOARD_SIZE*col(2), BOARD_SIZE*row(2), BOARD_SIZE*(1-row(2)-col(2))) #ring 2\n",
    "\n",
    "    # Mittelinien\n",
    "    board[1].begin_path()\n",
    "    board[1].move_to(BOARD_SIZE*col(3), BOARD_SIZE*row(0)) #oben\n",
    "    board[1].line_to(BOARD_SIZE*col(3), BOARD_SIZE*row(2))\n",
    "    board[1].move_to(BOARD_SIZE*col(6), BOARD_SIZE*row(3)) #rechts\n",
    "    board[1].line_to(BOARD_SIZE*col(4), BOARD_SIZE*row(3))\n",
    "    board[1].move_to(BOARD_SIZE*col(3), BOARD_SIZE*row(6)) #unten\n",
    "    board[1].line_to(BOARD_SIZE*col(3), BOARD_SIZE*row(4))\n",
    "    board[1].move_to(BOARD_SIZE*col(0), BOARD_SIZE*row(3)) #links\n",
    "    board[1].line_to(BOARD_SIZE*col(2), BOARD_SIZE*row(3))\n",
    "    board[1].stroke()\n",
    "\n",
    "    # Punkte (außen, mitte, innen)\n",
    "    for ring in POSITIONS:\n",
    "        for x,y in ring:\n",
    "            board[1].fill_arc(BOARD_SIZE*x, BOARD_SIZE*y, DOT_RADIUS, 0, 360)\n",
    "    return board"
   ]
  },
  {
   "cell_type": "code",
   "execution_count": null,
   "metadata": {},
   "outputs": [],
   "source": [
    "board = init_canvas()"
   ]
  },
  {
   "cell_type": "markdown",
   "metadata": {},
   "source": [
    "Die Funktion `draw_piece()` zeichnet an einer zu übergebenden Position einen Spielstein für den eingegebenen Spieler. Dieser besteht aus einem mit der Spielerfarbe gefüllten Kreis als Hintergrund und zwei Innenringen um die Steine realistischer aussehen zu lassen."
   ]
  },
  {
   "cell_type": "code",
   "execution_count": null,
   "metadata": {},
   "outputs": [],
   "source": [
    "def draw_piece(ring, cell, player):\n",
    "    #Hintergrund\n",
    "    board[2].fill_style = COLOUR[player]\n",
    "    board[2].fill_arc(BOARD_SIZE*POSITIONS[ring][cell][0], BOARD_SIZE*POSITIONS[ring][cell][1], PIECE_RADIUS, 0, 360)\n",
    "    #Ringe\n",
    "    if player == 1:\n",
    "        board[2].stroke_style = 'silver' \n",
    "    else:\n",
    "        board[2].stroke_style = 'chocolate'\n",
    "    board[2].stroke_arc(BOARD_SIZE*POSITIONS[ring][cell][0], BOARD_SIZE*POSITIONS[ring][cell][1], PIECE_RADIUS,     0, 360)\n",
    "    board[2].stroke_arc(BOARD_SIZE*POSITIONS[ring][cell][0], BOARD_SIZE*POSITIONS[ring][cell][1], PIECE_RADIUS*0.7, 0, 360)\n",
    "    board[2].stroke_arc(BOARD_SIZE*POSITIONS[ring][cell][0], BOARD_SIZE*POSITIONS[ring][cell][1], PIECE_RADIUS*0.3, 0, 360)"
   ]
  },
  {
   "cell_type": "markdown",
   "metadata": {},
   "source": [
    "Mit Hilfe von `highlight_positions()` werden alle Positionen aus einer Liste mit einem transparenten Kreis markiert. Falls keine andere Farbe übergeben wird, wird die in den Konstanten definierte default-Farbe verwendet."
   ]
  },
  {
   "cell_type": "code",
   "execution_count": null,
   "metadata": {},
   "outputs": [],
   "source": [
    "def highlight_positions(highlight_positions, colour = COLOUR_HINT):\n",
    "    with ipycanvas.hold_canvas(board):\n",
    "        for position in highlight_positions:\n",
    "            ring, cell = position\n",
    "            board[2].fill_style = colour\n",
    "            board[2].global_alpha = TRANSPARENCY_HINT\n",
    "            board[2].fill_arc(BOARD_SIZE*POSITIONS[ring][cell][0], BOARD_SIZE*POSITIONS[ring][cell][1], PIECE_RADIUS, 0, 360)"
   ]
  },
  {
   "cell_type": "markdown",
   "metadata": {},
   "source": [
    "`update_board()` zeichnet die obere Ebene des Spielbretts nach jeder Veränderung neu. So werden Positionsänderungen oder Hinweise zu möglichen Zielfeldern und schlagbaren Steinen sichtbar. Zusätzlich wird hier die Aktualisierung der Statusanzeige angestoßen.\n",
    "Durch den optionalen Parameter message ist es möglich die Statusausgabe zu überschreiben."
   ]
  },
  {
   "cell_type": "code",
   "execution_count": null,
   "metadata": {},
   "outputs": [],
   "source": [
    "def update_board(game, message=''):\n",
    "    one_below_other = widgets.VBox([turn_label, status_label, pieces_status_label, stones_player_one, stones_player_two, restart_button])\n",
    "    side_by_side = widgets.HBox([board, one_below_other])\n",
    "    display(side_by_side)\n",
    "\n",
    "    with ipycanvas.hold_canvas(board):\n",
    "        board[2].clear()\n",
    "        board[2].global_alpha = TRANSPARENCY_DEFAULT\n",
    "        for ring in range(3):\n",
    "            for cell in range(8):\n",
    "                player = game.state[1][ring][cell]\n",
    "                if player in [1, 2]: draw_piece(ring, cell, player)\n",
    "        update_status_widgets(message)    "
   ]
  },
  {
   "cell_type": "markdown",
   "metadata": {},
   "source": [
    "## Die Klasse Game - Status des Spielfelds\n",
    "Der Status speichert die aktuelle Situation des Spielfeldes. Die Klasse beinhaltet mehrere Variablen. `state` gibt wie in der Definition beschrieben an, ob und wenn ja welcher Stein sich an einer Position auf dem Spielfeld befindet. Dabei gilt:\n",
    "- 0 = kein Stein\n",
    "- 1 = weißer Stein\n",
    "- 2 = brauner Stein\n",
    "\n",
    "Außerdem beinhaltet die Variable Angaben über die Steine, die die beiden Spieler nocht setzen können.\n",
    "`current_player` gibt an, welcher Spieler, 1 oder 2, gerade am Zug ist. `mills` ist die Menge aller aktuell bestehenden Mühlen. Die Einträge werden in einem Tupel der Form (Spieler, Ring, Zelle) gespeichert. In `number_stones_to_remove` wird gespeichert, wie viele Steine der aktuelle Spieler aufgrund von Mühlen noch entfernen darf. `selected_stone` ist ein Tupel, das die Position eines ausgewählten Steins speichert. Dieses Tupel hat die Form `(ring, cell)`. Dies ist notwendig für Zug- und Springvorgänge. Ist die Variable ungleich `None`, befindet sich der Spieler gerade in einer Zug- oder Sprungaktion. Ist die Variable  belegt, so hat der Spieler bereits den zu versetzenden Stein ausgewählt und muss noch auf das Zielfeld klicken. Die Position ist in Phase 2 des Spiels relevant, um valide Zielfelder zu ermitteln. In der Phase 1 kann es vorkommen, dass kein Stein gesetzt wird, weil kein passendes Feld augewählt wurde, um zu verhindern, dass der Spieler trotzdem wechselt, wird die Variable `do_not_change` auf True gesetzt und diese vor Spielerwechsel abgefragt. Das Gleiche geschieht in den Phasen 2 und 3, falls kein passender Stein ausgewählt wird. `game_over`ist False, solange das Spiel noch läuft.\n",
    "\n",
    "Die `__init__()` Funktion setzt die Werte der Game-Klasse. Dabei kann falls notwendig der aktuelle Spieler übergeben werden, falls beispielsweise Spieler 2 starten soll. Standardmäßig wird als Zustand de\n",
    "r Startzustand übergeben, wobei davon zuvor eine Deepcopy angefertigt werden muss. Dies ist notwendig, da ansonsten die Refernz auf `START_STATE` übergeben wird und die Konstante somit im Laufe des Spiel verändert werden würde.\n",
    "\n",
    "Mit Hilfe der Funktion `__str__()` kann der Status später mit dem Befehl `print(Game)` formatiert ausgegeben werden. Dies ist besonders zum Überprüfen des aktuellen Spielstandes hilfreich."
   ]
  },
  {
   "cell_type": "code",
   "execution_count": null,
   "metadata": {},
   "outputs": [],
   "source": [
    "class Game():\n",
    "    def __init__(self, current_player = 1):\n",
    "        self.state = copy.deepcopy(START_STATE)\n",
    "        self.current_player = current_player\n",
    "        self.mills = set()\n",
    "        self.number_stones_to_remove = 0\n",
    "        self.selected_stone = (None, None)\n",
    "        self.do_not_change = False\n",
    "        self.game_over = False\n",
    "    \n",
    "    def __str__(self):\n",
    "        return \"state: \" + str(self.state) \\\n",
    "            + \"\\ncurrent player: \" + str(self.current_player) \\\n",
    "            + \"\\nmills: \" + str(self.mills) \\\n",
    "            + \"\\nnumber stones to remove: \" + str(self.number_stones_to_remove) \\\n",
    "            + \"\\nselected stone: \" + str(self.selected_stone) \\\n",
    "            + \"\\ndo not change: \" + str(self.do_not_change) \\\n",
    "            + \"\\ngame over: \" + str(self.game_over)"
   ]
  },
  {
   "cell_type": "markdown",
   "metadata": {},
   "source": [
    "Die Funktion `play_game()` steuert das Spiel. Sie wird später aufgerufen, wenn der Spieler irgendwo hin klickt. Wenn das Spiel noch nicht vorbei ist, wird überprüft, ob der Klick an einer Positionen, also im Bereich um einen schwarzen Punkt, erfolgt ist. Wenn ja, kann eine der folgenden Situationen eintreten, wobei die erste aufgelistete Situation Priorität hat:\n",
    "- **Es müssen noch Steine entfernt werden**  - Aufgrund von Mühlen die zuvor geschlossen wurden, dürfen noch Steine entfernt werden. Der zuvor geklickte Stein wird der Funktion `remove_stone()` übergeben, die ihn vom Spielfeld löscht.\n",
    "- **Der Spieler befindet sich in Phase 1** - Auf die ausgewählte Position wird mit Hilfe von `place_stone()` ein Stein gesetzt.\n",
    "- **Es wurde zuvor kein Stein ausgewählt** - Da sich der Spieler wie zuvor überprüft nicht in Phase 1 und somit in der Zug- oder Springphase befindet, und bisher kein Startfeld ausgewählt wurde, kann dies nun geschehen. Dazu wird die Funktion `select_stone()` aufgerufen.\n",
    "- **Es wurde ein Stein ausgewählt** - Da sich der Spieler in der Zug- oder Springphase befindet, handelt es sich bei dem ausgewählten Feld um ein Zielfeld, auf dass der zuvor ausgewählte Stein mittels `move_stone()` bewegt wird.\n",
    "\n",
    "Falls nach abarbeiten der Situationen noch Steine zu entfernen sind, werden diese markiert. Außerdem wird überprüft, ob das Spiel zu Ende ist. Falls sich der Spieler nicht in einem Zwischenzustand von Phase 2 oder 3 (Startfeld ausgewählt, Zielfeld noch nicht bekannt) befindet, keine Steine mehr entfernt werden müssen, das Spiel nicht zu Ende ist und vorher alle korrekt gelaufen ist, ist der nächste Spieler an der Reihe und das Spielfeld wird aktualisiert."
   ]
  },
  {
   "cell_type": "code",
   "execution_count": null,
   "metadata": {},
   "outputs": [],
   "source": [
    "def play_game(self, x, y):\n",
    "    if self.game_over: return\n",
    "\n",
    "    phase = get_player_phase(self.state, self.current_player)\n",
    "    stone = self.get_clicked_stone(x, y)\n",
    "\n",
    "    # Situationen überprüfen\n",
    "    if stone == None:\n",
    "        return\n",
    "    if self.number_stones_to_remove > 0:\n",
    "        self.remove_stone(stone)\n",
    "    elif phase == 1:\n",
    "        self.place_stone(stone)\n",
    "    elif self.selected_stone != (None, None): # die ausgewählte Position ist ein Zielfeld\n",
    "        self.move_stone(stone)\n",
    "    elif phase == 2 or phase == 3: # der Stein soll zum Verschieben oder Springen ausgewählt werden\n",
    "        self.select_stone(stone)\n",
    "    else:\n",
    "        change_status_label('Du befindest Dich anscheinend in keiner gültigen Spielphase. Irgendwas ist schief gegangen... Sorry!')\n",
    "\n",
    "    if self.number_stones_to_remove > 0:\n",
    "        update_board(self)\n",
    "        highlight_positions(get_opponent_beatable_stones(self.state, self.current_player), colour = COLOUR_OPPONENT)\n",
    "\n",
    "    if finished(self.state):\n",
    "        self.game_over = True\n",
    "\n",
    "    if self.selected_stone == (None, None) and not self.number_stones_to_remove > 0 and not self.game_over and not self.do_not_change:\n",
    "        self.current_player = opponent(self.current_player) # Spielerwechsel, wenn nicht noch eine Aktion ausgeführt werden muss\n",
    "        update_board(self)\n",
    "Game.play_game = play_game\n",
    "del play_game"
   ]
  },
  {
   "cell_type": "markdown",
   "metadata": {},
   "source": [
    "Die Funktion `get_clicked_stone()` überprüft, ob die übergebenen x- und y- Koordinaten auf einer validen Position, also einem Spielfeldpunkt liegen. Wenn ja, wird diese Position in der Form `(ring, cell)` zurückgegeben, ansonsten `None`. Zur Ermittlung wird über alle möglichen Positionen iteriert und geprüft, ob die Klick-Koordinaten in einem Pufferbereich rund um den Mittelpunkt der Position liegen. Ist dies für beide Koordinaten der Fall, wurde der angeklickte Punkt gefunden."
   ]
  },
  {
   "cell_type": "code",
   "execution_count": null,
   "metadata": {},
   "outputs": [],
   "source": [
    "def get_clicked_stone(self, x, y):\n",
    "    stone = None\n",
    "    #TODO: Schleife abbrechen, sobal stone gesetzt wurde\n",
    "    for ring in POSITIONS:\n",
    "        for pos in ring:\n",
    "            check_x = pos[0] * BOARD_SIZE - PIECE_RADIUS/2 < x < pos[0] * BOARD_SIZE + PIECE_RADIUS/2\n",
    "            check_y = pos[1] * BOARD_SIZE - PIECE_RADIUS/2 < y < pos[1] * BOARD_SIZE + PIECE_RADIUS/2\n",
    "            if check_x and check_y:\n",
    "                stone = (POSITIONS.index(ring), ring.index(pos))\n",
    "    return stone\n",
    "Game.get_clicked_stone = get_clicked_stone\n",
    "del get_clicked_stone"
   ]
  },
  {
   "cell_type": "markdown",
   "metadata": {},
   "source": [
    "In Phase 1 wird durch `place_stone()` überprüft, ob das angeklickte Feld noch frei ist. Wenn ja, wird dort ein Stein des Spielers positioniert und die eigenen Steinanzahl in `remaining` um 1 reduziert. Anschließend muss noch überprüft werde, ob durch die Aktion eine oder sogar mehrere Mühlen entstanden ist. War die Position nicht gültig, wird eine Fehlermeldung geworfen und der Spieler erhält einen neuen Versuch. "
   ]
  },
  {
   "cell_type": "code",
   "execution_count": null,
   "metadata": {},
   "outputs": [],
   "source": [
    "def place_stone(self, stone):\n",
    "    if stone in empty_positions(self.state):\n",
    "        self.do_not_change = False\n",
    "        ring, cell = stone\n",
    "        self.state[1][ring][cell] = self.current_player\n",
    "        self.state[0][self.current_player-1] = self.state[0][self.current_player-1]-1 \n",
    "        self.number_stones_to_remove = handle_mills(self)\n",
    "        update_board(self)\n",
    "    else:\n",
    "        self.do_not_change = True\n",
    "        change_status_label('Du kannst Deinen Stein nur auf ein leeres Feld setzen. Bitte probiere es erneut!')\n",
    "Game.place_stone = place_stone\n",
    "del place_stone"
   ]
  },
  {
   "cell_type": "markdown",
   "metadata": {},
   "source": [
    "`remove_stone()` entfernt den übergebenen Stein vom Spielfeld, falls es erlaubt ist, diesen zu entfernen. Dazu  werden alle schlagbaren Steine des Gegners ermittelt und überprüft, ob der angeklickte Stein dazu gehört. Ist dies der Fall, wird der Stein enfernt, indem an dieser Stelle eine `0` eingetragen wird. Andernfalls wird eine Fehlermeldung geworfen und der Spieler kann einen anderen Stein zum Entfernen auswählen. Falls noch mehr Steine entfernt werden müssen, werden die möglichen Positionen am Ende markiert."
   ]
  },
  {
   "cell_type": "code",
   "execution_count": null,
   "metadata": {},
   "outputs": [],
   "source": [
    "def remove_stone(self, stone):\n",
    "    selected_ring, selected_cell = stone\n",
    "    beatable_stones = get_opponent_beatable_stones(self.state, self.current_player)\n",
    "    if (selected_ring, selected_cell) in beatable_stones:\n",
    "        self.state[1][selected_ring][selected_cell] = 0\n",
    "        self.number_stones_to_remove = self.number_stones_to_remove - 1\n",
    "        update_board(self)\n",
    "    else:\n",
    "        change_status_label('Du kannst diesen Stein nicht entfernen. Bitte probiere es erneut!')\n",
    "    if self.number_stones_to_remove > 0:\n",
    "        highlight_positions(get_opponent_beatable_stones(self.state, self.current_player), colour = COLOUR_OPPONENT)\n",
    "Game.remove_stone = remove_stone\n",
    "del remove_stone"
   ]
  },
  {
   "cell_type": "markdown",
   "metadata": {},
   "source": [
    "`move_stone()` bewegt den zuvor ausgewählten Stein, falls zulässig, auf die übergebene Position. Das Startfeld ist dabei in der Variable `selected_stone` gespeichert. Damit das Zielfeld valide ist, muss es in der Liste sein, die durch `next_positions()` ausgehend vom ausgewählten Stein ermittelt werden. Ist dies der Fall, wird das alte Feld auf `0` gesetzt und das Zielfeld mit dem Wert des aktuellen Spielers belegt. Anschließend muss überprüft werden, ob neue Mühlen entstanden sind"
   ]
  },
  {
   "cell_type": "code",
   "execution_count": null,
   "metadata": {},
   "outputs": [],
   "source": [
    "def move_stone(self, stone):\n",
    "    old_ring, old_cell = self.selected_stone\n",
    "    new_ring, new_cell = stone\n",
    "    possible_positions = next_positions(self.state, self.current_player, old_ring, old_cell)\n",
    "    if stone in possible_positions:\n",
    "        self.state[1][new_ring][new_cell] = self.current_player\n",
    "        self.state[1][old_ring][old_cell] = 0\n",
    "        self.number_stones_to_remove = handle_mills(self)\n",
    "        self.selected_stone = (None, None)\n",
    "        update_board(self)\n",
    "    else:\n",
    "        change_status_label('Du kannst Deinen Stein nicht auf dieses Feld setzen. Bitte probiere es erneut!')\n",
    "Game.move_stone = move_stone\n",
    "del move_stone"
   ]
  },
  {
   "cell_type": "markdown",
   "metadata": {},
   "source": [
    "Falls sich der Spieler in der Zug- oder Springphase befindet, und noch kein Startfeld ausgewählt wurde, wird `select_stone()` aufgerufen. Diese Funktion überprüft, ob der übergebene Stein ein eigener Stein ist. Wenn ja wird er in der Variable `selected_stone` gespeichert und ausgehend davon mögliche Zielfelder berechnet, um diese hervorheben zu können. Nach erfolgreicher Durchführung befindet sich der Spieler in einem Zwischenzustand, da das Zielfeld noch nicht bekannt ist."
   ]
  },
  {
   "cell_type": "code",
   "execution_count": null,
   "metadata": {},
   "outputs": [],
   "source": [
    "def select_stone(self, stone):\n",
    "    if stone in player_pieces(self.state, self.current_player): # prüfen,ob der ausgewählte Stein dem Spieler gehört\n",
    "        self.do_not_change = False\n",
    "        self.selected_stone = stone\n",
    "        change_status_label('Zielort für den eigenen Stein auswählen.')\n",
    "        ring, cell = stone\n",
    "        possible_positions = next_positions(self.state, self.current_player, ring, cell) # ausgehend vom ausgewählten Stein, erlaubte Zielfelder berechnen\n",
    "        highlight_positions(possible_positions) # erlaubte Zielfelder anzeigen\n",
    "    else:\n",
    "        self.do_not_change = True\n",
    "        change_status_label('Das ist nicht Dein Stein. Bitte probiere es erneut!')\n",
    "Game.select_stone = select_stone\n",
    "del select_stone"
   ]
  },
  {
   "cell_type": "markdown",
   "metadata": {},
   "source": [
    "## Die Statusanzeige - Initialisierung und Funktionen der Status-Widgets und des Restart-Button\n",
    "\n",
    "Die Methode `on_button_clicked(b)` wird durch den restart_button aufgerufen und setzt den Status des Spieles wieder auf den Startzustand."
   ]
  },
  {
   "cell_type": "code",
   "execution_count": null,
   "metadata": {},
   "outputs": [],
   "source": [
    "def on_button_clicked(b):\n",
    "    global game\n",
    "    game = Game()\n",
    "    update_board(game)"
   ]
  },
  {
   "cell_type": "markdown",
   "metadata": {},
   "source": [
    "An dieser Stelle findet die Initialisierung der unterschiedlichen Statuselemente statt.\n",
    "-  Das turn_label ist ein Label, das den Spieler anzeigt, der aktuell an der Reihe ist\n",
    "-  Das status_label ist für weitere Statusanzeigen vorgesehen, wie die Aufforderung an den aktuellen Spieler, im Fall einer Mühle, einen Stein des Gegners zu entfernen.\n",
    "-  Das pieces_status_label zeigt je nach Spielphase entweder die Anzahl der Steine, die noch gesetzt werden können (Phase 1), oder die noch übrig sind (Phase 2/3). \n",
    "-  Der restart_button ruft die Methode `on_button_clicked(b)` auf und setzt somit das Spiel auf den Startzustand zurück\n",
    "-  stones_player_one und stones_player_two zeigen jeweils einen horizontalen Balken, der in Phase 1 nach jedem gesetzten Stein kleiner wird, bis keiner mehr vorhanden ist. In Phase 2 und 3 ist die Auslenkung des Balkens von der Anzahl der Steine des jeweiligen Spielers abhängig. Somit ist schnell erkennbar, welcher Spieler gerade vorne liegt.\n"
   ]
  },
  {
   "cell_type": "code",
   "execution_count": null,
   "metadata": {},
   "outputs": [],
   "source": [
    "turn_label = widgets.Label(value='Spieler x ist an der Reihe')\n",
    "\n",
    "status_label = widgets.Label(value='aktueller Status:')\n",
    "\n",
    "pieces_status_label = widgets.Label(value='Setzbare Steine:')\n",
    "\n",
    "restart_button = widgets.Button(description='restart')\n",
    "restart_button.on_click(on_button_clicked)\n",
    "\n",
    "stones_player_one = widgets.FloatProgress(\n",
    "                value=9,\n",
    "                max=9,\n",
    "                min=0,\n",
    "                description='Spieler 1',\n",
    "                bar_style= 'info', # 'success', 'info', 'warning', 'danger' or ''\n",
    "                orientaiton='horizontal'\n",
    "            )\n",
    "\n",
    "stones_player_two = widgets.FloatProgress(\n",
    "                value=9,\n",
    "                max=9,\n",
    "                min=0,\n",
    "                description='Spieler 2',\n",
    "                bar_style='warning', # 'success', 'info', 'warning', 'danger' or ''\n",
    "                orientaiton='horizontal'\n",
    "            )"
   ]
  },
  {
   "cell_type": "markdown",
   "metadata": {},
   "source": [
    "Die Methode `change_status_label(text)` nimmt einen beliebigen Status-Text entgegen und setzt diesen mit dem Präfix 'Status: ' als Text des status_label."
   ]
  },
  {
   "cell_type": "code",
   "execution_count": null,
   "metadata": {},
   "outputs": [],
   "source": [
    "def change_status_label(text):\n",
    "    status_label.value = 'Status: '+text"
   ]
  },
  {
   "cell_type": "markdown",
   "metadata": {},
   "source": [
    "Die Methode `update_status_widgets()` aktualisiert die unterschiedlichen Statusanzeigen passend zur aktuellen Spielphase."
   ]
  },
  {
   "cell_type": "code",
   "execution_count": null,
   "metadata": {},
   "outputs": [],
   "source": [
    "def update_status_widgets(message):\n",
    "    player_color = 'Weiß'\n",
    "    if(game.current_player == 2):\n",
    "        player_color = 'Braun'\n",
    "    turn_label.value='Spieler '+ str(game.current_player)+ ' (' + player_color + ') an der Reihe.'\n",
    "    if(get_player_phase(game.state, game.current_player) == 1):\n",
    "        change_status_label('Bitte einen Stein auf dem Spielfeld platzieren.')\n",
    "    if(get_player_phase(game.state, game.current_player) == 2):\n",
    "        change_status_label('Bitte einen Stein zum Ziehen auswählen.')\n",
    "    if(get_player_phase(game.state, game.current_player) == 3):\n",
    "        change_status_label('Bitte einen Stein zum Springen auswählen.')\n",
    "    if(game.state[0][0] == game.state[0][1] == 0):\n",
    "        pieces_status_label.value = 'Verbleibende Steine:'\n",
    "        stones_player_one.value = len(player_pieces(game.state, 1))\n",
    "        stones_player_two.value = len(player_pieces(game.state, 2))\n",
    "    else:\n",
    "        pieces_status_label.value = 'Setzbare Steine:'\n",
    "        stones_player_one.value = game.state[0][0]\n",
    "        stones_player_two.value = game.state[0][1]\n",
    "    if(message != ''):\n",
    "        change_status_label(message)\n",
    "    if(utility(game.state, game.current_player) == 1):\n",
    "        change_status_label('Spieler '+ str(game.current_player)+ ' hat gewonnen!')\n",
    "    if(game.number_stones_to_remove > 0):\n",
    "        if(game.number_stones_to_remove == 1):\n",
    "            change_status_label('Mühle! Bitte noch 1 Stein des Gegners entfernen.') \n",
    "        else:\n",
    "            change_status_label('Mühle! Bitte noch ' + str(game.number_stones_to_remove) + ' Steine des Gegners entfernen.') "
   ]
  },
  {
   "cell_type": "markdown",
   "metadata": {},
   "source": [
    "## Spielen"
   ]
  },
  {
   "cell_type": "markdown",
   "metadata": {},
   "source": [
    "Schließlich kann das Spielfeld erzeugt und ein Spiel gestartet werden. Dabei wird bei jedem Mausklick auf das Spielfeld `play_game()` mit den Koordinaten des Klicks aufgerufen."
   ]
  },
  {
   "cell_type": "code",
   "execution_count": null,
   "metadata": {
    "scrolled": false
   },
   "outputs": [],
   "source": [
    "game = Game()\n",
    "board[2].on_mouse_down(game.play_game)\n",
    "update_board(game)"
   ]
  },
  {
   "cell_type": "code",
   "execution_count": null,
   "metadata": {},
   "outputs": [],
   "source": []
  }
 ],
 "metadata": {
  "kernelspec": {
   "display_name": "Python 3",
   "language": "python",
   "name": "python3"
  },
  "language_info": {
   "codemirror_mode": {
    "name": "ipython",
    "version": 3
   },
   "file_extension": ".py",
   "mimetype": "text/x-python",
   "name": "python",
   "nbconvert_exporter": "python",
   "pygments_lexer": "ipython3",
   "version": "3.7.9"
  }
 },
 "nbformat": 4,
 "nbformat_minor": 4
}
