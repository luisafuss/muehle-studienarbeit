{
 "cells": [
  {
   "cell_type": "markdown",
   "metadata": {},
   "source": [
    "# GUI - Nine Men Morris"
   ]
  },
  {
   "cell_type": "code",
   "execution_count": null,
   "metadata": {},
   "outputs": [],
   "source": [
    "%%HTML\n",
    "<style>\n",
    ".container { width:100% }\n",
    "</style>"
   ]
  },
  {
   "cell_type": "markdown",
   "metadata": {},
   "source": [
    "## Definitionen:\n",
    "- ring = einer der 3 Quadrate (0-2)\n",
    "- cell = ein Punkt auf einem Ring (0-7)\n",
    "- position = (ring, cell)\n",
    "- board = Array aus 3 Arrays, die angeben, ob, und wenn ja welcher Stein dort sitzt\n",
    "- remaining = \\[noch nicht gesetzte Steine Spieler 1, noch nicht gesetzte Steine Spieler 2\\]\n",
    "- pieces = \\[remaining, board\\]"
   ]
  },
  {
   "cell_type": "code",
   "execution_count": null,
   "metadata": {},
   "outputs": [],
   "source": [
    "%run ./Muehle_Logic.ipynb\n",
    "%run ./Muehle_Utilities.ipynb\n",
    "import ipycanvas\n",
    "from ipycanvas import Canvas, MultiCanvas\n",
    "import tkinter as tk\n",
    "from tkinter import ttk\n",
    "\n",
    "from __future__ import print_function\n",
    "from ipywidgets import interact, interactive, fixed, interact_manual\n",
    "import ipywidgets as widgets"
   ]
  },
  {
   "cell_type": "markdown",
   "metadata": {},
   "source": [
    "## Konstanten\n",
    "\n",
    "* BOARD_SIZE = Größe des Spielfeldes in Pixeln\n",
    "* DOT_RADIUS = Radius der schwarzen kleinen Punkte, die mögliche Positionen markieren (in Abhängigkeit von der Spielfeldgröße)\n",
    "* PIECE_RADIUS = Radius der Spielsteine\n",
    "* COLOUR = Farben der [dots, pieces_player_1, pieces_player_2]\n",
    "* PADDING = relativer Abstand des äüßersten Quadrats zum Spielfeldrand\n",
    "* DISTANCE = relativer Abstand zwischen den Quadraten des Spielfelds"
   ]
  },
  {
   "cell_type": "code",
   "execution_count": null,
   "metadata": {},
   "outputs": [],
   "source": [
    "BOARD_SIZE      = 400\n",
    "DOT_RADIUS      = BOARD_SIZE*0.025\n",
    "PIECE_RADIUS    = BOARD_SIZE*0.04\n",
    "COLOUR          = ['black', 'white', 'sienna']\n",
    "COLOUR_HINT     = 'green'\n",
    "COLOUR_OPPONENT = 'red'\n",
    "PADDING         = 0.05\n",
    "DISTANCE        = 0.15\n",
    "TRANSPARENCY_DEFAULT = 1.0\n",
    "TRANSPARENCY_HINT    = 0.5"
   ]
  },
  {
   "cell_type": "markdown",
   "metadata": {},
   "source": [
    "## Mögliche Positionen\n",
    "\n",
    "<img src=\"board_positions.png\" alt=\"Mögliche Positionen\" width=\"800\"/>"
   ]
  },
  {
   "cell_type": "code",
   "execution_count": null,
   "metadata": {},
   "outputs": [],
   "source": [
    "#Reihe von oben nach unten (0-6)\n",
    "def row(number):\n",
    "    return PADDING + DISTANCE * number\n",
    "#Spalte von links nach rechts (0-6)\n",
    "def col(number):\n",
    "    return row(number)"
   ]
  },
  {
   "cell_type": "code",
   "execution_count": null,
   "metadata": {},
   "outputs": [],
   "source": [
    "positions = [([col(0), row(0)], [col(3), row(0)], [col(6), row(0)], [col(6), row(3)], [col(6), row(6)], [col(3), row(6)], [col(0), row(6)], [col(0), row(3)]), #ring 0\n",
    "             ([col(1), row(1)], [col(3), row(1)], [col(5), row(1)], [col(5), row(3)], [col(5), row(5)], [col(3), row(5)], [col(1), row(5)], [col(1), row(3)]), #ring 1\n",
    "             ([col(2), row(2)], [col(3), row(2)], [col(4), row(2)], [col(4), row(3)], [col(4), row(4)], [col(3), row(4)], [col(2), row(4)], [col(2), row(3)])] #ring 2\n",
    "\n",
    "wmd_dic = {\n",
    "    \"a1\":positions[0][6],\n",
    "    \"a4\":positions[0][7],\n",
    "    \"a7\":positions[0][0],\n",
    "    \"b2\":positions[1][6],\n",
    "    \"b4\":positions[1][7],\n",
    "    \"b6\":positions[1][0],\n",
    "    \"c3\":positions[2][6],\n",
    "    \"c4\":positions[2][7],\n",
    "    \"c5\":positions[2][0],\n",
    "    \"d1\":positions[0][5],\n",
    "    \"d2\":positions[1][5],\n",
    "    \"d3\":positions[2][5],\n",
    "    \"d5\":positions[2][1],\n",
    "    \"d6\":positions[1][1],\n",
    "    \"d7\":positions[0][1],\n",
    "    \"e3\":positions[2][4],\n",
    "    \"e4\":positions[2][3],\n",
    "    \"e5\":positions[2][2],\n",
    "    \"f2\":positions[1][4],\n",
    "    \"f4\":positions[1][3],\n",
    "    \"f6\":positions[1][2],\n",
    "    \"g1\":positions[0][4],\n",
    "    \"g4\":positions[0][3],\n",
    "    \"g7\":positions[0][2]\n",
    "}"
   ]
  },
  {
   "cell_type": "markdown",
   "metadata": {},
   "source": [
    "## Initialisierung Canvas\n",
    "\n",
    "**Aufbau Leinwand:**\n",
    "\n",
    "board\\[Hintergrund, Linien, Steine]"
   ]
  },
  {
   "cell_type": "code",
   "execution_count": null,
   "metadata": {},
   "outputs": [],
   "source": [
    "#board[Hintergrund, Linien, Steine]\n",
    "board = MultiCanvas(3, width = BOARD_SIZE, height = BOARD_SIZE)\n",
    "\n",
    "# Hintergrund\n",
    "board[0].fill_style = '#ffffcc'\n",
    "board[0].fill_rect(0, 0, BOARD_SIZE)\n",
    "\n",
    "# Strichstärke\n",
    "board[1].line_width = 5\n",
    "\n",
    "# Quadrate\n",
    "board[1].stroke_rect(BOARD_SIZE*col(0), BOARD_SIZE*row(0), BOARD_SIZE*(1-row(0)-col(0))) #ring 0\n",
    "board[1].stroke_rect(BOARD_SIZE*col(1), BOARD_SIZE*row(1), BOARD_SIZE*(1-row(1)-col(1))) #ring 1\n",
    "board[1].stroke_rect(BOARD_SIZE*col(2), BOARD_SIZE*row(2), BOARD_SIZE*(1-row(2)-col(2))) #ring 2\n",
    "\n",
    "# Mittelinien\n",
    "board[1].begin_path()\n",
    "board[1].move_to(BOARD_SIZE*col(3), BOARD_SIZE*row(0)) #oben\n",
    "board[1].line_to(BOARD_SIZE*col(3), BOARD_SIZE*row(2))\n",
    "board[1].move_to(BOARD_SIZE*col(6), BOARD_SIZE*row(3)) #rechts\n",
    "board[1].line_to(BOARD_SIZE*col(4), BOARD_SIZE*row(3))\n",
    "board[1].move_to(BOARD_SIZE*col(3), BOARD_SIZE*row(6)) #unten\n",
    "board[1].line_to(BOARD_SIZE*col(3), BOARD_SIZE*row(4))\n",
    "board[1].move_to(BOARD_SIZE*col(0), BOARD_SIZE*row(3)) #links\n",
    "board[1].line_to(BOARD_SIZE*col(2), BOARD_SIZE*row(3))\n",
    "board[1].stroke()\n",
    "\n",
    "# Punkte (außen, mitte, innen)\n",
    "for ring in positions:\n",
    "    for x,y in ring:\n",
    "        board[1].fill_arc(BOARD_SIZE*x, BOARD_SIZE*y, DOT_RADIUS, 0, 360)"
   ]
  },
  {
   "cell_type": "markdown",
   "metadata": {},
   "source": [
    "## Status des Spielfelds\n",
    "* 0 = kein Stein\n",
    "* 1 = weißer Stein\n",
    "* 2 = brauner Stein"
   ]
  },
  {
   "cell_type": "code",
   "execution_count": null,
   "metadata": {},
   "outputs": [],
   "source": [
    "class status():\n",
    "    pieces = [[9,9],[          # Anzahl zu setzender Steine (Spieler_1 (Weiß), Spieler_2 (Braun))\n",
    "            [0,0,0,0,0,0,0,0], # ring 0\n",
    "            [0,0,0,0,0,0,0,0], # ring 1\n",
    "            [0,0,0,0,0,0,0,0]  # ring 2\n",
    "      ]]\n",
    "    current_player = 1\n",
    "    mills = set()\n",
    "    number_stones_to_remove = 0\n",
    "    selected_dot_old = (None, None)\n",
    "    selected_dot_new = (None, None)\n",
    "    move_or_jump = False\n",
    "    game_over = False"
   ]
  },
  {
   "source": [
    "## Initialisierung und Funktionen der Status-Widgets und des Restar-Button"
   ],
   "cell_type": "markdown",
   "metadata": {}
  },
  {
   "cell_type": "code",
   "execution_count": null,
   "metadata": {},
   "outputs": [],
   "source": [
    "def on_button_clicked(b):\n",
    "    status.pieces= [[9,9],[          \n",
    "                    [0,0,0,0,0,0,0,0], \n",
    "                    [0,0,0,0,0,0,0,0], \n",
    "                    [0,0,0,0,0,0,0,0]  \n",
    "                   ]]\n",
    "    status.current_player = 1\n",
    "    status.mills = set()\n",
    "    status.number_stones_to_remove = 0\n",
    "    status.selected_dot_old = (None, None)\n",
    "    status.selected_dot_new = (None, None)\n",
    "    status.move_or_jump = False\n",
    "    status.game_over = False\n",
    "    update_board(status)"
   ]
  },
  {
   "cell_type": "code",
   "execution_count": null,
   "metadata": {},
   "outputs": [],
   "source": [
    "turn_label = widgets.Label(value='Spieler x ist an der Reihe')\n",
    "\n",
    "status_label = widgets.Label(value='aktueller Status:')\n",
    "\n",
    "pieces_status_label = widgets.Label(value='Setzbare Steine:')\n",
    "\n",
    "restart_button = widgets.Button(description='restart')\n",
    "restart_button.on_click(on_button_clicked)\n",
    "\n",
    "stones_player_one = widgets.FloatProgress(\n",
    "                value=9,\n",
    "                max=9,\n",
    "                min=0,\n",
    "                description='Spieler 1',\n",
    "                bar_style= 'info', # 'success', 'info', 'warning', 'danger' or ''\n",
    "                orientaiton='horizontal'\n",
    "            )\n",
    "\n",
    "stones_player_two = widgets.FloatProgress(\n",
    "                value=9,\n",
    "                max=9,\n",
    "                min=0,\n",
    "                description='Spieler 2',\n",
    "                bar_style='warning', # 'success', 'info', 'warning', 'danger' or ''\n",
    "                orientaiton='horizontal'\n",
    "            )"
   ]
  },
  {
   "cell_type": "code",
   "execution_count": null,
   "metadata": {},
   "outputs": [],
   "source": [
    "def change_status_label(text):\n",
    "    status_label.value = 'Status: '+text"
   ]
  },
  {
   "cell_type": "code",
   "execution_count": null,
   "metadata": {},
   "outputs": [],
   "source": [
    "def update_status_widgets():\n",
    "    turn_label.value='Spieler '+ str(status.current_player)+ ' ist dran.'\n",
    "    status_label.value = 'Status: '+'Spieler in Phase '+ str(get_player_phase(status.pieces, status.current_player))+'.'\n",
    "    if(status.pieces[0][0] == status.pieces[0][1] == 0):\n",
    "        pieces_status_label.value = 'Verbleibende Steine:'\n",
    "        stones_player_one.value = len(player_pieces(status.pieces, 1))\n",
    "        stones_player_two.value = len(player_pieces(status.pieces, 2))\n",
    "    else:\n",
    "        pieces_status_label.value = 'Setzbare Steine:'\n",
    "        stones_player_one.value = status.pieces[0][0]\n",
    "        stones_player_two.value = status.pieces[0][1]"
   ]
  },
  {
   "cell_type": "markdown",
   "metadata": {},
   "source": [
    "## Spielsteine anzeigen"
   ]
  },
  {
   "cell_type": "code",
   "execution_count": null,
   "metadata": {},
   "outputs": [],
   "source": [
    "def draw_piece(ring, cell, player):\n",
    "    #Hintergrund\n",
    "    board[2].fill_style = COLOUR[player]\n",
    "    board[2].fill_arc(BOARD_SIZE*positions[ring][cell][0], BOARD_SIZE*positions[ring][cell][1], PIECE_RADIUS, 0, 360)\n",
    "    #Ringe\n",
    "    if player == 1:\n",
    "        board[2].stroke_style = 'silver' \n",
    "    else:\n",
    "        board[2].stroke_style = 'chocolate'\n",
    "    board[2].stroke_arc(BOARD_SIZE*positions[ring][cell][0], BOARD_SIZE*positions[ring][cell][1], PIECE_RADIUS,     0, 360)\n",
    "    board[2].stroke_arc(BOARD_SIZE*positions[ring][cell][0], BOARD_SIZE*positions[ring][cell][1], PIECE_RADIUS*0.7, 0, 360)\n",
    "    board[2].stroke_arc(BOARD_SIZE*positions[ring][cell][0], BOARD_SIZE*positions[ring][cell][1], PIECE_RADIUS*0.3, 0, 360)"
   ]
  },
  {
   "cell_type": "code",
   "execution_count": null,
   "metadata": {},
   "outputs": [],
   "source": [
    "def update_board(status):\n",
    "    one_below_other = widgets.VBox([turn_label, status_label, pieces_status_label, stones_player_one, stones_player_two, restart_button])\n",
    "    side_by_side = widgets.HBox([board, one_below_other])\n",
    "    display(side_by_side)\n",
    "    #display(turn_label)\n",
    "    #display(status_label)\n",
    "    #display(pieces_status_label)\n",
    "    #display(stones_player_one)\n",
    "    #display(stones_player_two)\n",
    "\n",
    "    with ipycanvas.hold_canvas(board):\n",
    "        board[2].clear()\n",
    "        board[2].global_alpha = TRANSPARENCY_DEFAULT\n",
    "        for ring in range(3):\n",
    "            for cell in range(8):\n",
    "                player = status.pieces[1][ring][cell]\n",
    "                if player in [1, 2]: draw_piece(ring, cell, player)\n",
    "        board[2].fill_style = 'black'\n",
    "        board[2].font = '18px serif'\n",
    "        board[2].fill_text('Spieler '+ str(status.current_player), BOARD_SIZE*0.4, BOARD_SIZE*0.45)\n",
    "        board[2].fill_text('ist dran.', BOARD_SIZE*0.4, BOARD_SIZE*0.55)  \n",
    "        update_status_widgets()\n",
    "    #return board"
   ]
  },
  {
   "cell_type": "code",
   "execution_count": null,
   "metadata": {},
   "outputs": [],
   "source": [
    "def on_dot(pos, x, y):\n",
    "    return (pos[0]*BOARD_SIZE-PIECE_RADIUS/2 < x < pos[0]*BOARD_SIZE+PIECE_RADIUS/2 and pos[1]*BOARD_SIZE-PIECE_RADIUS/2 < y < pos[1]*BOARD_SIZE+PIECE_RADIUS/2)"
   ]
  },
  {
   "cell_type": "code",
   "execution_count": null,
   "metadata": {},
   "outputs": [],
   "source": [
    "def show_possible_clickable_positions(possible_positions, colour = COLOUR_HINT):\n",
    "    for position in possible_positions:\n",
    "        ring, cell = position\n",
    "        board[2].fill_style = colour\n",
    "        board[2].global_alpha = TRANSPARENCY_HINT\n",
    "        board[2].fill_arc(BOARD_SIZE*positions[ring][cell][0], BOARD_SIZE*positions[ring][cell][1], PIECE_RADIUS, 0, 360)\n",
    "    return"
   ]
  },
  {
   "cell_type": "code",
   "execution_count": null,
   "metadata": {},
   "outputs": [],
   "source": [
    "def winner_popup(winner):\n",
    "    msg = \"Herzlichen Glückwunsch! \\nSpieler \" + str(winner) + \", du hast gewonnen!\"\n",
    "    popup = tk.Tk()\n",
    "    popup.wm_title(\"Gewonnen!\")\n",
    "    label = ttk.Label(popup, text=msg, font=(\"Verdana\", 10))\n",
    "    label.pack(side=\"top\", fill=\"x\", pady=10)\n",
    "    B1 = ttk.Button(popup, text=\"Yeah!\", command = popup.destroy)\n",
    "    B1.pack()\n",
    "    popup.mainloop()"
   ]
  },
  {
   "cell_type": "code",
   "execution_count": null,
   "metadata": {},
   "outputs": [],
   "source": [
    "def handle_mouse_down(x, y):\n",
    "    global status\n",
    "    if not status.game_over:\n",
    "        for ring in positions:\n",
    "            for cell in ring:\n",
    "                if on_dot(cell, x, y):\n",
    "                    status.selected_dot_old = status.selected_dot_new\n",
    "                    status.selected_dot_new = (positions.index(ring), ring.index(cell))\n",
    "                    try:\n",
    "                        make_move(positions.index(ring), ring.index(cell))\n",
    "                    except InvalidMoveException:\n",
    "                        print('Ungültiger Zug')\n",
    "board[2].on_mouse_down(handle_mouse_down)"
   ]
  }
 ],
 "metadata": {
  "kernelspec": {
   "display_name": "Python 3.7.0 64-bit",
   "language": "python",
   "name": "python37064bit245c5ad1b669431783b79e879480037b"
  },
  "language_info": {
   "codemirror_mode": {
    "name": "ipython",
    "version": 3
   },
   "file_extension": ".py",
   "mimetype": "text/x-python",
   "name": "python",
   "nbconvert_exporter": "python",
   "pygments_lexer": "ipython3",
   "version": "3.7.0-final"
  }
 },
 "nbformat": 4,
 "nbformat_minor": 4
}