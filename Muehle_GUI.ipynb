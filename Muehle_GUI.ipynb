{
 "cells": [
  {
   "cell_type": "markdown",
   "metadata": {},
   "source": [
    "# GUI - Nine Men Morris"
   ]
  },
  {
   "cell_type": "code",
   "execution_count": 1,
   "metadata": {},
   "outputs": [],
   "source": [
    "%%HTML\n",
    "<style>\n",
    ".container { width:100% }\n",
    "</style>"
   ]
  },
  {
   "cell_type": "markdown",
   "metadata": {},
   "source": [
    "## Definitionen:\n",
    "- ring = einer der 3 Quadrate (0-2)\n",
    "- cell = ein punkt auf einem Ring (0-7)\n",
    "- position = (ring, cell)\n",
    "- board = Array aus 3 Arrays, die angeben, ob, und wenn ja welcher Stein dort sitzt\n",
    "- remaining = \\[noch nicht gesetzte Steine Spieler 1, noch nicht gesetzte Steine Spieler 2\\]\n",
    "- pieces = \\[remaining, board\\]"
   ]
  },
  {
   "cell_type": "code",
   "execution_count": 2,
   "metadata": {},
   "outputs": [],
   "source": [
    "import ipycanvas\n",
    "from ipycanvas import Canvas, MultiCanvas"
   ]
  },
  {
   "cell_type": "markdown",
   "metadata": {},
   "source": [
    "## Mögliche Positionen\n",
    "\n",
    "<img src=\"board_positions.png\" alt=\"Mögliche Positionen\" width=\"800\"/>"
   ]
  },
  {
   "cell_type": "code",
   "execution_count": 3,
   "metadata": {},
   "outputs": [],
   "source": [
    "positions = [([0.05, 0.05], [0.50, 0.05], [0.95, 0.05], [0.95, 0.50], [0.95, 0.95], [0.50, 0.95], [0.05, 0.95], [0.05, 0.50]),\n",
    "             ([0.20, 0.20], [0.50, 0.20], [0.80, 0.20], [0.80, 0.50], [0.80, 0.80], [0.50, 0.80], [0.20, 0.80], [0.20, 0.50]),\n",
    "             ([0.35, 0.35], [0.50, 0.35], [0.65, 0.35], [0.65, 0.50], [0.65, 0.65], [0.50, 0.65], [0.35, 0.65], [0.35, 0.50])]\n",
    "\n",
    "dic_positions = {\n",
    "    \"a1\":positions[0][6],\n",
    "    \"a4\":positions[0][7],\n",
    "    \"a7\":positions[0][0],\n",
    "    \"b2\":positions[1][6],\n",
    "    \"b4\":positions[1][7],\n",
    "    \"b6\":positions[1][0],\n",
    "    \"c3\":positions[2][6],\n",
    "    \"c4\":positions[2][7],\n",
    "    \"c5\":positions[2][0],\n",
    "    \"d1\":positions[0][5],\n",
    "    \"d2\":positions[1][5],\n",
    "    \"d3\":positions[2][5],\n",
    "    \"d5\":positions[2][1],\n",
    "    \"d6\":positions[1][1],\n",
    "    \"d7\":positions[0][1],\n",
    "    \"e3\":positions[2][4],\n",
    "    \"e4\":positions[2][3],\n",
    "    \"e5\":positions[2][2],\n",
    "    \"f2\":positions[1][4],\n",
    "    \"f4\":positions[1][3],\n",
    "    \"f6\":positions[1][2],\n",
    "    \"g1\":positions[0][4],\n",
    "    \"g4\":positions[0][3],\n",
    "    \"g7\":positions[0][2]\n",
    "}"
   ]
  },
  {
   "cell_type": "markdown",
   "metadata": {},
   "source": [
    "## Initialisierung Canvas\n",
    "\n",
    "**Aufbau Leinwand:**\n",
    "\n",
    "board\\[Hintergrund, Linien, Steine]\n",
    "\n",
    "* BOARD_SIZE = Größe des Spielfeldes in Pixeln\n",
    "* DOT_RADIUS = Radius der schwarzen kleinen Punkte, die mögliche Positionen markieren (in Abhängigkeit von der Spielfeldgröße)"
   ]
  },
  {
   "cell_type": "code",
   "execution_count": 4,
   "metadata": {},
   "outputs": [],
   "source": [
    "BOARD_SIZE = 300\n",
    "DOT_RADIUS = BOARD_SIZE*0.025\n",
    "\n",
    "#board[Hintergrund, Linien, Steine]\n",
    "board = MultiCanvas(3, width = BOARD_SIZE, height = BOARD_SIZE)\n",
    "\n",
    "# Hintergrund\n",
    "board[0].fill_style = '#ffffcc'\n",
    "board[0].fill_rect(0, 0, BOARD_SIZE)\n",
    "\n",
    "# Strichstärke\n",
    "board[1].line_width = 5\n",
    "\n",
    "# Quadrate\n",
    "board[1].stroke_rect(BOARD_SIZE*0.05, BOARD_SIZE*0.05, BOARD_SIZE*0.90) # Außenring\n",
    "board[1].stroke_rect(BOARD_SIZE*0.20, BOARD_SIZE*0.20, BOARD_SIZE*0.60) # Mittelring\n",
    "board[1].stroke_rect(BOARD_SIZE*0.35, BOARD_SIZE*0.35, BOARD_SIZE*0.30) # Innenring\n",
    "\n",
    "# Linien\n",
    "board[1].begin_path()\n",
    "board[1].move_to(BOARD_SIZE*0.50, BOARD_SIZE*0.05) #oben\n",
    "board[1].line_to(BOARD_SIZE*0.50, BOARD_SIZE*0.35)\n",
    "board[1].move_to(BOARD_SIZE*0.95, BOARD_SIZE*0.50) #rechts\n",
    "board[1].line_to(BOARD_SIZE*0.65, BOARD_SIZE*0.50)\n",
    "board[1].move_to(BOARD_SIZE*0.50, BOARD_SIZE*0.95) #unten\n",
    "board[1].line_to(BOARD_SIZE*0.50, BOARD_SIZE*0.65)\n",
    "board[1].move_to(BOARD_SIZE*0.05, BOARD_SIZE*0.50) #links\n",
    "board[1].line_to(BOARD_SIZE*0.35, BOARD_SIZE*0.50)\n",
    "board[1].stroke()\n",
    "\n",
    "# Punkte (außen, mitte, innen)\n",
    "for ring in positions:\n",
    "    for x,y in ring:\n",
    "        board[1].fill_arc(BOARD_SIZE*x, BOARD_SIZE*y, DOT_RADIUS, 0, 360)"
   ]
  },
  {
   "cell_type": "markdown",
   "metadata": {},
   "source": [
    "## Status des Spielfelds\n",
    "* 0 = kein Stein\n",
    "* 1 = weißer Stein\n",
    "* 2 = brauner Stein"
   ]
  },
  {
   "cell_type": "code",
   "execution_count": 16,
   "metadata": {},
   "outputs": [
    {
     "data": {
      "text/plain": [
       "<__main__.status at 0x1a1f46ff6a0>"
      ]
     },
     "execution_count": 16,
     "metadata": {},
     "output_type": "execute_result"
    }
   ],
   "source": [
    "class status():\n",
    "    pieces = [[9,9],[          # Anzahl zu setzender Steine (Spieler_1 (Weiß), Spieler_2 (Braun))\n",
    "            [0,0,0,0,0,0,0,0], # äußerer Ring\n",
    "            [0,0,0,0,0,0,0,0], # mittlerer Ring\n",
    "            [0,0,0,0,0,0,0,0]  # innerer Ring\n",
    "    ]]\n",
    "status()"
   ]
  },
  {
   "cell_type": "markdown",
   "metadata": {},
   "source": [
    "## Spielsteine anzeigen"
   ]
  },
  {
   "cell_type": "code",
   "execution_count": 6,
   "metadata": {},
   "outputs": [],
   "source": [
    "PIECE_RADIUS = BOARD_SIZE*0.04\n",
    "\n",
    "def update_board(status):\n",
    "    with ipycanvas.hold_canvas(board):\n",
    "        board[2].clear()\n",
    "        \"\"\"\n",
    "        for piece in range(24):\n",
    "                value = status.pieces[piece][0]\n",
    "        \"\"\"\n",
    "        for ring in range(3):\n",
    "            for piece in range(8):\n",
    "                value = status.pieces[1][ring][piece]\n",
    "                if value == 1:\n",
    "                    board[2].fill_style = 'white'\n",
    "                    board[2].fill_arc(BOARD_SIZE*positions[ring][piece][0], BOARD_SIZE*positions[ring][piece][1], PIECE_RADIUS, 0, 360)\n",
    "                if value == 2:\n",
    "                    board[2].fill_style = 'brown'\n",
    "                    board[2].fill_arc(BOARD_SIZE*positions[ring][piece][0], BOARD_SIZE*positions[ring][piece][1], PIECE_RADIUS, 0, 360)\n",
    "    return board"
   ]
  },
  {
   "cell_type": "code",
   "execution_count": 18,
   "metadata": {},
   "outputs": [
    {
     "data": {
      "application/vnd.jupyter.widget-view+json": {
       "model_id": "14b4687c550c45aab05527171c1a93ae",
       "version_major": 2,
       "version_minor": 0
      },
      "text/plain": [
       "MultiCanvas(height=300, width=300)"
      ]
     },
     "metadata": {},
     "output_type": "display_data"
    }
   ],
   "source": [
    "update_board(status)"
   ]
  },
  {
   "cell_type": "code",
   "execution_count": 8,
   "metadata": {},
   "outputs": [],
   "source": [
    "def handle_mouse_down(x, y):\n",
    "    global status\n",
    "    for ring in positions:\n",
    "        for pos in ring:\n",
    "            if (pos[0]*BOARD_SIZE-PIECE_RADIUS/2 < x < pos[0]*BOARD_SIZE+PIECE_RADIUS/2 and pos[1]*BOARD_SIZE-PIECE_RADIUS/2 < y < pos[1]*BOARD_SIZE+PIECE_RADIUS/2):\n",
    "                save_position(status, ring.index(pos), positions.index(ring))\n",
    "    print(\"Ungültiger Zug. Bitte klicke auf eine mögliche Position.\")\n",
    "board[2].on_mouse_down(handle_mouse_down)"
   ]
  },
  {
   "cell_type": "code",
   "execution_count": 9,
   "metadata": {},
   "outputs": [],
   "source": [
    "def save_position(status, pos, ring):\n",
    "    status.pieces[1][ring][pos] = 1\n",
    "    update_board(status)\n",
    "    "
   ]
  },
  {
   "cell_type": "code",
   "execution_count": 17,
   "metadata": {},
   "outputs": [],
   "source": [
    "status.pieces = [[0, 0],\n",
    "         [[1, 0, 1, 2, 0, 1, 0, 0],\n",
    "          [2, 0, 1, 0, 0, 0, 1, 0],\n",
    "          [0, 2, 0, 0, 1, 2, 0, 0]]]"
   ]
  },
  {
   "cell_type": "code",
   "execution_count": null,
   "metadata": {},
   "outputs": [],
   "source": []
  }
 ],
 "metadata": {
  "kernelspec": {
   "display_name": "Python 3",
   "language": "python",
   "name": "python3"
  },
  "language_info": {
   "codemirror_mode": {
    "name": "ipython",
    "version": 3
   },
   "file_extension": ".py",
   "mimetype": "text/x-python",
   "name": "python",
   "nbconvert_exporter": "python",
   "pygments_lexer": "ipython3",
   "version": "3.8.3"
  }
 },
 "nbformat": 4,
 "nbformat_minor": 4
}
