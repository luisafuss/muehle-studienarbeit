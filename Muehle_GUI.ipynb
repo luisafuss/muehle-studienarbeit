{
 "cells": [
  {
   "cell_type": "markdown",
   "metadata": {},
   "source": [
    "# GUI - Nine Men Morris"
   ]
  },
  {
   "cell_type": "code",
   "execution_count": null,
   "metadata": {},
   "outputs": [],
   "source": [
    "%%HTML\n",
    "<style>\n",
    ".container { width:100% }\n",
    "</style>"
   ]
  },
  {
   "cell_type": "markdown",
   "metadata": {},
   "source": [
    "## Definitionen:\n",
    "- ring = einer der 3 Quadrate (0-2)\n",
    "- cell = ein Punkt auf einem Ring (0-7)\n",
    "- position = (ring, cell)\n",
    "- board = Array aus 3 Arrays, die angeben, ob, und wenn ja welcher Stein dort sitzt\n",
    "- remaining = \\[noch nicht gesetzte Steine Spieler 1, noch nicht gesetzte Steine Spieler 2\\]\n",
    "- pieces = \\[remaining, board\\]"
   ]
  },
  {
   "cell_type": "code",
   "execution_count": null,
   "metadata": {},
   "outputs": [],
   "source": [
    "%run ./Muehle_Logic.ipynb\n",
    "%run ./Muehle_Utilities.ipynb\n",
    "import ipycanvas\n",
    "from ipycanvas import Canvas, MultiCanvas"
   ]
  },
  {
   "cell_type": "markdown",
   "metadata": {},
   "source": [
    "## Konstanten\n",
    "\n",
    "* BOARD_SIZE = Größe des Spielfeldes in Pixeln\n",
    "* DOT_RADIUS = Radius der schwarzen kleinen Punkte, die mögliche Positionen markieren (in Abhängigkeit von der Spielfeldgröße)\n",
    "* PIECE_RADIUS = Radius der Spielsteine\n",
    "* COLOUR = Farben der [dots, pieces_player_1, pieces_player_2]\n",
    "* PADDING = relativer Abstand des äüßersten Quadrats zum Spielfeldrand\n",
    "* DISTANCE = relativer Abstand zwischen den Quadraten des Spielfelds"
   ]
  },
  {
   "cell_type": "code",
   "execution_count": null,
   "metadata": {},
   "outputs": [],
   "source": [
    "BOARD_SIZE   = 400\n",
    "DOT_RADIUS   = BOARD_SIZE*0.025\n",
    "PIECE_RADIUS = BOARD_SIZE*0.04\n",
    "COLOUR       = ['black', 'white', 'sienna']\n",
    "COLOUR_HINT  = 'green'\n",
    "PADDING      = 0.05\n",
    "DISTANCE     = 0.15\n",
    "TRANSPARENCY_DEFAULT = 1.0\n",
    "TRANSPARENCY_HINT    = 0.5"
   ]
  },
  {
   "cell_type": "markdown",
   "metadata": {},
   "source": [
    "## Mögliche Positionen\n",
    "\n",
    "<img src=\"board_positions.png\" alt=\"Mögliche Positionen\" width=\"800\"/>"
   ]
  },
  {
   "cell_type": "code",
   "execution_count": null,
   "metadata": {},
   "outputs": [],
   "source": [
    "#Reihe von oben nach unten (0-6)\n",
    "def row(number):\n",
    "    return PADDING + DISTANCE * number\n",
    "#Spalte von links nach rechts (0-6)\n",
    "def col(number):\n",
    "    return row(number)"
   ]
  },
  {
   "cell_type": "code",
   "execution_count": null,
   "metadata": {},
   "outputs": [],
   "source": [
    "positions = [([col(0), row(0)], [col(3), row(0)], [col(6), row(0)], [col(6), row(3)], [col(6), row(6)], [col(3), row(6)], [col(0), row(6)], [col(0), row(3)]), #ring 0\n",
    "             ([col(1), row(1)], [col(3), row(1)], [col(5), row(1)], [col(5), row(3)], [col(5), row(5)], [col(3), row(5)], [col(1), row(5)], [col(1), row(3)]), #ring 1\n",
    "             ([col(2), row(2)], [col(3), row(2)], [col(4), row(2)], [col(4), row(3)], [col(4), row(4)], [col(3), row(4)], [col(2), row(4)], [col(2), row(3)])] #ring 2\n",
    "\n",
    "wmd_dic = {\n",
    "    \"a1\":positions[0][6],\n",
    "    \"a4\":positions[0][7],\n",
    "    \"a7\":positions[0][0],\n",
    "    \"b2\":positions[1][6],\n",
    "    \"b4\":positions[1][7],\n",
    "    \"b6\":positions[1][0],\n",
    "    \"c3\":positions[2][6],\n",
    "    \"c4\":positions[2][7],\n",
    "    \"c5\":positions[2][0],\n",
    "    \"d1\":positions[0][5],\n",
    "    \"d2\":positions[1][5],\n",
    "    \"d3\":positions[2][5],\n",
    "    \"d5\":positions[2][1],\n",
    "    \"d6\":positions[1][1],\n",
    "    \"d7\":positions[0][1],\n",
    "    \"e3\":positions[2][4],\n",
    "    \"e4\":positions[2][3],\n",
    "    \"e5\":positions[2][2],\n",
    "    \"f2\":positions[1][4],\n",
    "    \"f4\":positions[1][3],\n",
    "    \"f6\":positions[1][2],\n",
    "    \"g1\":positions[0][4],\n",
    "    \"g4\":positions[0][3],\n",
    "    \"g7\":positions[0][2]\n",
    "}"
   ]
  },
  {
   "cell_type": "markdown",
   "metadata": {},
   "source": [
    "## Initialisierung Canvas\n",
    "\n",
    "**Aufbau Leinwand:**\n",
    "\n",
    "board\\[Hintergrund, Linien, Steine]"
   ]
  },
  {
   "cell_type": "code",
   "execution_count": null,
   "metadata": {},
   "outputs": [],
   "source": [
    "#board[Hintergrund, Linien, Steine]\n",
    "board = MultiCanvas(3, width = BOARD_SIZE, height = BOARD_SIZE)\n",
    "\n",
    "# Hintergrund\n",
    "board[0].fill_style = '#ffffcc'\n",
    "board[0].fill_rect(0, 0, BOARD_SIZE)\n",
    "\n",
    "# Strichstärke\n",
    "board[1].line_width = 5\n",
    "\n",
    "# Quadrate\n",
    "board[1].stroke_rect(BOARD_SIZE*col(0), BOARD_SIZE*row(0), BOARD_SIZE*(1-row(0)-col(0))) #ring 0\n",
    "board[1].stroke_rect(BOARD_SIZE*col(1), BOARD_SIZE*row(1), BOARD_SIZE*(1-row(1)-col(1))) #ring 1\n",
    "board[1].stroke_rect(BOARD_SIZE*col(2), BOARD_SIZE*row(2), BOARD_SIZE*(1-row(2)-col(2))) #ring 2\n",
    "\n",
    "# Mittelinien\n",
    "board[1].begin_path()\n",
    "board[1].move_to(BOARD_SIZE*col(3), BOARD_SIZE*row(0)) #oben\n",
    "board[1].line_to(BOARD_SIZE*col(3), BOARD_SIZE*row(2))\n",
    "board[1].move_to(BOARD_SIZE*col(6), BOARD_SIZE*row(3)) #rechts\n",
    "board[1].line_to(BOARD_SIZE*col(4), BOARD_SIZE*row(3))\n",
    "board[1].move_to(BOARD_SIZE*col(3), BOARD_SIZE*row(6)) #unten\n",
    "board[1].line_to(BOARD_SIZE*col(3), BOARD_SIZE*row(4))\n",
    "board[1].move_to(BOARD_SIZE*col(0), BOARD_SIZE*row(3)) #links\n",
    "board[1].line_to(BOARD_SIZE*col(2), BOARD_SIZE*row(3))\n",
    "board[1].stroke()\n",
    "\n",
    "# Punkte (außen, mitte, innen)\n",
    "for ring in positions:\n",
    "    for x,y in ring:\n",
    "        board[1].fill_arc(BOARD_SIZE*x, BOARD_SIZE*y, DOT_RADIUS, 0, 360)"
   ]
  },
  {
   "cell_type": "markdown",
   "metadata": {},
   "source": [
    "## Status des Spielfelds\n",
    "* 0 = kein Stein\n",
    "* 1 = weißer Stein\n",
    "* 2 = brauner Stein"
   ]
  },
  {
   "cell_type": "code",
   "execution_count": null,
   "metadata": {},
   "outputs": [],
   "source": [
    "class status():\n",
    "    pieces = [[9,9],[          # Anzahl zu setzender Steine (Spieler_1 (Weiß), Spieler_2 (Braun))\n",
    "            [0,0,0,0,0,0,0,0], # ring 0\n",
    "            [0,0,0,0,0,0,0,0], # ring 1\n",
    "            [0,0,0,0,0,0,0,0]  # ring 2\n",
    "      ]]\n",
    "    current_player = 1\n",
    "    mills = set()\n",
    "    selected_dot_old = (None, None)\n",
    "    selected_dot_new = (None, None)\n",
    "    move = False\n",
    "    game_over = False"
   ]
  },
  {
   "cell_type": "markdown",
   "metadata": {},
   "source": [
    "## Spielsteine anzeigen"
   ]
  },
  {
   "cell_type": "code",
   "execution_count": null,
   "metadata": {},
   "outputs": [],
   "source": [
    "def draw_piece(ring, cell, player):\n",
    "    #Hintergrund\n",
    "    board[2].fill_style = COLOUR[player]\n",
    "    board[2].fill_arc(BOARD_SIZE*positions[ring][cell][0], BOARD_SIZE*positions[ring][cell][1], PIECE_RADIUS, 0, 360)\n",
    "    #Ringe\n",
    "    if player == 1:\n",
    "        board[2].stroke_style = 'silver' \n",
    "    else:\n",
    "        board[2].stroke_style = 'chocolate'\n",
    "    board[2].stroke_arc(BOARD_SIZE*positions[ring][cell][0], BOARD_SIZE*positions[ring][cell][1], PIECE_RADIUS,     0, 360)\n",
    "    board[2].stroke_arc(BOARD_SIZE*positions[ring][cell][0], BOARD_SIZE*positions[ring][cell][1], PIECE_RADIUS*0.7, 0, 360)\n",
    "    board[2].stroke_arc(BOARD_SIZE*positions[ring][cell][0], BOARD_SIZE*positions[ring][cell][1], PIECE_RADIUS*0.3, 0, 360)"
   ]
  },
  {
   "cell_type": "code",
   "execution_count": null,
   "metadata": {},
   "outputs": [],
   "source": [
    "def update_board(status):\n",
    "    with ipycanvas.hold_canvas(board):\n",
    "        board[2].clear()\n",
    "        board[2].global_alpha = TRANSPARENCY_DEFAULT\n",
    "        for ring in range(3):\n",
    "            for cell in range(8):\n",
    "                player = status.pieces[1][ring][cell]\n",
    "                if player in [1, 2]: draw_piece(ring, cell, player)\n",
    "        board[2].fill_style = 'black'\n",
    "        board[2].font = '18px serif'\n",
    "        board[2].fill_text('Spieler '+ str(status.current_player), BOARD_SIZE*0.4, BOARD_SIZE*0.45)\n",
    "        board[2].fill_text('ist dran.', BOARD_SIZE*0.4, BOARD_SIZE*0.55)\n",
    "    return board"
   ]
  },
  {
   "cell_type": "code",
   "execution_count": null,
   "metadata": {},
   "outputs": [],
   "source": [
    "def on_dot(pos, x, y):\n",
    "    return (pos[0]*BOARD_SIZE-PIECE_RADIUS/2 < x < pos[0]*BOARD_SIZE+PIECE_RADIUS/2 and pos[1]*BOARD_SIZE-PIECE_RADIUS/2 < y < pos[1]*BOARD_SIZE+PIECE_RADIUS/2)"
   ]
  },
  {
   "cell_type": "code",
   "execution_count": null,
   "metadata": {},
   "outputs": [],
   "source": [
    "def show_possible_clickable_positions(possible_positions, colour = COLOUR_HINT):\n",
    "    for position in possible_positions:\n",
    "        ring, cell = position\n",
    "        board[2].fill_style = colour\n",
    "        board[2].global_alpha = TRANSPARENCY_HINT\n",
    "        board[2].fill_arc(BOARD_SIZE*positions[ring][cell][0], BOARD_SIZE*positions[ring][cell][1], PIECE_RADIUS, 0, 360)\n",
    "    return"
   ]
  },
  {
   "cell_type": "code",
   "execution_count": null,
   "metadata": {},
   "outputs": [],
   "source": [
    "# def mouse_down(x_px, y_px):\n",
    "#     global state\n",
    "#     with output:\n",
    "#         if not state.game_over:\n",
    "#             x = math.floor(x_px / CELL_SIZE)\n",
    "#             y = math.floor(y_px / CELL_SIZE)\n",
    "#             try:\n",
    "#                 state = make_move(state, (x, y))\n",
    "#             except InvalidMoveException:\n",
    "#                 print('Invalid Move')\n",
    "#             update_output(state)\n",
    "#             try:\n",
    "#                 next_move(state)\n",
    "#             except KeyboardInterrupt:\n",
    "#                 pass\n",
    "#\n",
    "# canvas[1].on_mouse_down(mouse_down)"
   ]
  },
  {
   "cell_type": "code",
   "execution_count": null,
   "metadata": {},
   "outputs": [],
   "source": [
    "def handle_mouse_down(x, y):\n",
    "    global status\n",
    "    if not status.game_over:\n",
    "        for ring in positions:\n",
    "            for cell in ring:\n",
    "                if on_dot(cell, x, y):\n",
    "                    status.selected_dot_old = status.selected_dot_new\n",
    "                    status.selected_dot_new = (positions.index(ring), ring.index(cell))\n",
    "                    try:\n",
    "                        make_move(positions.index(ring), ring.index(cell))\n",
    "                    except InvalidMoveException:\n",
    "                        print('Ungültiger Zug')\n",
    "                    update_board(status)\n",
    "board[2].on_mouse_down(handle_mouse_down)"
   ]
  },
  {
   "cell_type": "code",
   "execution_count": null,
   "metadata": {},
   "outputs": [],
   "source": [
    "# def make_move(state, pos):\n",
    "#     if pos not in state.frontier:\n",
    "#         print(pos, \"not in Frontier\")\n",
    "#         raise InvalidMoveException\n",
    "#     \n",
    "#     state = copy.deepcopy(state)\n",
    "#     disks_flipped = False\n",
    "#     board = state.board.tolist()\n",
    "#     for direction in directions:\n",
    "#         if can_flip_in_dir(board, pos, direction, state.turn):\n",
    "#             disks_flipped = True\n",
    "#             flip_in_dir(state, pos, direction, state.turn)\n",
    "# \n",
    "#     if disks_flipped:\n",
    "#         state.num_pieces += 1\n",
    "#         state.board[pos] = state.turn\n",
    "#         state.last_move = pos\n",
    "#         update_frontier(state, pos)\n",
    "#         state.turn = -state.turn\n",
    "#         state.possible_moves = get_possible_moves(state, state.turn)\n",
    "#         if len(state.possible_moves) == 0:\n",
    "#             state.turn = -state.turn\n",
    "#             state.possible_moves = get_possible_moves(state, state.turn)\n",
    "#             if len(state.possible_moves) == 0:\n",
    "#                 state.game_over = True\n",
    "#                 return state\n",
    "#     else:\n",
    "#         raise InvalidMoveException()\n",
    "#     return state"
   ]
  },
  {
   "cell_type": "code",
   "execution_count": null,
   "metadata": {},
   "outputs": [],
   "source": [
    "# def set_stone(x, y):\n",
    "#     global status\n",
    "#     board[2].global_alpha = TRANSPARENCY_DEFAULT\n",
    "#     board[2].fill_style = 'red'\n",
    "#     selected_ring, selected_cell = status.selected_dot\n",
    "#     possible_positions = next_positions(status.pieces, status.current_player, selected_ring, selected_cell)\n",
    "#     \n",
    "#     \n",
    "#     board[2].fill_text(possible_positions, 100, 100)\n",
    "#     board[2].fill_text((selected_ring, selected_cell), 300, 300)\n",
    "#     if not status.game_over:\n",
    "#         try:\n",
    "#             for ring in positions:\n",
    "#                 for cell in ring:\n",
    "#                     if on_dot(cell, x, y):\n",
    "#                         board[2].fill_text((positions.index(ring), ring.index(cell)), 350, 350)\n",
    "#                         if (positions.index(ring), ring.index(cell)) in possible_positions:\n",
    "#                             board[2].fill_text('Test 2', 50, 350)\n",
    "#                             status.pieces[1][positions.index(ring)][ring.index(cell)] = status.current_player\n",
    "#                             status.pieces[1][selected_ring][selected_cell] = 0\n",
    "#             board[2].on_mouse_down(handle_mouse_down) # normale Reaktion auf mouse down\n",
    "#         except InvalidMoveException:\n",
    "#             print('Ungültiger Zug')"
   ]
  },
  {
   "cell_type": "code",
   "execution_count": null,
   "metadata": {},
   "outputs": [],
   "source": [
    "def make_move(ring, cell):\n",
    "    global status\n",
    "    phase = get_player_phase(status.pieces, status.current_player)\n",
    "    possible_positions = next_positions(status.pieces, status.current_player, ring, cell)\n",
    "    if phase == 1:\n",
    "        if (ring, cell) in possible_positions: # Das geklickte Feld muss frei sein\n",
    "            status.pieces[1][ring][cell] = status.current_player # Das geklickte Feld wird zum eigenen Feld\n",
    "            status.pieces[0][status.current_player-1] = status.pieces[0][status.current_player-1]-1 # Die eigenen Steine in remaining um 1 reduzieren\n",
    "            \n",
    "            # ToDo: Mühle handeln\n",
    "        else:\n",
    "            raise InvalidMoveException()\n",
    "    elif phase == 2:\n",
    "        if status.move == False:\n",
    "            show_possible_clickable_positions(possible_positions)\n",
    "            board[2].fill_text('Switch to True', 300, 350)\n",
    "            status.move = True\n",
    "        elif status.move == True:\n",
    "            board[2].fill_text('Test 0', 50, 350)\n",
    "            old_ring, old_cell = status.selected_dot_old\n",
    "            new_ring, new_cell = status.selected_dot_new\n",
    "            possible_positions = next_positions(status.pieces, status.current_player, old_ring, old_cell)\n",
    "            board[2].fill_text('Test 1', 50, 350)\n",
    "            if (new_ring, new_cell) in possible_positions:\n",
    "                board[2].fill_text('Test 2', 100, 350)\n",
    "                status.pieces[1][new_ring][new_cell] = status.current_player\n",
    "                status.pieces[1][old_ring][old_cell] = 0\n",
    "                board[2].fill_text('Switch to False', 300, 350)\n",
    "                status.move = False\n",
    "                update_board(status)\n",
    "            else:\n",
    "                raise InvalidMoveException()\n",
    "        # ToDo: Mühle handeln\n",
    "    elif phase == 3:\n",
    "        show_possible_clickable_positions(possible_positions)\n",
    "        #board[2].on_mouse_down(set_stone)\n",
    "        # ToDo: Mühle handeln\n",
    "    else:\n",
    "        raise InvalidMoveException()\n",
    "    \n",
    "    \n",
    "    status.current_player = opponent(status.current_player) # Spielerwechsel\n",
    "    if finish(status.pieces) != 0: # Prüfen, ob das Spiel zu Ende ist\n",
    "        status.game_over = True\n",
    "    board[2].fill_text('Test 2', 50, 350)\n",
    "    #update_board(status)\n",
    "    return status"
   ]
  },
  {
   "cell_type": "code",
   "execution_count": null,
   "metadata": {},
   "outputs": [],
   "source": [
    "update_board(status)"
   ]
  },
  {
   "cell_type": "code",
   "execution_count": null,
   "metadata": {},
   "outputs": [],
   "source": [
    "status.selected_dot_old"
   ]
  },
  {
   "cell_type": "code",
   "execution_count": null,
   "metadata": {
    "scrolled": true
   },
   "outputs": [],
   "source": [
    "status.move"
   ]
  },
  {
   "cell_type": "code",
   "execution_count": null,
   "metadata": {},
   "outputs": [],
   "source": [
    "status.move = False"
   ]
  },
  {
   "cell_type": "code",
   "execution_count": null,
   "metadata": {},
   "outputs": [],
   "source": [
    "status.pieces"
   ]
  },
  {
   "cell_type": "code",
   "execution_count": null,
   "metadata": {},
   "outputs": [],
   "source": [
    "next_positions(status.pieces, status.current_player, 0, 3)"
   ]
  },
  {
   "cell_type": "code",
   "execution_count": null,
   "metadata": {},
   "outputs": [],
   "source": []
  }
 ],
 "metadata": {
  "kernelspec": {
   "display_name": "Python 3",
   "language": "python",
   "name": "python3"
  },
  "language_info": {
   "codemirror_mode": {
    "name": "ipython",
    "version": 3
   },
   "file_extension": ".py",
   "mimetype": "text/x-python",
   "name": "python",
   "nbconvert_exporter": "python",
   "pygments_lexer": "ipython3",
   "version": "3.8.3"
  }
 },
 "nbformat": 4,
 "nbformat_minor": 4
}