{
 "cells": [
  {
   "cell_type": "markdown",
   "metadata": {},
   "source": [
    "# GUI - Nine Men Morris\n",
    "In diesem Abschnitt soll die graphische Oberfläche des Spiels entwickelt werden. Dies beinhaltet die Interaktion des Spielers mit dem Spielaufbau."
   ]
  },
  {
   "cell_type": "code",
   "execution_count": null,
   "metadata": {},
   "outputs": [],
   "source": [
    "%%HTML\n",
    "<style>\n",
    ".container { width:100% }\n",
    "</style>"
   ]
  },
  {
   "cell_type": "markdown",
   "metadata": {},
   "source": [
    "## Mögliche Positionen\n",
    "Die Grafik unten zeigt die Notation für die Position der Spielsteine. Die Positionen werden als Tupel bestehend aus Ringnummer und Zellnummer beschrieben. Die Ringe, in der Abbildung farbig markiert, sind dabei von außen beginnend mit 0, 1 und 2 nummeriert. Für die Bezeichnung der Zellen wird in jedem Ring oben links mit 0 begonnen und im Uhrzeigersinn bis 7 weitergezählt. So ergibt sich eine eindeutige Notation.\n",
    "\n",
    "<img src=\"board_positions.png\" alt=\"Mögliche Positionen\" width=\"800\"/>"
   ]
  },
  {
   "cell_type": "markdown",
   "metadata": {},
   "source": [
    "## Definitionen\n",
    "Zunächst werden einige Definitionen für die gesamte Implementation festgesetzt: \n",
    "- `ring` = eines der 3 Quadrate (Wertebereich: 0-2)\n",
    "- `cell` = ein Punkt auf einem Ring (Wertebereich: 0-7)\n",
    "- `position` = Tupel: (ring, cell)\n",
    "- `board` = Liste aus 3 Listen, die angeben, ob, und wenn ja welcher Stein dort sitzt. Dabei symbolisiert jede Liste einen Ring. In jeder Liste sind neun Werte. Je einer für eine Zelle im Ring. Eine 0 sagt dabei aus, dass an der entsprechenden Position kein Stein ist. Eine 1 oder 2 stehen für einen Stein des zugehörigen Spielers.\n",
    "- `remaining` = \\[Anzahl noch nicht gesetzter Steine Spieler 1, Anzahl noch nicht gesetzte Steine Spieler 2\\]\n",
    "- `state` = \\[remaining, board\\]\n"
   ]
  },
  {
   "cell_type": "markdown",
   "metadata": {},
   "source": [
    "## Importe\n",
    "Zur Visualisierung des Spielbrettes wird [ipycanvas](https://ipycanvas.readthedocs.io/en/latest/index.html) verwendet."
   ]
  },
  {
   "cell_type": "code",
   "execution_count": null,
   "metadata": {},
   "outputs": [],
   "source": [
    "%run ./Muehle_Logic.ipynb\n",
    "import ipycanvas\n",
    "from ipycanvas import MultiCanvas\n",
    "\n",
    "from ipywidgets import interact, interactive, fixed, interact_manual\n",
    "import ipywidgets as widgets"
   ]
  },
  {
   "cell_type": "markdown",
   "metadata": {},
   "source": [
    "## Konstanten\n",
    "\n",
    "Für das Aussehen des Spielfelds:\n",
    "- BOARD_SIZE = Größe des Spielfeldes in Pixeln\n",
    "- DOT_RADIUS = Radius der schwarzen kleinen Punkte, die mögliche Positionen markieren (in Abhängigkeit von der Spielfeldgröße)\n",
    "- PIECE_RADIUS = Radius der Spielsteine\n",
    "- COLOUR = Farben der [dots, pieces_player_1, pieces_player_2]\n",
    "- COLOUR_HINT = Farbe, in der mögliche Zielfelder markiert werden\n",
    "- COLOUR_OPPONENT = Farbe, in der entfernbare Steine markiert werden\n",
    "- PADDING = relativer Abstand des äußersten Quadrats zum Spielfeldrand\n",
    "- DISTANCE = relativer Abstand zwischen den Quadraten des Spielfelds\n",
    "- TRANSPARENCY_DEFAULT = Standardwert für die Transparenz\n",
    "- TRANSPARENCY_HINT = Transparenz der Kreise möglicher Zielfelder und entfernbarer Steine\n",
    "\n",
    "Für die Funktion des Spielfelds:\n",
    "- PLAYER = Spieler\n",
    "- PLAYER = Spielsteinfarben der Spieler\n",
    "- START_STATE = Startzustand des Spielfelds, beide Spieler haben noch keinen Stein gesetzt und das Spielfeld ist leer"
   ]
  },
  {
   "cell_type": "code",
   "execution_count": null,
   "metadata": {},
   "outputs": [],
   "source": [
    "# Aussehen\n",
    "BOARD_SIZE      = 400\n",
    "DOT_RADIUS      = BOARD_SIZE * 0.025\n",
    "PIECE_RADIUS    = BOARD_SIZE * 0.04\n",
    "COLOUR          = ['black', 'white', 'sienna']\n",
    "COLOUR_HINT     = 'green'\n",
    "COLOUR_OPPONENT = 'red'\n",
    "PADDING         = 0.05\n",
    "DISTANCE        = 0.15\n",
    "TRANSPARENCY_DEFAULT = 1.0\n",
    "TRANSPARENCY_HINT    = 0.5\n",
    "\n",
    "# Spiel\n",
    "PLAYER          = [1, 2]\n",
    "PLAYER_COLOUR   = ['Weiß', 'Braun']\n",
    "START_STATE = [[9, 9], [          # Anzahl zu setzender Steine (Spieler_1 (Weiß), Spieler_2 (Braun))\n",
    "            [0, 0, 0, 0, 0, 0, 0, 0], # ring 0\n",
    "            [0, 0, 0, 0, 0, 0, 0, 0], # ring 1\n",
    "            [0, 0, 0, 0, 0, 0, 0, 0]  # ring 2\n",
    "      ]]"
   ]
  },
  {
   "cell_type": "markdown",
   "metadata": {},
   "source": [
    " `row()` liefert einen relativen Wert für die Position der eingegebenen Reihe. `col()` macht dies für die Spalten."
   ]
  },
  {
   "cell_type": "code",
   "execution_count": null,
   "metadata": {},
   "outputs": [],
   "source": [
    "#Reihe von oben nach unten (0-6)\n",
    "def row(number):\n",
    "    return PADDING + DISTANCE * number\n",
    "#Spalte von links nach rechts (0-6)\n",
    "def col(number):\n",
    "    return row(number)"
   ]
  },
  {
   "cell_type": "markdown",
   "metadata": {},
   "source": [
    "`POSITIONS` beschreibt die möglichen Punkte, an denen Steine sitzen können."
   ]
  },
  {
   "cell_type": "code",
   "execution_count": null,
   "metadata": {},
   "outputs": [],
   "source": [
    "POSITIONS = [([col(0), row(0)], [col(3), row(0)], [col(6), row(0)], [col(6), row(3)], [col(6), row(6)], [col(3), row(6)], [col(0), row(6)], [col(0), row(3)]), #ring 0\n",
    "             ([col(1), row(1)], [col(3), row(1)], [col(5), row(1)], [col(5), row(3)], [col(5), row(5)], [col(3), row(5)], [col(1), row(5)], [col(1), row(3)]), #ring 1\n",
    "             ([col(2), row(2)], [col(3), row(2)], [col(4), row(2)], [col(4), row(3)], [col(4), row(4)], [col(3), row(4)], [col(2), row(4)], [col(2), row(3)])] #ring 2"
   ]
  },
  {
   "cell_type": "markdown",
   "metadata": {},
   "source": [
    "## Zeichenfunktionen\n",
    "`init_canvas()` erstellt den Aufbau des Spielfeldes. Dies erfolgt mit Hilfe von ipycanvas. Das Spielbrett (`board`) besteht aus drei übereinanderliegenden Ebenen. Ebene 0 ist der Hintergrund, ein beiges Quadrat. Ebene 1 beinhaltet schwarzen die Striche und Punkte auf dem Spielfeld. Diese setzen sich aus drei schwarzen Quadraten, viel horizontalen bzw. waagrechten Linien und 24 Punkten, die die möglichen Positionen der Steine markieren, zusammen. Dabei wird bei der Erstellung mit relativen Positionsangaben gearbeitet, um das Spielfeld einfach skalieren zu können. In der Ebene 2 liegen schließlich die Spielsteine. "
   ]
  },
  {
   "cell_type": "code",
   "execution_count": null,
   "metadata": {},
   "outputs": [],
   "source": [
    "def init_canvas():\n",
    "    #board[Hintergrund, Linien, Steine]\n",
    "    board = MultiCanvas(3, width = BOARD_SIZE, height = BOARD_SIZE)\n",
    "\n",
    "    # Hintergrund\n",
    "    board[0].fill_style = '#ffffcc'\n",
    "    board[0].fill_rect(0, 0, BOARD_SIZE)\n",
    "\n",
    "    # Strichstärke\n",
    "    board[1].line_width = 5\n",
    "\n",
    "    # Quadrate\n",
    "    board[1].stroke_rect(BOARD_SIZE * col(0), BOARD_SIZE * row(0), BOARD_SIZE * (1 - row(0) - col(0))) #ring 0\n",
    "    board[1].stroke_rect(BOARD_SIZE * col(1), BOARD_SIZE * row(1), BOARD_SIZE * (1 - row(1) - col(1))) #ring 1\n",
    "    board[1].stroke_rect(BOARD_SIZE * col(2), BOARD_SIZE * row(2), BOARD_SIZE * (1 - row(2) - col(2))) #ring 2\n",
    "\n",
    "    # Mittelinien\n",
    "    board[1].begin_path()\n",
    "    board[1].move_to(BOARD_SIZE * col(3), BOARD_SIZE * row(0)) #oben\n",
    "    board[1].line_to(BOARD_SIZE * col(3), BOARD_SIZE * row(2))\n",
    "    board[1].move_to(BOARD_SIZE * col(6), BOARD_SIZE * row(3)) #rechts\n",
    "    board[1].line_to(BOARD_SIZE * col(4), BOARD_SIZE * row(3))\n",
    "    board[1].move_to(BOARD_SIZE * col(3), BOARD_SIZE * row(6)) #unten\n",
    "    board[1].line_to(BOARD_SIZE * col(3), BOARD_SIZE * row(4))\n",
    "    board[1].move_to(BOARD_SIZE * col(0), BOARD_SIZE * row(3)) #links\n",
    "    board[1].line_to(BOARD_SIZE * col(2), BOARD_SIZE * row(3))\n",
    "    board[1].stroke()\n",
    "\n",
    "    # Punkte (außen, mitte, innen)\n",
    "    for ring in POSITIONS:\n",
    "        for x, y in ring:\n",
    "            board[1].fill_arc(BOARD_SIZE * x, BOARD_SIZE * y, DOT_RADIUS, 0, 360)\n",
    "    return board"
   ]
  },
  {
   "cell_type": "markdown",
   "metadata": {},
   "source": [
    "Die Funktion `draw_piece()` zeichnet an einer zu übergebenden Position einen Spielstein für den eingegebenen Spieler. Dieser besteht aus einem mit der Spielerfarbe gefüllten Kreis als Hintergrund und zwei Innenringen um die Steine realistischer aussehen zu lassen."
   ]
  },
  {
   "cell_type": "code",
   "execution_count": null,
   "metadata": {},
   "outputs": [],
   "source": [
    "def draw_piece(board, ring, cell, player):\n",
    "    #Hintergrund\n",
    "    board[2].fill_style = COLOUR[player]\n",
    "    board[2].fill_arc(BOARD_SIZE * POSITIONS[ring][cell][0], BOARD_SIZE * POSITIONS[ring][cell][1], PIECE_RADIUS, 0, 360)\n",
    "    \n",
    "    #Ringe\n",
    "    board[2].stroke_style = 'silver' if player == 1 else 'chocolate'\n",
    "        \n",
    "    board[2].stroke_arc(BOARD_SIZE * POSITIONS[ring][cell][0], BOARD_SIZE * POSITIONS[ring][cell][1], PIECE_RADIUS,       0, 360)\n",
    "    board[2].stroke_arc(BOARD_SIZE * POSITIONS[ring][cell][0], BOARD_SIZE * POSITIONS[ring][cell][1], PIECE_RADIUS * 0.7, 0, 360)\n",
    "    board[2].stroke_arc(BOARD_SIZE * POSITIONS[ring][cell][0], BOARD_SIZE * POSITIONS[ring][cell][1], PIECE_RADIUS * 0.3, 0, 360)"
   ]
  },
  {
   "cell_type": "markdown",
   "metadata": {},
   "source": [
    "Mit Hilfe von `highlight_positions()` werden alle Positionen aus einer Liste mit einem transparenten Kreis markiert. Falls keine andere Farbe übergeben wird, wird die in den Konstanten definierte default-Farbe verwendet."
   ]
  },
  {
   "cell_type": "code",
   "execution_count": null,
   "metadata": {},
   "outputs": [],
   "source": [
    "def highlight_positions(board, highlight_positions, colour = COLOUR_HINT):\n",
    "    with ipycanvas.hold_canvas(board):\n",
    "        for (ring, cell) in highlight_positions:\n",
    "            board[2].fill_style = colour\n",
    "            board[2].global_alpha = TRANSPARENCY_HINT\n",
    "            board[2].fill_arc(BOARD_SIZE * POSITIONS[ring][cell][0], BOARD_SIZE * POSITIONS[ring][cell][1], PIECE_RADIUS, 0, 360)"
   ]
  },
  {
   "cell_type": "markdown",
   "metadata": {},
   "source": [
    "`update_board()` zeichnet die obere Ebene des Spielbretts nach jeder Veränderung neu. So werden Positionsänderungen oder Hinweise zu möglichen Zielfeldern und schlagbaren Steinen sichtbar. Zusätzlich wird hier die Aktualisierung der Statusanzeige angestoßen.\n",
    "Durch den optionalen Parameter message ist es möglich die Statusausgabe zu überschreiben."
   ]
  },
  {
   "cell_type": "code",
   "execution_count": null,
   "metadata": {},
   "outputs": [],
   "source": [
    "def update_board(game, message = ''):\n",
    "    one_below_other = widgets.VBox([gamemode_toggle, turn_label, status_label, pieces_status_label, pieces_player_one, pieces_player_two, restart_button])\n",
    "    side_by_side    = widgets.HBox([game.board, one_below_other])\n",
    "    display(side_by_side)\n",
    "\n",
    "    with ipycanvas.hold_canvas(game.board):\n",
    "        game.board[2].clear()\n",
    "        game.board[2].global_alpha = TRANSPARENCY_DEFAULT\n",
    "        for ring in range(3):\n",
    "            for cell in range(8):\n",
    "                value = game.state[1][ring][cell]\n",
    "                if value in PLAYER: draw_piece(game.board, ring, cell, value) \n",
    "        update_status_widgets(message)    "
   ]
  },
  {
   "cell_type": "markdown",
   "metadata": {},
   "source": [
    "## Die Klasse Game - Status des Spielfelds\n",
    "Der Status speichert die aktuelle Situation des Spielfeldes. Die Klasse beinhaltet mehrere Variablen. `state` gibt wie in der Definition beschrieben an, ob und wenn ja welcher Stein sich an einer Position auf dem Spielfeld befindet. Dabei gilt:\n",
    "- 0 = kein Stein\n",
    "- 1 = weißer Stein\n",
    "- 2 = brauner Stein\n",
    "\n",
    "Außerdem beinhaltet die Variable Angaben über die Steine, die die beiden Spieler nocht setzen können.\n",
    "`current_player` gibt an, welcher Spieler, 1 oder 2, gerade am Zug ist. In `number_pieces_to_remove` wird gespeichert, wie viele Steine der aktuelle Spieler aufgrund von Mühlen noch entfernen darf. `selected_piece` ist ein Tupel, das die Position eines ausgewählten Steins speichert. Dieses Tupel hat die Form `(ring, cell)`. Dies ist notwendig für Zug- und Springvorgänge. Ist die Variable ungleich `None`, befindet sich der Spieler gerade in einer Zug- oder Sprungaktion. Ist die Variable  belegt, so hat der Spieler bereits den zu versetzenden Stein ausgewählt und muss noch auf das Zielfeld klicken. Die Position ist in Phase 2 des Spiels relevant, um valide Zielfelder zu ermitteln. In der Phase 1 kann es vorkommen, dass kein Stein gesetzt wird, weil kein passendes Feld augewählt wurde, um zu verhindern, dass der Spieler trotzdem wechselt, wird die Variable `do_not_change` auf True gesetzt und diese vor Spielerwechsel abgefragt. Das Gleiche geschieht in den Phasen 2 und 3, falls kein passender Stein ausgewählt wird. `game_over`ist False, solange das Spiel noch läuft.\n",
    "\n",
    "Die `__init__()` Funktion setzt die Werte der Game-Klasse. Dabei kann falls notwendig der aktuelle Spieler übergeben werden, falls beispielsweise Spieler 2 starten soll. Standardmäßig wird als Zustand de\n",
    "r Startzustand übergeben, wobei davon zuvor eine Deepcopy angefertigt werden muss. Dies ist notwendig, da ansonsten die Refernz auf `START_STATE` übergeben wird und die Konstante somit im Laufe des Spiel verändert werden würde.\n",
    "\n",
    "Mit Hilfe der Funktion `__str__()` kann der Status später mit dem Befehl `print(Game)` formatiert ausgegeben werden. Dies ist besonders zum Überprüfen des aktuellen Spielstandes hilfreich."
   ]
  },
  {
   "cell_type": "code",
   "execution_count": null,
   "metadata": {},
   "outputs": [],
   "source": [
    "class Game():\n",
    "    def __init__(self, current_player = 1):\n",
    "        self.state          = copy.deepcopy(START_STATE)\n",
    "        self.current_player = current_player\n",
    "        self.board          = init_canvas()\n",
    "        self.number_pieces_to_remove = 0\n",
    "        self.selected_piece = (None, None)\n",
    "        self.do_not_change  = False\n",
    "        self.game_over      = False\n",
    "        \n",
    "        self.board[2].on_mouse_down(self.play_game)\n",
    "    \n",
    "    def __str__(self):\n",
    "        return \"state: \" + str(self.state) \\\n",
    "            + \"\\ncurrent player: \" + str(self.current_player) \\\n",
    "            + \"\\nnumber pieces to remove: \" + str(self.number_pieces_to_remove) \\\n",
    "            + \"\\nselected piece: \" + str(self.selected_piece) \\\n",
    "            + \"\\ndo not change: \" + str(self.do_not_change) \\\n",
    "            + \"\\ngame over: \" + str(self.game_over)"
   ]
  },
  {
   "cell_type": "markdown",
   "metadata": {},
   "source": [
    "Die Funktion `play_game()` steuert das Spiel. Sie wird später aufgerufen, wenn der Spieler irgendwo hin klickt. Wenn das Spiel noch nicht vorbei ist, wird überprüft, ob der Klick an einer Positionen, also im Bereich um einen schwarzen Punkt, erfolgt ist. Wenn ja, kann eine der folgenden Situationen eintreten, wobei die erste aufgelistete Situation Priorität hat:\n",
    "- **Es müssen noch Steine entfernt werden**  - Aufgrund von Mühlen die zuvor geschlossen wurden, dürfen noch Steine entfernt werden. Der zuvor geklickte Stein wird der Funktion `remove_piece()` übergeben, die ihn vom Spielfeld löscht.\n",
    "- **Der Spieler befindet sich in Phase 1** - Auf die ausgewählte Position wird mit Hilfe von `place_piece()` ein Stein gesetzt.\n",
    "- **Es wurde zuvor kein Stein ausgewählt** - Da sich der Spieler wie zuvor überprüft nicht in Phase 1 und somit in der Zug- oder Springphase befindet, und bisher kein Startfeld ausgewählt wurde, kann dies nun geschehen. Dazu wird die Funktion `select_piece()` aufgerufen.\n",
    "- **Es wurde ein Stein ausgewählt** - Da sich der Spieler in der Zug- oder Springphase befindet, handelt es sich bei dem ausgewählten Feld um ein Zielfeld, auf dass der zuvor ausgewählte Stein mittels `move_piece()` bewegt wird.\n",
    "\n",
    "Falls nach abarbeiten der Situationen noch Steine zu entfernen sind, werden diese markiert. Außerdem wird überprüft, ob das Spiel zu Ende ist. Falls sich der Spieler nicht in einem Zwischenzustand von Phase 2 oder 3 (Startfeld ausgewählt, Zielfeld noch nicht bekannt) befindet, keine Steine mehr entfernt werden müssen, das Spiel nicht zu Ende ist und vorher alle korrekt gelaufen ist, ist der nächste Spieler an der Reihe und das Spielfeld wird aktualisiert."
   ]
  },
  {
   "cell_type": "code",
   "execution_count": null,
   "metadata": {},
   "outputs": [],
   "source": [
    "def play_game(self, x, y):\n",
    "    if self.game_over: return\n",
    "\n",
    "    phase = get_player_phase(self.state, self.current_player)\n",
    "    piece = self.get_clicked_piece(x, y)\n",
    "\n",
    "    # Situationen überprüfen\n",
    "    if piece == None:\n",
    "        return\n",
    "    if self.number_pieces_to_remove > 0:\n",
    "        self.remove_piece(piece)\n",
    "    elif phase == 1:\n",
    "        self.place_piece(piece)\n",
    "    elif self.selected_piece != (None, None):\n",
    "        self.move_piece(piece)\n",
    "    elif phase == 2 or phase == 3:\n",
    "        self.select_piece(piece)\n",
    "    else:\n",
    "        change_status_label('Du befindest Dich anscheinend in keiner gültigen Spielphase. Irgendwas ist schief gegangen... Sorry!')\n",
    "\n",
    "    if self.number_pieces_to_remove > 0:\n",
    "        update_board(self)\n",
    "        highlight_positions(self.board, get_opponent_beatable_pieces(self.state, self.current_player), colour = COLOUR_OPPONENT)\n",
    "\n",
    "    if finished(self.state): self.game_over = True\n",
    "\n",
    "    if self.selected_piece == (None, None) and not self.number_pieces_to_remove > 0 and not self.game_over and not self.do_not_change:\n",
    "        self.current_player = opponent(self.current_player) # Spielerwechsel, wenn nicht noch eine Aktion ausgeführt werden muss\n",
    "        update_board(self)\n",
    "Game.play_game = play_game\n",
    "del play_game"
   ]
  },
  {
   "cell_type": "markdown",
   "metadata": {},
   "source": [
    "Die Funktion `get_clicked_piece()` überprüft, ob die übergebenen x- und y- Koordinaten auf einer validen Position, also einem Spielfeldpunkt liegen. Wenn ja, wird diese Position in der Form `(ring, cell)` zurückgegeben, ansonsten `None`. Zur Ermittlung wird über alle möglichen Positionen iteriert und geprüft, ob die Klick-Koordinaten in einem Pufferbereich rund um den Mittelpunkt der Position liegen. Ist dies für beide Koordinaten der Fall, wurde der angeklickte Punkt gefunden."
   ]
  },
  {
   "cell_type": "code",
   "execution_count": null,
   "metadata": {},
   "outputs": [],
   "source": [
    "def get_clicked_piece(self, x, y):\n",
    "    piece = None\n",
    "    #TODO: Schleife abbrechen, sobald piece gesetzt wurde\n",
    "    for ring in POSITIONS:\n",
    "        for pos in ring:\n",
    "            check_x = pos[0] * BOARD_SIZE - PIECE_RADIUS < x < pos[0] * BOARD_SIZE + PIECE_RADIUS\n",
    "            check_y = pos[1] * BOARD_SIZE - PIECE_RADIUS < y < pos[1] * BOARD_SIZE + PIECE_RADIUS\n",
    "            if check_x and check_y:\n",
    "                piece = (POSITIONS.index(ring), ring.index(pos))\n",
    "    return piece\n",
    "Game.get_clicked_piece = get_clicked_piece\n",
    "del get_clicked_piece"
   ]
  },
  {
   "cell_type": "markdown",
   "metadata": {},
   "source": [
    "In Phase 1 wird durch `place_piece()` überprüft, ob das angeklickte Feld noch frei ist. Wenn ja, wird dort ein Stein des Spielers positioniert und die eigenen Steinanzahl in `remaining` um 1 reduziert. Um zu überprüfen, ob bei der Aktion neue Mühlen entstanden sind, wird vor und nach dem Setzen des Steins alle Mühlen gesucht. Anschließend wird geprüft, ob und wenn ja, wie viele, neue Mühlen sich in der Menge der Mühlen nach dem Setzen des Steins befinden. Dies ist notwendig, um zu ermitteln, wie viele Steine des Gegners entfernt werden dürfen."
   ]
  },
  {
   "cell_type": "code",
   "execution_count": null,
   "metadata": {},
   "outputs": [],
   "source": [
    "def place_piece(self, piece):\n",
    "    if piece in empty_positions(self.state):\n",
    "        self.do_not_change = False\n",
    "        ring, cell = piece\n",
    "        mills_before = find_mills(self.state[1], self.current_player)\n",
    "        self.state[1][ring][cell] = self.current_player\n",
    "        self.state[0][self.current_player - 1] -= 1 \n",
    "        mills_after = find_mills(self.state[1], self.current_player)\n",
    "        self.number_pieces_to_remove = count_new_mills(mills_before, mills_after)\n",
    "        update_board(self)\n",
    "    else:\n",
    "        self.do_not_change = True\n",
    "        change_status_label('Du kannst Deinen Stein nur auf ein leeres Feld setzen. Bitte probiere es erneut!')\n",
    "Game.place_piece = place_piece\n",
    "del place_piece"
   ]
  },
  {
   "cell_type": "markdown",
   "metadata": {},
   "source": [
    "`remove_piece()` entfernt den übergebenen Stein vom Spielfeld, falls es erlaubt ist, diesen zu entfernen. Dazu  werden alle schlagbaren Steine des Gegners ermittelt und überprüft, ob der angeklickte Stein dazu gehört. Ist dies der Fall, wird der Stein enfernt, indem an dieser Stelle eine `0` eingetragen wird. Andernfalls wird eine Fehlermeldung geworfen und der Spieler kann einen anderen Stein zum Entfernen auswählen. Falls noch mehr Steine entfernt werden müssen, werden die möglichen Positionen am Ende markiert."
   ]
  },
  {
   "cell_type": "code",
   "execution_count": null,
   "metadata": {},
   "outputs": [],
   "source": [
    "def remove_piece(self, piece):\n",
    "    ring, cell = piece\n",
    "    beatable_pieces = get_opponent_beatable_pieces(self.state, self.current_player)\n",
    "    if piece in beatable_pieces:\n",
    "        self.state[1][ring][cell] = 0\n",
    "        self.number_pieces_to_remove -= 1\n",
    "        update_board(self)\n",
    "    else:\n",
    "        change_status_label('Du kannst diesen Stein nicht entfernen. Bitte probiere es erneut!')\n",
    "    if self.number_pieces_to_remove > 0:\n",
    "        highlight_positions(self.board, get_opponent_beatable_pieces(self.state, self.current_player), colour = COLOUR_OPPONENT)\n",
    "Game.remove_piece = remove_piece\n",
    "del remove_piece"
   ]
  },
  {
   "cell_type": "markdown",
   "metadata": {},
   "source": [
    "`move_piece()` bewegt den zuvor ausgewählten Stein, falls zulässig, auf die übergebene Position. Das Startfeld ist dabei in der Variable `selected_piece` gespeichert. Damit das Zielfeld valide ist, muss es in der Liste sein, die durch `next_positions()` ausgehend vom ausgewählten Stein ermittelt werden. Ist dies der Fall, wird das alte Feld auf `0` gesetzt und das Zielfeld mit dem Wert des aktuellen Spielers belegt. Um zu überprüfen, ob bei der Aktion neue Mühlen entstanden sind, wird vor und nach dem Versetzen des Steins alle Mühlen gesucht. Anschließend wird geprüft, ob und wenn ja, wie viele, neue Mühlen sich in der Menge der Mühlen nach dem Bewegen des Steins befinden. Dies ist notwendig, um zu ermitteln, wie viele Steine des Gegners entfernt werden dürfen."
   ]
  },
  {
   "cell_type": "code",
   "execution_count": null,
   "metadata": {},
   "outputs": [],
   "source": [
    "def move_piece(self, piece):\n",
    "    start_ring, start_cell = self.selected_piece\n",
    "    goal_ring,  goal_cell  = piece\n",
    "    possible_positions = next_positions(self.state, self.current_player, start_ring, start_cell)\n",
    "    if piece in possible_positions:\n",
    "        mills_before = find_mills(self.state[1], self.current_player)\n",
    "        self.state[1][start_ring][start_cell] = 0\n",
    "        self.state[1][goal_ring] [goal_cell]  = self.current_player\n",
    "        mills_after = find_mills(self.state[1], self.current_player)\n",
    "        self.number_pieces_to_remove = count_new_mills(mills_before, mills_after)\n",
    "        self.selected_piece = (None, None)\n",
    "        update_board(self)\n",
    "    else:\n",
    "        change_status_label('Du kannst Deinen Stein nicht auf dieses Feld setzen. Bitte probiere es erneut!')\n",
    "Game.move_piece = move_piece\n",
    "del move_piece"
   ]
  },
  {
   "cell_type": "markdown",
   "metadata": {},
   "source": [
    "Falls sich der Spieler in der Zug- oder Springphase befindet, und noch kein Startfeld ausgewählt wurde, wird `select_piece()` aufgerufen. Diese Funktion überprüft, ob der übergebene Stein ein eigener Stein ist. Wenn ja wird er in der Variable `selected_piece` gespeichert und ausgehend davon mögliche Zielfelder berechnet, um diese hervorheben zu können. Nach erfolgreicher Durchführung befindet sich der Spieler in einem Zwischenzustand, da das Zielfeld noch nicht bekannt ist."
   ]
  },
  {
   "cell_type": "code",
   "execution_count": null,
   "metadata": {},
   "outputs": [],
   "source": [
    "def select_piece(self, piece):\n",
    "    if piece in player_pieces(self.state, self.current_player):\n",
    "        self.do_not_change = False\n",
    "        self.selected_piece = piece\n",
    "        change_status_label('Zielort für den eigenen Stein auswählen.')\n",
    "        ring, cell = piece\n",
    "        possible_positions = next_positions(self.state, self.current_player, ring, cell)\n",
    "        highlight_positions(self.board, possible_positions)\n",
    "    else:\n",
    "        self.do_not_change = True\n",
    "        change_status_label('Das ist nicht Dein Stein. Bitte probiere es erneut!')\n",
    "Game.select_piece = select_piece\n",
    "del select_piece"
   ]
  },
  {
   "cell_type": "markdown",
   "metadata": {},
   "source": [
    "## Die Statusanzeige - Initialisierung und Funktionen der Status-Widgets und des Restart-Button\n",
    "\n",
    "Die Methode `on_button_clicked(b)` wird durch den restart_button aufgerufen und setzt den Status des Spieles wieder auf den Startzustand."
   ]
  },
  {
   "cell_type": "code",
   "execution_count": null,
   "metadata": {},
   "outputs": [],
   "source": [
    "def on_button_clicked(b):\n",
    "    global game\n",
    "    game = Game()\n",
    "    update_board(game)"
   ]
  },
  {
   "cell_type": "markdown",
   "metadata": {},
   "source": [
    "An dieser Stelle findet die Initialisierung der unterschiedlichen Statuselemente statt.\n",
    "-  Das `turn_label` ist ein Label, das den Spieler anzeigt, der aktuell an der Reihe ist\n",
    "-  Das `status_label` ist für weitere Statusanzeigen vorgesehen, wie die Aufforderung an den aktuellen Spieler, im Fall einer Mühle, einen Stein des Gegners zu entfernen.\n",
    "-  Das `pieces_status_label` zeigt je nach Spielphase entweder die Anzahl der Steine, die noch gesetzt werden können (Phase 1), oder die noch übrig sind (Phase 2 und 3). \n",
    "-  Der `restart_button` ruft die Methode `on_button_clicked(b)` auf und setzt somit das Spiel auf den Startzustand zurück\n",
    "-  `pieces_player_one` und `pieces_player_two` zeigen jeweils einen horizontalen Balken, der in Phase 1 nach jedem gesetzten Stein kleiner wird, bis keiner mehr vorhanden ist. In Phase 2 und 3 ist die Auslenkung des Balkens von der Anzahl der Steine des jeweiligen Spielers abhängig. Somit ist schnell erkennbar, welcher Spieler gerade vorne liegt.\n",
    "- Die ToggleButtons `gamemode_toggle` ermöglichen die Auswahl des Spielmodus (Player versus Player / Player versus Algorithmus)"
   ]
  },
  {
   "cell_type": "code",
   "execution_count": null,
   "metadata": {},
   "outputs": [],
   "source": [
    "turn_label          = widgets.Label(value = 'X ist an der Reihe')\n",
    "status_label        = widgets.Label(value = 'aktueller Status:')\n",
    "pieces_status_label = widgets.Label(value = 'Setzbare Steine:')\n",
    "\n",
    "restart_button      = widgets.Button(description = 'Neustart')\n",
    "restart_button.on_click(on_button_clicked)\n",
    "\n",
    "pieces_player_one   = widgets.FloatProgress(value = 9, max = 9, min = 0, description = PLAYER_COLOUR[0], bar_style = 'info')\n",
    "pieces_player_two   = widgets.FloatProgress(value = 9, max = 9, min = 0, description = PLAYER_COLOUR[1], bar_style = 'warning')\n",
    "\n",
    "gamemode_toggle     = widgets.ToggleButtons(\n",
    "                        options=['PVP', 'P vs Alpha-Beta', 'α-β vs Minimax'],\n",
    "                        description='Gamemode:',\n",
    "                        disabled=False,\n",
    "                        button_style='', \n",
    "                        tooltips=['Player versus Player', 'Player versus Alpha-Beta-Algorithm', 'Alpha-Beta-Algorithm versus Minimax-Algorithm']\n",
    "                    ) #Zugriff via gamemode_toggle.value auf die ausgewählte Option\n"
   ]
  },
  {
   "cell_type": "markdown",
   "metadata": {},
   "source": [
    "Die Methode `change_status_label()` nimmt einen beliebigen Status-Text entgegen und setzt diesen mit dem Präfix 'Status: ' als Text des `status_label`."
   ]
  },
  {
   "cell_type": "code",
   "execution_count": null,
   "metadata": {},
   "outputs": [],
   "source": [
    "def change_status_label(message):\n",
    "    status_label.value = 'Status: ' + message"
   ]
  },
  {
   "cell_type": "markdown",
   "metadata": {},
   "source": [
    "Die Methode `update_status_widgets()` aktualisiert die unterschiedlichen Statusanzeigen passend zur aktuellen Spielphase."
   ]
  },
  {
   "cell_type": "code",
   "execution_count": null,
   "metadata": {},
   "outputs": [],
   "source": [
    "def update_status_widgets(message):\n",
    "    player = game.current_player\n",
    "    turn_label.value = PLAYER_COLOUR[player - 1] + ' ist an der Reihe.'\n",
    "    \n",
    "    phase = get_player_phase(game.state, player)\n",
    "    if phase == 1: change_status_label('Bitte einen Stein auf dem Spielfeld platzieren.')\n",
    "    if phase == 2: change_status_label('Bitte einen Stein zum Ziehen auswählen.')\n",
    "    if phase == 3: change_status_label('Bitte einen Stein zum Springen auswählen.')\n",
    "        \n",
    "    if game.state[0][0] == game.state[0][1] == 0:\n",
    "        pieces_status_label.value = 'Verbleibende Steine:'\n",
    "        pieces_player_one.value = count_player_pieces(game.state, 1)\n",
    "        pieces_player_two.value = count_player_pieces(game.state, 2)\n",
    "    else:\n",
    "        pieces_status_label.value = 'Setzbare Steine:'\n",
    "        pieces_player_one.value = game.state[0][0]\n",
    "        pieces_player_two.value = game.state[0][1]\n",
    "         \n",
    "    if message != '': change_status_label(message)\n",
    "    if finished(game.state) and utility(game.state, player) == 1: change_status_label(PLAYER_COLOUR[player - 1] + ' hat gewonnen!')\n",
    "    if game.number_pieces_to_remove == 1: change_status_label('Mühle! Bitte noch 1 Stein des Gegners entfernen.') \n",
    "    if game.number_pieces_to_remove > 1:  change_status_label('Mühle! Bitte noch ' + str(game.number_pieces_to_remove) + ' Steine des Gegners entfernen.') "
   ]
  },
  {
   "cell_type": "markdown",
   "metadata": {},
   "source": [
    "## Spielen"
   ]
  },
  {
   "cell_type": "markdown",
   "metadata": {},
   "source": [
    "Schließlich kann das Spielfeld erzeugt und ein Spiel gestartet werden. Dabei wird bei jedem Mausklick auf das Spielfeld `play_game()` mit den Koordinaten des Klicks aufgerufen."
   ]
  },
  {
   "cell_type": "code",
   "execution_count": null,
   "metadata": {
    "scrolled": false
   },
   "outputs": [],
   "source": [
    "game = Game()\n",
    "update_board(game)"
   ]
  },
  {
   "cell_type": "code",
   "execution_count": null,
   "metadata": {},
   "outputs": [],
   "source": []
  },
  {
   "cell_type": "code",
   "execution_count": null,
   "metadata": {},
   "outputs": [],
   "source": []
  }
 ],
 "metadata": {
  "kernelspec": {
   "display_name": "Python 3",
   "language": "python",
   "name": "python3"
  },
  "language_info": {
   "codemirror_mode": {
    "name": "ipython",
    "version": 3
   },
   "file_extension": ".py",
   "mimetype": "text/x-python",
   "name": "python",
   "nbconvert_exporter": "python",
   "pygments_lexer": "ipython3",
   "version": "3.7.9-final"
  }
 },
 "nbformat": 4,
 "nbformat_minor": 4
}