{
 "cells": [
  {
   "cell_type": "markdown",
   "metadata": {},
   "source": [
    "# GUI - Nine Men Morris\n",
    "In diesem Abschnitt soll die graphische Oberfläche des Spiels entwickelt werden. Dies beinhaltet die Interaktion des Spielers mit dem Spielaufbau."
   ]
  },
  {
   "cell_type": "code",
   "execution_count": null,
   "metadata": {},
   "outputs": [],
   "source": [
    "%%HTML\n",
    "<style>\n",
    ".container { width:100% }\n",
    "</style>"
   ]
  },
  {
   "cell_type": "markdown",
   "metadata": {},
   "source": [
    "## Mögliche Positionen\n",
    "Die Grafiken unten zeigen zwei unterschiedliche Notationen für die Position der Spielsteine. Rechts ist die offizielle Notation des Welt-Mühle-Dachverbands (WMD) abgebildet, während links die interne Notation zu sehen ist.\n",
    "\n",
    "### WMD-Notation\n",
    "\"Die Spalten werden von links beginnend von a bis g benannt. Die Zeilen werden von unten beginnend von 1 bis 7 durchnummeriert. Gültige Feldnamen sind beispielsweise a1, d2, e3 oder g7.\n",
    "\n",
    "Bei dieser Notation gehört nicht zu jeder Buchstaben- und Zahlenkombination aus a..g und 1..7 auch ein Feld. Ungültige Feldbezeichnungen sind beispielsweise b3, d4, f5 oder g6. Diese Notation ähnelt der beim Schach, wo die 64 Felder von a..h und 1..8 benannt werden. Allerdings gehört beim Schach zu jeder Zahlen/Buchstabenkombination auch ein Feld.\n",
    "\n",
    "Beim Setzen schreibt man das Zielfeld auf, zum Beispiel a1 oder e4. Beim Ziehen werden die Namen des durch Minus getrennten Quell- und Zielfeldes verwendet, zum Beispiel f2-f4 oder d3-d2. Wird ein Mühle gebildet und ein Stein geschlagen, dann wird der geschlagene Stein durch x getrennt und an den Zug angefügt, beispielweise f2-f4xd5 (Zug von f2 nach f4, Mühle und geschlagen wird d5).\" - Dr. Rainer Rosenberger, http://muehlespieler.de/download/muehle_lehrbuch.pdf\n",
    "\n",
    "### Interne Notation\n",
    "Intern werden die Positionen als Tupel bestehend aus Ringnummer und Zellnummer beschrieben. Die Ringe, in der Abbildung farbig markiert, sind dabei von außen beginnend mit 0, 1 und 2 nummeriert. Für die Bezeichnung der Zellen wird in jedem Ring oben links mit 0 begonnen und im Uhrzeigersinn bis 7 weitergezählt. So ergibt sich eine eindeutige Notation.\n",
    "\n",
    "<img src=\"board_positions.png\" alt=\"Mögliche Positionen\" width=\"800\"/>"
   ]
  },
  {
   "cell_type": "markdown",
   "metadata": {},
   "source": [
    "## Definitionen\n",
    "Zunächst werden einige Definitionen für die gesamte Implementation festgesetzt: \n",
    "- ring = eines der 3 Quadrate (Wertebereich: 0-2)\n",
    "- cell = ein Punkt auf einem Ring (Wertebereich: 0-7)\n",
    "- position = Tupel: (ring, cell)\n",
    "- board = Liste aus 3 Listen, die angeben, ob, und wenn ja welcher Stein dort sitzt. Dabei symbolisiert jede Liste einen Ring. In jeder Liste sind neun Werte. Je einer für eine Zelle im Ring. Eine 0 sagt dabei aus, dass an der entsprechenden Position kein Stein ist. Eine 1 oder 2 stehen für einen Stein des zugehörigen Spielers.\n",
    "- remaining = \\[Anzahl noch nicht gesetzter Steine Spieler 1, Anzahl noch nicht gesetzte Steine Spieler 2\\]\n",
    "- state = \\[remaining, board\\]"
   ]
  },
  {
   "cell_type": "markdown",
   "metadata": {},
   "source": [
    "## Importe\n",
    "Zur Visualisierung des Spielbrettes wird [ipycanvas](https://ipycanvas.readthedocs.io/en/latest/index.html) verwendet."
   ]
  },
  {
   "cell_type": "code",
   "execution_count": null,
   "metadata": {},
   "outputs": [],
   "source": [
    "%run ./Muehle_Logic.ipynb\n",
    "#from __future__ import print_function\n",
    "import ipycanvas\n",
    "from ipycanvas import MultiCanvas\n",
    "\n",
    "#from __future__ import print_function\n",
    "from ipywidgets import interact, interactive, fixed, interact_manual\n",
    "import ipywidgets as widgets"
   ]
  },
  {
   "cell_type": "markdown",
   "metadata": {},
   "source": [
    "## Konstanten\n",
    "\n",
    "* BOARD_SIZE = Größe des Spielfeldes in Pixeln\n",
    "* DOT_RADIUS = Radius der schwarzen kleinen Punkte, die mögliche Positionen markieren (in Abhängigkeit von der Spielfeldgröße)\n",
    "* PIECE_RADIUS = Radius der Spielsteine\n",
    "* COLOUR = Farben der [dots, pieces_player_1, pieces_player_2]\n",
    "* COLOUR_HINT = Farbe, in der mögliche Zielfelder markiert werden\n",
    "* COLOUR_OPPONENT = Farbe, in der entfernbare Steine markiert werden\n",
    "* PADDING = relativer Abstand des äußersten Quadrats zum Spielfeldrand\n",
    "* DISTANCE = relativer Abstand zwischen den Quadraten des Spielfelds\n",
    "* TRANSPARENCY_DEFAULT = Standardwert für die Transparenz\n",
    "* TRANSPARENCY_HINT = Transparenz der Kreise möglicher Zielfelder und entfernbarer Steine"
   ]
  },
  {
   "cell_type": "code",
   "execution_count": null,
   "metadata": {},
   "outputs": [],
   "source": [
    "BOARD_SIZE      = 400\n",
    "DOT_RADIUS      = BOARD_SIZE*0.025\n",
    "PIECE_RADIUS    = BOARD_SIZE*0.04\n",
    "COLOUR          = ['black', 'white', 'sienna']\n",
    "COLOUR_HINT     = 'green'\n",
    "COLOUR_OPPONENT = 'red'\n",
    "PADDING         = 0.05\n",
    "DISTANCE        = 0.15\n",
    "TRANSPARENCY_DEFAULT = 1.0\n",
    "TRANSPARENCY_HINT    = 0.5"
   ]
  },
  {
   "cell_type": "markdown",
   "metadata": {},
   "source": [
    " `row()` liefert einen relativen Wert für die Position der eingegebenen Reihe. `col()` macht dies für die Spalten."
   ]
  },
  {
   "cell_type": "code",
   "execution_count": null,
   "metadata": {},
   "outputs": [],
   "source": [
    "#Reihe von oben nach unten (0-6)\n",
    "def row(number):\n",
    "    return PADDING + DISTANCE * number\n",
    "#Spalte von links nach rechts (0-6)\n",
    "def col(number):\n",
    "    return row(number)"
   ]
  },
  {
   "cell_type": "markdown",
   "metadata": {},
   "source": [
    "`positions` beschreibt die möglichen Punkte, an denen Steine sitzen können.  `wmd_dic` überführt die Positionen in die Schreibweise des WMD."
   ]
  },
  {
   "cell_type": "code",
   "execution_count": null,
   "metadata": {},
   "outputs": [],
   "source": [
    "positions = [([col(0), row(0)], [col(3), row(0)], [col(6), row(0)], [col(6), row(3)], [col(6), row(6)], [col(3), row(6)], [col(0), row(6)], [col(0), row(3)]), #ring 0\n",
    "             ([col(1), row(1)], [col(3), row(1)], [col(5), row(1)], [col(5), row(3)], [col(5), row(5)], [col(3), row(5)], [col(1), row(5)], [col(1), row(3)]), #ring 1\n",
    "             ([col(2), row(2)], [col(3), row(2)], [col(4), row(2)], [col(4), row(3)], [col(4), row(4)], [col(3), row(4)], [col(2), row(4)], [col(2), row(3)])] #ring 2\n",
    "\n",
    "wmd_dic = {\n",
    "    \"a1\":positions[0][6],\n",
    "    \"a4\":positions[0][7],\n",
    "    \"a7\":positions[0][0],\n",
    "    \"b2\":positions[1][6],\n",
    "    \"b4\":positions[1][7],\n",
    "    \"b6\":positions[1][0],\n",
    "    \"c3\":positions[2][6],\n",
    "    \"c4\":positions[2][7],\n",
    "    \"c5\":positions[2][0],\n",
    "    \"d1\":positions[0][5],\n",
    "    \"d2\":positions[1][5],\n",
    "    \"d3\":positions[2][5],\n",
    "    \"d5\":positions[2][1],\n",
    "    \"d6\":positions[1][1],\n",
    "    \"d7\":positions[0][1],\n",
    "    \"e3\":positions[2][4],\n",
    "    \"e4\":positions[2][3],\n",
    "    \"e5\":positions[2][2],\n",
    "    \"f2\":positions[1][4],\n",
    "    \"f4\":positions[1][3],\n",
    "    \"f6\":positions[1][2],\n",
    "    \"g1\":positions[0][4],\n",
    "    \"g4\":positions[0][3],\n",
    "    \"g7\":positions[0][2]\n",
    "}"
   ]
  },
  {
   "cell_type": "markdown",
   "metadata": {},
   "source": [
    "## Initialisierung Canvas\n",
    "Im folgenden wird der Aufbau des Spielfeldes erstellt. Dies erfolgt mit Hilfe von ipycanvas. Das Spielbrett (`board`) besteht aus drei übereinanderliegenden Ebenen. Ebene 0 ist der Hintergrund, ein beiges Quadrat. Ebene 1 beinhaltet schwarzen die Striche und Punkte auf dem Spielfeld. Diese setzen sich aus drei schwarzen Quadraten, viel horizontalen bzw. waagrechten Linien und 24 Punkten, die die möglichen Positionen der Steine markieren, zusammen. Dabei wird bei der Erstellung mit relativen Positionsangaben gearbeitet, um das Spielfeld einfach skalieren zu können. In der Ebene 2 liegen schließlich die Spielsteine. "
   ]
  },
  {
   "cell_type": "code",
   "execution_count": null,
   "metadata": {},
   "outputs": [],
   "source": [
    "def init_canvas():\n",
    "    #board[Hintergrund, Linien, Steine]\n",
    "    board = MultiCanvas(3, width = BOARD_SIZE, height = BOARD_SIZE)\n",
    "\n",
    "    # Hintergrund\n",
    "    board[0].fill_style = '#ffffcc'\n",
    "    board[0].fill_rect(0, 0, BOARD_SIZE)\n",
    "\n",
    "    # Strichstärke\n",
    "    board[1].line_width = 5\n",
    "\n",
    "    # Quadrate\n",
    "    board[1].stroke_rect(BOARD_SIZE*col(0), BOARD_SIZE*row(0), BOARD_SIZE*(1-row(0)-col(0))) #ring 0\n",
    "    board[1].stroke_rect(BOARD_SIZE*col(1), BOARD_SIZE*row(1), BOARD_SIZE*(1-row(1)-col(1))) #ring 1\n",
    "    board[1].stroke_rect(BOARD_SIZE*col(2), BOARD_SIZE*row(2), BOARD_SIZE*(1-row(2)-col(2))) #ring 2\n",
    "\n",
    "    # Mittelinien\n",
    "    board[1].begin_path()\n",
    "    board[1].move_to(BOARD_SIZE*col(3), BOARD_SIZE*row(0)) #oben\n",
    "    board[1].line_to(BOARD_SIZE*col(3), BOARD_SIZE*row(2))\n",
    "    board[1].move_to(BOARD_SIZE*col(6), BOARD_SIZE*row(3)) #rechts\n",
    "    board[1].line_to(BOARD_SIZE*col(4), BOARD_SIZE*row(3))\n",
    "    board[1].move_to(BOARD_SIZE*col(3), BOARD_SIZE*row(6)) #unten\n",
    "    board[1].line_to(BOARD_SIZE*col(3), BOARD_SIZE*row(4))\n",
    "    board[1].move_to(BOARD_SIZE*col(0), BOARD_SIZE*row(3)) #links\n",
    "    board[1].line_to(BOARD_SIZE*col(2), BOARD_SIZE*row(3))\n",
    "    board[1].stroke()\n",
    "\n",
    "    # Punkte (außen, mitte, innen)\n",
    "    for ring in positions:\n",
    "        for x,y in ring:\n",
    "            board[1].fill_arc(BOARD_SIZE*x, BOARD_SIZE*y, DOT_RADIUS, 0, 360)\n",
    "    return board"
   ]
  },
  {
   "cell_type": "code",
   "execution_count": null,
   "metadata": {},
   "outputs": [],
   "source": [
    "board = init_canvas()"
   ]
  },
  {
   "cell_type": "markdown",
   "metadata": {},
   "source": [
    "## Status des Spielfelds\n",
    "Der Status speichert die aktuelle Situation des Spielfeldes. Die Klasse beinhaltet mehrere Variablen. `state` gibt wie in der Definition beschrieben an, ob und wenn ja welcher Stein sich an einer Position auf dem Spielfeld befindet. Dabei gilt:\n",
    "* 0 = kein Stein\n",
    "* 1 = weißer Stein\n",
    "* 2 = brauner Stein\n",
    "\n",
    "Außerdem beinhaltet die Variable Angaben über die Steine, die die beiden Spieler nocht setzen können.\n",
    "`current_player` gibt an, welcher Spieler, 1 oder 2, gerade am Zug ist. `mills` ist die Menge aller aktuell bestehenden Mühlen. In `number_stones_to_remove` wird gespeichert, wie viele Steine der aktuelle Spieler aufgrund von Mühlen noch entfernen darf. `selected_dot_old` und `selected_dot_new` sind jeweils ein Tupel, der die im letzten bzw. diesem Zug geklickte Position speichert. Dieses Tupel haben die Form `(ring, cell)`. Dies ist notwendig für Zug- und Springvorgänge. Dabei ist vor allem in Phase 2 des Spiels relevant, woher der Stein stammt, um valide Zielfelder zu ermitteln. `move_or_jump` gibt an, ob sich der Spieler gerade in einer Zug- oder Sprungaktion befindet. Ist die Variable True, so hat der Spieler bereits den zu versetzenden Stein ausgewählt und muss noch auf das Zielfeld klicken. `game_over`ist False, solange das Spiel noch läuft.\n",
    "\n",
    "**@Julian** In welchen Format wird `mills` gespeichert?"
   ]
  },
  {
   "cell_type": "code",
   "execution_count": null,
   "metadata": {},
   "outputs": [],
   "source": [
    "class Status():\n",
    "    state = [[9,9],[          # Anzahl zu setzender Steine (Spieler_1 (Weiß), Spieler_2 (Braun))\n",
    "            [0,0,0,0,0,0,0,0], # ring 0\n",
    "            [0,0,0,0,0,0,0,0], # ring 1\n",
    "            [0,0,0,0,0,0,0,0]  # ring 2\n",
    "      ]]\n",
    "    current_player = 1\n",
    "    mills = set()              # Tupel der Form (Spieler, Ring, Zelle)\n",
    "    number_stones_to_remove = 0\n",
    "    selected_dot_old = (None, None)\n",
    "    selected_dot_new = (None, None)\n",
    "    move_or_jump = False\n",
    "    game_over = False"
   ]
  },
  {
   "cell_type": "markdown",
   "metadata": {},
   "source": [
    "## Initialisierung und Funktionen der Status-Widgets und des Restart-Button\n",
    "\n",
    "Die Methode `on_button_clicked(b)` wird durch den restart_button aufgerufen und setzt den Status des Spieles wieder auf den Startzustand."
   ]
  },
  {
   "cell_type": "code",
   "execution_count": null,
   "metadata": {},
   "outputs": [],
   "source": [
    "def on_button_clicked(b):\n",
    "    Status.state= [[9,9],[          \n",
    "                    [0,0,0,0,0,0,0,0], \n",
    "                    [0,0,0,0,0,0,0,0], \n",
    "                    [0,0,0,0,0,0,0,0]  \n",
    "                   ]]\n",
    "    Status.current_player = 1\n",
    "    Status.mills = set()\n",
    "    Status.number_stones_to_remove = 0\n",
    "    Status.selected_dot_old = (None, None)\n",
    "    Status.selected_dot_new = (None, None)\n",
    "    Status.move_or_jump = False\n",
    "    Status.game_over = False\n",
    "    update_board(Status)"
   ]
  },
  {
   "cell_type": "markdown",
   "metadata": {},
   "source": [
    "An dieser Stelle findet die Initialisierung der unterschiedlichen Statuselemente statt.\n",
    "-  Das turn_label ist ein Label, das den Spieler anzeigt, der aktuell an der Reihe ist\n",
    "-  Das status_label ist für weitere Statusanzeigen vorgesehen, wie die Aufforderung an den aktuellen Spieler, im Fall einer Mühle, einen Stein des Gegners zu entfernen.\n",
    "-  Das pieces_status_label zeigt je nach Spielphase entweder die Anzahl der Steine, die noch gesetzt werden können (Phase 1), oder die noch übrig sind (Phase 2/3). \n",
    "-  Der restart_button ruft die Methode `on_button_clicked(b)` auf und setzt somit das Spiel auf den Startzustand zurück\n",
    "-  stones_player_one und stones_player_two zeigen jeweils einen horizontalen Balken, der in Phase 1 nach jedem gesetzten Stein kleiner wird, bis keiner mehr vorhanden ist. In Phase 2 und 3 ist die Auslenkung des Balkens von der Anzahl der Steine des jeweiligen Spielers abhängig. Somit ist schnell erkennbar, welcher Spieler gerade vorne liegt.\n"
   ]
  },
  {
   "cell_type": "code",
   "execution_count": null,
   "metadata": {},
   "outputs": [],
   "source": [
    "turn_label = widgets.Label(value='Spieler x ist an der Reihe')\n",
    "\n",
    "status_label = widgets.Label(value='aktueller Status:')\n",
    "\n",
    "pieces_status_label = widgets.Label(value='Setzbare Steine:')\n",
    "\n",
    "restart_button = widgets.Button(description='restart')\n",
    "restart_button.on_click(on_button_clicked)\n",
    "\n",
    "stones_player_one = widgets.FloatProgress(\n",
    "                value=9,\n",
    "                max=9,\n",
    "                min=0,\n",
    "                description='Spieler 1',\n",
    "                bar_style= 'info', # 'success', 'info', 'warning', 'danger' or ''\n",
    "                orientaiton='horizontal'\n",
    "            )\n",
    "\n",
    "stones_player_two = widgets.FloatProgress(\n",
    "                value=9,\n",
    "                max=9,\n",
    "                min=0,\n",
    "                description='Spieler 2',\n",
    "                bar_style='warning', # 'success', 'info', 'warning', 'danger' or ''\n",
    "                orientaiton='horizontal'\n",
    "            )"
   ]
  },
  {
   "cell_type": "markdown",
   "metadata": {},
   "source": [
    "Die Methode `change_status_label(text)` nimmt einen beliebigen Status-Text entgegen und setzt diesen mit dem Präfix 'Status: ' als Text des status_label."
   ]
  },
  {
   "cell_type": "code",
   "execution_count": null,
   "metadata": {},
   "outputs": [],
   "source": [
    "def change_status_label(text):\n",
    "    status_label.value = 'Status: '+text"
   ]
  },
  {
   "cell_type": "markdown",
   "metadata": {},
   "source": [
    "Die Methode `update_status_widgets()` aktualisiert die unterschiedlichen Statusanzeigen passend zur aktuellen Spielphase."
   ]
  },
  {
   "cell_type": "code",
   "execution_count": null,
   "metadata": {},
   "outputs": [],
   "source": [
    "def update_status_widgets():\n",
    "    turn_label.value='Spieler '+ str(Status.current_player)+ ' ist dran.'\n",
    "    change_status_label('Spieler in Phase '+ str(get_player_phase(Status.state, Status.current_player))+'.')\n",
    "    if(Status.state[0][0] == Status.state[0][1] == 0):\n",
    "        pieces_status_label.value = 'Verbleibende Steine:'\n",
    "        stones_player_one.value = len(player_pieces(Status.state, 1))\n",
    "        stones_player_two.value = len(player_pieces(Status.state, 2))\n",
    "    else:\n",
    "        pieces_status_label.value = 'Setzbare Steine:'\n",
    "        stones_player_one.value = Status.state[0][0]\n",
    "        stones_player_two.value = Status.state[0][1]"
   ]
  },
  {
   "cell_type": "markdown",
   "metadata": {},
   "source": [
    "## Spielsteine anzeigen"
   ]
  },
  {
   "cell_type": "markdown",
   "metadata": {},
   "source": [
    "Die Funktion `draw_piece()` zeichnet an einer zu übergebenden Position einen Spielstein für den eingegebenen Spieler. Dieser besteht aus einem mit der Spielerfarbe gefüllten Kreis als Hintergrund und zwei Innenringen um die Steine realistischer aussehen zu lassen."
   ]
  },
  {
   "cell_type": "code",
   "execution_count": null,
   "metadata": {},
   "outputs": [],
   "source": [
    "def draw_piece(ring, cell, player):\n",
    "    #Hintergrund\n",
    "    board[2].fill_style = COLOUR[player]\n",
    "    board[2].fill_arc(BOARD_SIZE*positions[ring][cell][0], BOARD_SIZE*positions[ring][cell][1], PIECE_RADIUS, 0, 360)\n",
    "    #Ringe\n",
    "    if player == 1:\n",
    "        board[2].stroke_style = 'silver' \n",
    "    else:\n",
    "        board[2].stroke_style = 'chocolate'\n",
    "    board[2].stroke_arc(BOARD_SIZE*positions[ring][cell][0], BOARD_SIZE*positions[ring][cell][1], PIECE_RADIUS,     0, 360)\n",
    "    board[2].stroke_arc(BOARD_SIZE*positions[ring][cell][0], BOARD_SIZE*positions[ring][cell][1], PIECE_RADIUS*0.7, 0, 360)\n",
    "    board[2].stroke_arc(BOARD_SIZE*positions[ring][cell][0], BOARD_SIZE*positions[ring][cell][1], PIECE_RADIUS*0.3, 0, 360)"
   ]
  },
  {
   "cell_type": "markdown",
   "metadata": {},
   "source": [
    "`update_board()` zeichnet die obere Ebene des Spielbretts nach jeder Veränderung neu. So werden Positionsänderungen oder Hinweise zu möglichen Zielfeldern und schlagbaren Steinen sichtbar. Zusätzlich wird hier die Aktualisierung der Statusanzeige angestoßen."
   ]
  },
  {
   "cell_type": "code",
   "execution_count": null,
   "metadata": {},
   "outputs": [],
   "source": [
    "def update_board(status):\n",
    "    one_below_other = widgets.VBox([turn_label, status_label, pieces_status_label, stones_player_one, stones_player_two, restart_button])\n",
    "    side_by_side = widgets.HBox([board, one_below_other])\n",
    "    display(side_by_side)\n",
    "\n",
    "    with ipycanvas.hold_canvas(board):\n",
    "        board[2].clear()\n",
    "        board[2].global_alpha = TRANSPARENCY_DEFAULT\n",
    "        for ring in range(3):\n",
    "            for cell in range(8):\n",
    "                player = status.state[1][ring][cell]\n",
    "                if player in [1, 2]: draw_piece(ring, cell, player)\n",
    "        update_status_widgets()\n",
    "    #return board"
   ]
  },
  {
   "cell_type": "markdown",
   "metadata": {},
   "source": [
    "Die Funktion `on_dot()` überprüft, ob die übergebenen x- und y- Koordinaten in der übergebenen Position liegen und gibt einen boolschen Wert zurück."
   ]
  },
  {
   "cell_type": "code",
   "execution_count": null,
   "metadata": {},
   "outputs": [],
   "source": [
    "def on_dot(pos, x, y):\n",
    "    return (pos[0]*BOARD_SIZE-PIECE_RADIUS/2 < x < pos[0]*BOARD_SIZE+PIECE_RADIUS/2 and pos[1]*BOARD_SIZE-PIECE_RADIUS/2 < y < pos[1]*BOARD_SIZE+PIECE_RADIUS/2)"
   ]
  },
  {
   "cell_type": "markdown",
   "metadata": {},
   "source": [
    "Mit Hilfe von `highlight_positions()` werden alle Positionen aus einer Liste mit einem transparenten Kreis markiert. Falls keine andere Farbe übergeben wird, wird die in den Konstanten definierte default-Farbe verwendet."
   ]
  },
  {
   "cell_type": "code",
   "execution_count": null,
   "metadata": {},
   "outputs": [],
   "source": [
    "def highlight_positions(highlight_positions, colour = COLOUR_HINT):\n",
    "    with ipycanvas.hold_canvas(board):\n",
    "        for position in highlight_positions:\n",
    "            ring, cell = position\n",
    "            board[2].fill_style = colour\n",
    "            board[2].global_alpha = TRANSPARENCY_HINT\n",
    "            board[2].fill_arc(BOARD_SIZE*positions[ring][cell][0], BOARD_SIZE*positions[ring][cell][1], PIECE_RADIUS, 0, 360)"
   ]
  },
  {
   "cell_type": "markdown",
   "metadata": {},
   "source": [
    "Bei jedem Mausklick auf das Spielfeld wird `handle_mouse_down()` mit den Koordinaten des Klicks aufgerufen. Wenn das Spiel noch nicht vorbei ist, wir dann überprüft, ob der Klick an einer Positionen, also im Bereich um einen schwarzen Punkt, aufgerufen wurde. Ist dies der Fall, wird die Position gespeichert und die Funktion `make_move()` aus dem Logik-Abschnitt aufgerufen."
   ]
  },
  {
   "cell_type": "code",
   "execution_count": null,
   "metadata": {},
   "outputs": [],
   "source": [
    "def handle_mouse_down(x, y):\n",
    "    global Status\n",
    "    if not Status.game_over:\n",
    "        for ring in positions:\n",
    "            for cell in ring:\n",
    "                if on_dot(cell, x, y):\n",
    "                    Status.selected_dot_old = Status.selected_dot_new\n",
    "                    Status.selected_dot_new = (positions.index(ring), ring.index(cell))\n",
    "                    try:\n",
    "                        make_move(positions.index(ring), ring.index(cell))\n",
    "                    except InvalidMoveException:\n",
    "                        print('Ungültiger Zug')\n",
    "board[2].on_mouse_down(handle_mouse_down)"
   ]
  },
  {
   "cell_type": "markdown",
   "metadata": {},
   "source": [
    "Schließlich kann das Spielfeld erzeugt und ein Spiel gestartet werden."
   ]
  },
  {
   "cell_type": "code",
   "execution_count": null,
   "metadata": {
    "scrolled": false
   },
   "outputs": [],
   "source": [
    "update_board(Status)"
   ]
  },
  {
   "cell_type": "code",
   "execution_count": null,
   "metadata": {},
   "outputs": [],
   "source": []
  },
  {
   "cell_type": "code",
   "execution_count": null,
   "metadata": {},
   "outputs": [],
   "source": []
  }
 ],
 "metadata": {
  "kernelspec": {
   "display_name": "Python 3",
   "language": "python",
   "name": "python3"
  },
  "language_info": {
   "codemirror_mode": {
    "name": "ipython",
    "version": 3
   },
   "file_extension": ".py",
   "mimetype": "text/x-python",
   "name": "python",
   "nbconvert_exporter": "python",
   "pygments_lexer": "ipython3",
   "version": "3.7.9"
  }
 },
 "nbformat": 4,
 "nbformat_minor": 4
}
