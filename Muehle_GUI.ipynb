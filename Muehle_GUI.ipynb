{
 "cells": [
  {
   "cell_type": "markdown",
   "metadata": {},
   "source": [
    "# GUI - Nine Men Morris"
   ]
  },
  {
   "cell_type": "code",
   "execution_count": null,
   "metadata": {},
   "outputs": [],
   "source": [
    "%%HTML\n",
    "<style>\n",
    ".container { width:100% }\n",
    "</style>"
   ]
  },
  {
   "cell_type": "markdown",
   "metadata": {},
   "source": [
    "## Definitionen:\n",
    "- ring = einer der 3 Quadrate (0-2)\n",
    "- cell = ein Punkt auf einem Ring (0-7)\n",
    "- position = (ring, cell)\n",
    "- board = Array aus 3 Arrays, die angeben, ob, und wenn ja welcher Stein dort sitzt\n",
    "- remaining = \\[noch nicht gesetzte Steine Spieler 1, noch nicht gesetzte Steine Spieler 2\\]\n",
    "- pieces = \\[remaining, board\\]"
   ]
  },
  {
   "cell_type": "code",
   "execution_count": null,
   "metadata": {},
   "outputs": [],
   "source": [
    "%run ./Muehle_Logic.ipynb\n",
    "%run ./Muehle_Utilities.ipynb\n",
    "import ipycanvas\n",
    "from ipycanvas import Canvas, MultiCanvas"
   ]
  },
  {
   "cell_type": "markdown",
   "metadata": {},
   "source": [
    "## Konstanten\n",
    "\n",
    "* BOARD_SIZE = Größe des Spielfeldes in Pixeln\n",
    "* DOT_RADIUS = Radius der schwarzen kleinen Punkte, die mögliche Positionen markieren (in Abhängigkeit von der Spielfeldgröße)\n",
    "* PIECE_RADIUS = Radius der Spielsteine\n",
    "* COLOUR = Farben der [dots, pieces_player_1, pieces_player_2]\n",
    "* PADDING = relativer Abstand des äüßersten Quadrats zum Spielfeldrand\n",
    "* DISTANCE = relativer Abstand zwischen den Quadraten des Spielfelds"
   ]
  },
  {
   "cell_type": "code",
   "execution_count": null,
   "metadata": {},
   "outputs": [],
   "source": [
    "BOARD_SIZE      = 400\n",
    "DOT_RADIUS      = BOARD_SIZE*0.025\n",
    "PIECE_RADIUS    = BOARD_SIZE*0.04\n",
    "COLOUR          = ['black', 'white', 'sienna']\n",
    "COLOUR_HINT     = 'green'\n",
    "COLOUR_OPPONENT = 'red'\n",
    "PADDING         = 0.05\n",
    "DISTANCE        = 0.15\n",
    "TRANSPARENCY_DEFAULT = 1.0\n",
    "TRANSPARENCY_HINT    = 0.5"
   ]
  },
  {
   "cell_type": "markdown",
   "metadata": {},
   "source": [
    "## Mögliche Positionen\n",
    "\n",
    "<img src=\"board_positions.png\" alt=\"Mögliche Positionen\" width=\"800\"/>"
   ]
  },
  {
   "cell_type": "code",
   "execution_count": null,
   "metadata": {},
   "outputs": [],
   "source": [
    "#Reihe von oben nach unten (0-6)\n",
    "def row(number):\n",
    "    return PADDING + DISTANCE * number\n",
    "#Spalte von links nach rechts (0-6)\n",
    "def col(number):\n",
    "    return row(number)"
   ]
  },
  {
   "cell_type": "code",
   "execution_count": null,
   "metadata": {},
   "outputs": [],
   "source": [
    "positions = [([col(0), row(0)], [col(3), row(0)], [col(6), row(0)], [col(6), row(3)], [col(6), row(6)], [col(3), row(6)], [col(0), row(6)], [col(0), row(3)]), #ring 0\n",
    "             ([col(1), row(1)], [col(3), row(1)], [col(5), row(1)], [col(5), row(3)], [col(5), row(5)], [col(3), row(5)], [col(1), row(5)], [col(1), row(3)]), #ring 1\n",
    "             ([col(2), row(2)], [col(3), row(2)], [col(4), row(2)], [col(4), row(3)], [col(4), row(4)], [col(3), row(4)], [col(2), row(4)], [col(2), row(3)])] #ring 2\n",
    "\n",
    "wmd_dic = {\n",
    "    \"a1\":positions[0][6],\n",
    "    \"a4\":positions[0][7],\n",
    "    \"a7\":positions[0][0],\n",
    "    \"b2\":positions[1][6],\n",
    "    \"b4\":positions[1][7],\n",
    "    \"b6\":positions[1][0],\n",
    "    \"c3\":positions[2][6],\n",
    "    \"c4\":positions[2][7],\n",
    "    \"c5\":positions[2][0],\n",
    "    \"d1\":positions[0][5],\n",
    "    \"d2\":positions[1][5],\n",
    "    \"d3\":positions[2][5],\n",
    "    \"d5\":positions[2][1],\n",
    "    \"d6\":positions[1][1],\n",
    "    \"d7\":positions[0][1],\n",
    "    \"e3\":positions[2][4],\n",
    "    \"e4\":positions[2][3],\n",
    "    \"e5\":positions[2][2],\n",
    "    \"f2\":positions[1][4],\n",
    "    \"f4\":positions[1][3],\n",
    "    \"f6\":positions[1][2],\n",
    "    \"g1\":positions[0][4],\n",
    "    \"g4\":positions[0][3],\n",
    "    \"g7\":positions[0][2]\n",
    "}"
   ]
  },
  {
   "cell_type": "markdown",
   "metadata": {},
   "source": [
    "## Initialisierung Canvas\n",
    "\n",
    "**Aufbau Leinwand:**\n",
    "\n",
    "board\\[Hintergrund, Linien, Steine]"
   ]
  },
  {
   "cell_type": "code",
   "execution_count": null,
   "metadata": {},
   "outputs": [],
   "source": [
    "#board[Hintergrund, Linien, Steine]\n",
    "board = MultiCanvas(3, width = BOARD_SIZE, height = BOARD_SIZE)\n",
    "\n",
    "# Hintergrund\n",
    "board[0].fill_style = '#ffffcc'\n",
    "board[0].fill_rect(0, 0, BOARD_SIZE)\n",
    "\n",
    "# Strichstärke\n",
    "board[1].line_width = 5\n",
    "\n",
    "# Quadrate\n",
    "board[1].stroke_rect(BOARD_SIZE*col(0), BOARD_SIZE*row(0), BOARD_SIZE*(1-row(0)-col(0))) #ring 0\n",
    "board[1].stroke_rect(BOARD_SIZE*col(1), BOARD_SIZE*row(1), BOARD_SIZE*(1-row(1)-col(1))) #ring 1\n",
    "board[1].stroke_rect(BOARD_SIZE*col(2), BOARD_SIZE*row(2), BOARD_SIZE*(1-row(2)-col(2))) #ring 2\n",
    "\n",
    "# Mittelinien\n",
    "board[1].begin_path()\n",
    "board[1].move_to(BOARD_SIZE*col(3), BOARD_SIZE*row(0)) #oben\n",
    "board[1].line_to(BOARD_SIZE*col(3), BOARD_SIZE*row(2))\n",
    "board[1].move_to(BOARD_SIZE*col(6), BOARD_SIZE*row(3)) #rechts\n",
    "board[1].line_to(BOARD_SIZE*col(4), BOARD_SIZE*row(3))\n",
    "board[1].move_to(BOARD_SIZE*col(3), BOARD_SIZE*row(6)) #unten\n",
    "board[1].line_to(BOARD_SIZE*col(3), BOARD_SIZE*row(4))\n",
    "board[1].move_to(BOARD_SIZE*col(0), BOARD_SIZE*row(3)) #links\n",
    "board[1].line_to(BOARD_SIZE*col(2), BOARD_SIZE*row(3))\n",
    "board[1].stroke()\n",
    "\n",
    "# Punkte (außen, mitte, innen)\n",
    "for ring in positions:\n",
    "    for x,y in ring:\n",
    "        board[1].fill_arc(BOARD_SIZE*x, BOARD_SIZE*y, DOT_RADIUS, 0, 360)"
   ]
  },
  {
   "cell_type": "markdown",
   "metadata": {},
   "source": [
    "## Status des Spielfelds\n",
    "* 0 = kein Stein\n",
    "* 1 = weißer Stein\n",
    "* 2 = brauner Stein"
   ]
  },
  {
   "cell_type": "code",
   "execution_count": null,
   "metadata": {},
   "outputs": [],
   "source": [
    "class status():\n",
    "    pieces = [[9,9],[          # Anzahl zu setzender Steine (Spieler_1 (Weiß), Spieler_2 (Braun))\n",
    "            [0,0,0,0,0,0,0,0], # ring 0\n",
    "            [0,0,0,0,0,0,0,0], # ring 1\n",
    "            [0,0,0,0,0,0,0,0]  # ring 2\n",
    "      ]]\n",
    "    current_player = 1\n",
    "    mills = set()\n",
    "    selected_dot_old = (None, None)\n",
    "    selected_dot_new = (None, None)\n",
    "    move_or_jump = False\n",
    "    game_over = False"
   ]
  },
  {
   "cell_type": "markdown",
   "metadata": {},
   "source": [
    "## Spielsteine anzeigen"
   ]
  },
  {
   "cell_type": "code",
   "execution_count": null,
   "metadata": {},
   "outputs": [],
   "source": [
    "def draw_piece(ring, cell, player):\n",
    "    #Hintergrund\n",
    "    board[2].fill_style = COLOUR[player]\n",
    "    board[2].fill_arc(BOARD_SIZE*positions[ring][cell][0], BOARD_SIZE*positions[ring][cell][1], PIECE_RADIUS, 0, 360)\n",
    "    #Ringe\n",
    "    if player == 1:\n",
    "        board[2].stroke_style = 'silver' \n",
    "    else:\n",
    "        board[2].stroke_style = 'chocolate'\n",
    "    board[2].stroke_arc(BOARD_SIZE*positions[ring][cell][0], BOARD_SIZE*positions[ring][cell][1], PIECE_RADIUS,     0, 360)\n",
    "    board[2].stroke_arc(BOARD_SIZE*positions[ring][cell][0], BOARD_SIZE*positions[ring][cell][1], PIECE_RADIUS*0.7, 0, 360)\n",
    "    board[2].stroke_arc(BOARD_SIZE*positions[ring][cell][0], BOARD_SIZE*positions[ring][cell][1], PIECE_RADIUS*0.3, 0, 360)"
   ]
  },
  {
   "cell_type": "code",
   "execution_count": null,
   "metadata": {},
   "outputs": [],
   "source": [
    "def update_board(status):\n",
    "    with ipycanvas.hold_canvas(board):\n",
    "        board[2].clear()\n",
    "        board[2].global_alpha = TRANSPARENCY_DEFAULT\n",
    "        for ring in range(3):\n",
    "            for cell in range(8):\n",
    "                player = status.pieces[1][ring][cell]\n",
    "                if player in [1, 2]: draw_piece(ring, cell, player)\n",
    "        board[2].fill_style = 'black'\n",
    "        board[2].font = '18px serif'\n",
    "        board[2].fill_text('Spieler '+ str(status.current_player), BOARD_SIZE*0.4, BOARD_SIZE*0.45)\n",
    "        board[2].fill_text('ist dran.', BOARD_SIZE*0.4, BOARD_SIZE*0.55)\n",
    "    return board"
   ]
  },
  {
   "cell_type": "code",
   "execution_count": null,
   "metadata": {},
   "outputs": [],
   "source": [
    "def on_dot(pos, x, y):\n",
    "    return (pos[0]*BOARD_SIZE-PIECE_RADIUS/2 < x < pos[0]*BOARD_SIZE+PIECE_RADIUS/2 and pos[1]*BOARD_SIZE-PIECE_RADIUS/2 < y < pos[1]*BOARD_SIZE+PIECE_RADIUS/2)"
   ]
  },
  {
   "cell_type": "code",
   "execution_count": null,
   "metadata": {},
   "outputs": [],
   "source": [
    "def show_possible_clickable_positions(possible_positions, colour = COLOUR_HINT):\n",
    "    for position in possible_positions:\n",
    "        ring, cell = position\n",
    "        board[2].fill_style = colour\n",
    "        board[2].global_alpha = TRANSPARENCY_HINT\n",
    "        board[2].fill_arc(BOARD_SIZE*positions[ring][cell][0], BOARD_SIZE*positions[ring][cell][1], PIECE_RADIUS, 0, 360)\n",
    "    return"
   ]
  },
  {
   "cell_type": "code",
   "execution_count": null,
   "metadata": {},
   "outputs": [],
   "source": [
    "def handle_mouse_down(x, y):\n",
    "    global status\n",
    "    if not status.game_over:\n",
    "        for ring in positions:\n",
    "            for cell in ring:\n",
    "                if on_dot(cell, x, y):\n",
    "                    status.selected_dot_old = status.selected_dot_new\n",
    "                    status.selected_dot_new = (positions.index(ring), ring.index(cell))\n",
    "                    try:\n",
    "                        make_move(positions.index(ring), ring.index(cell))\n",
    "                    except InvalidMoveException:\n",
    "                        print('Ungültiger Zug')\n",
    "board[2].on_mouse_down(handle_mouse_down)"
   ]
  },
  {
   "cell_type": "code",
   "execution_count": null,
   "metadata": {},
   "outputs": [],
   "source": [
    "def make_move(ring, cell):\n",
    "    global status\n",
    "    phase = get_player_phase(status.pieces, status.current_player)\n",
    "    possible_positions = next_positions(status.pieces, status.current_player, ring, cell)\n",
    "    if phase == 1:\n",
    "        if (ring, cell) in possible_positions: # Das geklickte Feld muss frei sein\n",
    "            status.pieces[1][ring][cell] = status.current_player # Das geklickte Feld wird zum eigenen Feld\n",
    "            status.pieces[0][status.current_player-1] = status.pieces[0][status.current_player-1]-1 # Die eigenen Steine in remaining um 1 reduzieren\n",
    "            update_board(status)\n",
    "            # ToDo: Mühle handeln\n",
    "        else:\n",
    "            raise InvalidMoveException()\n",
    "            print('Du kannst Deinen Stein nur auf ein leeres Feld setzen. Bitte probiere es erneut!')\n",
    "    elif phase == 2 or phase == 3:\n",
    "        if status.move_or_jump == False: # -> Stein zum ziehen auswählen\n",
    "            if status.selected_dot_new in player_pieces(status.pieces, status.current_player): # prüfen,ob der ausgewählte Stein dem Spieler gehört\n",
    "                show_possible_clickable_positions(possible_positions) # erlaubte Zielfelder anzeigen\n",
    "                status.move_or_jump = True\n",
    "            else:\n",
    "                raise InvalidMoveException()\n",
    "                print('Das ist nicht Dein Stein. Bitte probiere es erneut!')\n",
    "                \n",
    "        elif status.move_or_jump == True: # -> Zielfeld für Stein wählen\n",
    "            old_ring, old_cell = status.selected_dot_old\n",
    "            new_ring, new_cell = status.selected_dot_new\n",
    "            possible_positions = next_positions(status.pieces, status.current_player, old_ring, old_cell) # ausgehend vom ausgewählten Stein, erlaubte Zielfelder berechnen\n",
    "            if (new_ring, new_cell) in possible_positions: # prüfen ob das ausgewählte Feld ein erlaubtes Zielfeld ist\n",
    "                status.pieces[1][new_ring][new_cell] = status.current_player # das Zielfeld als das eigene markieren\n",
    "                status.pieces[1][old_ring][old_cell] = 0 # das ursprüngliche Feld ist jetzt leer\n",
    "                status.move_or_jump = False\n",
    "                update_board(status)\n",
    "            else:\n",
    "                raise InvalidMoveException()\n",
    "                print('Du kannst Deinen Stein nicht auf dieses Feld setzen. Bitte probiere es erneut!')\n",
    "        # ToDo: Mühle handeln\n",
    "    else:\n",
    "        raise InvalidMoveException()\n",
    "        print('Du befindest Dich anscheinend in keiner gültigen Spielphase. Irgendwas ist schief gegangen... Sorry!')\n",
    "    \n",
    "    if not status.move_or_jump:\n",
    "        status.current_player = opponent(status.current_player) # Spielerwechsel, wenn nicht noch eine Aktion ausgeführt werden muss\n",
    "        \n",
    "    if finish(status.pieces) != 0: # Prüfen, ob das Spiel zu Ende ist\n",
    "        status.game_over = True"
   ]
  },
  {
   "cell_type": "code",
   "execution_count": null,
   "metadata": {},
   "outputs": [],
   "source": [
    "update_board(status)"
   ]
  },
  {
   "cell_type": "code",
   "execution_count": null,
   "metadata": {},
   "outputs": [],
   "source": [
    "#Testbeispiel für die bei einer Mühle schlagbaren Steine\n",
    "opponent_stones_positions = get_opponent_beatable_stones(status.current_player) \n",
    "show_possible_clickable_positions(opponent_stones_positions, colour = COLOUR_OPPONENT)"
   ]
  },
  {
   "cell_type": "code",
   "execution_count": null,
   "metadata": {},
   "outputs": [],
   "source": []
  }
 ],
 "metadata": {
  "kernelspec": {
   "display_name": "Python 3",
   "language": "python",
   "name": "python3"
  },
  "language_info": {
   "codemirror_mode": {
    "name": "ipython",
    "version": 3
   },
   "file_extension": ".py",
   "mimetype": "text/x-python",
   "name": "python",
   "nbconvert_exporter": "python",
   "pygments_lexer": "ipython3",
   "version": "3.7.0-final"
  }
 },
 "nbformat": 4,
 "nbformat_minor": 4
}