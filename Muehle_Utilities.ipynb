{
 "cells": [
  {
   "cell_type": "code",
   "execution_count": null,
   "source": [
    "%%HTML\n",
    "<style>\n",
    ".container { width:100% }\n",
    "</style>"
   ],
   "outputs": [],
   "metadata": {}
  },
  {
   "cell_type": "markdown",
   "source": [
    "# Hilfsfunktionen\n",
    "Im Folgenden sollen Funktionen implementiert werden, die an verschiedenen Stellen in der Entwicklung des Mühlespiels genutzt werden können. Dazu sind sie so einfach wie möglich gehalten."
   ],
   "metadata": {}
  },
  {
   "cell_type": "markdown",
   "source": [
    "`count_player_pieces()` zählt die Steine, die ein anzugebender Spieler gerade auf dem Spielfeld hat. Dafür wird über alle möglichen Positionen iteriert und gezählt, bei wie vielen Positionen der Wert der Position mit dem Wert des Spielers übereinstimmt."
   ],
   "metadata": {}
  },
  {
   "cell_type": "code",
   "execution_count": null,
   "source": [
    "def count_player_pieces(board, player):\n",
    "    return [position for ring in board for position in ring].count(player)"
   ],
   "outputs": [],
   "metadata": {}
  },
  {
   "cell_type": "markdown",
   "source": [
    "`empty_positions()` gibt eine Liste mit Tupeln zurück. Jedes Tupel der Form `(ring, cell)` beschreibt eine Stelle auf dem Spielfeld, auf der kein Spielstein steht, also der Wert 0 ist. So erhält man alle leeren Positionen."
   ],
   "metadata": {}
  },
  {
   "cell_type": "code",
   "execution_count": null,
   "source": [
    "def empty_positions(board):\n",
    "    return player_pieces(board, 0)"
   ],
   "outputs": [],
   "metadata": {}
  },
  {
   "cell_type": "markdown",
   "source": [
    "`neighboring_positions()` liefert für eine gegebene Position auf dem Spielfeld alle benachbarten Felder. Die Position wird dabei in der der Form `(ring, cell)` übergeben. Je nachdem wo sich die übergebene Stelle befindet, hat sie 2, 3 oder 4 Nachbarfelder, die es zu ermitteln gilt. Zunächst werden der linke und der rechte Nachbar ermittelt, den jede Position besitzt. Da die Zellen von 0 bis 7 durchnummeriert sind, muss 1 zu dem Zellenwert dazu addiert oder abgezogen werden. Um von 0 zu 7 und zurück zu gelangen, wird das Ergebnis noch Modulo 8 genommen.\n",
    "Die Zellen 1, 3, 5, 7 liegen in der Mitte und haben deshalb noch einen weiteren Nachbar, falls sie in Ring 0 oder 2 sind. Ansonsten haben sie sogar noch zwei weitere Nachbarpositionen."
   ],
   "metadata": {}
  },
  {
   "cell_type": "code",
   "execution_count": null,
   "source": [
    "def neighboring_positions(position):\n",
    "    ring, cell = position\n",
    "    \n",
    "    left_neighbor  = (ring, (cell - 1) % 8)\n",
    "    right_neighbor = (ring, (cell + 1) % 8)\n",
    "        \n",
    "    positions = [left_neighbor, right_neighbor]\n",
    "        \n",
    "    if cell % 2 == 1:\n",
    "        if ring in [0, 2] :\n",
    "            positions.append((1, cell))\n",
    "        else:\n",
    "            positions.append((0, cell))\n",
    "            positions.append((2, cell))\n",
    "    return positions"
   ],
   "outputs": [],
   "metadata": {}
  },
  {
   "cell_type": "markdown",
   "source": [
    "`empty_neighbors()` berechnet ausgehend von einem gewählten Stein alle benachbarten leeren Felder.\n",
    "Hierfür wird ein Spielbrett, sowie die Position des ausgewählten Steines mit ring und cell übergeben. Zurückgegeben wird eine Liste der Position."
   ],
   "metadata": {}
  },
  {
   "cell_type": "code",
   "execution_count": null,
   "source": [
    "def empty_neighbors(board, ring, cell):\n",
    "    neighboring = set(neighboring_positions((ring, cell)))\n",
    "    empty = set(empty_positions(board))\n",
    "    return neighboring.intersection(empty)"
   ],
   "outputs": [],
   "metadata": {}
  },
  {
   "cell_type": "markdown",
   "source": [
    "`player_pieces()` gibt eine Liste mit allen Positionen eines zu übergebenden Spielers zurück. Jeder Eintrag der Form `(ring, cell)` beschreibt eine Stelle auf dem Spielfeld, auf der ein Spielstein des Spielers steht, also der Wert gleich dem Wert des Spielers ist."
   ],
   "metadata": {}
  },
  {
   "cell_type": "code",
   "execution_count": null,
   "source": [
    "def player_pieces(board, player):\n",
    "    return [(ring, cell) for ring in range(3) for cell in range(8) if board[ring][cell] == player]"
   ],
   "outputs": [],
   "metadata": {}
  },
  {
   "cell_type": "markdown",
   "source": [
    "`opponent()` gibt den Gegner des übergebenen Spielers zurück. Falls 1 übergeben wird, kommt 2 zurück, ansonsten andersrum."
   ],
   "metadata": {}
  },
  {
   "cell_type": "code",
   "execution_count": null,
   "source": [
    "def opponent(player):\r\n",
    "    return 3 - player"
   ],
   "outputs": [],
   "metadata": {}
  },
  {
   "cell_type": "markdown",
   "source": [
    "`get_moved_piece` gibt den Stein eines Spielers zurück, der zwischen zwei zu übergebenden Zuständen bewegt wurde."
   ],
   "metadata": {}
  },
  {
   "cell_type": "code",
   "execution_count": null,
   "source": [
    "def get_moved_piece(old_board, new_board, player):\r\n",
    "    for ring in range(3):\r\n",
    "        for cell in range(8):\r\n",
    "            if old_board[ring][cell] == 0 and new_board[ring][cell] == player:\r\n",
    "                return (ring, cell)\r\n",
    "    return (None, None)"
   ],
   "outputs": [],
   "metadata": {}
  },
  {
   "cell_type": "markdown",
   "source": [
    "Die Funktion `to_tuple()` wandelt einen übergebenen Spielstatus in Tupelform um."
   ],
   "metadata": {}
  },
  {
   "cell_type": "code",
   "execution_count": null,
   "source": [
    "def to_tuple(state):\r\n",
    "    return (tuple(state[0]), tuple(tuple(ring) for ring in state[1]))"
   ],
   "outputs": [],
   "metadata": {}
  },
  {
   "cell_type": "markdown",
   "source": [
    "Die Funktion `to_list()` wandelt einen übergebenen Spielstatus in Listenform um."
   ],
   "metadata": {}
  },
  {
   "cell_type": "code",
   "execution_count": null,
   "source": [
    "def to_list(state):\r\n",
    "    return [list(state[0]), [list(ring) for ring in state[1]]]"
   ],
   "outputs": [],
   "metadata": {}
  },
  {
   "cell_type": "markdown",
   "source": [
    "## Mühlen\r\n",
    "`find_mills()` gibt alle Mühlen zurück, die ein Spieler auf dem übergebenen Spielbrett hat. Hierzu werden in der ersten Schleife alle Mühlen ermittelt, die sich auf einem einzigen Ringen befinden. Die zweite Schleife erkennt alle Mühlen, die sich über alle drei Ringe erstrecken. Die Eigenschaft einer Mühle ist, dass drei Steine in gerader Linie direkt nebeneinander liegen. Mühlen werden dabei als Tupel der Form `((ring 1, cell 1), (ring 2, cell 2), (ring 3, cell 3))` gespeichert."
   ],
   "metadata": {}
  },
  {
   "cell_type": "code",
   "execution_count": null,
   "source": [
    "def find_mills(board, player):\r\n",
    "    mills = set()\r\n",
    "    for ring in range (0,3):\r\n",
    "        for cell in [0,2,4,6]:\r\n",
    "            if(board[ring][cell] == board[ring][cell + 1] == board[ring][(cell + 2) % 8] == player):\r\n",
    "                mills.add(((ring, cell), (ring, cell + 1), (ring, (cell + 2) % 8)))\r\n",
    "    for cell in [1,3,5,7]:\r\n",
    "        if(board[0][cell] == board[1][cell] == board[2][cell] == player):\r\n",
    "            mills.add(((0, cell), (1, cell), (2, cell)))  \r\n",
    "    return mills          "
   ],
   "outputs": [],
   "metadata": {}
  },
  {
   "cell_type": "code",
   "execution_count": 11,
   "source": [
    "def find_new_mills():#board, piece):\r\n",
    "    global game\r\n",
    "    board = game.state[1]\r\n",
    "    #board = board[1]\r\n",
    "    mills = set()\r\n",
    "    #(ring, cell) = piece\r\n",
    "    (ring, cell) = game.selected_piece\r\n",
    "    if (ring, cell) != (None, None):\r\n",
    "        if cell % 2 == 0: #Sein ist in einer Ecke\r\n",
    "            if board[ring][cell]==board[ring][(cell-1)%8]==board[ring][(cell-2)%8]:\r\n",
    "                mills.add(((ring, (cell-2)%8), (ring, (cell-1)%8), (ring, cell)))  \r\n",
    "            if board[ring][cell]==board[ring][(cell+1)%8]==board[ring][(cell+2)%8]:\r\n",
    "                mills.add(((ring, cell), (ring, (cell+1)%8), (ring, (cell+2)%8)))\r\n",
    "        else: #Stein ist Mittig \r\n",
    "            if board[ring][(cell-1)%8]==board[ring][cell]==board[ring][(cell+1)%8]:\r\n",
    "                mills.add(((ring, (cell-1)%8), (ring, cell), (2, (cell+1)%8)))\r\n",
    "            if board[0][cell]==board[1][cell]==board[2][cell]:\r\n",
    "                mills.add(((0, cell), (1, cell), (2, cell))) \r\n",
    "    return mills"
   ],
   "outputs": [],
   "metadata": {}
  },
  {
   "cell_type": "code",
   "execution_count": 14,
   "source": [
    "#find_new_mills([[0, 0], [[1, 1, 1, 0, 0, 0, 0, 0], [0, 1, 0, 0, 0, 2, 2, 2], [0, 1, 0, 0, 0, 0, 0, 0]]], (0,1))"
   ],
   "outputs": [
    {
     "output_type": "execute_result",
     "data": {
      "text/plain": [
       "{((0, 0), (0, 1), (2, 2)), ((0, 1), (1, 1), (2, 1))}"
      ]
     },
     "metadata": {},
     "execution_count": 14
    }
   ],
   "metadata": {}
  },
  {
   "cell_type": "code",
   "execution_count": 7,
   "source": [
    "#board = [[0, 0], [[2, 0, 0, 0, 0, 1, 2, 0], [0, 0, 0, 0, 0, 2, 0, 0], [1, 1, 0, 0, 0, 2, 0, 0]]]\r\n",
    "#(ring, cell) = (1,2)\r\n",
    "#board[ring][(cell+2)%8]"
   ],
   "outputs": [
    {
     "output_type": "error",
     "ename": "IndexError",
     "evalue": "list index out of range",
     "traceback": [
      "\u001b[1;31m---------------------------------------------------------------------------\u001b[0m",
      "\u001b[1;31mIndexError\u001b[0m                                Traceback (most recent call last)",
      "\u001b[1;32m<ipython-input-7-b199709b95df>\u001b[0m in \u001b[0;36m<module>\u001b[1;34m\u001b[0m\n\u001b[0;32m      1\u001b[0m \u001b[0mboard\u001b[0m \u001b[1;33m=\u001b[0m \u001b[1;33m[\u001b[0m\u001b[1;33m[\u001b[0m\u001b[1;36m0\u001b[0m\u001b[1;33m,\u001b[0m \u001b[1;36m0\u001b[0m\u001b[1;33m]\u001b[0m\u001b[1;33m,\u001b[0m \u001b[1;33m[\u001b[0m\u001b[1;33m[\u001b[0m\u001b[1;36m2\u001b[0m\u001b[1;33m,\u001b[0m \u001b[1;36m0\u001b[0m\u001b[1;33m,\u001b[0m \u001b[1;36m0\u001b[0m\u001b[1;33m,\u001b[0m \u001b[1;36m0\u001b[0m\u001b[1;33m,\u001b[0m \u001b[1;36m0\u001b[0m\u001b[1;33m,\u001b[0m \u001b[1;36m1\u001b[0m\u001b[1;33m,\u001b[0m \u001b[1;36m2\u001b[0m\u001b[1;33m,\u001b[0m \u001b[1;36m0\u001b[0m\u001b[1;33m]\u001b[0m\u001b[1;33m,\u001b[0m \u001b[1;33m[\u001b[0m\u001b[1;36m0\u001b[0m\u001b[1;33m,\u001b[0m \u001b[1;36m0\u001b[0m\u001b[1;33m,\u001b[0m \u001b[1;36m0\u001b[0m\u001b[1;33m,\u001b[0m \u001b[1;36m0\u001b[0m\u001b[1;33m,\u001b[0m \u001b[1;36m0\u001b[0m\u001b[1;33m,\u001b[0m \u001b[1;36m2\u001b[0m\u001b[1;33m,\u001b[0m \u001b[1;36m0\u001b[0m\u001b[1;33m,\u001b[0m \u001b[1;36m0\u001b[0m\u001b[1;33m]\u001b[0m\u001b[1;33m,\u001b[0m \u001b[1;33m[\u001b[0m\u001b[1;36m1\u001b[0m\u001b[1;33m,\u001b[0m \u001b[1;36m1\u001b[0m\u001b[1;33m,\u001b[0m \u001b[1;36m0\u001b[0m\u001b[1;33m,\u001b[0m \u001b[1;36m0\u001b[0m\u001b[1;33m,\u001b[0m \u001b[1;36m0\u001b[0m\u001b[1;33m,\u001b[0m \u001b[1;36m2\u001b[0m\u001b[1;33m,\u001b[0m \u001b[1;36m0\u001b[0m\u001b[1;33m,\u001b[0m \u001b[1;36m0\u001b[0m\u001b[1;33m]\u001b[0m\u001b[1;33m]\u001b[0m\u001b[1;33m]\u001b[0m\u001b[1;33m\u001b[0m\u001b[1;33m\u001b[0m\u001b[0m\n\u001b[0;32m      2\u001b[0m \u001b[1;33m(\u001b[0m\u001b[0mring\u001b[0m\u001b[1;33m,\u001b[0m \u001b[0mcell\u001b[0m\u001b[1;33m)\u001b[0m \u001b[1;33m=\u001b[0m \u001b[1;33m(\u001b[0m\u001b[1;36m1\u001b[0m\u001b[1;33m,\u001b[0m\u001b[1;36m2\u001b[0m\u001b[1;33m)\u001b[0m\u001b[1;33m\u001b[0m\u001b[1;33m\u001b[0m\u001b[0m\n\u001b[1;32m----> 3\u001b[1;33m \u001b[0mboard\u001b[0m\u001b[1;33m[\u001b[0m\u001b[0mring\u001b[0m\u001b[1;33m]\u001b[0m\u001b[1;33m[\u001b[0m\u001b[1;33m(\u001b[0m\u001b[0mcell\u001b[0m\u001b[1;33m+\u001b[0m\u001b[1;36m2\u001b[0m\u001b[1;33m)\u001b[0m\u001b[1;33m%\u001b[0m\u001b[1;36m8\u001b[0m\u001b[1;33m]\u001b[0m\u001b[1;33m\u001b[0m\u001b[1;33m\u001b[0m\u001b[0m\n\u001b[0m",
      "\u001b[1;31mIndexError\u001b[0m: list index out of range"
     ]
    }
   ],
   "metadata": {}
  },
  {
   "cell_type": "code",
   "execution_count": null,
   "source": [
    "def count_new_mills(old_mills, new_mills):\r\n",
    "    return len(new_mills.difference(old_mills))"
   ],
   "outputs": [],
   "metadata": {}
  },
  {
   "cell_type": "markdown",
   "source": [
    "`get_opponent_beatable_pieces()` gibt eine Liste mit entfernbaren Steinen des Gegners zurück. Dies ist notwendig, wenn auf Grund des Bildens einer Mühle Steine des Gegners entfernt werden dürfen.\n",
    "Dazu werden alle Steine sowie alle Mühlsteine des Gegners ermittelt. Die schlagbaren Steine sind die Steine des Spielers ohne dessen Mühlsteine. Ist das Ergebnis jedoch leer, werden alle Steine des Gegners zurückgegeben, da laut den offiziellen Regeln in diesem Fall auch Steine aus Mühlen entfernt werden können. Die Arbeit mit Mengen bringt hier keinen Performancevorteil."
   ],
   "metadata": {}
  },
  {
   "cell_type": "code",
   "execution_count": null,
   "source": [
    "def get_opponent_beatable_pieces(board, current_player):\r\n",
    "    opponent_player = opponent(current_player)\r\n",
    "\r\n",
    "    opponent_mill_pieces = [(ring, cell) for mill in find_mills(board, opponent_player) for (ring, cell) in mill]\r\n",
    "    opponent_pieces      = player_pieces(board, opponent_player)\r\n",
    "    beatable_pieces      = [piece for piece in opponent_pieces if piece not in opponent_mill_pieces]\r\n",
    "    \r\n",
    "    return beatable_pieces if len(beatable_pieces) != 0 else opponent_pieces"
   ],
   "outputs": [],
   "metadata": {}
  },
  {
   "cell_type": "markdown",
   "source": [
    "`beat_pieces()` gibt alle möglichen Spielfelder zurück, nachdem eine bestimmte Anzahl an schlagbaren gegnerischen Steinen (`count`) entfernt, also durch den Wert 0 ersetzt, wurde. Die Eingabeparameter sind dazu ein Spielbrett, also der zweite Teile von `state`, eine natürliche Zahl, die der Anzahl der zu entfernenden Steine entspricht, und ein Spieler, der die Steine entfernt. Die Methode funktioniert rekursiv. Als Rekursionsanker dient `count <= 0`. Ist `count` größer als 1, können Boards mehrmals entstehen, diese werden im Anschluss entfernt. Das Duplikateentfernen wäre schöner, wenn man statt den Listen Mengen verwenden würde. Dazu müsste aber State auf Tupel umgestellt werden, da Lists mutable sind. Wenn noch umgeformt werden muss, bringt das keinen Performancevorteil."
   ],
   "metadata": {}
  },
  {
   "cell_type": "code",
   "execution_count": null,
   "source": [
    "def beat_pieces(board, count, player):\r\n",
    "    if count <= 0: return [board]\r\n",
    "    \r\n",
    "    boards = []\r\n",
    "    beatable_pieces = get_opponent_beatable_pieces(board, player)\r\n",
    "    for ring, cell in beatable_pieces:\r\n",
    "        new_board = copy.deepcopy(board)\r\n",
    "        new_board[ring][cell] = 0\r\n",
    "        boards.extend([new_board]) if count == 1 else boards.extend(beat_pieces(new_board, count - 1, player))\r\n",
    "    \r\n",
    "    if count >= 1:\r\n",
    "        # Duplikate entfernen\r\n",
    "        result = []\r\n",
    "        for board in boards:\r\n",
    "            if board not in result:\r\n",
    "                result.append(board)\r\n",
    "        return result\r\n",
    "    \r\n",
    "    return boards"
   ],
   "outputs": [],
   "metadata": {}
  }
 ],
 "metadata": {
  "kernelspec": {
   "display_name": "Python 3",
   "language": "python",
   "name": "python3"
  },
  "language_info": {
   "codemirror_mode": {
    "name": "ipython",
    "version": 3
   },
   "file_extension": ".py",
   "mimetype": "text/x-python",
   "name": "python",
   "nbconvert_exporter": "python",
   "pygments_lexer": "ipython3",
   "version": "3.8.3"
  }
 },
 "nbformat": 4,
 "nbformat_minor": 4
}