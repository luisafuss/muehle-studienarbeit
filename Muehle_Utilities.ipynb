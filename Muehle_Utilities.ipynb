{
 "cells": [
  {
   "cell_type": "markdown",
   "metadata": {},
   "source": [
    "# Hilfsfunktionen\n",
    "Im folgenden sollen Funktionen implementiert werden, die an verschiedenen Stellen in der Entwicklung des Mühlespiels genutzt werden können. Dazu sind sie so einfach wie möglich gehalten."
   ]
  },
  {
   "cell_type": "markdown",
   "metadata": {},
   "source": [
    "`count_player_pieces()` zählt die Steine, die ein anzugebender Spieler gerade auf dem Spielfeld hat."
   ]
  },
  {
   "cell_type": "code",
   "execution_count": null,
   "metadata": {},
   "outputs": [],
   "source": [
    "def count_player_pieces(state, player):\n",
    "    [_, board] = state\n",
    "    return [position for ring in board for position in ring].count(player)"
   ]
  },
  {
   "cell_type": "markdown",
   "metadata": {},
   "source": [
    "`empty_positions()` gibt eine Liste mit Tupeln zurück. Jedes Tupel beschreibt eine Stelle auf dem Spielfeld, auf der kein Spielstein steht. So erhält man alle leeren Positionen."
   ]
  },
  {
   "cell_type": "code",
   "execution_count": null,
   "metadata": {},
   "outputs": [],
   "source": [
    "def empty_positions(state):\n",
    "    [_, board] = state\n",
    "    return [(ring, cell) for ring in range(3)\n",
    "                        for cell in range(8)\n",
    "                        if  board[ring][cell] == 0 \n",
    "           ]"
   ]
  },
  {
   "cell_type": "markdown",
   "metadata": {},
   "source": [
    "`neighboring_positions()` liefert für eine gegebene Position auf dem Spielfeld alle benachbarten Felder. Die Position wird dabei in der der Form `(ring, cell)` übergeben. Je nachdem wo sich die übergebene Stelle befindet, hat sie 2, 3 oder 4 Nachbarfelder, die es zu ermitteln gilt."
   ]
  },
  {
   "cell_type": "code",
   "execution_count": null,
   "metadata": {},
   "outputs": [],
   "source": [
    "def neighboring_positions(position):\n",
    "    ring, cell = position\n",
    "    \n",
    "    left_neighbor  = (ring, (cell - 1) % 8)\n",
    "    right_neighbor = (ring, (cell + 1) % 8)\n",
    "        \n",
    "    positions = [left_neighbor, right_neighbor]\n",
    "        \n",
    "    if cell in (1, 3, 5, 7):\n",
    "        if ring in (0, 2) :\n",
    "            positions.append((1, cell))\n",
    "        else:\n",
    "            positions.append((ring - 1, cell))\n",
    "            positions.append((ring + 1, cell))\n",
    "    return positions"
   ]
  },
  {
   "cell_type": "markdown",
   "metadata": {},
   "source": [
    "`player_pieces()` gibt eine Liste mit allen Positionen eines zu übergebenden Spielers zurück."
   ]
  },
  {
   "cell_type": "code",
   "execution_count": null,
   "metadata": {},
   "outputs": [],
   "source": [
    "def player_pieces(state, player):\n",
    "    [_, board] = state\n",
    "    return [(ring, cell) for ring in range(3)\n",
    "                        for cell in range(8)\n",
    "                        if  board[ring][cell] == player\n",
    "           ]"
   ]
  },
  {
   "cell_type": "markdown",
   "metadata": {},
   "source": [
    "`opponent()` gibt den Gegner des übergebenen Spielers zurück."
   ]
  },
  {
   "cell_type": "code",
   "execution_count": null,
   "metadata": {},
   "outputs": [],
   "source": [
    "def opponent(player):\n",
    "    return 3 - player"
   ]
  },
  {
   "cell_type": "markdown",
   "metadata": {},
   "source": [
    "`is_movable()` gibt für einen übergebenen Stein an, ob dieser noch verschiebbar ist."
   ]
  },
  {
   "cell_type": "code",
   "execution_count": null,
   "metadata": {},
   "outputs": [],
   "source": [
    "def is_movable(state, position):\n",
    "    neighboring = set(neighboring_positions(position))\n",
    "    for (ring, cell) in neighboring:\n",
    "        if state[1][ring][cell] == 0:\n",
    "            return True\n",
    "    return False"
   ]
  },
  {
   "cell_type": "markdown",
   "metadata": {},
   "source": [
    "## Mühlen\n",
    "`find_mills()` gibt alle Mühlen zurück, die ein Spieler auf dem übergebenen Spielbrett hat\n",
    "Dazu werden zunächst alle Mühlen identifiziert, die auf dem Spielfeld zu finden sind. Hierzu werden in der ersten Schleife alle Mühlen ermittelt, die sich auf den Ringen befinden. Die zweite Schleife erkennt alle Mühlen, die sich vertikal über alle Ringe erstrecken. Mühlen werden dabei als Tupel der Form ***(Spieler, Ring, Zelle)*** gespeichert. Die Zelle ist in diesem Fall die Zelle einer Mühle mit dem niedrigsten Index. Ein Unterschied besteht bei diesem Format bei den Mühlen, die vertikal verlaufen. Für diese wird der äußerste Ring mit dem Index 0 eingetragen."
   ]
  },
  {
   "cell_type": "code",
   "execution_count": null,
   "metadata": {},
   "outputs": [],
   "source": [
    "def find_mills(board, player):\n",
    "    mills = set()\n",
    "    \n",
    "    for ring in range (0,3):\n",
    "        for cell in [0,2,4,6]:\n",
    "                if(board[ring][cell] == board[ring][cell+1] == board[ring][(cell+2) % 8] == player):\n",
    "                    mills.add((player, ring, cell))\n",
    "\n",
    "    for cell in [1,3,5,7]:\n",
    "        if(board[0][cell] == board[1][cell] == board[2][cell] == player):\n",
    "            mills.add((player, 0, cell))\n",
    "\n",
    "            \n",
    "    # TODO: Später ersetzen durch:\n",
    "    #for ring in range (0,3):\n",
    "    #    for cell in [0,2,4,6]:\n",
    "    #            if(state[1][ring][cell] == state[1][ring][cell+1] == state[1][ring][(cell+2) % 8] == player):\n",
    "    #                opponent_mill_stones.add((ring,cell))\n",
    "    #                opponent_mill_stones.add((ring,cell+1))\n",
    "    #                opponent_mill_stones.add((ring,(cell+2) % 8))\n",
    "    #for cell in [1,3,5,7]:\n",
    "    #    if(state[1][0][cell] == state[1][1][cell] == state[1][2][cell] == player):\n",
    "    #        opponent_mill_stones.add((0,cell))\n",
    "    #        opponent_mill_stones.add((1,cell))\n",
    "    #        opponent_mill_stones.add((2,cell))\n",
    "            \n",
    "    return mills"
   ]
  },
  {
   "cell_type": "markdown",
   "metadata": {},
   "source": [
    "`count_new_mills()` nimmt zwei Mengen von Mühlen und berechnet die Anzahl der Unterschiede zwischen `old_mills` und `new_mills`."
   ]
  },
  {
   "cell_type": "code",
   "execution_count": null,
   "metadata": {},
   "outputs": [],
   "source": [
    "def count_new_mills(old_mills, new_mills):\n",
    "    return len(new_mills.difference(old_mills))"
   ]
  },
  {
   "cell_type": "markdown",
   "metadata": {},
   "source": [
    "Die Funktion `handle_mills()` gibt die Anzahl der im letzten Zug erzeugten Mühlen für den aktuellen Spieler zurück. Hierzu darf der Spieler erst nach dem Ausführen dieser Funktion wechseln.\n",
    "\n",
    "Im ersten Abschnitt \"find all current mills on the board\" werden zunächst alle Mühlen identifiziert, die auf dem Spielfeld zu finden sind. Hierzu werden in der ersten Schleife alle Mühlen ermittelt, die sich auf den Ringen befinden. Die zweite Schleife erkennt alle Mühlen, die sich vertikal über alle Ringe erstrecken. Mühlen werden dabei als Tupel der Form ***(Spieler, Ring, Zelle)*** gespeichert. Die Zelle ist in diesem Fall die Zelle einer Mühle mit dem niedrigsten Index. Ein Unterschied besteht bei diesem Format bei den Mühlen, die vertikal verlaufen. Für diese wird der äußerste Ring mit dem Index 0 eingetragen.\n",
    "\n",
    "Da die Mühlen als Menge gespeichert werden ist es einfach möglich zu bestimmen, ob neue Mühlen entstanden sind. Wurden neue Mühlen erkannt werden durch die Differenz der bestehenden Mühlen zu den existierenden Mühlen die Anzahl der neuen Mühlen bestimmt. Diese Anzahl wird zurückgegeben und die Menge der Mühlen in der Game-Klassen-Instanz aktualisiert.\n"
   ]
  },
  {
   "cell_type": "code",
   "execution_count": null,
   "metadata": {},
   "outputs": [],
   "source": [
    "#TODO: Später löschen\n",
    "def handle_mills(game):\n",
    "    state = game.state\n",
    "    player = game.current_player\n",
    "    old_mills = game.mills\n",
    "    new_mills = set()\n",
    "    current_player_mills = set()\n",
    "\n",
    "    #find all current mills on the board\n",
    "    for ring in range (0,3):\n",
    "        for cell in [0,2,4,6]:\n",
    "            if(state[1][ring][cell] == state[1][ring][cell + 1] == state[1][ring][(cell + 2) % 8] != 0):\n",
    "                new_mills.add((state[1][ring][cell], ring ,cell))\n",
    "\n",
    "    for cell in [1,3,5,7]:\n",
    "        if(state[1][0][cell] == state[1][1][cell] == state[1][2][cell] != 0):\n",
    "            new_mills.add((state[1][0][cell], 0 ,cell))\n",
    "\n",
    "    #set new mills\n",
    "    game.mills = new_mills   \n",
    "            \n",
    "    #if the current mills are the same mills as the old ones or there are now less mills on the board => no new mills\n",
    "    if(old_mills == new_mills or len(old_mills) > len(new_mills)):\n",
    "        return(0)\n",
    "\n",
    "    new_mills = new_mills.difference(old_mills) #new_mills are now really the new Mills\n",
    "\n",
    "    #pics mills that belong to the current player \n",
    "    for (mill_owner, ring, cell) in new_mills:\n",
    "        if mill_owner == player:\n",
    "            current_player_mills.add((mill_owner, ring, cell))\n",
    "\n",
    "    return len(current_player_mills) #returns count of new mills for the current player"
   ]
  },
  {
   "cell_type": "markdown",
   "metadata": {},
   "source": [
    "`get_opponent_beatable_stones()` gibt eine Liste mit entfernbaren Steinen des Gegners zurück. Dies ist notwendig, wenn auf Grund des Bildens einer Mühle Steine des Gegners entfernt werden dürfen. Laut den Regeln dürfen keine Steine aus Mühlen entfernt werden, es sei denn, alle Steine des Gegners sind in Mühlen. \n",
    "Dazu werden alle Mühlsteine des Gegners in einer Menge gespeichert. Anschließend wird geprüft, welche Steine nicht in einer Mühle sind und diese in einer Liste zurückgegeben. Ist die Liste jedoch leer, werden alle Steine des Gegners zurückgegeben."
   ]
  },
  {
   "cell_type": "code",
   "execution_count": null,
   "metadata": {},
   "outputs": [],
   "source": [
    "def get_opponent_beatable_stones(state, current_player):\n",
    "    opponent_player = opponent(current_player)\n",
    "    opponent_mill_stones = set()\n",
    "\n",
    "    #find all opponent_mill_stones | wenn ein Stein in einer Mühle ist, darf er nicht entfernt werden\n",
    "    _,board = state\n",
    "\n",
    "    #TODO: später ersetzen durch\n",
    "    #opponent_mill_stones = [[ring, cell] for ring, cell in mill for mill in find_mills(state, opponent_player)]\n",
    "    for ring in range (0, 3):\n",
    "        for cell in [0, 2, 4, 6]:\n",
    "                if(board[ring][cell] == board[ring][cell+1] == board[ring][(cell+2) % 8] == opponent_player):\n",
    "                    opponent_mill_stones.add((ring, cell))\n",
    "                    opponent_mill_stones.add((ring, cell + 1))\n",
    "                    opponent_mill_stones.add((ring, (cell + 2) % 8))\n",
    "    for cell in [1, 3, 5, 7]:\n",
    "        if(board[0][cell] == board[1][cell] == board[2][cell] == opponent_player):\n",
    "            opponent_mill_stones.add((0, cell))\n",
    "            opponent_mill_stones.add((1, cell))\n",
    "            opponent_mill_stones.add((2, cell))\n",
    "    \n",
    "    opponent_stones = player_pieces(state, opponent_player)\n",
    "    beatable_stones = [piece for piece in opponent_stones if piece not in opponent_mill_stones ]\n",
    "    \n",
    "    if len(beatable_stones) == 0: #falls kein anderer Stein geschlagen werden kann, dürfen auch Steine in Mühlen geschlagen werden\n",
    "        return list(opponent_stones)\n",
    "    return beatable_stones"
   ]
  },
  {
   "cell_type": "markdown",
   "metadata": {},
   "source": [
    "`beat_stones()` gibt alle möglichen Spielfelder zurück, nachdem eine bestimmte Anzahl an gegnerischen Steinen (`count`) entfernt wurde"
   ]
  },
  {
   "cell_type": "code",
   "execution_count": null,
   "metadata": {},
   "outputs": [],
   "source": [
    "def beat_stones(board, count, player):\n",
    "    if count <= 0: return [board]\n",
    "    \n",
    "    boards = []\n",
    "    beatable_stones = get_opponent_beatable_stones([[0, 0], board], player)\n",
    "    for ring, cell in beatable_stones:\n",
    "        new_board = copy.deepcopy(board)\n",
    "        new_board[ring][cell] = 0\n",
    "        boards.extend(beat_stones(new_board, count - 1, player))\n",
    "    \n",
    "    # Duplikate entfernen\n",
    "    # TODO: eventuell geht das noch schöner\n",
    "    result = []\n",
    "    for board in boards:\n",
    "        if board not in result:\n",
    "            result.append(board)\n",
    "    return result"
   ]
  },
  {
   "cell_type": "code",
   "execution_count": null,
   "metadata": {},
   "outputs": [],
   "source": []
  }
 ],
 "metadata": {
  "kernelspec": {
   "display_name": "Python 3",
   "language": "python",
   "name": "python3"
  },
  "language_info": {
   "codemirror_mode": {
    "name": "ipython",
    "version": 3
   },
   "file_extension": ".py",
   "mimetype": "text/x-python",
   "name": "python",
   "nbconvert_exporter": "python",
   "pygments_lexer": "ipython3",
   "version": "3.7.9"
  }
 },
 "nbformat": 4,
 "nbformat_minor": 4
}
