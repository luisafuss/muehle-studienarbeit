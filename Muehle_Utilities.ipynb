{
 "cells": [
  {
   "cell_type": "markdown",
   "metadata": {},
   "source": [
    "## Hilfsfunktionen\n",
    "Im folgenden sollen Funktionen implementiert werden, die an verschiedenen Stellen in der Entwicklung des Mühlespiels genutzt werden können. Dazu sind sie so einfach wie möglich gehalten."
   ]
  },
  {
   "cell_type": "markdown",
   "metadata": {},
   "source": [
    "`count_player_pieces()` zählt die Steine, die ein anzugebender Spieler gerade auf dem Spielfeld hat."
   ]
  },
  {
   "cell_type": "code",
   "execution_count": null,
   "metadata": {},
   "outputs": [],
   "source": [
    "def count_player_pieces(pieces, player):\n",
    "    [_, board] = pieces\n",
    "    return [position for ring in board for position in ring].count(player)"
   ]
  },
  {
   "cell_type": "markdown",
   "metadata": {},
   "source": [
    "`empty_positions()` gibt eine Liste mit Tupeln zurück. Jedes Tupel beschreibt eine Stelle auf dem Spielfeld, auf der kein Spielstein steht. So erhält man alle leeren Positionen."
   ]
  },
  {
   "cell_type": "code",
   "execution_count": null,
   "metadata": {},
   "outputs": [],
   "source": [
    "def empty_positions(pieces):\n",
    "    [_, board] = pieces\n",
    "    return [(ring, cell) for ring in range(3)\n",
    "                        for cell in range(8)\n",
    "                        if  board[ring][cell] == 0 \n",
    "           ]"
   ]
  },
  {
   "cell_type": "markdown",
   "metadata": {},
   "source": [
    "`neighboring_positions()` liefert für eine gegebene Position auf dem Spielfeld alle benachbarten Felder. Die Position wird dabei in der der Form `(ring, cell)` übergeben. Je nachdem wo sich die übergebene Stelle befindet, hat sie 2, 3 oder 4 Nachbarfelder, die es zu ermitteln gilt."
   ]
  },
  {
   "cell_type": "code",
   "execution_count": null,
   "metadata": {},
   "outputs": [],
   "source": [
    "def neighboring_positions(position):\n",
    "    ring, cell = position\n",
    "    if cell == 0:\n",
    "        left_neighbor = (ring, 7)\n",
    "    else:\n",
    "        left_neighbor = (ring, cell - 1)\n",
    "    if cell == 7:\n",
    "        right_neighbor = (ring, 0)\n",
    "    else:\n",
    "        right_neighbor = (ring, cell + 1)\n",
    "        \n",
    "    positions = [left_neighbor, right_neighbor]\n",
    "        \n",
    "    if cell in (1, 3, 5, 7):\n",
    "        if ring in (0, 2) :\n",
    "            positions.append((1, cell))\n",
    "        else:\n",
    "            positions.append((ring - 1, cell))\n",
    "            positions.append((ring + 1, cell))\n",
    "    return positions"
   ]
  },
  {
   "cell_type": "markdown",
   "metadata": {},
   "source": [
    "`player_pieces()` gibt eine Liste mit allen Positionen eines zu übergebenden Spielers zurück."
   ]
  },
  {
   "cell_type": "code",
   "execution_count": null,
   "metadata": {},
   "outputs": [],
   "source": [
    "def player_pieces(pieces, player):\n",
    "    [_, board] = pieces\n",
    "    return [(ring, cell) for ring in range(3)\n",
    "                        for cell in range(8)\n",
    "                        if  board[ring][cell] == player\n",
    "           ]"
   ]
  },
  {
   "cell_type": "markdown",
   "metadata": {},
   "source": [
    "`opponent()` gibt den Gegner des übergebenen Spielers zurück."
   ]
  },
  {
   "cell_type": "code",
   "execution_count": null,
   "metadata": {},
   "outputs": [],
   "source": [
    "def opponent(player):\n",
    "    return 2 if (player == 1) else 1"
   ]
  },
  {
   "cell_type": "markdown",
   "metadata": {},
   "source": [
    "`is_movable()` gibt für einen übergebenen Stein an, dieser noch verschiebbar ist."
   ]
  },
  {
   "cell_type": "code",
   "execution_count": null,
   "metadata": {},
   "outputs": [],
   "source": [
    "def is_movable(pieces, position):\n",
    "    neighboring = set(neighboring_positions(position))\n",
    "    empty = set(empty_positions(pieces))\n",
    "    movable = len(neighboring.intersection(empty)) > 0\n",
    "    return movable"
   ]
  },
  {
   "cell_type": "code",
   "execution_count": null,
   "metadata": {},
   "outputs": [],
   "source": []
  }
 ],
 "metadata": {
  "kernelspec": {
   "display_name": "Python 3",
   "language": "python",
   "name": "python3"
  },
  "language_info": {
   "codemirror_mode": {
    "name": "ipython",
    "version": 3
   },
   "file_extension": ".py",
   "mimetype": "text/x-python",
   "name": "python",
   "nbconvert_exporter": "python",
   "pygments_lexer": "ipython3",
   "version": "3.8.3"
  }
 },
 "nbformat": 4,
 "nbformat_minor": 4
}
