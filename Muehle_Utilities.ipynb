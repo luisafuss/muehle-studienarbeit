{
 "cells": [
  {
   "cell_type": "markdown",
   "metadata": {},
   "source": [
    "## Hilfsfunktionen"
   ]
  },
  {
   "cell_type": "code",
   "execution_count": null,
   "metadata": {},
   "outputs": [],
   "source": [
    "def count_player_pieces(pieces, player):\n",
    "    [_, board] = pieces\n",
    "    return [position for ring in board for position in ring].count(player)"
   ]
  },
  {
   "cell_type": "code",
   "execution_count": null,
   "metadata": {},
   "outputs": [],
   "source": [
    "def empty_positions(pieces):\n",
    "    [_, board] = pieces\n",
    "    return [(ring, cell) for ring in range(3)\n",
    "                        for cell in range(8)\n",
    "                        if  board[ring][cell] == 0 \n",
    "           ]"
   ]
  },
  {
   "cell_type": "code",
   "execution_count": null,
   "metadata": {},
   "outputs": [],
   "source": [
    "# position = (ring, cell)\n",
    "def neighboring_positions(position):\n",
    "    ring, cell = position\n",
    "    if cell == 0:\n",
    "        left_neighbor = (ring, 7)\n",
    "    else:\n",
    "        left_neighbor = (ring, cell - 1)\n",
    "    if cell == 7:\n",
    "        right_neighbor = (ring, 0)\n",
    "    else:\n",
    "        right_neighbor = (ring, cell + 1)\n",
    "        \n",
    "    positions = [left_neighbor, right_neighbor]\n",
    "        \n",
    "    if cell in (1, 3, 5, 7):\n",
    "        if ring in (0, 2) :\n",
    "            positions.append((1, cell))\n",
    "        else:\n",
    "            positions.append((ring - 1, cell))\n",
    "            positions.append((ring + 1, cell))\n",
    "    return positions"
   ]
  },
  {
   "cell_type": "markdown",
   "metadata": {},
   "source": [
    "Gibt eine Liste mit allen Positionen eines Spielers zurück"
   ]
  },
  {
   "cell_type": "code",
   "execution_count": null,
   "metadata": {},
   "outputs": [],
   "source": [
    "def player_pieces(pieces, player):\n",
    "    [_, board] = pieces\n",
    "    player_pieces = list()\n",
    "    for ring in range(3):\n",
    "        for cell in range(8):\n",
    "            if board[ring][cell] == player:\n",
    "                player_pieces.append((ring, cell))\n",
    "    return player_pieces"
   ]
  },
  {
   "cell_type": "markdown",
   "metadata": {},
   "source": [
    "Gibt den Gegner des übergebenen Spielers zurück"
   ]
  },
  {
   "cell_type": "code",
   "execution_count": null,
   "metadata": {},
   "outputs": [],
   "source": [
    "def opponent(player):\n",
    "    return 2 if (player == 1) else 1"
   ]
  },
  {
   "cell_type": "markdown",
   "metadata": {},
   "source": [
    "Gibt an, ob der Stein an einer bestimmten Position verschiebbar ist"
   ]
  },
  {
   "cell_type": "code",
   "execution_count": null,
   "metadata": {},
   "outputs": [],
   "source": [
    "def is_movable(pieces, position):\n",
    "    neighboring = set(neighboring_positions(position))\n",
    "    empty = set(empty_positions(pieces))\n",
    "    movable = len(neighboring.intersection(empty)) > 0\n",
    "    return movable"
   ]
  },
  {
   "cell_type": "code",
   "execution_count": null,
   "metadata": {},
   "outputs": [],
   "source": []
  }
 ],
 "metadata": {
  "kernelspec": {
   "display_name": "Python 3",
   "language": "python",
   "name": "python3"
  },
  "language_info": {
   "codemirror_mode": {
    "name": "ipython",
    "version": 3
   },
   "file_extension": ".py",
   "mimetype": "text/x-python",
   "name": "python",
   "nbconvert_exporter": "python",
   "pygments_lexer": "ipython3",
   "version": "3.8.3"
  }
 },
 "nbformat": 4,
 "nbformat_minor": 4
}