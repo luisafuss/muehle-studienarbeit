{
 "cells": [
  {
   "cell_type": "markdown",
   "metadata": {},
   "source": [
    "# Hilfsfunktionen\n",
    "Im folgenden sollen Funktionen implementiert werden, die an verschiedenen Stellen in der Entwicklung des Mühlespiels genutzt werden können. Dazu sind sie so einfach wie möglich gehalten."
   ]
  },
  {
   "cell_type": "markdown",
   "metadata": {},
   "source": [
    "`count_player_pieces()` zählt die Steine, die ein anzugebender Spieler gerade auf dem Spielfeld hat."
   ]
  },
  {
   "cell_type": "code",
   "execution_count": null,
   "metadata": {},
   "outputs": [],
   "source": [
    "def count_player_pieces(state, player):\n",
    "    return [position for ring in state[1] for position in ring].count(player)"
   ]
  },
  {
   "cell_type": "markdown",
   "metadata": {},
   "source": [
    "`empty_positions()` gibt eine Liste mit Tupeln zurück. Jedes Tupel beschreibt eine Stelle auf dem Spielfeld, auf der kein Spielstein steht. So erhält man alle leeren Positionen."
   ]
  },
  {
   "cell_type": "code",
   "execution_count": null,
   "metadata": {},
   "outputs": [],
   "source": [
    "def empty_positions(state):\n",
    "    return [(ring, cell) for ring in range(3) for cell in range(8) if state[1][ring][cell] == 0]"
   ]
  },
  {
   "cell_type": "markdown",
   "metadata": {},
   "source": [
    "`neighboring_positions()` liefert für eine gegebene Position auf dem Spielfeld alle benachbarten Felder. Die Position wird dabei in der der Form `(ring, cell)` übergeben. Je nachdem wo sich die übergebene Stelle befindet, hat sie 2, 3 oder 4 Nachbarfelder, die es zu ermitteln gilt."
   ]
  },
  {
   "cell_type": "code",
   "execution_count": null,
   "metadata": {},
   "outputs": [],
   "source": [
    "def neighboring_positions(position):\n",
    "    ring, cell = position\n",
    "    \n",
    "    left_neighbor  = (ring, (cell - 1) % 8)\n",
    "    right_neighbor = (ring, (cell + 1) % 8)\n",
    "        \n",
    "    positions = [left_neighbor, right_neighbor]\n",
    "        \n",
    "    if cell in [1, 3, 5, 7]:\n",
    "        if ring in [0, 2] :\n",
    "            positions.append((1, cell))\n",
    "        else:\n",
    "            positions.append((ring - 1, cell))\n",
    "            positions.append((ring + 1, cell))\n",
    "    return positions"
   ]
  },
  {
   "cell_type": "markdown",
   "metadata": {},
   "source": [
    "`empty_neighbors()` berechnet ausgehend von einem gewählten Stein alle benachbarten leeren Felder.\n",
    "Hierfür wird ein Spielstatus, sowie die Position des ausgewählten Steines mit ring und cell übergeben. Zurückgegeben wird eine Liste der möglichen Position, auf die gezogen werden kann."
   ]
  },
  {
   "cell_type": "code",
   "execution_count": null,
   "metadata": {},
   "outputs": [],
   "source": [
    "def empty_neighbors(state, ring, cell):\n",
    "    neighboring = set(neighboring_positions((ring, cell)))\n",
    "    empty = set(empty_positions(state))\n",
    "    empty_neighbors = neighboring.intersection(empty)\n",
    "    return list(empty_neighbors)"
   ]
  },
  {
   "cell_type": "markdown",
   "metadata": {},
   "source": [
    "`player_pieces()` gibt eine Liste mit allen Positionen eines zu übergebenden Spielers zurück."
   ]
  },
  {
   "cell_type": "code",
   "execution_count": null,
   "metadata": {},
   "outputs": [],
   "source": [
    "def player_pieces(state, player):\n",
    "    return [(ring, cell) for ring in range(3) for cell in range(8) if state[1][ring][cell] == player]"
   ]
  },
  {
   "cell_type": "markdown",
   "metadata": {},
   "source": [
    "`opponent()` gibt den Gegner des übergebenen Spielers zurück."
   ]
  },
  {
   "cell_type": "code",
   "execution_count": null,
   "metadata": {},
   "outputs": [],
   "source": [
    "def opponent(player):\n",
    "    return 3 - player"
   ]
  },
  {
   "cell_type": "markdown",
   "metadata": {},
   "source": [
    "`is_movable()` gibt für einen übergebenen Stein an, ob dieser noch verschiebbar ist."
   ]
  },
  {
   "cell_type": "code",
   "execution_count": null,
   "metadata": {},
   "outputs": [],
   "source": [
    "def is_movable(state, position):\n",
    "    neighboring = set(neighboring_positions(position))\n",
    "    for (ring, cell) in neighboring:\n",
    "        if state[1][ring][cell] == 0:\n",
    "            return True\n",
    "    return False"
   ]
  },
  {
   "cell_type": "markdown",
   "metadata": {},
   "source": [
    "## Mühlen\n",
    "`find_mills()` gibt alle Mühlen zurück, die ein Spieler auf dem übergebenen Spielbrett hat\n",
    "Dazu werden zunächst alle Mühlen identifiziert, die auf dem Spielfeld zu finden sind. Hierzu werden in der ersten Schleife alle Mühlen ermittelt, die sich auf den Ringen befinden. Die zweite Schleife erkennt alle Mühlen, die sich vertikal über alle Ringe erstrecken. Mühlen werden dabei als Tupel der Form `((ring 1, cell 1), (ring 2, cell 2), (ring 3, cell 3))` gespeichert."
   ]
  },
  {
   "cell_type": "code",
   "execution_count": null,
   "metadata": {},
   "outputs": [],
   "source": [
    "def find_mills(board, player):\n",
    "    mills = set()\n",
    "\n",
    "    for ring in range (0,3):\n",
    "        for cell in [0,2,4,6]:\n",
    "            if(board[ring][cell] == board[ring][cell + 1] == board[ring][(cell + 2) % 8] == player):\n",
    "                mills.add(((ring, cell), (ring, cell + 1), (ring, (cell + 2) % 8)))\n",
    "    for cell in [1,3,5,7]:\n",
    "        if(board[0][cell] == board[1][cell] == board[2][cell] == player):\n",
    "            mills.add(((0, cell), (1, cell), (2, cell)))            \n",
    "    return mills"
   ]
  },
  {
   "cell_type": "markdown",
   "metadata": {},
   "source": [
    "`count_new_mills()` nimmt zwei Mengen von Mühlen und berechnet die Anzahl der Unterschiede zwischen `old_mills` und `new_mills`."
   ]
  },
  {
   "cell_type": "code",
   "execution_count": null,
   "metadata": {},
   "outputs": [],
   "source": [
    "def count_new_mills(old_mills, new_mills):\n",
    "    return len(new_mills.difference(old_mills))"
   ]
  },
  {
   "cell_type": "markdown",
   "metadata": {},
   "source": [
    "`get_opponent_beatable_pieces()` gibt eine Liste mit entfernbaren Steinen des Gegners zurück. Dies ist notwendig, wenn auf Grund des Bildens einer Mühle Steine des Gegners entfernt werden dürfen. Laut den Regeln dürfen keine Steine aus Mühlen entfernt werden, es sei denn, alle Steine des Gegners sind in Mühlen. \n",
    "Dazu werden alle Steine sowie alle Mühlsteine des Gegners ermittelt. Die schlagbaren Steine sind die Steine des Spielers ohne dessen Mühlsteine. Ist das Ergebnis jedoch leer, werden alle Steine des Gegners zurückgegeben, da laut den offiziellen Regeln in disem Fall auch Steine aus Mühlen entfernt werden können."
   ]
  },
  {
   "cell_type": "code",
   "execution_count": null,
   "metadata": {},
   "outputs": [],
   "source": [
    "def get_opponent_beatable_pieces(state, current_player):\n",
    "    opponent_player = opponent(current_player)\n",
    "\n",
    "    opponent_mill_pieces = [(ring, cell) for mill in find_mills(state[1], opponent_player) for (ring, cell) in mill]\n",
    "    opponent_pieces      = player_pieces(state, opponent_player)\n",
    "    beatable_pieces      = [piece for piece in opponent_pieces if piece not in opponent_mill_pieces ]\n",
    "    \n",
    "    if len(beatable_pieces) == 0:\n",
    "        return list(opponent_pieces)\n",
    "    return beatable_pieces"
   ]
  },
  {
   "cell_type": "markdown",
   "metadata": {},
   "source": [
    "`beat_pieces()` gibt alle möglichen Spielfelder zurück, nachdem eine bestimmte Anzahl an gegnerischen Steinen (`count`) entfernt wurde"
   ]
  },
  {
   "cell_type": "code",
   "execution_count": null,
   "metadata": {},
   "outputs": [],
   "source": [
    "def beat_pieces(board, count, player):\n",
    "    if count <= 0: return [board]\n",
    "    \n",
    "    boards = []\n",
    "    beatable_pieces = get_opponent_beatable_pieces([[0, 0], board], player)\n",
    "    for ring, cell in beatable_pieces:\n",
    "        new_board = copy.deepcopy(board)\n",
    "        new_board[ring][cell] = 0\n",
    "        boards.extend(beat_pieces(new_board, count - 1, player))\n",
    "    \n",
    "    # Duplikate entfernen\n",
    "    # TODO: eventuell geht das noch schöner\n",
    "    result = []\n",
    "    for board in boards:\n",
    "        if board not in result:\n",
    "            result.append(board)\n",
    "    return result"
   ]
  },
  {
   "cell_type": "markdown",
   "metadata": {},
   "source": [
    "Die Funktion `to_tupel()` wandelt einen übergebenen Spielstatus in Tupelform um."
   ]
  },
  {
   "cell_type": "code",
   "execution_count": 2,
   "metadata": {},
   "outputs": [],
   "source": [
    "def to_tupel(state):\n",
    "    return ((state[0][0], state[0][1]), (\n",
    "                (state[1][0][0],state[1][0][1],state[1][0][2],state[1][0][3],state[1][0][4],state[1][0][5],state[1][0][6],state[1][0][7]),\n",
    "                (state[1][1][0],state[1][1][1],state[1][1][2],state[1][1][3],state[1][1][4],state[1][1][5],state[1][1][6],state[1][1][7]),\n",
    "                (state[1][2][0],state[1][2][1],state[1][2][2],state[1][2][3],state[1][2][4],state[1][2][5],state[1][2][6],state[1][2][7])\n",
    "            ))"
   ]
  },
  {
   "cell_type": "markdown",
   "metadata": {},
   "source": [
    "Die Funktion `to_list()` wandelt einen übergebenen Spielstatus in Listenform um."
   ]
  },
  {
   "cell_type": "code",
   "execution_count": 3,
   "metadata": {},
   "outputs": [],
   "source": [
    "\n",
    "def to_list(state):\n",
    "    return [[state[0][0], state[0][1]], [\n",
    "                [state[1][0][0],state[1][0][1],state[1][0][2],state[1][0][3],state[1][0][4],state[1][0][5],state[1][0][6],state[1][0][7]],\n",
    "                [state[1][1][0],state[1][1][1],state[1][1][2],state[1][1][3],state[1][1][4],state[1][1][5],state[1][1][6],state[1][1][7]],\n",
    "                [state[1][2][0],state[1][2][1],state[1][2][2],state[1][2][3],state[1][2][4],state[1][2][5],state[1][2][6],state[1][2][7]]\n",
    "    ]]"
   ]
  }
 ],
 "metadata": {
  "kernelspec": {
   "display_name": "Python 3",
   "language": "python",
   "name": "python3"
  },
  "language_info": {
   "codemirror_mode": {
    "name": "ipython",
    "version": 3
   },
   "file_extension": ".py",
   "mimetype": "text/x-python",
   "name": "python",
   "nbconvert_exporter": "python",
   "pygments_lexer": "ipython3",
   "version": "3.7.9"
  }
 },
 "nbformat": 4,
 "nbformat_minor": 4
}
