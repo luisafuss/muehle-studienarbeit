{
 "cells": [
  {
   "cell_type": "markdown",
   "metadata": {},
   "source": [
    "# Herzlich Willkommen bei unserem Mühle-Spiel!"
   ]
  },
  {
   "cell_type": "code",
   "execution_count": 1,
   "metadata": {},
   "outputs": [
    {
     "data": {
      "application/vnd.jupyter.widget-view+json": {
       "model_id": "c344b79249f347f98856553c80ffbb81",
       "version_major": 2,
       "version_minor": 0
      },
      "text/plain": [
       "Canvas(height=50, width=100)"
      ]
     },
     "metadata": {},
     "output_type": "display_data"
    }
   ],
   "source": [
    "from ipycanvas import Canvas\n",
    "\n",
    "canvas = Canvas(width=100, height=50)\n",
    "\n",
    "def perform_drawings():\n",
    "    canvas.font = '32px serif'\n",
    "    canvas.fill_text('Voilà!', 10, 32)\n",
    "\n",
    "canvas.on_client_ready(perform_drawings)\n",
    "\n",
    "canvas"
   ]
  },
  {
   "cell_type": "code",
   "execution_count": 2,
   "metadata": {},
   "outputs": [
    {
     "data": {
      "text/html": [
       "<style>\n",
       ".container { width:100% }\n",
       "</style>\n"
      ],
      "text/plain": [
       "<IPython.core.display.HTML object>"
      ]
     },
     "metadata": {},
     "output_type": "display_data"
    },
    {
     "data": {
      "text/html": [
       "<style>\n",
       ".container { width:100% }\n",
       "</style>\n"
      ],
      "text/plain": [
       "<IPython.core.display.HTML object>"
      ]
     },
     "metadata": {},
     "output_type": "display_data"
    },
    {
     "data": {
      "application/vnd.jupyter.widget-view+json": {
       "model_id": "ea81ec8f3a4b41888cd50db88309d0b5",
       "version_major": 2,
       "version_minor": 0
      },
      "text/plain": [
       "HBox(children=(MultiCanvas(height=400, width=400), VBox(children=(Label(value='Spieler x ist an der Reihe'), L…"
      ]
     },
     "metadata": {},
     "output_type": "display_data"
    }
   ],
   "source": [
    "%run ./Muehle_GUI.ipynb"
   ]
  },
  {
   "cell_type": "code",
   "execution_count": 3,
   "metadata": {},
   "outputs": [],
   "source": [
    "def initcanvas():\n",
    "    #board[Hintergrund, Linien, Steine]\n",
    "    #board = MultiCanvas(3, width = BOARD_SIZE, height = BOARD_SIZE)\n",
    "\n",
    "    # Hintergrund\n",
    "    board[0].fill_style = '#ffffcc'\n",
    "    board[0].fill_rect(0, 0, BOARD_SIZE)\n",
    "\n",
    "    # Strichstärke\n",
    "    board[1].line_width = 5\n",
    "\n",
    "    # Quadrate\n",
    "    board[1].stroke_rect(BOARD_SIZE*col(0), BOARD_SIZE*row(0), BOARD_SIZE*(1-row(0)-col(0))) #ring 0\n",
    "    board[1].stroke_rect(BOARD_SIZE*col(1), BOARD_SIZE*row(1), BOARD_SIZE*(1-row(1)-col(1))) #ring 1\n",
    "    board[1].stroke_rect(BOARD_SIZE*col(2), BOARD_SIZE*row(2), BOARD_SIZE*(1-row(2)-col(2))) #ring 2\n",
    "\n",
    "    # Mittelinien\n",
    "    board[1].begin_path()\n",
    "    board[1].move_to(BOARD_SIZE*col(3), BOARD_SIZE*row(0)) #oben\n",
    "    board[1].line_to(BOARD_SIZE*col(3), BOARD_SIZE*row(2))\n",
    "    board[1].move_to(BOARD_SIZE*col(6), BOARD_SIZE*row(3)) #rechts\n",
    "    board[1].line_to(BOARD_SIZE*col(4), BOARD_SIZE*row(3))\n",
    "    board[1].move_to(BOARD_SIZE*col(3), BOARD_SIZE*row(6)) #unten\n",
    "    board[1].line_to(BOARD_SIZE*col(3), BOARD_SIZE*row(4))\n",
    "    board[1].move_to(BOARD_SIZE*col(0), BOARD_SIZE*row(3)) #links\n",
    "    board[1].line_to(BOARD_SIZE*col(2), BOARD_SIZE*row(3))\n",
    "    board[1].stroke()\n",
    "\n",
    "    # Punkte (außen, mitte, innen)\n",
    "    for ring in positions:\n",
    "        for x,y in ring:\n",
    "            board[1].fill_arc(BOARD_SIZE*x, BOARD_SIZE*y, DOT_RADIUS, 0, 360)"
   ]
  },
  {
   "cell_type": "code",
   "execution_count": 4,
   "metadata": {},
   "outputs": [
    {
     "data": {
      "application/vnd.jupyter.widget-view+json": {
       "model_id": "1d0408b1085340f8af9a74060d53c520",
       "version_major": 2,
       "version_minor": 0
      },
      "text/plain": [
       "MultiCanvas(height=400, width=400)"
      ]
     },
     "metadata": {},
     "output_type": "display_data"
    }
   ],
   "source": [
    "board = MultiCanvas(3, width = BOARD_SIZE, height = BOARD_SIZE)\n",
    "board[0].fill_style = '#ffffcc'\n",
    "board[0].fill_rect(0, 0, BOARD_SIZE)\n",
    "board.on_client_ready(initcanvas)\n",
    "board"
   ]
  },
  {
   "cell_type": "code",
   "execution_count": 5,
   "metadata": {},
   "outputs": [
    {
     "data": {
      "application/vnd.jupyter.widget-view+json": {
       "model_id": "03626e2b41d44f519a55e00185ee45d1",
       "version_major": 2,
       "version_minor": 0
      },
      "text/plain": [
       "HBox(children=(MultiCanvas(height=400, width=400), VBox(children=(Label(value='Spieler 1 (Weiß) an der Reihe.'…"
      ]
     },
     "metadata": {},
     "output_type": "display_data"
    }
   ],
   "source": [
    "update_board(game)"
   ]
  },
  {
   "cell_type": "code",
   "execution_count": null,
   "metadata": {},
   "outputs": [],
   "source": []
  }
 ],
 "metadata": {
  "kernelspec": {
   "display_name": "Python 3",
   "language": "python",
   "name": "python3"
  },
  "language_info": {
   "codemirror_mode": {
    "name": "ipython",
    "version": 3
   },
   "file_extension": ".py",
   "mimetype": "text/x-python",
   "name": "python",
   "nbconvert_exporter": "python",
   "pygments_lexer": "ipython3",
   "version": "3.8.3"
  }
 },
 "nbformat": 4,
 "nbformat_minor": 4
}
