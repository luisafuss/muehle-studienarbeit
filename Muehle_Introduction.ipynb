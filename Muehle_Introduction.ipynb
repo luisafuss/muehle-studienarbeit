{
 "cells": [
  {
   "cell_type": "markdown",
   "id": "arabic-orchestra",
   "metadata": {},
   "source": [
    "<img src=\"logo_dhbw.jpg\" alt=\"Logo DHBW\">"
   ]
  },
  {
   "cell_type": "markdown",
   "id": "constant-battlefield",
   "metadata": {},
   "source": [
    "**<center>THEMA STUDIENARBEIT</center>**"
   ]
  },
  {
   "cell_type": "markdown",
   "id": "coastal-public",
   "metadata": {},
   "source": [
    "<center>Entwicklung einer Künstlichen Intelligenz für das Brett-Spiel \"Mühle\"</center>"
   ]
  },
  {
   "cell_type": "markdown",
   "id": "variable-antibody",
   "metadata": {},
   "source": [
    "<center>im Studiengang</center>"
   ]
  },
  {
   "cell_type": "markdown",
   "id": "convertible-cover",
   "metadata": {},
   "source": [
    "<center>Angewandte Informatik</center>"
   ]
  },
  {
   "cell_type": "markdown",
   "id": "traditional-ethnic",
   "metadata": {},
   "source": [
    "<center>an der Duale Hochschule Baden-Württemberg Mannheim</center>"
   ]
  },
  {
   "cell_type": "markdown",
   "id": "black-david",
   "metadata": {},
   "source": [
    "<center>von</center>"
   ]
  },
  {
   "cell_type": "markdown",
   "id": "quality-reaction",
   "metadata": {},
   "source": [
    "-|- \n",
    ":--|:--\n",
    "Name, Vorname | Fuß, Luisa und Retzbach, Julian\n",
    "Abgabedatum | 05. Mai 2021\n",
    "Bearbeitungszeitraum | 28. September 2020 bis 05. Mai 2021\n",
    "Matrikelnummer, Kurs | 5136331, 9057038, TINF18AI2\n",
    "Ausbildungsfirma | Roche Diagnostics GmbH, VS Vereinigte Spezialmöbelfabriken\n",
    "Wissenschaftlicher Betreuer | Professor Dr. Karl Stroetmann\n",
    "Unterschrift Betreuer |___________________"
   ]
  },
  {
   "cell_type": "markdown",
   "id": "occupational-holiday",
   "metadata": {},
   "source": [
    "## Eidesstaatliche Erklärung \n",
    " \n",
    "Ich versichere hiermit, dass ich meine Projektarbeit mit dem Thema <br>\n",
    "<center>Entwicklung einer Künstlichen Intelligenz für das Brett-Spiel \"Mühle\"</center>\n",
    "selbstständig verfasst und keine anderen als die angegebenen Quellen und Hilfsmittel benutzt habe. \n",
    "Ich  versichere  zudem,  dass  die  eingereichte  elektronische  Fassung  mit  der  gedruckten  Fassung \n",
    "übereinstimmt.  \n",
    " \n",
    " \n",
    " \n",
    "Mannheim, 05.05.2021                     ________________                 \n",
    "Ort, Datum                         Unterschrift "
   ]
  },
  {
   "cell_type": "markdown",
   "id": "speaking-methodology",
   "metadata": {},
   "source": [
    "## Aufgabenstellung\n",
    "Das Spiel Mühle ist ein bekanntes Brettspiel, das sich aufgrund der vergleichsweise einfachen Regeln ohne allzu großen Aufwand implementieren lässt. Ziel der Arbeit ist die Entwicklung eines Jupyter-Notebooks, in dem das Mühle-Spiel implementiert wird. Das Spiel soll mit Hilfe der Sprache Python implementiert werden. Die grafische Oberfläche soll mit Hilfe von ipywidgets und ipycanvas gestaltet werden.\n",
    "\n",
    "Die eigentliche Spiellogik soll mit Hilfe von alpha-beta-Pruning implementiert werden. Zusätzlich sollten Transpositions-Tabellen verwendet werden. Diese Verfahren sind in dem Skript zur KI dokumentiert.\n",
    "\n",
    "Ziel der Arbeit ist die Erstellung eines gut dokumentierten Programms, an Hand dessen die verschiedenen Techniken bei der Erstellung einer Spiele-KI im Rahmen der KI-Vorlesung vorgestellt werden können."
   ]
  },
  {
   "cell_type": "markdown",
   "id": "steady-institute",
   "metadata": {},
   "source": [
    "## Regeln Mühlespiel"
   ]
  },
  {
   "cell_type": "markdown",
   "id": "actual-danish",
   "metadata": {},
   "source": [
    "## Einrichten der Entwicklungsumgebung\n",
    "### erstes Mal\n",
    "Zunächst sollte das Projekt geklont werden. Der Link zum GitHub Repository ist https://github.com/luisafuss/muehle-studienarbeit. Darin enthalten ist die Datei `environment.yml`, die genutzt werden kann, um eine virtuelle Umgebung inklusive aller benötigen Libraries zu erhalten.\n",
    "\n",
    "Um das Environment zu erstellen, muss im Projektordner über die Anaconda Prompt folgender Befehl aufgerufen werden:\n",
    "\n",
    "```\n",
    "conda env create -f environment.yml\n",
    "```\n",
    "\n",
    "Alternativ steht auch die Datei `requirements.txt` zur Verfügung.\n",
    "### jedes Mal\n",
    "Die eingerichtete Umgebung kann mit Hilfe des folgenden Befehls aktiviert werden:\n",
    "```\n",
    "conda activate muehle\n",
    "```\n",
    "\n",
    "Als nächstes kann Jupyter notebook mit folgendem Befehl gestartet werden:\n",
    "```\n",
    "jupyter notebook\n",
    "```\n"
   ]
  },
  {
   "cell_type": "markdown",
   "id": "south-demographic",
   "metadata": {},
   "source": [
    "## Struktur\n",
    "Das Mühle-Spiel kann über das Notebook `Muehle_Game.ipynb` gestartet werden.\n",
    "\n",
    "Zum Lesen und Verstehen der Anwendung ist folgende Reihenfolge zu empfehlen:\n",
    "**TODO** Was enthalten die Notebooks\n",
    "\n",
    "1. Einführung\n",
    "2. `Muehle_GUI.ipynb`\n",
    "3. `Muehle_Utilities.ipynb`\n",
    "4. `Muehle_Logik.ipynb`\n",
    "5. `Muehle_Heuristik.ipynb`\n",
    "6. `Muehle_Algo.ipynb`\n",
    "7. Fazit"
   ]
  }
 ],
 "metadata": {
  "kernelspec": {
   "display_name": "Python 3",
   "language": "python",
   "name": "python3"
  },
  "language_info": {
   "codemirror_mode": {
    "name": "ipython",
    "version": 3
   },
   "file_extension": ".py",
   "mimetype": "text/x-python",
   "name": "python",
   "nbconvert_exporter": "python",
   "pygments_lexer": "ipython3",
   "version": "3.7.9"
  }
 },
 "nbformat": 4,
 "nbformat_minor": 5
}
