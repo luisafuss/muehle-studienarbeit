{
 "metadata": {
  "language_info": {
   "codemirror_mode": {
    "name": "ipython",
    "version": 3
   },
   "file_extension": ".py",
   "mimetype": "text/x-python",
   "name": "python",
   "nbconvert_exporter": "python",
   "pygments_lexer": "ipython3",
   "version": "3.7.10-final"
  },
  "orig_nbformat": 2,
  "kernelspec": {
   "name": "python3",
   "display_name": "Python 3.7.10 64-bit ('ai': conda)",
   "metadata": {
    "interpreter": {
     "hash": "6aef3afc8e1df4532fc05871b69d433488f1644eaca8e0d1af5a2e1125595c9e"
    }
   }
  }
 },
 "nbformat": 4,
 "nbformat_minor": 2,
 "cells": [
  {
   "source": [
    "# Algorithmen\n",
    "\n"
   ],
   "cell_type": "markdown",
   "metadata": {}
  },
  {
   "cell_type": "code",
   "execution_count": 4,
   "metadata": {},
   "outputs": [
    {
     "output_type": "display_data",
     "data": {
      "text/plain": "<IPython.core.display.HTML object>",
      "text/html": "<style>\n.container { width:100% }\n</style>\n"
     },
     "metadata": {}
    }
   ],
   "source": [
    "%run ./Muehle_Logic.ipynb\n"
   ]
  },
  {
   "cell_type": "code",
   "execution_count": 7,
   "metadata": {},
   "outputs": [],
   "source": [
    "%run ./Muehle_Utilities.ipynb"
   ]
  },
  {
   "source": [
    "Die Funktion `memoize(f)` aus der \"Wissensbasierte Systeme\"-Vorlesung nimmt ein Argument f und gibt eine Version dieser Funktion zurück, die alle Ergebnisse der Funktion f zwischenspeichert."
   ],
   "cell_type": "markdown",
   "metadata": {}
  },
  {
   "cell_type": "code",
   "execution_count": 1,
   "metadata": {},
   "outputs": [],
   "source": [
    "def memoize(f):\n",
    "    global Cache\n",
    "    \n",
    "    def f_memoized(*args):\n",
    "        if args in Cache:\n",
    "            return Cache[args]\n",
    "        result = f(*args)\n",
    "        Cache[args] = result\n",
    "        return result\n",
    "    \n",
    "    return f_memoized"
   ]
  },
  {
   "source": [
    "## Minimax-Algorithmus"
   ],
   "cell_type": "markdown",
   "metadata": {}
  },
  {
   "cell_type": "code",
   "execution_count": 18,
   "metadata": {},
   "outputs": [],
   "source": [
    "import random\n",
    "random.seed(1)"
   ]
  },
  {
   "cell_type": "code",
   "execution_count": 11,
   "metadata": {},
   "outputs": [],
   "source": [
    "@memoize\n",
    "def value_minimax(State, player):\n",
    "    if finished(State):\n",
    "        return utility(State, player)\n",
    "    o = opponent(player)\n",
    "    return max([ -value_minimax(ns, o) for ns in next_states(State, player) ])"
   ]
  },
  {
   "cell_type": "code",
   "execution_count": 12,
   "metadata": {},
   "outputs": [],
   "source": [
    "def best_move_minimax(State, player):\n",
    "    NS        = next_states(State, player)\n",
    "    bestVal   = value_minimax(State, player)\n",
    "    BestMoves = [s for s in NS if -value_minimax(s, opponent(player)) == bestVal]\n",
    "    BestState = random.choice(BestMoves)\n",
    "    return bestVal, BestState"
   ]
  },
  {
   "source": [
    "Die Funktion `minimax(State, Player)` wurde erstellt, um die Funktion `best_move_minimax(State, player)` nach Außen eindeutiger von `alpha_beta_pruning(State, Player)` abzugrenzen."
   ],
   "cell_type": "markdown",
   "metadata": {}
  },
  {
   "cell_type": "code",
   "execution_count": 13,
   "metadata": {},
   "outputs": [],
   "source": [
    "def minimax(State, player):\n",
    "    return(best_move_minimax(State, player))"
   ]
  },
  {
   "source": [
    "## Alpha-Beta-Pruning"
   ],
   "cell_type": "markdown",
   "metadata": {}
  },
  {
   "cell_type": "code",
   "execution_count": 15,
   "metadata": {},
   "outputs": [],
   "source": [
    "Cache = {}"
   ]
  },
  {
   "source": [
    "`value_ab(State, player, alpha=-1, beta=1)` "
   ],
   "cell_type": "markdown",
   "metadata": {}
  },
  {
   "cell_type": "code",
   "execution_count": 23,
   "metadata": {},
   "outputs": [],
   "source": [
    "def value_ab(State, player, alpha=-1, beta=1):\n",
    "    global Cache\n",
    "    if State in Cache:\n",
    "        val, a, b = Cache[State]\n",
    "        if a <= alpha and beta <= b:\n",
    "            return val\n",
    "        else:\n",
    "            alpha = min(alpha, a)\n",
    "            beta  = max(beta , b)\n",
    "            val   = alphaBeta(State, player, alpha, beta)\n",
    "            Cache[State] = val, alpha, beta\n",
    "            return val\n",
    "    else:\n",
    "        val = alphaBeta(State, player, alpha, beta)\n",
    "        Cache[State] = val, alpha, beta\n",
    "        return val"
   ]
  },
  {
   "source": [
    "`alphaBeta(State, player, alpha, beta)`"
   ],
   "cell_type": "markdown",
   "metadata": {}
  },
  {
   "cell_type": "code",
   "execution_count": 20,
   "metadata": {},
   "outputs": [],
   "source": [
    "def alphaBeta(State, player, alpha, beta):\n",
    "    if finished(State):\n",
    "        return utility(State, player)\n",
    "    val = alpha\n",
    "    for ns in next_states(State, player):\n",
    "        val = max(val, -value(ns, other(player), -beta, -alpha))\n",
    "        if val >= beta:\n",
    "            return val\n",
    "        alpha = max(val, alpha)\n",
    "    return val"
   ]
  },
  {
   "cell_type": "code",
   "execution_count": 21,
   "metadata": {},
   "outputs": [],
   "source": [
    "def best_move_ab(State, player):\n",
    "    NS        = next_states(State, player)\n",
    "    bestVal   = value_ab(State, player)\n",
    "    BestMoves = [s for s in NS if -value_ab(s, opponent(player)) == bestVal]\n",
    "    BestState = random.choice(BestMoves)\n",
    "    return bestVal, BestState"
   ]
  },
  {
   "source": [
    "Die Funktion `alpha_beta_pruning(State, Player)` wurde erstellt, um die Funktion `best_move(State, player)` nach Außen eindeutiger von `minimax(State, Player)` abzugrenzen."
   ],
   "cell_type": "markdown",
   "metadata": {}
  },
  {
   "cell_type": "code",
   "execution_count": null,
   "metadata": {},
   "outputs": [],
   "source": [
    "def alpha_beta_pruning(State, player):\n",
    "    return(best_move_ab(State, player))"
   ]
  }
 ]
}