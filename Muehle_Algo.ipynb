{
 "metadata": {
  "language_info": {
   "codemirror_mode": {
    "name": "ipython",
    "version": 3
   },
   "file_extension": ".py",
   "mimetype": "text/x-python",
   "name": "python",
   "nbconvert_exporter": "python",
   "pygments_lexer": "ipython3",
   "version": "3.7.10-final"
  },
  "orig_nbformat": 2,
  "kernelspec": {
   "name": "python3",
   "display_name": "Python 3.7.10 64-bit ('ai': conda)",
   "metadata": {
    "interpreter": {
     "hash": "6aef3afc8e1df4532fc05871b69d433488f1644eaca8e0d1af5a2e1125595c9e"
    }
   }
  }
 },
 "nbformat": 4,
 "nbformat_minor": 2,
 "cells": [
  {
   "source": [
    "# Algorithmen\n",
    "\n"
   ],
   "cell_type": "markdown",
   "metadata": {}
  },
  {
   "cell_type": "code",
   "execution_count": null,
   "metadata": {},
   "outputs": [],
   "source": [
    "%run ./Muehle_Logic.ipynb\n"
   ]
  },
  {
   "cell_type": "code",
   "execution_count": null,
   "metadata": {},
   "outputs": [],
   "source": [
    "%run ./Muehle_Utilities.ipynb"
   ]
  },
  {
   "cell_type": "code",
   "execution_count": null,
   "metadata": {},
   "outputs": [],
   "source": [
    "START_STATE = [[9, 9], [          # Anzahl zu setzender Steine (Spieler_1 (Weiß), Spieler_2 (Braun))\n",
    "            [0, 0, 0, 0, 0, 0, 0, 0], # ring 0\n",
    "            [0, 0, 0, 0, 0, 0, 0, 0], # ring 1\n",
    "            [0, 0, 0, 0, 0, 0, 0, 0]  # ring 2\n",
    "      ]]\n",
    "\n",
    "def to_tupel(State):\n",
    "    return ((State[0][0], State[0][1]), (\n",
    "                (State[1][0][0],State[1][0][1],State[1][0][2],State[1][0][3],State[1][0][4],State[1][0][5],State[1][0][6],State[1][0][7]),\n",
    "                (State[1][1][0],State[1][1][1],State[1][1][2],State[1][1][3],State[1][1][4],State[1][1][5],State[1][1][6],State[1][1][7]),\n",
    "                (State[1][2][0],State[1][2][1],State[1][2][2],State[1][2][3],State[1][2][4],State[1][2][5],State[1][2][6],State[1][2][7])\n",
    "            ))\n",
    "\n",
    "def to_list(State):\n",
    "    return [[State[0][0], State[0][1]], [\n",
    "                [State[1][0][0],State[1][0][1],State[1][0][2],State[1][0][3],State[1][0][4],State[1][0][5],State[1][0][6],State[1][0][7]],\n",
    "                [State[1][1][0],State[1][1][1],State[1][1][2],State[1][1][3],State[1][1][4],State[1][1][5],State[1][1][6],State[1][1][7]],\n",
    "                [State[1][2][0],State[1][2][1],State[1][2][2],State[1][2][3],State[1][2][4],State[1][2][5],State[1][2][6],State[1][2][7]]\n",
    "    ]]\n",
    "\n",
    "to_tupel(START_STATE)\n",
    "\n",
    "to_list(to_tupel(START_STATE))"
   ]
  },
  {
   "source": [
    "Die Funktion `memoize(f)` aus der \"Wissensbasierte Systeme\"-Vorlesung nimmt ein Argument f und gibt eine Version dieser Funktion zurück, die alle Ergebnisse der Funktion f zwischenspeichert."
   ],
   "cell_type": "markdown",
   "metadata": {}
  },
  {
   "cell_type": "code",
   "execution_count": null,
   "metadata": {},
   "outputs": [],
   "source": [
    "def memoize(f):\n",
    "    global Cache\n",
    "    \n",
    "    def f_memoized(*args):\n",
    "        if args in Cache:\n",
    "            return Cache[args]\n",
    "        result = f(*args)\n",
    "        Cache[args] = result\n",
    "        return result\n",
    "    \n",
    "    return f_memoized"
   ]
  },
  {
   "source": [
    "## Minimax-Algorithmus"
   ],
   "cell_type": "markdown",
   "metadata": {}
  },
  {
   "cell_type": "code",
   "execution_count": null,
   "metadata": {},
   "outputs": [],
   "source": [
    "import random\n",
    "random.seed(1)"
   ]
  },
  {
   "source": [
    "`value_minimax(State, player)`"
   ],
   "cell_type": "markdown",
   "metadata": {}
  },
  {
   "cell_type": "code",
   "execution_count": null,
   "metadata": {},
   "outputs": [],
   "source": [
    "@memoize\n",
    "def value_minimax(State, player):\n",
    "    State = to_list(State)\n",
    "    if finished(State):\n",
    "        return utility(State, player)\n",
    "    o = opponent(player)\n",
    "    return max([ -value_minimax(to_tupel(ns), o) for ns in next_states(State, player) ])"
   ]
  },
  {
   "source": [
    "`best_move_minimax(State, player)`"
   ],
   "cell_type": "markdown",
   "metadata": {}
  },
  {
   "cell_type": "code",
   "execution_count": null,
   "metadata": {},
   "outputs": [],
   "source": [
    "def best_move_minimax(State, player):\n",
    "    NS        = next_states(State, player)\n",
    "    bestVal   = value_minimax(to_tupel(State), player)\n",
    "    BestMoves = [s for s in NS if -value_minimax(to_tupel(s), opponent(player)) == bestVal]\n",
    "    BestState = random.choice(BestMoves)\n",
    "    return bestVal, BestState"
   ]
  },
  {
   "source": [
    "Die Funktion `minimax(State, Player)` wurde erstellt, um die Funktion `best_move_minimax(State, player)` nach Außen eindeutiger von `alpha_beta_pruning(State, Player)` abzugrenzen."
   ],
   "cell_type": "markdown",
   "metadata": {}
  },
  {
   "cell_type": "code",
   "execution_count": null,
   "metadata": {},
   "outputs": [],
   "source": [
    "def minimax(State, player):\n",
    "    return(best_move_minimax(State, player))"
   ]
  },
  {
   "source": [
    "## Alpha-Beta-Pruning"
   ],
   "cell_type": "markdown",
   "metadata": {}
  },
  {
   "cell_type": "code",
   "execution_count": null,
   "metadata": {},
   "outputs": [],
   "source": [
    "Cache = {}"
   ]
  },
  {
   "source": [
    "`value_ab(State, player, alpha=-1, beta=1)` "
   ],
   "cell_type": "markdown",
   "metadata": {}
  },
  {
   "cell_type": "code",
   "execution_count": null,
   "metadata": {},
   "outputs": [],
   "source": [
    "def value_ab(State, player, alpha=-1, beta=1):\n",
    "    global Cache\n",
    "    #to_tupel\n",
    "    State = to_tupel(State)\n",
    "    if State in Cache:\n",
    "        val, a, b = Cache[State]\n",
    "        if a <= alpha and beta <= b:\n",
    "            return val\n",
    "        else:\n",
    "            alpha = min(alpha, a)\n",
    "            beta  = max(beta , b)\n",
    "            val   = alphaBeta(State, player, alpha, beta)\n",
    "            Cache[State] = val, alpha, beta\n",
    "            return val\n",
    "    else:\n",
    "        val = alphaBeta(State, player, alpha, beta)\n",
    "        Cache[State] = val, alpha, beta\n",
    "        return val"
   ]
  },
  {
   "source": [
    "`alphaBeta(State, player, alpha, beta)`"
   ],
   "cell_type": "markdown",
   "metadata": {}
  },
  {
   "cell_type": "code",
   "execution_count": null,
   "metadata": {},
   "outputs": [],
   "source": [
    "def alphaBeta(State, player, alpha, beta):\n",
    "    #tolist \n",
    "    State = to_list(State)\n",
    "    if finished(State):\n",
    "        return utility(State, player)\n",
    "    val = alpha\n",
    "    for ns in next_states(State, player):\n",
    "        val = max(val, -value_ab(ns, opponent(player), -beta, -alpha))\n",
    "        if val >= beta:\n",
    "            return val\n",
    "        alpha = max(val, alpha)\n",
    "    return val"
   ]
  },
  {
   "cell_type": "code",
   "execution_count": null,
   "metadata": {},
   "outputs": [],
   "source": [
    "def best_move_ab(State, player):\n",
    "    NS        = next_states(State, player)\n",
    "    bestVal   = value_ab(State, player)\n",
    "    BestMoves = [s for s in NS if -value_ab(s, opponent(player)) == bestVal]\n",
    "    BestState = random.choice(BestMoves)\n",
    "    return bestVal, BestState"
   ]
  },
  {
   "source": [
    "Die Funktion `alpha_beta_pruning(State, Player)` wurde erstellt, um die Funktion `best_move(State, player)` nach Außen eindeutiger von `minimax(State, Player)` abzugrenzen."
   ],
   "cell_type": "markdown",
   "metadata": {}
  },
  {
   "cell_type": "code",
   "execution_count": null,
   "metadata": {},
   "outputs": [],
   "source": [
    "def alpha_beta_pruning(State, player):\n",
    "    return(best_move_ab(State, player))"
   ]
  },
  {
   "cell_type": "code",
   "execution_count": null,
   "metadata": {},
   "outputs": [],
   "source": [
    "alpha_beta_pruning(START_STATE, 1) #maximale Suchtiefe => muss begrenzt werden!!! => heuristik!!!"
   ]
  },
  {
   "cell_type": "code",
   "execution_count": null,
   "metadata": {},
   "outputs": [],
   "source": [
    "minimax(START_STATE, 1) #funtioniert aktuell nicht"
   ]
  },
  {
   "cell_type": "code",
   "execution_count": null,
   "metadata": {},
   "outputs": [],
   "source": []
  }
 ]
}