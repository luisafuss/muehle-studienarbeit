{
 "cells": [
  {
   "cell_type": "markdown",
   "metadata": {},
   "source": [
    "# Algorithmen\n",
    "\n"
   ]
  },
  {
   "cell_type": "code",
   "execution_count": 1,
   "metadata": {},
   "outputs": [
    {
     "data": {
      "text/html": [
       "<style>\n",
       ".container { width:100% }\n",
       "</style>\n"
      ],
      "text/plain": [
       "<IPython.core.display.HTML object>"
      ]
     },
     "metadata": {},
     "output_type": "display_data"
    }
   ],
   "source": [
    "%run ./Muehle_Logic.ipynb\n"
   ]
  },
  {
   "cell_type": "code",
   "execution_count": 2,
   "metadata": {},
   "outputs": [],
   "source": [
    "%run ./Muehle_Utilities.ipynb"
   ]
  },
  {
   "cell_type": "code",
   "execution_count": 3,
   "metadata": {},
   "outputs": [
    {
     "data": {
      "text/html": [
       "<style>\n",
       ".container { width:100% }\n",
       "</style>\n"
      ],
      "text/plain": [
       "<IPython.core.display.HTML object>"
      ]
     },
     "metadata": {},
     "output_type": "display_data"
    }
   ],
   "source": [
    "%run ./Muehle_Heuristik.ipynb"
   ]
  },
  {
   "source": [
    "Die Funktion `memoize(f)` aus der \"Wissensbasierte Systeme\"-Vorlesung nimmt ein Argument f und gibt eine Version dieser Funktion zurück, die alle Ergebnisse der Funktion f zwischenspeichert."
   ]
  },
  {
   "cell_type": "code",
   "execution_count": 5,
   "metadata": {},
   "outputs": [],
   "source": [
    "def memoize(f):\n",
    "    global Cache\n",
    "    \n",
    "    def f_memoized(*args):\n",
    "        key = (args[0], args[1])\n",
    "        if key in Cache:\n",
    "            return Cache[key]\n",
    "        result = f(*args)\n",
    "        Cache[key] = result\n",
    "        return result\n",
    "    \n",
    "    return f_memoized"
   ]
  },
  {
   "cell_type": "markdown",
   "metadata": {},
   "source": [
    "## Minimax-Algorithmus"
   ]
  },
  {
   "cell_type": "code",
   "execution_count": 6,
   "metadata": {},
   "outputs": [],
   "source": [
    "import random\n",
    "random.seed(1)"
   ]
  },
  {
   "cell_type": "markdown",
   "metadata": {},
   "source": [
    "`value_minimax(State, player)`"
   ]
  },
  {
   "cell_type": "code",
   "execution_count": 7,
   "metadata": {},
   "outputs": [],
   "source": [
    "@memoize\n",
    "def value_minimax(state, player, depth):\n",
    "    if finished(to_list(state)):\n",
    "        return utility(to_list(state), player)\n",
    "    if depth == 0:\n",
    "        return heuristic(state, player)\n",
    "    o = opponent(player)\n",
    "    depth -= 1\n",
    "    return max([ -value_minimax(to_tupel(ns), o, depth) for ns in next_states(to_list(state), player) ])"
   ]
  },
  {
   "cell_type": "markdown",
   "metadata": {},
   "source": [
    "`best_move_minimax(State, player)`"
   ]
  },
  {
   "cell_type": "code",
   "execution_count": 8,
   "metadata": {},
   "outputs": [],
   "source": [
    "def best_move_minimax(state, player, depth):\n",
    "    ns          = next_states(state, player)\n",
    "    best_value  = value_minimax(to_tupel(state), player, depth)\n",
    "    best_moves  = [s for s in ns if -value_minimax(to_tupel(s), opponent(player), depth - 1 ) == best_value]\n",
    "    best_state  = random.choice(best_moves)\n",
    "    return best_value, best_state"
   ]
  },
  {
   "cell_type": "markdown",
   "metadata": {},
   "source": [
    "Die Funktion `minimax(State, Player)` wurde erstellt, um die Funktion `best_move_minimax(State, player)` nach Außen eindeutiger von `alpha_beta_pruning(State, Player)` abzugrenzen."
   ]
  },
  {
   "cell_type": "code",
   "execution_count": 9,
   "metadata": {},
   "outputs": [],
   "source": [
    "def minimax(state, player, depth = 4):\n",
    "    return(best_move_minimax(state, player, depth))"
   ]
  },
  {
   "cell_type": "markdown",
   "metadata": {},
   "source": [
    "## Alpha-Beta-Pruning"
   ]
  },
  {
   "cell_type": "code",
   "execution_count": 10,
   "metadata": {},
   "outputs": [],
   "source": [
    "Cache = {}"
   ]
  },
  {
   "cell_type": "markdown",
   "metadata": {},
   "source": [
    "`value_ab(State, player, alpha=-1, beta=1)` "
   ]
  },
  {
   "cell_type": "code",
   "execution_count": 11,
   "metadata": {},
   "outputs": [],
   "source": [
    "def value_ab(state, player, alpha=-1, beta=1, depth = 4):\n",
    "    global Cache\n",
    "    state = to_tupel(state)\n",
    "    if state in Cache:\n",
    "        value, a, b = Cache[state]\n",
    "        if a <= alpha and beta <= b:\n",
    "            return value\n",
    "        else:\n",
    "            alpha = min(alpha, a)\n",
    "            beta  = max(beta , b)\n",
    "            value   = alphaBeta(state, player, alpha, beta, depth=depth)\n",
    "            Cache[state] = value, alpha, beta\n",
    "            return value\n",
    "    else:\n",
    "        value = alphaBeta(state, player, alpha, beta, depth=depth)\n",
    "        Cache[state] = value, alpha, beta\n",
    "        return value"
   ]
  },
  {
   "cell_type": "markdown",
   "metadata": {},
   "source": [
    "`alphaBeta(State, player, alpha, beta)`"
   ]
  },
  {
   "cell_type": "code",
   "execution_count": 12,
   "metadata": {},
   "outputs": [],
   "source": [
    "def alphaBeta(state, player, alpha, beta, depth):\n",
    "    state = to_list(state)\n",
    "    if finished(state):\n",
    "        return utility(state, player)\n",
    "    if depth == 0:\n",
    "        return heuristic(state, player)\n",
    "    value = alpha\n",
    "    for ns in next_states(state, player):\n",
    "        value = max(value, -value_ab(ns, opponent(player), -beta, -alpha, depth = depth-1))\n",
    "        if value >= beta:\n",
    "            return value\n",
    "        alpha = max(value, alpha)\n",
    "    return value"
   ]
  },
  {
   "cell_type": "code",
   "execution_count": 13,
   "metadata": {},
   "outputs": [],
   "source": [
    "def best_move_ab(state, player, depth = 4):\n",
    "    ns         = next_states(state, player)\n",
    "    best_value = value_ab(state, player, depth = depth)\n",
    "    best_moves = [s for s in ns if -value_ab(s, opponent(player), depth = depth - 1) == best_value]\n",
    "    best_state = random.choice(best_moves)\n",
    "    return best_value, best_state"
   ]
  },
  {
   "cell_type": "markdown",
   "metadata": {},
   "source": [
    "Die Funktion `alpha_beta_pruning(State, Player)` wurde erstellt, um die Funktion `best_move(State, player)` nach Außen eindeutiger von `minimax(State, Player)` abzugrenzen."
   ]
  },
  {
   "cell_type": "code",
   "execution_count": 14,
   "metadata": {},
   "outputs": [],
   "source": [
    "def alpha_beta_pruning(state, player, depth = 4):\n",
    "    return(best_move_ab(state, player, depth = depth))"
   ]
  },
  {
   "source": [
    "## Funktionstests:"
   ],
   "cell_type": "markdown",
   "metadata": {}
  },
  {
   "cell_type": "code",
   "execution_count": 15,
   "metadata": {
    "tags": []
   },
   "outputs": [],
   "source": [
    "import time\n",
    "start = time.time()\n",
    "state = [[4, 5], [[0, 2, 0, 0, 2, 0, 0, 0], [2, 1, 1, 0, 0, 0, 0, 0], [2, 1, 1, 1, 0, 0, 0, 0]]]\n",
    "print(alpha_beta_pruning(state, 2, 5))\n",
    "end = time.time()\n",
    "print(str(end-start)+'sec')"
   ]
  },
  {
   "cell_type": "code",
   "execution_count": null,
   "metadata": {},
   "outputs": [],
   "source": [
    "import time\n",
    "start = time.time()\n",
    "state = [[4, 5], [[0, 2, 0, 0, 2, 0, 0, 0], [2, 1, 1, 0, 0, 0, 0, 0], [2, 1, 1, 1, 0, 0, 0, 0]]]\n",
    "print(minimax(state, 2, 5))\n",
    "end = time.time()\n",
    "print(str(end-start)+'sec')"
   ]
  },
  {
   "cell_type": "code",
   "execution_count": 16,
   "metadata": {},
   "outputs": [
    {
     "name": "stdout",
     "output_type": "stream",
     "text": [
      "(0.0, [[5, 5], [[0, 1, 0, 0, 0, 0, 0, 0], [0, 0, 1, 1, 2, 2, 2, 0], [0, 0, 0, 2, 0, 0, 0, 0]]])\n",
      "1.9899983406066895sec\n"
     ]
    }
   ],
   "source": [
    "import time\n",
    "start = time.time()\n",
    "state = [[4, 5], [[0, 2, 0, 0, 2, 0, 0, 0], [2, 1, 1, 1, 0, 0, 0, 0], [2, 1, 1, 0, 0, 0, 0, 0]]]\n",
    "print(alpha_beta_pruning(state, 2, 5))\n",
    "end = time.time()\n",
    "print(str(end-start)+'sec')"
   ]
  },
  {
   "cell_type": "code",
   "execution_count": null,
   "metadata": {},
   "outputs": [],
   "source": []
  }
 ],
 "metadata": {
  "kernelspec": {
   "display_name": "Python 3",
   "language": "python",
   "name": "python3"
  },
  "language_info": {
   "codemirror_mode": {
    "name": "ipython",
    "version": 3
   },
   "file_extension": ".py",
   "mimetype": "text/x-python",
   "name": "python",
   "nbconvert_exporter": "python",
   "pygments_lexer": "ipython3",
   "version": "3.7.9"
  }
 },
 "nbformat": 4,
 "nbformat_minor": 2
}
