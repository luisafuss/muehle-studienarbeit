{
 "cells": [
  {
   "cell_type": "markdown",
   "metadata": {},
   "source": [
    "# Algorithmen\n",
    "\n"
   ]
  },
  {
   "cell_type": "code",
   "execution_count": 1,
   "metadata": {},
   "outputs": [
    {
     "data": {
      "text/html": [
       "<style>\n",
       ".container { width:100% }\n",
       "</style>\n"
      ],
      "text/plain": [
       "<IPython.core.display.HTML object>"
      ]
     },
     "metadata": {},
     "output_type": "display_data"
    }
   ],
   "source": [
    "%run ./Muehle_Logic.ipynb\n"
   ]
  },
  {
   "cell_type": "code",
   "execution_count": 2,
   "metadata": {},
   "outputs": [],
   "source": [
    "%run ./Muehle_Utilities.ipynb"
   ]
  },
  {
   "cell_type": "code",
   "execution_count": 3,
   "metadata": {},
   "outputs": [
    {
     "data": {
      "text/html": [
       "<style>\n",
       ".container { width:100% }\n",
       "</style>\n"
      ],
      "text/plain": [
       "<IPython.core.display.HTML object>"
      ]
     },
     "metadata": {},
     "output_type": "display_data"
    }
   ],
   "source": [
    "%run ./Muehle_Heuristik.ipynb"
   ]
  },
  {
   "cell_type": "code",
   "execution_count": 4,
   "metadata": {},
   "outputs": [
    {
     "data": {
      "text/plain": [
       "[[9, 9],\n",
       " [[0, 0, 0, 0, 0, 0, 0, 0],\n",
       "  [0, 0, 0, 0, 0, 0, 0, 0],\n",
       "  [0, 0, 0, 0, 0, 0, 0, 0]]]"
      ]
     },
     "execution_count": 4,
     "metadata": {},
     "output_type": "execute_result"
    }
   ],
   "source": [
    "START_STATE = [[9, 9], [          # Anzahl zu setzender Steine (Spieler_1 (Weiß), Spieler_2 (Braun))\n",
    "            [0, 0, 0, 0, 0, 0, 0, 0], # ring 0\n",
    "            [0, 0, 0, 0, 0, 0, 0, 0], # ring 1\n",
    "            [0, 0, 0, 0, 0, 0, 0, 0]  # ring 2\n",
    "      ]]\n",
    "board7 = [[0, 0],\n",
    "         [[0, 0, 1, 2, 0, 1, 0, 0],\n",
    "          [2, 0, 0, 0, 0, 0, 0, 0],\n",
    "          [0, 2, 0, 0, 0, 2, 0, 0]]]\n",
    "\n",
    "def to_tupel(State):\n",
    "    return ((State[0][0], State[0][1]), (\n",
    "                (State[1][0][0],State[1][0][1],State[1][0][2],State[1][0][3],State[1][0][4],State[1][0][5],State[1][0][6],State[1][0][7]),\n",
    "                (State[1][1][0],State[1][1][1],State[1][1][2],State[1][1][3],State[1][1][4],State[1][1][5],State[1][1][6],State[1][1][7]),\n",
    "                (State[1][2][0],State[1][2][1],State[1][2][2],State[1][2][3],State[1][2][4],State[1][2][5],State[1][2][6],State[1][2][7])\n",
    "            ))\n",
    "\n",
    "def to_list(State):\n",
    "    return [[State[0][0], State[0][1]], [\n",
    "                [State[1][0][0],State[1][0][1],State[1][0][2],State[1][0][3],State[1][0][4],State[1][0][5],State[1][0][6],State[1][0][7]],\n",
    "                [State[1][1][0],State[1][1][1],State[1][1][2],State[1][1][3],State[1][1][4],State[1][1][5],State[1][1][6],State[1][1][7]],\n",
    "                [State[1][2][0],State[1][2][1],State[1][2][2],State[1][2][3],State[1][2][4],State[1][2][5],State[1][2][6],State[1][2][7]]\n",
    "    ]]\n",
    "\n",
    "to_tupel(START_STATE)\n",
    "\n",
    "to_list(to_tupel(START_STATE))"
   ]
  },
  {
   "cell_type": "markdown",
   "metadata": {},
   "source": [
    "Die Funktion `memoize(f)` aus der \"Wissensbasierte Systeme\"-Vorlesung nimmt ein Argument f und gibt eine Version dieser Funktion zurück, die alle Ergebnisse der Funktion f zwischenspeichert."
   ]
  },
  {
   "cell_type": "code",
   "execution_count": 5,
   "metadata": {},
   "outputs": [],
   "source": [
    "def memoize(f):\n",
    "    global Cache\n",
    "    \n",
    "    def f_memoized(*args):\n",
    "        key = (args[0], args[1])\n",
    "        if key in Cache:\n",
    "            return Cache[key]\n",
    "        result = f(*args)\n",
    "        Cache[key] = result\n",
    "        return result\n",
    "    \n",
    "    return f_memoized"
   ]
  },
  {
   "cell_type": "markdown",
   "metadata": {},
   "source": [
    "## Minimax-Algorithmus"
   ]
  },
  {
   "cell_type": "code",
   "execution_count": 6,
   "metadata": {},
   "outputs": [],
   "source": [
    "import random\n",
    "random.seed(1)"
   ]
  },
  {
   "cell_type": "markdown",
   "metadata": {},
   "source": [
    "`value_minimax(State, player)`"
   ]
  },
  {
   "cell_type": "code",
   "execution_count": 7,
   "metadata": {},
   "outputs": [],
   "source": [
    "@memoize\n",
    "def value_minimax(State, player, depth):\n",
    "    if finished(to_list(State)):\n",
    "        return utility(to_list(State), player)\n",
    "    if depth == 0:\n",
    "        return heuristic(State, player)\n",
    "    o = opponent(player)\n",
    "    depth = depth - 1\n",
    "    return max([ -value_minimax(to_tupel(ns), o, depth) for ns in next_states(to_list(State), player) ])"
   ]
  },
  {
   "cell_type": "markdown",
   "metadata": {},
   "source": [
    "`best_move_minimax(State, player)`"
   ]
  },
  {
   "cell_type": "code",
   "execution_count": 8,
   "metadata": {},
   "outputs": [],
   "source": [
    "def best_move_minimax(State, player, depth):\n",
    "    NS        = next_states(State, player)\n",
    "    bestVal   = value_minimax(to_tupel(State), player, depth)\n",
    "    BestMoves = [s for s in NS if -value_minimax(to_tupel(s), opponent(player), depth) == bestVal]\n",
    "    BestState = random.choice(BestMoves)\n",
    "    return bestVal, BestState"
   ]
  },
  {
   "cell_type": "markdown",
   "metadata": {},
   "source": [
    "Die Funktion `minimax(State, Player)` wurde erstellt, um die Funktion `best_move_minimax(State, player)` nach Außen eindeutiger von `alpha_beta_pruning(State, Player)` abzugrenzen."
   ]
  },
  {
   "cell_type": "code",
   "execution_count": 9,
   "metadata": {},
   "outputs": [],
   "source": [
    "def minimax(State, player, depth = 4):\n",
    "    return(best_move_minimax(State, player, depth))"
   ]
  },
  {
   "cell_type": "markdown",
   "metadata": {},
   "source": [
    "## Alpha-Beta-Pruning"
   ]
  },
  {
   "cell_type": "code",
   "execution_count": 10,
   "metadata": {},
   "outputs": [],
   "source": [
    "Cache = {}"
   ]
  },
  {
   "cell_type": "markdown",
   "metadata": {},
   "source": [
    "`value_ab(State, player, alpha=-1, beta=1)` "
   ]
  },
  {
   "cell_type": "code",
   "execution_count": 11,
   "metadata": {},
   "outputs": [],
   "source": [
    "def value_ab(State, player, alpha=-1, beta=1, depth = 4):\n",
    "    #print('Value-depth: '+str(depth))\n",
    "    global Cache\n",
    "    #to_tupel\n",
    "    State = to_tupel(State)\n",
    "    if State in Cache:\n",
    "        val, a, b = Cache[State]\n",
    "        if a <= alpha and beta <= b:\n",
    "            return val\n",
    "        else:\n",
    "            alpha = min(alpha, a)\n",
    "            beta  = max(beta , b)\n",
    "            val   = alphaBeta(State, player, alpha, beta, depth=depth)\n",
    "            Cache[State] = val, alpha, beta\n",
    "            return val\n",
    "    else:\n",
    "        val = alphaBeta(State, player, alpha, beta, depth=depth)\n",
    "        Cache[State] = val, alpha, beta\n",
    "        return val"
   ]
  },
  {
   "cell_type": "markdown",
   "metadata": {},
   "source": [
    "`alphaBeta(State, player, alpha, beta)`"
   ]
  },
  {
   "cell_type": "code",
   "execution_count": 12,
   "metadata": {},
   "outputs": [],
   "source": [
    "def alphaBeta(State, player, alpha, beta, depth):\n",
    "    #print('AB-depth: '+str(depth))\n",
    "    #tolist \n",
    "    State = to_list(State)\n",
    "    if finished(State):\n",
    "        return utility(State, player)\n",
    "    if depth == 0:\n",
    "        return heuristic(State, player)\n",
    "    val = alpha\n",
    "    for ns in next_states(State, player):\n",
    "        #print('Tiefe auf: '+str(depth)+' verringert')\n",
    "        val = max(val, -value_ab(ns, opponent(player), -beta, -alpha, depth=depth-1))\n",
    "        if val >= beta:\n",
    "            return val\n",
    "        alpha = max(val, alpha)\n",
    "    return val"
   ]
  },
  {
   "cell_type": "code",
   "execution_count": 13,
   "metadata": {},
   "outputs": [],
   "source": [
    "def best_move_ab(State, player, depth = 4):\n",
    "    NS        = next_states(State, player)\n",
    "    bestVal   = value_ab(State, player, depth = depth)\n",
    "    BestMoves = [s for s in NS if -value_ab(s, opponent(player), depth = depth-1) == bestVal]\n",
    "    BestState = random.choice(BestMoves)\n",
    "    return bestVal, BestState"
   ]
  },
  {
   "cell_type": "markdown",
   "metadata": {},
   "source": [
    "Die Funktion `alpha_beta_pruning(State, Player)` wurde erstellt, um die Funktion `best_move(State, player)` nach Außen eindeutiger von `minimax(State, Player)` abzugrenzen."
   ]
  },
  {
   "cell_type": "code",
   "execution_count": 14,
   "metadata": {},
   "outputs": [],
   "source": [
    "def alpha_beta_pruning(State, player, depth = 4):\n",
    "    return(best_move_ab(State, player, depth = depth))"
   ]
  },
  {
   "cell_type": "code",
   "execution_count": 15,
   "metadata": {
    "tags": []
   },
   "outputs": [],
   "source": [
    "# import time\n",
    "# start = time.time()\n",
    "# alpha_beta_pruning(START_STATE, 1, 5) #mit depth=5 15sec/ depth=6 85sec (X5) (vlt. noch symmetrische Zustände berücksichtigen)\n",
    "# end = time.time()\n",
    "# print(str(end-start)+'sec')"
   ]
  },
  {
   "cell_type": "code",
   "execution_count": 16,
   "metadata": {},
   "outputs": [
    {
     "name": "stdout",
     "output_type": "stream",
     "text": [
      "(0.0, [[5, 5], [[0, 1, 0, 0, 0, 0, 0, 0], [0, 0, 1, 1, 2, 2, 2, 0], [0, 0, 0, 2, 0, 0, 0, 0]]])\n",
      "1.9899983406066895sec\n"
     ]
    }
   ],
   "source": [
    "import time\n",
    "start = time.time()\n",
    "state = [[5, 6], [[0, 1, 0, 0, 0, 0, 0, 0], [0, 1, 1, 1, 2, 0, 2, 0], [0, 0, 0, 2, 0, 0, 0, 0]]]\n",
    "player = 2\n",
    "print(alpha_beta_pruning(state, player, depth = 4))\n",
    "end = time.time()\n",
    "print(str(end-start)+'sec')"
   ]
  },
  {
   "cell_type": "code",
   "execution_count": null,
   "metadata": {},
   "outputs": [],
   "source": []
  }
 ],
 "metadata": {
  "kernelspec": {
   "display_name": "Python 3",
   "language": "python",
   "name": "python3"
  },
  "language_info": {
   "codemirror_mode": {
    "name": "ipython",
    "version": 3
   },
   "file_extension": ".py",
   "mimetype": "text/x-python",
   "name": "python",
   "nbconvert_exporter": "python",
   "pygments_lexer": "ipython3",
   "version": "3.7.9"
  }
 },
 "nbformat": 4,
 "nbformat_minor": 2
}
