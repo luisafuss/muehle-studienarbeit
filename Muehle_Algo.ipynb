{
 "metadata": {
  "language_info": {
   "codemirror_mode": {
    "name": "ipython",
    "version": 3
   },
   "file_extension": ".py",
   "mimetype": "text/x-python",
   "name": "python",
   "nbconvert_exporter": "python",
   "pygments_lexer": "ipython3",
   "version": "3.7.10-final"
  },
  "orig_nbformat": 2,
  "kernelspec": {
   "name": "python3",
   "display_name": "Python 3.7.10 64-bit ('ai': conda)",
   "metadata": {
    "interpreter": {
     "hash": "6aef3afc8e1df4532fc05871b69d433488f1644eaca8e0d1af5a2e1125595c9e"
    }
   }
  }
 },
 "nbformat": 4,
 "nbformat_minor": 2,
 "cells": [
  {
   "source": [
    "# Algorithmen\n",
    "\n"
   ],
   "cell_type": "markdown",
   "metadata": {}
  },
  {
   "cell_type": "code",
   "execution_count": null,
   "metadata": {},
   "outputs": [],
   "source": [
    "%run ./Muehle_Logic.ipynb\n"
   ]
  },
  {
   "cell_type": "code",
   "execution_count": null,
   "metadata": {},
   "outputs": [],
   "source": [
    "%run ./Muehle_Utilities.ipynb"
   ]
  },
  {
   "cell_type": "code",
   "execution_count": null,
   "metadata": {},
   "outputs": [],
   "source": [
    "%run ./Muehle_Heuristik.ipynb"
   ]
  },
  {
   "source": [
    "Die Funktion `memoize(f)` aus der \"Wissensbasierte Systeme\"-Vorlesung nimmt ein Argument f und gibt eine Version dieser Funktion zurück, die alle Ergebnisse der Funktion f zwischenspeichert."
   ],
   "cell_type": "markdown",
   "metadata": {}
  },
  {
   "cell_type": "code",
   "execution_count": null,
   "metadata": {},
   "outputs": [],
   "source": [
    "def memoize(f):\n",
    "    global Cache\n",
    "    \n",
    "    def f_memoized(*args):\n",
    "        key = (args[0], args[1])\n",
    "        if key in Cache:\n",
    "            return Cache[key]\n",
    "        result = f(*args)\n",
    "        Cache[key] = result\n",
    "        return result\n",
    "    \n",
    "    return f_memoized"
   ]
  },
  {
   "source": [
    "## Minimax-Algorithmus"
   ],
   "cell_type": "markdown",
   "metadata": {}
  },
  {
   "cell_type": "code",
   "execution_count": null,
   "metadata": {},
   "outputs": [],
   "source": [
    "import random\n",
    "random.seed(1)"
   ]
  },
  {
   "source": [
    "`value_minimax(State, player)`"
   ],
   "cell_type": "markdown",
   "metadata": {}
  },
  {
   "cell_type": "code",
   "execution_count": null,
   "metadata": {},
   "outputs": [],
   "source": [
    "@memoize\n",
    "def value_minimax(state, player, depth):\n",
    "    if finished(to_list(state)):\n",
    "        return utility(to_list(state), player)\n",
    "    if depth == 0:\n",
    "        return heuristic(state, player)\n",
    "    o = opponent(player)\n",
    "    depth -= 1\n",
    "    return max([ -value_minimax(to_tupel(ns), o, depth) for ns in next_states(to_list(state), player) ])"
   ]
  },
  {
   "source": [
    "`best_move_minimax(State, player)`"
   ],
   "cell_type": "markdown",
   "metadata": {}
  },
  {
   "cell_type": "code",
   "execution_count": null,
   "metadata": {},
   "outputs": [],
   "source": [
    "def best_move_minimax(state, player, depth):\n",
    "    ns          = next_states(state, player)\n",
    "    best_value  = value_minimax(to_tupel(state), player, depth)\n",
    "    best_moves  = [s for s in ns if -value_minimax(to_tupel(s), opponent(player), depth) == best_value]\n",
    "    best_state  = random.choice(best_moves)\n",
    "    return best_value, best_state"
   ]
  },
  {
   "source": [
    "Die Funktion `minimax(State, Player)` wurde erstellt, um die Funktion `best_move_minimax(State, player)` nach Außen eindeutiger von `alpha_beta_pruning(State, Player)` abzugrenzen."
   ],
   "cell_type": "markdown",
   "metadata": {}
  },
  {
   "cell_type": "code",
   "execution_count": null,
   "metadata": {},
   "outputs": [],
   "source": [
    "def minimax(state, player, depth = 4):\n",
    "    return(best_move_minimax(state, player, depth))"
   ]
  },
  {
   "source": [
    "## Alpha-Beta-Pruning"
   ],
   "cell_type": "markdown",
   "metadata": {}
  },
  {
   "cell_type": "code",
   "execution_count": null,
   "metadata": {},
   "outputs": [],
   "source": [
    "Cache = {}"
   ]
  },
  {
   "source": [
    "`value_ab(State, player, alpha=-1, beta=1)` "
   ],
   "cell_type": "markdown",
   "metadata": {}
  },
  {
   "cell_type": "code",
   "execution_count": null,
   "metadata": {},
   "outputs": [],
   "source": [
    "def value_ab(state, player, alpha=-1, beta=1, depth = 4):\n",
    "    #print('Value-depth: '+str(depth))\n",
    "    global Cache\n",
    "    #to_tupel\n",
    "    state = to_tupel(state)\n",
    "    if state in Cache:\n",
    "        value, a, b = Cache[state]\n",
    "        if a <= alpha and beta <= b:\n",
    "            return value\n",
    "        else:\n",
    "            alpha = min(alpha, a)\n",
    "            beta  = max(beta , b)\n",
    "            value   = alphaBeta(state, player, alpha, beta, depth=depth)\n",
    "            Cache[state] = value, alpha, beta\n",
    "            return value\n",
    "    else:\n",
    "        value = alphaBeta(state, player, alpha, beta, depth=depth)\n",
    "        Cache[state] = value, alpha, beta\n",
    "        return value"
   ]
  },
  {
   "source": [
    "`alphaBeta(State, player, alpha, beta)`"
   ],
   "cell_type": "markdown",
   "metadata": {}
  },
  {
   "cell_type": "code",
   "execution_count": null,
   "metadata": {},
   "outputs": [],
   "source": [
    "def alphaBeta(state, player, alpha, beta, depth):\n",
    "    #print('AB-depth: '+str(depth))\n",
    "    #tolist \n",
    "    state = to_list(state)\n",
    "    if finished(state):\n",
    "        return utility(state, player)\n",
    "    if depth == 0:\n",
    "        return heuristic(state, player)\n",
    "    value = alpha\n",
    "    for ns in next_states(state, player):\n",
    "        #print('Tiefe auf: '+str(depth)+' verringert')\n",
    "        value = max(value, -value_ab(ns, opponent(player), -beta, -alpha, depth = depth-1))\n",
    "        if value >= beta:\n",
    "            return value\n",
    "        alpha = max(value, alpha)\n",
    "    return value"
   ]
  },
  {
   "cell_type": "code",
   "execution_count": null,
   "metadata": {},
   "outputs": [],
   "source": [
    "def best_move_ab(state, player, depth = 4):\n",
    "    ns         = next_states(state, player)\n",
    "    best_value = value_ab(state, player, depth = depth)\n",
    "    best_moves = [s for s in ns if -value_ab(s, opponent(player), depth = depth - 1) == best_value]\n",
    "    best_state = random.choice(best_moves)\n",
    "    return best_value, best_state"
   ]
  },
  {
   "source": [
    "Die Funktion `alpha_beta_pruning(State, Player)` wurde erstellt, um die Funktion `best_move(State, player)` nach Außen eindeutiger von `minimax(State, Player)` abzugrenzen."
   ],
   "cell_type": "markdown",
   "metadata": {}
  },
  {
   "cell_type": "code",
   "execution_count": null,
   "metadata": {},
   "outputs": [],
   "source": [
    "def alpha_beta_pruning(state, player, depth = 4):\n",
    "    return(best_move_ab(state, player, depth = depth))"
   ]
  },
  {
   "source": [
    "## Funktionstests:"
   ],
   "cell_type": "markdown",
   "metadata": {}
  },
  {
   "cell_type": "code",
   "execution_count": null,
   "metadata": {
    "tags": []
   },
   "outputs": [],
   "source": [
    "import time\n",
    "start = time.time()\n",
    "state = [[4, 5], [[0, 2, 0, 0, 2, 0, 0, 0], [2, 1, 1, 0, 0, 0, 0, 0], [2, 1, 1, 1, 0, 0, 0, 0]]]\n",
    "print(alpha_beta_pruning(state, 2, 5))\n",
    "end = time.time()\n",
    "print(str(end-start)+'sec')"
   ]
  },
  {
   "cell_type": "code",
   "execution_count": null,
   "metadata": {},
   "outputs": [],
   "source": [
    "import time\n",
    "start = time.time()\n",
    "state = [[4, 5], [[0, 2, 0, 0, 2, 0, 0, 0], [2, 1, 1, 0, 0, 0, 0, 0], [2, 1, 1, 1, 0, 0, 0, 0]]]\n",
    "print(minimax(state, 2, 5))\n",
    "end = time.time()\n",
    "print(str(end-start)+'sec')"
   ]
  },
  {
   "cell_type": "code",
   "execution_count": null,
   "metadata": {},
   "outputs": [],
   "source": [
    "import time\n",
    "start = time.time()\n",
    "state = [[4, 5], [[0, 2, 0, 0, 2, 0, 0, 0], [2, 1, 1, 1, 0, 0, 0, 0], [2, 1, 1, 0, 0, 0, 0, 0]]]\n",
    "print(alpha_beta_pruning(state, 2, 5))\n",
    "end = time.time()\n",
    "print(str(end-start)+'sec')"
   ]
  },
  {
   "cell_type": "code",
   "execution_count": null,
   "metadata": {},
   "outputs": [],
   "source": []
  }
 ]
}