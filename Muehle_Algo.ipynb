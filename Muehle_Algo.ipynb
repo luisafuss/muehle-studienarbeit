{
 "cells": [
  {
   "cell_type": "markdown",
   "metadata": {},
   "source": [
    "# Algorithmen"
   ]
  },
  {
   "cell_type": "code",
   "execution_count": null,
   "metadata": {},
   "outputs": [],
   "source": [
    "%run ./Muehle_Logic.ipynb"
   ]
  },
  {
   "cell_type": "code",
   "execution_count": null,
   "metadata": {},
   "outputs": [],
   "source": [
    "%run ./Muehle_Utilities.ipynb"
   ]
  },
  {
   "cell_type": "code",
   "execution_count": null,
   "metadata": {},
   "outputs": [],
   "source": [
    "%run ./Muehle_Heuristik.ipynb"
   ]
  },
  {
   "cell_type": "code",
   "execution_count": null,
   "metadata": {},
   "outputs": [],
   "source": [
    "def memoize(f):\n",
    "    global Cache\n",
    "    \n",
    "    def f_memoized(*args):\n",
    "        key = (args[0], args[1])\n",
    "        if key in Cache:\n",
    "            return Cache[key]\n",
    "        result = f(*args)\n",
    "        Cache[key] = result\n",
    "        return result\n",
    "    \n",
    "    return f_memoized"
   ]
  },
  {
   "cell_type": "markdown",
   "metadata": {},
   "source": [
    "## Minimax-Algorithmus"
   ]
  },
  {
   "cell_type": "code",
   "execution_count": null,
   "metadata": {},
   "outputs": [],
   "source": [
    "import random\n",
    "random.seed(1)"
   ]
  },
  {
   "cell_type": "markdown",
   "metadata": {},
   "source": [
    "`value_minimax(State, player)`"
   ]
  },
  {
   "cell_type": "code",
   "execution_count": null,
   "metadata": {},
   "outputs": [],
   "source": [
    "@memoize\n",
    "def value_minimax(state, player, depth):\n",
    "    if finished(to_list(state)):\n",
    "        return utility(to_list(state), player)\n",
    "    if depth == 0:\n",
    "        return heuristic(state, player)\n",
    "    o = opponent(player)\n",
    "    depth -= 1\n",
    "    return max([ -value_minimax(to_tupel(ns), o, depth) for ns in next_states(to_list(state), player) ])"
   ]
  },
  {
   "cell_type": "markdown",
   "metadata": {},
   "source": [
    "`best_move_minimax(State, player)`"
   ]
  },
  {
   "cell_type": "code",
   "execution_count": null,
   "metadata": {},
   "outputs": [],
   "source": [
    "def best_move_minimax(state, player, depth):\n",
    "    ns          = next_states(state, player)\n",
    "    best_value  = value_minimax(to_tupel(state), player, depth)\n",
    "    best_moves  = [s for s in ns if -value_minimax(to_tupel(s), opponent(player), depth - 1 ) == best_value]\n",
    "    best_state  = random.choice(best_moves)\n",
    "    return best_value, best_state"
   ]
  },
  {
   "cell_type": "markdown",
   "metadata": {},
   "source": [
    "Die Funktion minimax(State, Player) wurde erstellt, um die Funktion best_move_minimax(State, player) nach Außen eindeutiger von alpha_beta_pruning(State, Player) abzugrenzen."
   ]
  },
  {
   "cell_type": "code",
   "execution_count": null,
   "metadata": {},
   "outputs": [],
   "source": [
    "def minimax(state, player, depth = 4):\n",
    "    return(best_move_minimax(state, player, depth))"
   ]
  },
  {
   "cell_type": "markdown",
   "metadata": {},
   "source": [
    "## Alpha-Beta-Pruning"
   ]
  },
  {
   "cell_type": "code",
   "execution_count": null,
   "metadata": {},
   "outputs": [],
   "source": [
    "Cache = {}"
   ]
  },
  {
   "cell_type": "markdown",
   "metadata": {},
   "source": [
    "`value_ab(State, player, alpha=-1, beta=1)` "
   ]
  },
  {
   "cell_type": "code",
   "execution_count": null,
   "metadata": {},
   "outputs": [],
   "source": [
    "def value_ab(state, player, alpha=-1, beta=1, depth = 4):\n",
    "    global Cache\n",
    "    state = to_tupel(state)\n",
    "    if state in Cache:\n",
    "        value, a, b = Cache[state]\n",
    "        if a <= alpha and beta <= b:\n",
    "            return value\n",
    "        else:\n",
    "            alpha = min(alpha, a)\n",
    "            beta  = max(beta , b)\n",
    "            value   = alphaBeta(state, player, alpha, beta, depth=depth)\n",
    "            Cache[state] = value, alpha, beta\n",
    "            return value\n",
    "    else:\n",
    "        value = alphaBeta(state, player, alpha, beta, depth=depth)\n",
    "        Cache[state] = value, alpha, beta\n",
    "        return value"
   ]
  },
  {
   "cell_type": "markdown",
   "metadata": {},
   "source": [
    "`alphaBeta(State, player, alpha, beta)`"
   ]
  },
  {
   "cell_type": "code",
   "execution_count": null,
   "metadata": {},
   "outputs": [],
   "source": [
    "def alphaBeta(state, player, alpha, beta, depth):\n",
    "    state = to_list(state)\n",
    "    if finished(state):\n",
    "        return utility(state, player)\n",
    "    if depth == 0:\n",
    "        return heuristic(state, player)\n",
    "    value = alpha\n",
    "    for ns in next_states(state, player):\n",
    "        value = max(value, -value_ab(ns, opponent(player), -beta, -alpha, depth = depth-1))\n",
    "        if value >= beta:\n",
    "            return value\n",
    "        alpha = max(value, alpha)\n",
    "    return value"
   ]
  },
  {
   "cell_type": "code",
   "execution_count": null,
   "metadata": {},
   "outputs": [],
   "source": [
    "def best_move_ab(state, player, depth = 4):\n",
    "    ns         = next_states(state, player)\n",
    "    moves = [(-value_ab(s, opponent(player), depth), s) for s in ns]\n",
    "    (best_value, best_state) = max(moves, key=lambda x:x[0])\n",
    "    return best_value, best_state"
   ]
  },
  {
   "cell_type": "markdown",
   "metadata": {},
   "source": [
    "Die Funktion `alpha_beta_pruning(State, Player)` wurde erstellt, um die Funktion `best_move(State, player)` nach Außen eindeutiger von `minimax(State, Player)` abzugrenzen.\n"
   ]
  },
  {
   "cell_type": "code",
   "execution_count": null,
   "metadata": {},
   "outputs": [],
   "source": [
    "def alpha_beta_pruning(state, player, depth = 4):\n",
    "    return(best_move_ab(state, player, depth = depth))"
   ]
  },
  {
   "cell_type": "markdown",
   "metadata": {},
   "source": [
    "## Funktionstests:"
   ]
  },
  {
   "cell_type": "code",
   "execution_count": null,
   "metadata": {},
   "outputs": [],
   "source": [
    "#import time\n",
    "#start = time.time()\n",
    "#state = [[4, 5], [[0, 2, 0, 0, 2, 0, 0, 0], [2, 1, 1, 0, 0, 0, 0, 0], [2, 1, 1, 1, 0, 0, 0, 0]]]\n",
    "#print(alpha_beta_pruning(state, 2, 5))\n",
    "#end = time.time()\n",
    "#print(str(end-start)+'sec')"
   ]
  },
  {
   "cell_type": "code",
   "execution_count": null,
   "metadata": {},
   "outputs": [],
   "source": [
    "#import time\n",
    "#start = time.time()\n",
    "#state = [[4, 5], [[0, 2, 0, 0, 2, 0, 0, 0], [2, 1, 1, 0, 0, 0, 0, 0], [2, 1, 1, 1, 0, 0, 0, 0]]]\n",
    "#print(minimax(state, 2, 5))\n",
    "#end = time.time()\n",
    "#print(str(end-start)+'sec')"
   ]
  },
  {
   "cell_type": "code",
   "execution_count": null,
   "metadata": {},
   "outputs": [],
   "source": [
    "#import time\n",
    "#start = time.time()\n",
    "#state = [[5, 6], [[0, 0, 0, 2, 0, 0, 0, 0], [0, 1, 1, 1, 2, 0, 2, 0], [0, 1, 0, 0, 0, 0, 0, 0]]]\n",
    "#print(alpha_beta_pruning(state, 2, 5))\n",
    "#end = time.time()\n",
    "#print(str(end-start)+'sec')"
   ]
  },
  {
   "cell_type": "code",
   "execution_count": null,
   "metadata": {},
   "outputs": [],
   "source": []
  }
 ],
 "metadata": {
  "kernelspec": {
   "display_name": "Python 3",
   "language": "python",
   "name": "python3"
  },
  "language_info": {
   "codemirror_mode": {
    "name": "ipython",
    "version": 3
   },
   "file_extension": ".py",
   "mimetype": "text/x-python",
   "name": "python",
   "nbconvert_exporter": "python",
   "pygments_lexer": "ipython3",
   "version": "3.8.3"
  }
 },
 "nbformat": 4,
 "nbformat_minor": 2
}
